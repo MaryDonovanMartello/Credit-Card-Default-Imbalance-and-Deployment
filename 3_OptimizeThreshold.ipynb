{
 "cells": [
  {
   "cell_type": "markdown",
   "metadata": {},
   "source": [
    "# Phase 2: Classification Prediction with Imbalanced Target"
   ]
  },
  {
   "cell_type": "markdown",
   "metadata": {},
   "source": [
    "## Mary Donovan Martello"
   ]
  },
  {
   "cell_type": "markdown",
   "metadata": {},
   "source": [
    "**Phase 1 of the credit card default project involved testing five binary classification models for predicting credit card defaults.  Phase 1 can be found:** [here](https://github.com/MaryDonovanMartello/Credit-Card-Default-Prediction)\n",
    "\n",
    "**Phase 2 of the credit card default project includes (1) employing methodologies other than Principal Component Analysis to address multicollinearity and feature selection in an effort to be able to analyze individual factors that are significant for defaults, (2) testing multiple approaches to addressing an imbalanced target variable in a binary classification model, and (3) implementing deployment models to make actual predictions and convert the logistic regression coefficients to a risk score that can be used in making lending decisions.**"
   ]
  },
  {
   "cell_type": "code",
   "execution_count": null,
   "metadata": {},
   "outputs": [],
   "source": []
  },
  {
   "cell_type": "markdown",
   "metadata": {},
   "source": [
    "## Part 3:  Approach to Imbalanced Target:  Predicted Probabilities/Optimize Threshold"
   ]
  },
  {
   "cell_type": "code",
   "execution_count": null,
   "metadata": {},
   "outputs": [],
   "source": []
  },
  {
   "cell_type": "code",
   "execution_count": 2,
   "metadata": {},
   "outputs": [],
   "source": [
    "# import libraries\n",
    "\n",
    "import pandas as pd\n",
    "from pandas import read_csv\n",
    "import numpy as np\n",
    "from numpy import mean\n",
    "from numpy import std\n",
    "from numpy import argmax\n",
    "\n",
    "import seaborn as sns\n",
    "import matplotlib.pyplot as plt\n",
    "from IPython.display import Markdown, display\n",
    "\n",
    "from sklearn.preprocessing import LabelEncoder\n",
    "from sklearn.preprocessing import OneHotEncoder\n",
    "from sklearn.compose import ColumnTransformer\n",
    "from sklearn.preprocessing import StandardScaler\n",
    "\n",
    "from sklearn.model_selection import StratifiedKFold\n",
    "from sklearn.model_selection import train_test_split\n",
    "from sklearn.pipeline import make_pipeline\n",
    "from sklearn.pipeline import Pipeline\n",
    "from sklearn.model_selection import GridSearchCV\n",
    "from sklearn.model_selection import cross_validate\n",
    "from sklearn import model_selection, metrics\n",
    "from sklearn.metrics import accuracy_score\n",
    "from sklearn.metrics import recall_score\n",
    "from sklearn.metrics import classification_report\n",
    "from sklearn.metrics import log_loss\n",
    "from sklearn.metrics import brier_score_loss\n",
    "from sklearn.metrics import roc_auc_score\n",
    "from sklearn.metrics import confusion_matrix\n",
    "from sklearn.metrics import make_scorer, f1_score, recall_score, log_loss\n",
    "\n",
    "\n",
    "from sklearn.ensemble import GradientBoostingClassifier\n",
    "from sklearn.linear_model import LogisticRegression\n",
    "from sklearn.ensemble import RandomForestClassifier\n",
    "\n",
    "#stop unnecessary warnings from printing to the screen\n",
    "import warnings\n",
    "warnings.simplefilter('ignore')\n",
    "\n"
   ]
  },
  {
   "cell_type": "code",
   "execution_count": null,
   "metadata": {},
   "outputs": [],
   "source": []
  },
  {
   "cell_type": "markdown",
   "metadata": {},
   "source": [
    "### This notebook uses two datasets that were cleaned and prepared in the 1_EDA_Prep notebook.  One of the datasets replaces some of the original variables with the Months_Late engineered features and the second dataset replaces some of the original variables with both the Months_Late and Payment_Ratio engineered features."
   ]
  },
  {
   "cell_type": "code",
   "execution_count": 3,
   "metadata": {},
   "outputs": [],
   "source": [
    "# Load data into a dataframe\n",
    "#df = pd.read_csv('pcaDefault.csv')\n",
    "\n",
    "# Load best subset data into a dataframe\n",
    "#subset7 = pd.read_csv('subset7df.csv')\n",
    "\n",
    "# Load data into a dataframe\n",
    "df1 = pd.read_csv('logDefaultRev1.csv')\n",
    "df2 = pd.read_csv('logDefaultRev2.csv')\n"
   ]
  },
  {
   "cell_type": "code",
   "execution_count": null,
   "metadata": {},
   "outputs": [],
   "source": []
  },
  {
   "cell_type": "markdown",
   "metadata": {},
   "source": [
    "**Create feature dataframes for modeling.**"
   ]
  },
  {
   "cell_type": "code",
   "execution_count": 4,
   "metadata": {},
   "outputs": [],
   "source": [
    "#df1\n",
    "\n",
    "# separate into input and output columns (X variable for features and y for target variables)\n",
    "\n",
    "X1 = df1.drop('default', axis = 1) \n",
    "y1 = df1['default']"
   ]
  },
  {
   "cell_type": "code",
   "execution_count": 5,
   "metadata": {},
   "outputs": [],
   "source": [
    "#df1 subset\n",
    "\n",
    "# separate into input and output columns (X variable for features and y for target variables)\n",
    "\n",
    "X1s = df1.loc[:, ['MONTHS_LATE', 'LIMIT_BAL', 'AGE']] \n",
    "y1s = df1['default']"
   ]
  },
  {
   "cell_type": "code",
   "execution_count": 6,
   "metadata": {},
   "outputs": [],
   "source": [
    "#df1\n",
    "\n",
    "# one-hot encode input categorical variables\n",
    "transformer = ColumnTransformer(transformers=[('cat', OneHotEncoder(), [0, 1, 2])], remainder='passthrough')\n",
    "X1 = transformer.fit_transform(X1)\n",
    "\n"
   ]
  },
  {
   "cell_type": "code",
   "execution_count": 7,
   "metadata": {},
   "outputs": [],
   "source": [
    "#df2\n",
    "\n",
    "# separate into input and output columns (X variable for features and y for target variables)\n",
    "\n",
    "X2 = df2.drop('default', axis = 1) \n",
    "y2 = df2['default']"
   ]
  },
  {
   "cell_type": "code",
   "execution_count": 8,
   "metadata": {},
   "outputs": [],
   "source": [
    "#df2 subset\n",
    "\n",
    "# separate into input and output columns (X variable for features and y for target variables)\n",
    "\n",
    "X2s = df2.loc[:, ['MONTHS_LATE', 'PAYMENT_RATIO',]] \n",
    "y2s = df2['default']"
   ]
  },
  {
   "cell_type": "code",
   "execution_count": 9,
   "metadata": {},
   "outputs": [],
   "source": [
    "#df2\n",
    "\n",
    "# one-hot encode input categorical variables\n",
    "transformer = ColumnTransformer(transformers=[('cat', OneHotEncoder(), [0, 1, 2])], remainder='passthrough')\n",
    "X2 = transformer.fit_transform(X2)"
   ]
  },
  {
   "cell_type": "code",
   "execution_count": null,
   "metadata": {},
   "outputs": [],
   "source": []
  },
  {
   "cell_type": "markdown",
   "metadata": {},
   "source": [
    "**Split data**"
   ]
  },
  {
   "cell_type": "code",
   "execution_count": 11,
   "metadata": {},
   "outputs": [],
   "source": [
    "# separate data into training and test data\n",
    "X1Train, X1Test, y1Train, y1Test = train_test_split(X1, y1, test_size =0.2, random_state=1)\n"
   ]
  },
  {
   "cell_type": "code",
   "execution_count": 41,
   "metadata": {},
   "outputs": [],
   "source": [
    "# separate data into training and test data\n",
    "X2Train, X2Test, y2Train, y2Test = train_test_split(X2, y2, test_size =0.2, random_state=1)"
   ]
  },
  {
   "cell_type": "code",
   "execution_count": 46,
   "metadata": {},
   "outputs": [],
   "source": [
    "# separate data into training and test data\n",
    "X1sTrain, X1sTest, y1sTrain, y1sTest = train_test_split(X1s, y1s, test_size =0.2, random_state=1)"
   ]
  },
  {
   "cell_type": "code",
   "execution_count": 14,
   "metadata": {},
   "outputs": [],
   "source": [
    "# separate data into training and test data\n",
    "X2sTrain, X2sTest, y2sTrain, y2sTest = train_test_split(X2s, y2s, test_size =0.2, random_state=1)"
   ]
  },
  {
   "cell_type": "code",
   "execution_count": null,
   "metadata": {},
   "outputs": [],
   "source": []
  },
  {
   "cell_type": "code",
   "execution_count": null,
   "metadata": {},
   "outputs": [],
   "source": []
  },
  {
   "cell_type": "markdown",
   "metadata": {},
   "source": [
    "**Pipeline to scale data and tune Logistic Regression model**"
   ]
  },
  {
   "cell_type": "code",
   "execution_count": 18,
   "metadata": {},
   "outputs": [],
   "source": [
    "# grid search in a pipeline with logistic regression\n",
    "\n",
    "# define pipeline\n",
    "from sklearn.preprocessing import StandardScaler\n",
    "trans = StandardScaler()\n",
    "model = LogisticRegression()\n",
    "from sklearn.pipeline import Pipeline\n",
    "pipeline=Pipeline([('t', trans), ('m', model)])\n",
    "\n",
    "# set paramaters to be tested in the grid search\n",
    "params = {'m__C': [1.00000000e+00, 2.78255940e+00, 7.74263683e+00, 2.15443469e+01,\n",
    "       5.99484250e+01, 1.66810054e+02, 4.64158883e+02, 1.29154967e+03,\n",
    "       3.59381366e+03, 1.00000000e+04],\n",
    "            'm__penalty': ['l1', 'l2']}\n",
    "\n",
    "# set cross-validation technique\n",
    "skf = StratifiedKFold(n_splits=5, shuffle=True, random_state=1)\n",
    "\n",
    "# tune the model\n",
    "from sklearn.metrics import make_scorer, f1_score, recall_score, log_loss\n",
    "lr_grid=GridSearchCV(pipeline, params, verbose=2,\n",
    "          cv=skf, scoring={'avr': make_scorer(recall_score, needs_proba=False),\n",
    "                                'll': make_scorer(log_loss, greater_is_better=False, needs_proba=True)}, \n",
    "                    refit='avr', n_jobs=-1)\n",
    "\n"
   ]
  },
  {
   "cell_type": "code",
   "execution_count": null,
   "metadata": {},
   "outputs": [],
   "source": []
  },
  {
   "cell_type": "markdown",
   "metadata": {},
   "source": [
    "**Fit model for 4 different subsets of data**"
   ]
  },
  {
   "cell_type": "code",
   "execution_count": 19,
   "metadata": {},
   "outputs": [
    {
     "name": "stdout",
     "output_type": "stream",
     "text": [
      "Fitting 5 folds for each of 20 candidates, totalling 100 fits\n"
     ]
    },
    {
     "name": "stderr",
     "output_type": "stream",
     "text": [
      "[Parallel(n_jobs=-1)]: Using backend LokyBackend with 4 concurrent workers.\n",
      "[Parallel(n_jobs=-1)]: Done  33 tasks      | elapsed:   12.8s\n",
      "[Parallel(n_jobs=-1)]: Done 100 out of 100 | elapsed:   25.3s finished\n"
     ]
    },
    {
     "data": {
      "text/plain": [
       "GridSearchCV(cv=StratifiedKFold(n_splits=5, random_state=1, shuffle=True),\n",
       "       error_score='raise-deprecating',\n",
       "       estimator=Pipeline(memory=None,\n",
       "     steps=[('t', StandardScaler(copy=True, with_mean=True, with_std=True)), ('m', LogisticRegression(C=1.0, class_weight=None, dual=False, fit_intercept=True,\n",
       "          intercept_scaling=1, max_iter=100, multi_class='warn',\n",
       "          n_jobs=None, penalty='l2', random_state=None, solver='warn',\n",
       "          tol=0.0001, verbose=0, warm_start=False))]),\n",
       "       fit_params=None, iid='warn', n_jobs=-1,\n",
       "       param_grid={'m__C': [1.0, 2.7825594, 7.74263683, 21.5443469, 59.948425, 166.810054, 464.158883, 1291.54967, 3593.81366, 10000.0], 'm__penalty': ['l1', 'l2']},\n",
       "       pre_dispatch='2*n_jobs', refit='avr', return_train_score='warn',\n",
       "       scoring={'avr': make_scorer(recall_score), 'll': make_scorer(log_loss, greater_is_better=False, needs_proba=True)},\n",
       "       verbose=2)"
      ]
     },
     "execution_count": 19,
     "metadata": {},
     "output_type": "execute_result"
    }
   ],
   "source": [
    "# X1 df\n",
    "# fit the tuned model\n",
    "lr_grid.fit(X1Train, y1Train)"
   ]
  },
  {
   "cell_type": "code",
   "execution_count": 42,
   "metadata": {},
   "outputs": [
    {
     "name": "stdout",
     "output_type": "stream",
     "text": [
      "Fitting 5 folds for each of 20 candidates, totalling 100 fits\n"
     ]
    },
    {
     "name": "stderr",
     "output_type": "stream",
     "text": [
      "[Parallel(n_jobs=-1)]: Using backend LokyBackend with 4 concurrent workers.\n",
      "[Parallel(n_jobs=-1)]: Done  33 tasks      | elapsed:    5.4s\n",
      "[Parallel(n_jobs=-1)]: Done 100 out of 100 | elapsed:   10.7s finished\n"
     ]
    },
    {
     "data": {
      "text/plain": [
       "GridSearchCV(cv=StratifiedKFold(n_splits=5, random_state=1, shuffle=True),\n",
       "       error_score='raise-deprecating',\n",
       "       estimator=Pipeline(memory=None,\n",
       "     steps=[('t', StandardScaler(copy=True, with_mean=True, with_std=True)), ('m', LogisticRegression(C=1.0, class_weight=None, dual=False, fit_intercept=True,\n",
       "          intercept_scaling=1, max_iter=100, multi_class='warn',\n",
       "          n_jobs=None, penalty='l2', random_state=None, solver='warn',\n",
       "          tol=0.0001, verbose=0, warm_start=False))]),\n",
       "       fit_params=None, iid='warn', n_jobs=-1,\n",
       "       param_grid={'m__C': [1.0, 2.7825594, 7.74263683, 21.5443469, 59.948425, 166.810054, 464.158883, 1291.54967, 3593.81366, 10000.0], 'm__penalty': ['l1', 'l2']},\n",
       "       pre_dispatch='2*n_jobs', refit='avr', return_train_score='warn',\n",
       "       scoring={'avr': make_scorer(recall_score), 'll': make_scorer(log_loss, greater_is_better=False, needs_proba=True)},\n",
       "       verbose=2)"
      ]
     },
     "execution_count": 42,
     "metadata": {},
     "output_type": "execute_result"
    }
   ],
   "source": [
    "# X2 df\n",
    "# fit the tuned model\n",
    "lr_grid.fit(X2Train, y2Train)"
   ]
  },
  {
   "cell_type": "code",
   "execution_count": 47,
   "metadata": {},
   "outputs": [
    {
     "name": "stdout",
     "output_type": "stream",
     "text": [
      "Fitting 5 folds for each of 20 candidates, totalling 100 fits\n"
     ]
    },
    {
     "name": "stderr",
     "output_type": "stream",
     "text": [
      "[Parallel(n_jobs=-1)]: Using backend LokyBackend with 4 concurrent workers.\n",
      "[Parallel(n_jobs=-1)]: Done  58 tasks      | elapsed:    1.6s\n",
      "[Parallel(n_jobs=-1)]: Done 100 out of 100 | elapsed:    2.5s finished\n"
     ]
    },
    {
     "data": {
      "text/plain": [
       "GridSearchCV(cv=StratifiedKFold(n_splits=5, random_state=1, shuffle=True),\n",
       "       error_score='raise-deprecating',\n",
       "       estimator=Pipeline(memory=None,\n",
       "     steps=[('t', StandardScaler(copy=True, with_mean=True, with_std=True)), ('m', LogisticRegression(C=1.0, class_weight=None, dual=False, fit_intercept=True,\n",
       "          intercept_scaling=1, max_iter=100, multi_class='warn',\n",
       "          n_jobs=None, penalty='l2', random_state=None, solver='warn',\n",
       "          tol=0.0001, verbose=0, warm_start=False))]),\n",
       "       fit_params=None, iid='warn', n_jobs=-1,\n",
       "       param_grid={'m__C': [1.0, 2.7825594, 7.74263683, 21.5443469, 59.948425, 166.810054, 464.158883, 1291.54967, 3593.81366, 10000.0], 'm__penalty': ['l1', 'l2']},\n",
       "       pre_dispatch='2*n_jobs', refit='avr', return_train_score='warn',\n",
       "       scoring={'avr': make_scorer(recall_score), 'll': make_scorer(log_loss, greater_is_better=False, needs_proba=True)},\n",
       "       verbose=2)"
      ]
     },
     "execution_count": 47,
     "metadata": {},
     "output_type": "execute_result"
    }
   ],
   "source": [
    "# X1 df subset\n",
    "# fit the tuned model\n",
    "lr_grid.fit(X1sTrain, y1sTrain)"
   ]
  },
  {
   "cell_type": "code",
   "execution_count": 53,
   "metadata": {},
   "outputs": [
    {
     "name": "stdout",
     "output_type": "stream",
     "text": [
      "Fitting 5 folds for each of 20 candidates, totalling 100 fits\n"
     ]
    },
    {
     "name": "stderr",
     "output_type": "stream",
     "text": [
      "[Parallel(n_jobs=-1)]: Using backend LokyBackend with 4 concurrent workers.\n",
      "[Parallel(n_jobs=-1)]: Done 100 out of 100 | elapsed:    2.1s finished\n"
     ]
    },
    {
     "data": {
      "text/plain": [
       "GridSearchCV(cv=StratifiedKFold(n_splits=5, random_state=1, shuffle=True),\n",
       "       error_score='raise-deprecating',\n",
       "       estimator=Pipeline(memory=None,\n",
       "     steps=[('t', StandardScaler(copy=True, with_mean=True, with_std=True)), ('m', LogisticRegression(C=1.0, class_weight=None, dual=False, fit_intercept=True,\n",
       "          intercept_scaling=1, max_iter=100, multi_class='warn',\n",
       "          n_jobs=None, penalty='l2', random_state=None, solver='warn',\n",
       "          tol=0.0001, verbose=0, warm_start=False))]),\n",
       "       fit_params=None, iid='warn', n_jobs=-1,\n",
       "       param_grid={'m__C': [1.0, 2.7825594, 7.74263683, 21.5443469, 59.948425, 166.810054, 464.158883, 1291.54967, 3593.81366, 10000.0], 'm__penalty': ['l1', 'l2']},\n",
       "       pre_dispatch='2*n_jobs', refit='avr', return_train_score='warn',\n",
       "       scoring={'avr': make_scorer(recall_score), 'll': make_scorer(log_loss, greater_is_better=False, needs_proba=True)},\n",
       "       verbose=2)"
      ]
     },
     "execution_count": 53,
     "metadata": {},
     "output_type": "execute_result"
    }
   ],
   "source": [
    "# X2 df subset\n",
    "# fit the tuned model\n",
    "lr_grid.fit(X2sTrain, y2sTrain)"
   ]
  },
  {
   "cell_type": "code",
   "execution_count": null,
   "metadata": {},
   "outputs": [],
   "source": []
  },
  {
   "cell_type": "markdown",
   "metadata": {},
   "source": [
    "**Probability Predictions and Classification Threshold Selection**"
   ]
  },
  {
   "cell_type": "markdown",
   "metadata": {},
   "source": [
    "Make probability predictions to choose best classification threshold for imbalanced target"
   ]
  },
  {
   "cell_type": "markdown",
   "metadata": {},
   "source": [
    "Duplicate for each of four subsets of data."
   ]
  },
  {
   "cell_type": "code",
   "execution_count": 21,
   "metadata": {},
   "outputs": [
    {
     "name": "stdout",
     "output_type": "stream",
     "text": [
      "Best Threshold=0.257852\n"
     ]
    }
   ],
   "source": [
    "# choose the threshold with the Receiver Operating Characteristic curve and Youden's J statistic\n",
    "\n",
    "# predict probabilities; the last part of this line keeps the probabilities for the positive outcome only\n",
    "predprob1=lr_grid.predict_proba(X1Test)[:,1]\n",
    "\n",
    "# calculate roc curves\n",
    "fpr, tpr, thresholds = metrics.roc_curve(y1Test, predprob1)\n",
    "\n",
    "# get the best threshold: Youden’s J statistic\n",
    "J = tpr - fpr\n",
    "from numpy import argmax\n",
    "ix = argmax(J)\n",
    "best_thresh1 = thresholds[ix]\n",
    "print('Best Threshold=%f' % (best_thresh1))"
   ]
  },
  {
   "cell_type": "code",
   "execution_count": 44,
   "metadata": {},
   "outputs": [
    {
     "name": "stdout",
     "output_type": "stream",
     "text": [
      "Best Threshold=0.265626\n"
     ]
    }
   ],
   "source": [
    "# choose the threshold with the Receiver Operating Characteristic curve and Youden's J statistic\n",
    "\n",
    "# predict probabilities; the last part of this line keeps the probabilities for the positive outcome only\n",
    "predprob2=lr_grid.predict_proba(X2Test)[:,1]\n",
    "\n",
    "# calculate roc curves\n",
    "fpr, tpr, thresholds = metrics.roc_curve(y2Test, predprob2)\n",
    "\n",
    "# get the best threshold: Youden’s J statistic\n",
    "J = tpr - fpr\n",
    "from numpy import argmax\n",
    "ix = argmax(J)\n",
    "best_thresh2 = thresholds[ix]\n",
    "print('Best Threshold=%f' % (best_thresh2))"
   ]
  },
  {
   "cell_type": "code",
   "execution_count": 49,
   "metadata": {},
   "outputs": [
    {
     "name": "stdout",
     "output_type": "stream",
     "text": [
      "Best Threshold=0.231867\n"
     ]
    }
   ],
   "source": [
    "# choose the threshold with the Receiver Operating Characteristic curve and Youden's J statistic\n",
    "\n",
    "# predict probabilities; the last part of this line keeps the probabilities for the positive outcome only\n",
    "predprob1s=lr_grid.predict_proba(X1sTest)[:,1]\n",
    "\n",
    "# calculate roc curves\n",
    "fpr, tpr, thresholds = metrics.roc_curve(y1sTest, predprob1s)\n",
    "\n",
    "# get the best threshold: Youden’s J statistic\n",
    "J = tpr - fpr\n",
    "from numpy import argmax\n",
    "ix = argmax(J)\n",
    "best_thresh1s = thresholds[ix]\n",
    "print('Best Threshold=%f' % (best_thresh1s))"
   ]
  },
  {
   "cell_type": "code",
   "execution_count": 55,
   "metadata": {},
   "outputs": [
    {
     "name": "stdout",
     "output_type": "stream",
     "text": [
      "Best Threshold=0.251945\n"
     ]
    }
   ],
   "source": [
    "# choose the threshold with the Receiver Operating Characteristic curve and Youden's J statistic\n",
    "\n",
    "# predict probabilities; the last part of this line keeps the probabilities for the positive outcome only\n",
    "predprob2s=lr_grid.predict_proba(X2sTest)[:,1]\n",
    "\n",
    "# calculate roc curves\n",
    "fpr, tpr, thresholds = metrics.roc_curve(y2sTest, predprob2s)\n",
    "\n",
    "# get the best threshold: Youden’s J statistic\n",
    "J = tpr - fpr\n",
    "from numpy import argmax\n",
    "ix = argmax(J)\n",
    "best_thresh2s = thresholds[ix]\n",
    "print('Best Threshold=%f' % (best_thresh2s))"
   ]
  },
  {
   "cell_type": "code",
   "execution_count": null,
   "metadata": {},
   "outputs": [],
   "source": []
  },
  {
   "cell_type": "code",
   "execution_count": 22,
   "metadata": {},
   "outputs": [],
   "source": [
    "# custom confusion matrix function to show percentages\n",
    "def conf_matrix(y,pred):\n",
    "    ((tn, fp), (fn, tp)) = metrics.confusion_matrix(y, pred)\n",
    "    \n",
    "    return pd.DataFrame([[f'TN = {tn} (TNR = {tn / (tn+fp):1.2%})', \n",
    "                                f'FP = {fp} (FPR = {fp / (tn+fp):1.2%})'], \n",
    "                         [f'FN = {fn} (FNR = {fn / (fn+tp):1.2%})', \n",
    "                                f'TP = {tp} (TPR = {tp / (fn+tp):1.2%})']],\n",
    "            index=['True 0(No Default)', 'True 1(Default)'], \n",
    "            columns=['Pred 0(No Default)', \n",
    "                            'Pred 1(Default)'])"
   ]
  },
  {
   "cell_type": "code",
   "execution_count": null,
   "metadata": {},
   "outputs": [],
   "source": []
  },
  {
   "cell_type": "markdown",
   "metadata": {},
   "source": [
    "**Use best threshold to convert probabilities to classification predictions**"
   ]
  },
  {
   "cell_type": "markdown",
   "metadata": {},
   "source": [
    "Duplicate for each of four subsets of data."
   ]
  },
  {
   "cell_type": "code",
   "execution_count": null,
   "metadata": {},
   "outputs": [],
   "source": []
  },
  {
   "cell_type": "code",
   "execution_count": 24,
   "metadata": {},
   "outputs": [
    {
     "data": {
      "text/html": [
       "<div>\n",
       "<style scoped>\n",
       "    .dataframe tbody tr th:only-of-type {\n",
       "        vertical-align: middle;\n",
       "    }\n",
       "\n",
       "    .dataframe tbody tr th {\n",
       "        vertical-align: top;\n",
       "    }\n",
       "\n",
       "    .dataframe thead th {\n",
       "        text-align: right;\n",
       "    }\n",
       "</style>\n",
       "<table border=\"1\" class=\"dataframe\">\n",
       "  <thead>\n",
       "    <tr style=\"text-align: right;\">\n",
       "      <th></th>\n",
       "      <th>Pred 0(No Default)</th>\n",
       "      <th>Pred 1(Default)</th>\n",
       "    </tr>\n",
       "  </thead>\n",
       "  <tbody>\n",
       "    <tr>\n",
       "      <th>True 0(No Default)</th>\n",
       "      <td>TN = 3672 (TNR = 78.82%)</td>\n",
       "      <td>FP = 987 (FPR = 21.18%)</td>\n",
       "    </tr>\n",
       "    <tr>\n",
       "      <th>True 1(Default)</th>\n",
       "      <td>FN = 501 (FNR = 37.36%)</td>\n",
       "      <td>TP = 840 (TPR = 62.64%)</td>\n",
       "    </tr>\n",
       "  </tbody>\n",
       "</table>\n",
       "</div>"
      ],
      "text/plain": [
       "                          Pred 0(No Default)          Pred 1(Default)\n",
       "True 0(No Default)  TN = 3672 (TNR = 78.82%)  FP = 987 (FPR = 21.18%)\n",
       "True 1(Default)      FN = 501 (FNR = 37.36%)  TP = 840 (TPR = 62.64%)"
      ]
     },
     "execution_count": 24,
     "metadata": {},
     "output_type": "execute_result"
    }
   ],
   "source": [
    "# predprob are predicted possibilities for positive outcome prediction \n",
    "# allocate the probability predictions between 1 and 0 based on the best threshold\n",
    "predprob_tuned_thresh1 = np.where(predprob1 >= best_thresh1, 1, 0)\n",
    "\n",
    "# custom confusion matrix with predictions (showing percentages)\n",
    "conf_mat1thresh = conf_matrix(y1Test, predprob_tuned_thresh1)\n",
    "conf_mat1thresh"
   ]
  },
  {
   "cell_type": "code",
   "execution_count": 32,
   "metadata": {},
   "outputs": [
    {
     "data": {
      "text/html": [
       "<div>\n",
       "<style scoped>\n",
       "    .dataframe tbody tr th:only-of-type {\n",
       "        vertical-align: middle;\n",
       "    }\n",
       "\n",
       "    .dataframe tbody tr th {\n",
       "        vertical-align: top;\n",
       "    }\n",
       "\n",
       "    .dataframe thead th {\n",
       "        text-align: right;\n",
       "    }\n",
       "</style>\n",
       "<table border=\"1\" class=\"dataframe\">\n",
       "  <thead>\n",
       "    <tr style=\"text-align: right;\">\n",
       "      <th></th>\n",
       "      <th>Pred 0(No Default)</th>\n",
       "      <th>Pred 1(Default)</th>\n",
       "    </tr>\n",
       "  </thead>\n",
       "  <tbody>\n",
       "    <tr>\n",
       "      <th>True 0(No Default)</th>\n",
       "      <td>TN = 3676 (TNR = 80.26%)</td>\n",
       "      <td>FP = 904 (FPR = 19.74%)</td>\n",
       "    </tr>\n",
       "    <tr>\n",
       "      <th>True 1(Default)</th>\n",
       "      <td>FN = 458 (FNR = 36.76%)</td>\n",
       "      <td>TP = 788 (TPR = 63.24%)</td>\n",
       "    </tr>\n",
       "  </tbody>\n",
       "</table>\n",
       "</div>"
      ],
      "text/plain": [
       "                          Pred 0(No Default)          Pred 1(Default)\n",
       "True 0(No Default)  TN = 3676 (TNR = 80.26%)  FP = 904 (FPR = 19.74%)\n",
       "True 1(Default)      FN = 458 (FNR = 36.76%)  TP = 788 (TPR = 63.24%)"
      ]
     },
     "execution_count": 32,
     "metadata": {},
     "output_type": "execute_result"
    }
   ],
   "source": [
    "# predprob are predicted possibilities for positive outcome prediction \n",
    "# allocate the probability predictions between 1 and 0 based on the best threshold\n",
    "predprob_tuned_thresh2 = np.where(predprob2 >= best_thresh2, 1, 0)\n",
    "\n",
    "# custom confusion matrix with predictions (showing percentages)\n",
    "conf_mat2thresh = conf_matrix(y2Test, predprob_tuned_thresh2)\n",
    "conf_mat2thresh"
   ]
  },
  {
   "cell_type": "code",
   "execution_count": 50,
   "metadata": {},
   "outputs": [
    {
     "data": {
      "text/html": [
       "<div>\n",
       "<style scoped>\n",
       "    .dataframe tbody tr th:only-of-type {\n",
       "        vertical-align: middle;\n",
       "    }\n",
       "\n",
       "    .dataframe tbody tr th {\n",
       "        vertical-align: top;\n",
       "    }\n",
       "\n",
       "    .dataframe thead th {\n",
       "        text-align: right;\n",
       "    }\n",
       "</style>\n",
       "<table border=\"1\" class=\"dataframe\">\n",
       "  <thead>\n",
       "    <tr style=\"text-align: right;\">\n",
       "      <th></th>\n",
       "      <th>Pred 0(No Default)</th>\n",
       "      <th>Pred 1(Default)</th>\n",
       "    </tr>\n",
       "  </thead>\n",
       "  <tbody>\n",
       "    <tr>\n",
       "      <th>True 0(No Default)</th>\n",
       "      <td>TN = 3637 (TNR = 78.06%)</td>\n",
       "      <td>FP = 1022 (FPR = 21.94%)</td>\n",
       "    </tr>\n",
       "    <tr>\n",
       "      <th>True 1(Default)</th>\n",
       "      <td>FN = 506 (FNR = 37.73%)</td>\n",
       "      <td>TP = 835 (TPR = 62.27%)</td>\n",
       "    </tr>\n",
       "  </tbody>\n",
       "</table>\n",
       "</div>"
      ],
      "text/plain": [
       "                          Pred 0(No Default)           Pred 1(Default)\n",
       "True 0(No Default)  TN = 3637 (TNR = 78.06%)  FP = 1022 (FPR = 21.94%)\n",
       "True 1(Default)      FN = 506 (FNR = 37.73%)   TP = 835 (TPR = 62.27%)"
      ]
     },
     "execution_count": 50,
     "metadata": {},
     "output_type": "execute_result"
    }
   ],
   "source": [
    "# predprob are predicted possibilities for positive outcome prediction \n",
    "# allocate the probability predictions between 1 and 0 based on the best threshold\n",
    "predprob_tuned_thresh1s = np.where(predprob1s >= best_thresh1s, 1, 0)\n",
    "\n",
    "# custom confusion matrix with predictions (showing percentages)\n",
    "conf_mat1sthresh = conf_matrix(y1sTest, predprob_tuned_thresh1s)\n",
    "conf_mat1sthresh"
   ]
  },
  {
   "cell_type": "code",
   "execution_count": 56,
   "metadata": {},
   "outputs": [
    {
     "data": {
      "text/html": [
       "<div>\n",
       "<style scoped>\n",
       "    .dataframe tbody tr th:only-of-type {\n",
       "        vertical-align: middle;\n",
       "    }\n",
       "\n",
       "    .dataframe tbody tr th {\n",
       "        vertical-align: top;\n",
       "    }\n",
       "\n",
       "    .dataframe thead th {\n",
       "        text-align: right;\n",
       "    }\n",
       "</style>\n",
       "<table border=\"1\" class=\"dataframe\">\n",
       "  <thead>\n",
       "    <tr style=\"text-align: right;\">\n",
       "      <th></th>\n",
       "      <th>Pred 0(No Default)</th>\n",
       "      <th>Pred 1(Default)</th>\n",
       "    </tr>\n",
       "  </thead>\n",
       "  <tbody>\n",
       "    <tr>\n",
       "      <th>True 0(No Default)</th>\n",
       "      <td>TN = 3673 (TNR = 80.20%)</td>\n",
       "      <td>FP = 907 (FPR = 19.80%)</td>\n",
       "    </tr>\n",
       "    <tr>\n",
       "      <th>True 1(Default)</th>\n",
       "      <td>FN = 452 (FNR = 36.28%)</td>\n",
       "      <td>TP = 794 (TPR = 63.72%)</td>\n",
       "    </tr>\n",
       "  </tbody>\n",
       "</table>\n",
       "</div>"
      ],
      "text/plain": [
       "                          Pred 0(No Default)          Pred 1(Default)\n",
       "True 0(No Default)  TN = 3673 (TNR = 80.20%)  FP = 907 (FPR = 19.80%)\n",
       "True 1(Default)      FN = 452 (FNR = 36.28%)  TP = 794 (TPR = 63.72%)"
      ]
     },
     "execution_count": 56,
     "metadata": {},
     "output_type": "execute_result"
    }
   ],
   "source": [
    "# predprob are predicted possibilities for positive outcome prediction \n",
    "# allocate the probability predictions between 1 and 0 based on the best threshold\n",
    "predprob_tuned_thresh2s = np.where(predprob2s >= best_thresh2s, 1, 0)\n",
    "\n",
    "# custom confusion matrix with predictions (showing percentages)\n",
    "conf_mat2sthresh = conf_matrix(y2sTest, predprob_tuned_thresh2s)\n",
    "conf_mat2sthresh"
   ]
  },
  {
   "cell_type": "code",
   "execution_count": null,
   "metadata": {},
   "outputs": [],
   "source": []
  },
  {
   "cell_type": "markdown",
   "metadata": {},
   "source": [
    "**Evaluate Predictions**"
   ]
  },
  {
   "cell_type": "code",
   "execution_count": 26,
   "metadata": {},
   "outputs": [
    {
     "data": {
      "text/plain": [
       "<AxesSubplot:>"
      ]
     },
     "execution_count": 26,
     "metadata": {},
     "output_type": "execute_result"
    },
    {
     "data": {
      "image/png": "[encoded data removed]",
      "text/plain": [
       "<Figure size 432x288 with 2 Axes>"
      ]
     },
     "metadata": {
      "needs_background": "light"
     },
     "output_type": "display_data"
    }
   ],
   "source": [
    "from sklearn.metrics import classification_report\n",
    "class_rep1thresh = classification_report(y1Test, predprob_tuned_thresh1, output_dict=True, target_names= ['No Default', 'Default'])\n",
    "# Create a dataframe from the dictionary and plot a heatmap of it.\n",
    "#import seaborn as sns\n",
    "# .iloc[:-1, :] to exclude support\n",
    "sns.heatmap(pd.DataFrame(class_rep1thresh).iloc[:-1, :].T, annot=True, cmap=\"Blues\")"
   ]
  },
  {
   "cell_type": "code",
   "execution_count": 27,
   "metadata": {},
   "outputs": [
    {
     "data": {
      "text/plain": [
       "{'No Default': {'precision': 0.879942487419123,\n",
       "  'recall': 0.7881519639407598,\n",
       "  'f1-score': 0.8315217391304348,\n",
       "  'support': 4659},\n",
       " 'Default': {'precision': 0.45977011494252873,\n",
       "  'recall': 0.6263982102908278,\n",
       "  'f1-score': 0.5303030303030303,\n",
       "  'support': 1341},\n",
       " 'micro avg': {'precision': 0.752,\n",
       "  'recall': 0.752,\n",
       "  'f1-score': 0.752,\n",
       "  'support': 6000},\n",
       " 'macro avg': {'precision': 0.6698563011808258,\n",
       "  'recall': 0.7072750871157938,\n",
       "  'f1-score': 0.6809123847167325,\n",
       "  'support': 6000},\n",
       " 'weighted avg': {'precision': 0.7860339621706042,\n",
       "  'recall': 0.752,\n",
       "  'f1-score': 0.76419935770751,\n",
       "  'support': 6000}}"
      ]
     },
     "execution_count": 27,
     "metadata": {},
     "output_type": "execute_result"
    }
   ],
   "source": [
    "class_rep1thresh"
   ]
  },
  {
   "cell_type": "code",
   "execution_count": 33,
   "metadata": {},
   "outputs": [
    {
     "data": {
      "text/plain": [
       "<AxesSubplot:>"
      ]
     },
     "execution_count": 33,
     "metadata": {},
     "output_type": "execute_result"
    },
    {
     "data": {
      "image/png": "[encoded data removed]",
      "text/plain": [
       "<Figure size 432x288 with 2 Axes>"
      ]
     },
     "metadata": {
      "needs_background": "light"
     },
     "output_type": "display_data"
    }
   ],
   "source": [
    "class_rep2thresh = classification_report(y2Test, predprob_tuned_thresh2, output_dict=True, target_names= ['No Default', 'Default'])\n",
    "# Create a dataframe from the dictionary and plot a heatmap of it.\n",
    "#import seaborn as sns\n",
    "# .iloc[:-1, :] to exclude support\n",
    "sns.heatmap(pd.DataFrame(class_rep2thresh).iloc[:-1, :].T, annot=True, cmap=\"Blues\")"
   ]
  },
  {
   "cell_type": "code",
   "execution_count": 34,
   "metadata": {},
   "outputs": [
    {
     "data": {
      "text/plain": [
       "{'No Default': {'precision': 0.8892114175133043,\n",
       "  'recall': 0.8026200873362446,\n",
       "  'f1-score': 0.8436997934358504,\n",
       "  'support': 4580},\n",
       " 'Default': {'precision': 0.4657210401891253,\n",
       "  'recall': 0.6324237560192616,\n",
       "  'f1-score': 0.5364193328795099,\n",
       "  'support': 1246},\n",
       " 'micro avg': {'precision': 0.7662203913491246,\n",
       "  'recall': 0.7662203913491246,\n",
       "  'f1-score': 0.7662203913491246,\n",
       "  'support': 5826},\n",
       " 'macro avg': {'precision': 0.6774662288512148,\n",
       "  'recall': 0.7175219216777531,\n",
       "  'f1-score': 0.6900595631576802,\n",
       "  'support': 5826},\n",
       " 'weighted avg': {'precision': 0.7986400117210066,\n",
       "  'recall': 0.7662203913491246,\n",
       "  'f1-score': 0.7779820704950333,\n",
       "  'support': 5826}}"
      ]
     },
     "execution_count": 34,
     "metadata": {},
     "output_type": "execute_result"
    }
   ],
   "source": [
    "class_rep2thresh"
   ]
  },
  {
   "cell_type": "code",
   "execution_count": 51,
   "metadata": {},
   "outputs": [
    {
     "data": {
      "text/plain": [
       "<AxesSubplot:>"
      ]
     },
     "execution_count": 51,
     "metadata": {},
     "output_type": "execute_result"
    },
    {
     "data": {
      "image/png": "[encoded data removed]",
      "text/plain": [
       "<Figure size 432x288 with 2 Axes>"
      ]
     },
     "metadata": {
      "needs_background": "light"
     },
     "output_type": "display_data"
    }
   ],
   "source": [
    "from sklearn.metrics import classification_report\n",
    "class_rep1sthresh = classification_report(y1sTest, predprob_tuned_thresh1s, output_dict=True, target_names= ['No Default', 'Default'])\n",
    "# Create a dataframe from the dictionary and plot a heatmap of it.\n",
    "#import seaborn as sns\n",
    "# .iloc[:-1, :] to exclude support\n",
    "sns.heatmap(pd.DataFrame(class_rep1sthresh).iloc[:-1, :].T, annot=True, cmap=\"Blues\")"
   ]
  },
  {
   "cell_type": "code",
   "execution_count": 52,
   "metadata": {},
   "outputs": [
    {
     "data": {
      "text/plain": [
       "{'No Default': {'precision': 0.8778662804730871,\n",
       "  'recall': 0.7806396222365315,\n",
       "  'f1-score': 0.8264030902067712,\n",
       "  'support': 4659},\n",
       " 'Default': {'precision': 0.44964997307485194,\n",
       "  'recall': 0.6226696495152871,\n",
       "  'f1-score': 0.5222013758599124,\n",
       "  'support': 1341},\n",
       " 'micro avg': {'precision': 0.7453333333333333,\n",
       "  'recall': 0.7453333333333333,\n",
       "  'f1-score': 0.7453333333333332,\n",
       "  'support': 6000},\n",
       " 'macro avg': {'precision': 0.6637581267739695,\n",
       "  'recall': 0.7016546358759093,\n",
       "  'f1-score': 0.6743022330333418,\n",
       "  'support': 6000},\n",
       " 'weighted avg': {'precision': 0.7821599357695816,\n",
       "  'recall': 0.7453333333333333,\n",
       "  'f1-score': 0.7584140070502482,\n",
       "  'support': 6000}}"
      ]
     },
     "execution_count": 52,
     "metadata": {},
     "output_type": "execute_result"
    }
   ],
   "source": [
    "class_rep1sthresh"
   ]
  },
  {
   "cell_type": "code",
   "execution_count": 57,
   "metadata": {},
   "outputs": [
    {
     "data": {
      "text/plain": [
       "<AxesSubplot:>"
      ]
     },
     "execution_count": 57,
     "metadata": {},
     "output_type": "execute_result"
    },
    {
     "data": {
      "image/png": "[encoded data removed]",
      "text/plain": [
       "<Figure size 432x288 with 2 Axes>"
      ]
     },
     "metadata": {
      "needs_background": "light"
     },
     "output_type": "display_data"
    }
   ],
   "source": [
    "class_rep2sthresh = classification_report(y2sTest, predprob_tuned_thresh2s, output_dict=True, target_names= ['No Default', 'Default'])\n",
    "# Create a dataframe from the dictionary and plot a heatmap of it.\n",
    "#import seaborn as sns\n",
    "# .iloc[:-1, :] to exclude support\n",
    "sns.heatmap(pd.DataFrame(class_rep2sthresh).iloc[:-1, :].T, annot=True, cmap=\"Blues\")"
   ]
  },
  {
   "cell_type": "code",
   "execution_count": 58,
   "metadata": {},
   "outputs": [
    {
     "data": {
      "text/plain": [
       "{'No Default': {'precision': 0.8904242424242425,\n",
       "  'recall': 0.8019650655021834,\n",
       "  'f1-score': 0.8438828259620907,\n",
       "  'support': 4580},\n",
       " 'Default': {'precision': 0.46678424456202233,\n",
       "  'recall': 0.637239165329053,\n",
       "  'f1-score': 0.5388530709195793,\n",
       "  'support': 1246},\n",
       " 'micro avg': {'precision': 0.766735324407827,\n",
       "  'recall': 0.766735324407827,\n",
       "  'f1-score': 0.766735324407827,\n",
       "  'support': 5826},\n",
       " 'macro avg': {'precision': 0.6786042434931324,\n",
       "  'recall': 0.7196021154156182,\n",
       "  'f1-score': 0.691367948440835,\n",
       "  'support': 5826},\n",
       " 'weighted avg': {'precision': 0.7998208374574856,\n",
       "  'recall': 0.766735324407827,\n",
       "  'f1-score': 0.778646458852072,\n",
       "  'support': 5826}}"
      ]
     },
     "execution_count": 58,
     "metadata": {},
     "output_type": "execute_result"
    }
   ],
   "source": [
    "class_rep2sthresh"
   ]
  },
  {
   "cell_type": "code",
   "execution_count": null,
   "metadata": {},
   "outputs": [],
   "source": []
  },
  {
   "cell_type": "code",
   "execution_count": 44,
   "metadata": {},
   "outputs": [
    {
     "data": {
      "text/plain": [
       "['LR_predProb.sav']"
      ]
     },
     "execution_count": 44,
     "metadata": {},
     "output_type": "execute_result"
    }
   ],
   "source": [
    "import joblib\n",
    "# save the probility predictions\n",
    "filename = 'LR_predProb.sav'\n",
    "joblib.dump(LRpredprob_tuned_thresh, filename)"
   ]
  },
  {
   "cell_type": "code",
   "execution_count": null,
   "metadata": {},
   "outputs": [],
   "source": []
  },
  {
   "cell_type": "code",
   "execution_count": null,
   "metadata": {},
   "outputs": [],
   "source": []
  },
  {
   "cell_type": "code",
   "execution_count": null,
   "metadata": {},
   "outputs": [],
   "source": []
  }
 ],
 "metadata": {
  "kernelspec": {
   "display_name": "Python 3",
   "language": "python",
   "name": "python3"
  },
  "language_info": {
   "codemirror_mode": {
    "name": "ipython",
    "version": 3
   },
   "file_extension": ".py",
   "mimetype": "text/x-python",
   "name": "python",
   "nbconvert_exporter": "python",
   "pygments_lexer": "ipython3",
   "version": "3.7.6"
  }
 },
 "nbformat": 4,
 "nbformat_minor": 4
}
