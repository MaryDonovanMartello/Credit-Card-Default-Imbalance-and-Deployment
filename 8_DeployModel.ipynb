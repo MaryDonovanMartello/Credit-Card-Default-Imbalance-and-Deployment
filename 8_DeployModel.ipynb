{
 "cells": [
  {
   "cell_type": "markdown",
   "metadata": {},
   "source": [
    "# Phase 2: Classification Prediction with Imbalanced Target"
   ]
  },
  {
   "cell_type": "markdown",
   "metadata": {},
   "source": [
    "# Mary Donovan Martello"
   ]
  },
  {
   "cell_type": "code",
   "execution_count": null,
   "metadata": {},
   "outputs": [],
   "source": []
  },
  {
   "cell_type": "markdown",
   "metadata": {},
   "source": [
    "**Phase 1 of the credit card default project involved testing five binary classification models for predicting credit card defaults.  Phase 1 can be found:** [here](https://github.com/MaryDonovanMartello/Credit-Card-Default-Prediction)\n",
    "\n",
    "**Phase 2 of the credit card default project includes (1) employing methodologies other than Principal Component Analysis to address multicollinearity and feature selection in an effort to be able to analyze individual factors that are significant for defaults, (2) testing multiple approaches to addressing an imbalanced target variable in a binary classification model, and (3) implementing deployment models to make actual predictions and convert the logistic regression coefficients to a risk score that can be used in making lending decisions.**"
   ]
  },
  {
   "cell_type": "code",
   "execution_count": null,
   "metadata": {},
   "outputs": [],
   "source": []
  },
  {
   "cell_type": "markdown",
   "metadata": {},
   "source": [
    "## Part 8:  Deployment Models"
   ]
  },
  {
   "cell_type": "code",
   "execution_count": null,
   "metadata": {},
   "outputs": [],
   "source": []
  },
  {
   "cell_type": "code",
   "execution_count": 2,
   "metadata": {},
   "outputs": [],
   "source": [
    "import pandas as pd\n",
    "from pandas import read_csv\n",
    "import numpy as np\n",
    "import joblib\n",
    "\n",
    "import seaborn as sns\n",
    "import matplotlib.pyplot as plt\n",
    "from sklearn.model_selection import train_test_split, RepeatedStratifiedKFold, cross_val_score\n",
    "from sklearn.linear_model import LogisticRegression\n",
    "from sklearn.metrics import roc_curve, roc_auc_score, confusion_matrix, precision_recall_curve, auc\n",
    "from sklearn.feature_selection import f_classif\n",
    "from sklearn.pipeline import Pipeline\n",
    "from sklearn.base import BaseEstimator, TransformerMixin\n",
    "from scipy.stats import chi2_contingency\n",
    "\n",
    "#stop unnecessary warnings from printing to the screen\n",
    "import warnings\n",
    "warnings.simplefilter('ignore')\n"
   ]
  },
  {
   "cell_type": "code",
   "execution_count": 4,
   "metadata": {},
   "outputs": [],
   "source": [
    "ADASYN = joblib.load('ADASYNmodel.sav')"
   ]
  },
  {
   "cell_type": "code",
   "execution_count": 5,
   "metadata": {},
   "outputs": [
    {
     "data": {
      "text/plain": [
       "sklearn.model_selection._search.GridSearchCV"
      ]
     },
     "execution_count": 5,
     "metadata": {},
     "output_type": "execute_result"
    }
   ],
   "source": [
    "type(ADASYN)"
   ]
  },
  {
   "cell_type": "code",
   "execution_count": null,
   "metadata": {},
   "outputs": [],
   "source": []
  },
  {
   "cell_type": "code",
   "execution_count": 3,
   "metadata": {},
   "outputs": [],
   "source": [
    "df1 = pd.read_csv('logDefaultRev1.csv')\n",
    "df2 = pd.read_csv('logDefaultRev2.csv')"
   ]
  },
  {
   "cell_type": "code",
   "execution_count": null,
   "metadata": {},
   "outputs": [],
   "source": []
  },
  {
   "cell_type": "code",
   "execution_count": 7,
   "metadata": {},
   "outputs": [
    {
     "data": {
      "text/plain": [
       "Index(['default', 'SEX', 'EDUCATION', 'MARRIAGE', 'AGE', 'LIMIT_BAL',\n",
       "       'BILL_AMT1', 'BILL_AMT2', 'BILL_AMT3', 'BILL_AMT4', 'BILL_AMT5',\n",
       "       'BILL_AMT6', 'PAY_AMT1', 'PAY_AMT2', 'PAY_AMT3', 'PAY_AMT4', 'PAY_AMT5',\n",
       "       'PAY_AMT6', 'MONTHS_LATE'],\n",
       "      dtype='object')"
      ]
     },
     "execution_count": 7,
     "metadata": {},
     "output_type": "execute_result"
    }
   ],
   "source": [
    "df1.columns"
   ]
  },
  {
   "cell_type": "code",
   "execution_count": null,
   "metadata": {},
   "outputs": [],
   "source": []
  },
  {
   "cell_type": "markdown",
   "metadata": {},
   "source": [
    "## Prediction Model"
   ]
  },
  {
   "cell_type": "code",
   "execution_count": null,
   "metadata": {},
   "outputs": [],
   "source": []
  },
  {
   "cell_type": "markdown",
   "metadata": {},
   "source": [
    "**Create feature for each categorical category**"
   ]
  },
  {
   "cell_type": "code",
   "execution_count": 34,
   "metadata": {},
   "outputs": [],
   "source": [
    "df1['SEX_Dummy'] = 0\n",
    "df1['EDUCATION_Dummy1'] = 0\n",
    "df1['EDUCATION_Dummy2'] = 0\n",
    "df1['EDUCATION_Dummy3'] = 0\n",
    "df1['EDUCATION_Dummy4'] = 0\n",
    "df1['EDUCATION_Dummy5'] = 0\n",
    "df1['EDUCATION_Dummy6'] = 0\n",
    "df1['MARRIAGE_Dummy1'] = 0\n",
    "df1['MARRIAGE_Dummy2'] = 0\n",
    "df1['MARRIAGE_Dummy3'] = 0"
   ]
  },
  {
   "cell_type": "code",
   "execution_count": 35,
   "metadata": {},
   "outputs": [
    {
     "data": {
      "text/plain": [
       "Index(['default', 'SEX', 'EDUCATION', 'MARRIAGE', 'AGE', 'LIMIT_BAL',\n",
       "       'BILL_AMT1', 'BILL_AMT2', 'BILL_AMT3', 'BILL_AMT4', 'BILL_AMT5',\n",
       "       'BILL_AMT6', 'PAY_AMT1', 'PAY_AMT2', 'PAY_AMT3', 'PAY_AMT4', 'PAY_AMT5',\n",
       "       'PAY_AMT6', 'MONTHS_LATE', 'SEX_Dummy', 'EDUCATION_Dummy1',\n",
       "       'EDUCATION_Dummy2', 'EDUCATION_Dummy3', 'EDUCATION_Dummy4',\n",
       "       'EDUCATION_Dummy5', 'EDUCATION_Dummy6', 'MARRIAGE_Dummy1',\n",
       "       'MARRIAGE_Dummy2', 'MARRIAGE_Dummy3'],\n",
       "      dtype='object')"
      ]
     },
     "execution_count": 35,
     "metadata": {},
     "output_type": "execute_result"
    }
   ],
   "source": [
    "df1.columns"
   ]
  },
  {
   "cell_type": "code",
   "execution_count": 36,
   "metadata": {},
   "outputs": [],
   "source": [
    "# Reorder the colomuns\n",
    "df1 = df1[['default', 'SEX', 'SEX_Dummy', 'EDUCATION_Dummy1', 'EDUCATION', 'EDUCATION_Dummy2', 'EDUCATION_Dummy3', \n",
    "           'EDUCATION_Dummy4', 'EDUCATION_Dummy5', 'EDUCATION_Dummy6', 'MARRIAGE_Dummy1', 'MARRIAGE', 'MARRIAGE_Dummy2', 'MARRIAGE_Dummy3',\n",
    "           'AGE', 'LIMIT_BAL',\n",
    "       'BILL_AMT1', 'BILL_AMT2', 'BILL_AMT3', 'BILL_AMT4', 'BILL_AMT5',\n",
    "       'BILL_AMT6', 'PAY_AMT1', 'PAY_AMT2', 'PAY_AMT3', 'PAY_AMT4', 'PAY_AMT5',\n",
    "       'PAY_AMT6', 'MONTHS_LATE']]"
   ]
  },
  {
   "cell_type": "code",
   "execution_count": 37,
   "metadata": {},
   "outputs": [
    {
     "data": {
      "text/plain": [
       "Index(['default', 'SEX', 'SEX_Dummy', 'EDUCATION_Dummy1', 'EDUCATION',\n",
       "       'EDUCATION_Dummy2', 'EDUCATION_Dummy3', 'EDUCATION_Dummy4',\n",
       "       'EDUCATION_Dummy5', 'EDUCATION_Dummy6', 'MARRIAGE_Dummy1', 'MARRIAGE',\n",
       "       'MARRIAGE_Dummy2', 'MARRIAGE_Dummy3', 'AGE', 'LIMIT_BAL', 'BILL_AMT1',\n",
       "       'BILL_AMT2', 'BILL_AMT3', 'BILL_AMT4', 'BILL_AMT5', 'BILL_AMT6',\n",
       "       'PAY_AMT1', 'PAY_AMT2', 'PAY_AMT3', 'PAY_AMT4', 'PAY_AMT5', 'PAY_AMT6',\n",
       "       'MONTHS_LATE'],\n",
       "      dtype='object')"
      ]
     },
     "execution_count": 37,
     "metadata": {},
     "output_type": "execute_result"
    }
   ],
   "source": [
    "df1.columns"
   ]
  },
  {
   "cell_type": "code",
   "execution_count": null,
   "metadata": {},
   "outputs": [],
   "source": []
  },
  {
   "cell_type": "markdown",
   "metadata": {},
   "source": [
    "**Create a dataframe for new data**"
   ]
  },
  {
   "cell_type": "code",
   "execution_count": 38,
   "metadata": {},
   "outputs": [],
   "source": [
    "# create a new dataframe that is indexed like the training dataframe\n",
    "newdata = pd.DataFrame().reindex_like(df1)\n",
    "# replace Nan with 0 for all values in the new dataframe\n",
    "newdata.fillna(value=0, inplace=True)\n",
    "# delete the variable to be predicted; newdata dataframe are the input features\n",
    "del newdata['default']\n",
    "# reduce dataframe to just the first row\n",
    "newdata = newdata.iloc[[1]]"
   ]
  },
  {
   "cell_type": "code",
   "execution_count": 39,
   "metadata": {},
   "outputs": [
    {
     "data": {
      "text/plain": [
       "Index(['SEX', 'SEX_Dummy', 'EDUCATION_Dummy1', 'EDUCATION', 'EDUCATION_Dummy2',\n",
       "       'EDUCATION_Dummy3', 'EDUCATION_Dummy4', 'EDUCATION_Dummy5',\n",
       "       'EDUCATION_Dummy6', 'MARRIAGE_Dummy1', 'MARRIAGE', 'MARRIAGE_Dummy2',\n",
       "       'MARRIAGE_Dummy3', 'AGE', 'LIMIT_BAL', 'BILL_AMT1', 'BILL_AMT2',\n",
       "       'BILL_AMT3', 'BILL_AMT4', 'BILL_AMT5', 'BILL_AMT6', 'PAY_AMT1',\n",
       "       'PAY_AMT2', 'PAY_AMT3', 'PAY_AMT4', 'PAY_AMT5', 'PAY_AMT6',\n",
       "       'MONTHS_LATE'],\n",
       "      dtype='object')"
      ]
     },
     "execution_count": 39,
     "metadata": {},
     "output_type": "execute_result"
    }
   ],
   "source": [
    "newdata.columns"
   ]
  },
  {
   "cell_type": "code",
   "execution_count": 40,
   "metadata": {},
   "outputs": [
    {
     "data": {
      "text/html": [
       "<div>\n",
       "<style scoped>\n",
       "    .dataframe tbody tr th:only-of-type {\n",
       "        vertical-align: middle;\n",
       "    }\n",
       "\n",
       "    .dataframe tbody tr th {\n",
       "        vertical-align: top;\n",
       "    }\n",
       "\n",
       "    .dataframe thead th {\n",
       "        text-align: right;\n",
       "    }\n",
       "</style>\n",
       "<table border=\"1\" class=\"dataframe\">\n",
       "  <thead>\n",
       "    <tr style=\"text-align: right;\">\n",
       "      <th></th>\n",
       "      <th>SEX</th>\n",
       "      <th>SEX_Dummy</th>\n",
       "      <th>EDUCATION_Dummy1</th>\n",
       "      <th>EDUCATION</th>\n",
       "      <th>EDUCATION_Dummy2</th>\n",
       "      <th>EDUCATION_Dummy3</th>\n",
       "      <th>EDUCATION_Dummy4</th>\n",
       "      <th>EDUCATION_Dummy5</th>\n",
       "      <th>EDUCATION_Dummy6</th>\n",
       "      <th>MARRIAGE_Dummy1</th>\n",
       "      <th>...</th>\n",
       "      <th>BILL_AMT4</th>\n",
       "      <th>BILL_AMT5</th>\n",
       "      <th>BILL_AMT6</th>\n",
       "      <th>PAY_AMT1</th>\n",
       "      <th>PAY_AMT2</th>\n",
       "      <th>PAY_AMT3</th>\n",
       "      <th>PAY_AMT4</th>\n",
       "      <th>PAY_AMT5</th>\n",
       "      <th>PAY_AMT6</th>\n",
       "      <th>MONTHS_LATE</th>\n",
       "    </tr>\n",
       "  </thead>\n",
       "  <tbody>\n",
       "    <tr>\n",
       "      <th>1</th>\n",
       "      <td>0.0</td>\n",
       "      <td>0.0</td>\n",
       "      <td>0.0</td>\n",
       "      <td>0.0</td>\n",
       "      <td>0.0</td>\n",
       "      <td>0.0</td>\n",
       "      <td>0.0</td>\n",
       "      <td>0.0</td>\n",
       "      <td>0.0</td>\n",
       "      <td>0.0</td>\n",
       "      <td>...</td>\n",
       "      <td>0.0</td>\n",
       "      <td>0.0</td>\n",
       "      <td>0.0</td>\n",
       "      <td>0.0</td>\n",
       "      <td>0.0</td>\n",
       "      <td>0.0</td>\n",
       "      <td>0.0</td>\n",
       "      <td>0.0</td>\n",
       "      <td>0.0</td>\n",
       "      <td>0.0</td>\n",
       "    </tr>\n",
       "  </tbody>\n",
       "</table>\n",
       "<p>1 rows × 28 columns</p>\n",
       "</div>"
      ],
      "text/plain": [
       "   SEX  SEX_Dummy  EDUCATION_Dummy1  EDUCATION  EDUCATION_Dummy2  \\\n",
       "1  0.0        0.0               0.0        0.0               0.0   \n",
       "\n",
       "   EDUCATION_Dummy3  EDUCATION_Dummy4  EDUCATION_Dummy5  EDUCATION_Dummy6  \\\n",
       "1               0.0               0.0               0.0               0.0   \n",
       "\n",
       "   MARRIAGE_Dummy1  ...  BILL_AMT4  BILL_AMT5  BILL_AMT6  PAY_AMT1  PAY_AMT2  \\\n",
       "1              0.0  ...        0.0        0.0        0.0       0.0       0.0   \n",
       "\n",
       "   PAY_AMT3  PAY_AMT4  PAY_AMT5  PAY_AMT6  MONTHS_LATE  \n",
       "1       0.0       0.0       0.0       0.0          0.0  \n",
       "\n",
       "[1 rows x 28 columns]"
      ]
     },
     "execution_count": 40,
     "metadata": {},
     "output_type": "execute_result"
    }
   ],
   "source": [
    "newdata.head()"
   ]
  },
  {
   "cell_type": "code",
   "execution_count": 41,
   "metadata": {},
   "outputs": [
    {
     "data": {
      "text/plain": [
       "(1, 28)"
      ]
     },
     "execution_count": 41,
     "metadata": {},
     "output_type": "execute_result"
    }
   ],
   "source": [
    "newdata.shape"
   ]
  },
  {
   "cell_type": "code",
   "execution_count": null,
   "metadata": {},
   "outputs": [],
   "source": []
  },
  {
   "cell_type": "markdown",
   "metadata": {},
   "source": [
    "**Insert the new data**"
   ]
  },
  {
   "cell_type": "code",
   "execution_count": 43,
   "metadata": {},
   "outputs": [],
   "source": [
    "# insert the account holder information\n",
    "\n",
    "newdata['SEX'] = 1\n",
    "newdata['SEX_Dummy'] = 0\n",
    "newdata['EDUCATION_Dummy1'] = 0\n",
    "newdata['EDUCATION'] = 1\n",
    "newdata['EDUCATION_Dummy2'] = 0\n",
    "newdata['EDUCATION_Dummy3'] = 0\n",
    "newdata['EDUCATION_Dummy4'] = 0\n",
    "newdata['EDUCATION_Dummy5'] = 0\n",
    "newdata['EDUCATION_Dummy6'] = 0\n",
    "newdata['MARRIAGE_Dummy1'] = 0\n",
    "newdata['MARRIAGE_Dummy2'] = 0\n",
    "newdata['MARRIAGE'] = 1\n",
    "newdata['MARRIAGE_Dummy3'] = 0\n",
    "newdata['AGE'] = 29\n",
    "newdata['LIMIT_BAL'] = 50000\n",
    "newdata['BILL_AMT1'] = 25000\n",
    "newdata['BILL_AMT2'] = 24800\n",
    "newdata['BILL_AMT3'] = 26600\n",
    "newdata['BILL_AMT4'] = 25900\n",
    "newdata['BILL_AMT5'] = 27700\n",
    "newdata['BILL_AMT6'] = 28300\n",
    "newdata['PAY_AMT1'] = 0\n",
    "newdata['PAY_AMT2'] = 2700\n",
    "newdata['PAY_AMT3'] = 0\n",
    "newdata['PAY_AMT4'] = 2225\n",
    "newdata['PAY_AMT5'] = 1200\n",
    "newdata['PAY_AMT6'] = 0\n",
    "newdata['MONTHS_LATE'] = 6"
   ]
  },
  {
   "cell_type": "code",
   "execution_count": 44,
   "metadata": {},
   "outputs": [
    {
     "data": {
      "text/html": [
       "<div>\n",
       "<style scoped>\n",
       "    .dataframe tbody tr th:only-of-type {\n",
       "        vertical-align: middle;\n",
       "    }\n",
       "\n",
       "    .dataframe tbody tr th {\n",
       "        vertical-align: top;\n",
       "    }\n",
       "\n",
       "    .dataframe thead th {\n",
       "        text-align: right;\n",
       "    }\n",
       "</style>\n",
       "<table border=\"1\" class=\"dataframe\">\n",
       "  <thead>\n",
       "    <tr style=\"text-align: right;\">\n",
       "      <th></th>\n",
       "      <th>SEX</th>\n",
       "      <th>SEX_Dummy</th>\n",
       "      <th>EDUCATION_Dummy1</th>\n",
       "      <th>EDUCATION</th>\n",
       "      <th>EDUCATION_Dummy2</th>\n",
       "      <th>EDUCATION_Dummy3</th>\n",
       "      <th>EDUCATION_Dummy4</th>\n",
       "      <th>EDUCATION_Dummy5</th>\n",
       "      <th>EDUCATION_Dummy6</th>\n",
       "      <th>MARRIAGE_Dummy1</th>\n",
       "      <th>...</th>\n",
       "      <th>BILL_AMT4</th>\n",
       "      <th>BILL_AMT5</th>\n",
       "      <th>BILL_AMT6</th>\n",
       "      <th>PAY_AMT1</th>\n",
       "      <th>PAY_AMT2</th>\n",
       "      <th>PAY_AMT3</th>\n",
       "      <th>PAY_AMT4</th>\n",
       "      <th>PAY_AMT5</th>\n",
       "      <th>PAY_AMT6</th>\n",
       "      <th>MONTHS_LATE</th>\n",
       "    </tr>\n",
       "  </thead>\n",
       "  <tbody>\n",
       "    <tr>\n",
       "      <th>1</th>\n",
       "      <td>1</td>\n",
       "      <td>0</td>\n",
       "      <td>0</td>\n",
       "      <td>1</td>\n",
       "      <td>0</td>\n",
       "      <td>0</td>\n",
       "      <td>0</td>\n",
       "      <td>0</td>\n",
       "      <td>0</td>\n",
       "      <td>0</td>\n",
       "      <td>...</td>\n",
       "      <td>25900</td>\n",
       "      <td>27700</td>\n",
       "      <td>28300</td>\n",
       "      <td>0</td>\n",
       "      <td>2700</td>\n",
       "      <td>0</td>\n",
       "      <td>2225</td>\n",
       "      <td>1200</td>\n",
       "      <td>0</td>\n",
       "      <td>6</td>\n",
       "    </tr>\n",
       "  </tbody>\n",
       "</table>\n",
       "<p>1 rows × 28 columns</p>\n",
       "</div>"
      ],
      "text/plain": [
       "   SEX  SEX_Dummy  EDUCATION_Dummy1  EDUCATION  EDUCATION_Dummy2  \\\n",
       "1    1          0                 0          1                 0   \n",
       "\n",
       "   EDUCATION_Dummy3  EDUCATION_Dummy4  EDUCATION_Dummy5  EDUCATION_Dummy6  \\\n",
       "1                 0                 0                 0                 0   \n",
       "\n",
       "   MARRIAGE_Dummy1  ...  BILL_AMT4  BILL_AMT5  BILL_AMT6  PAY_AMT1  PAY_AMT2  \\\n",
       "1                0  ...      25900      27700      28300         0      2700   \n",
       "\n",
       "   PAY_AMT3  PAY_AMT4  PAY_AMT5  PAY_AMT6  MONTHS_LATE  \n",
       "1         0      2225      1200         0            6  \n",
       "\n",
       "[1 rows x 28 columns]"
      ]
     },
     "execution_count": 44,
     "metadata": {},
     "output_type": "execute_result"
    }
   ],
   "source": [
    "newdata.head()"
   ]
  },
  {
   "cell_type": "code",
   "execution_count": null,
   "metadata": {},
   "outputs": [],
   "source": []
  },
  {
   "cell_type": "markdown",
   "metadata": {},
   "source": [
    "**Make the prediction.**"
   ]
  },
  {
   "cell_type": "code",
   "execution_count": 50,
   "metadata": {},
   "outputs": [],
   "source": [
    "prediction = ADASYN.predict(newdata)\n"
   ]
  },
  {
   "cell_type": "code",
   "execution_count": 46,
   "metadata": {},
   "outputs": [
    {
     "name": "stdout",
     "output_type": "stream",
     "text": [
      "[1]\n"
     ]
    }
   ],
   "source": [
    "print(prediction)"
   ]
  },
  {
   "cell_type": "code",
   "execution_count": null,
   "metadata": {},
   "outputs": [],
   "source": []
  },
  {
   "cell_type": "code",
   "execution_count": null,
   "metadata": {},
   "outputs": [],
   "source": []
  },
  {
   "cell_type": "markdown",
   "metadata": {},
   "source": [
    "## Risk Score Model"
   ]
  },
  {
   "cell_type": "markdown",
   "metadata": {},
   "source": [
    "### Source:  Mumtaz, A. (2020, August 13). How to Develop a Credit Risk Model and Scorecard. Retrieved from Towards Data Science: https://towardsdatascience.com/how-to-develop-a-credit-risk-model-and-scorecard-91335fc01f03"
   ]
  },
  {
   "cell_type": "markdown",
   "metadata": {},
   "source": [
    "**Load data and prepare dataframe**"
   ]
  },
  {
   "cell_type": "code",
   "execution_count": 4,
   "metadata": {},
   "outputs": [
    {
     "data": {
      "text/plain": [
       "Index(['default', 'SEX', 'EDUCATION', 'MARRIAGE', 'AGE', 'LIMIT_BAL',\n",
       "       'MONTHS_LATE', 'PAYMENT_RATIO'],\n",
       "      dtype='object')"
      ]
     },
     "execution_count": 4,
     "metadata": {},
     "output_type": "execute_result"
    }
   ],
   "source": [
    "df2.columns"
   ]
  },
  {
   "cell_type": "code",
   "execution_count": 5,
   "metadata": {},
   "outputs": [
    {
     "data": {
      "text/html": [
       "<div>\n",
       "<style scoped>\n",
       "    .dataframe tbody tr th:only-of-type {\n",
       "        vertical-align: middle;\n",
       "    }\n",
       "\n",
       "    .dataframe tbody tr th {\n",
       "        vertical-align: top;\n",
       "    }\n",
       "\n",
       "    .dataframe thead th {\n",
       "        text-align: right;\n",
       "    }\n",
       "</style>\n",
       "<table border=\"1\" class=\"dataframe\">\n",
       "  <thead>\n",
       "    <tr style=\"text-align: right;\">\n",
       "      <th></th>\n",
       "      <th>default</th>\n",
       "      <th>SEX</th>\n",
       "      <th>EDUCATION</th>\n",
       "      <th>MARRIAGE</th>\n",
       "      <th>AGE</th>\n",
       "      <th>LIMIT_BAL</th>\n",
       "      <th>MONTHS_LATE</th>\n",
       "      <th>PAYMENT_RATIO</th>\n",
       "    </tr>\n",
       "  </thead>\n",
       "  <tbody>\n",
       "    <tr>\n",
       "      <th>0</th>\n",
       "      <td>1</td>\n",
       "      <td>1</td>\n",
       "      <td>1</td>\n",
       "      <td>2</td>\n",
       "      <td>3.401197</td>\n",
       "      <td>10.819798</td>\n",
       "      <td>1.94591</td>\n",
       "      <td>0.038110</td>\n",
       "    </tr>\n",
       "    <tr>\n",
       "      <th>1</th>\n",
       "      <td>1</td>\n",
       "      <td>1</td>\n",
       "      <td>2</td>\n",
       "      <td>2</td>\n",
       "      <td>3.401197</td>\n",
       "      <td>12.676079</td>\n",
       "      <td>1.94591</td>\n",
       "      <td>0.037397</td>\n",
       "    </tr>\n",
       "    <tr>\n",
       "      <th>2</th>\n",
       "      <td>1</td>\n",
       "      <td>1</td>\n",
       "      <td>1</td>\n",
       "      <td>1</td>\n",
       "      <td>3.988984</td>\n",
       "      <td>12.206078</td>\n",
       "      <td>1.94591</td>\n",
       "      <td>0.037338</td>\n",
       "    </tr>\n",
       "    <tr>\n",
       "      <th>3</th>\n",
       "      <td>0</td>\n",
       "      <td>2</td>\n",
       "      <td>2</td>\n",
       "      <td>2</td>\n",
       "      <td>3.295837</td>\n",
       "      <td>11.002117</td>\n",
       "      <td>1.94591</td>\n",
       "      <td>0.038758</td>\n",
       "    </tr>\n",
       "    <tr>\n",
       "      <th>4</th>\n",
       "      <td>0</td>\n",
       "      <td>1</td>\n",
       "      <td>2</td>\n",
       "      <td>1</td>\n",
       "      <td>3.737670</td>\n",
       "      <td>12.542548</td>\n",
       "      <td>1.94591</td>\n",
       "      <td>0.046396</td>\n",
       "    </tr>\n",
       "  </tbody>\n",
       "</table>\n",
       "</div>"
      ],
      "text/plain": [
       "   default  SEX  EDUCATION  MARRIAGE       AGE  LIMIT_BAL  MONTHS_LATE  \\\n",
       "0        1    1          1         2  3.401197  10.819798      1.94591   \n",
       "1        1    1          2         2  3.401197  12.676079      1.94591   \n",
       "2        1    1          1         1  3.988984  12.206078      1.94591   \n",
       "3        0    2          2         2  3.295837  11.002117      1.94591   \n",
       "4        0    1          2         1  3.737670  12.542548      1.94591   \n",
       "\n",
       "   PAYMENT_RATIO  \n",
       "0       0.038110  \n",
       "1       0.037397  \n",
       "2       0.037338  \n",
       "3       0.038758  \n",
       "4       0.046396  "
      ]
     },
     "execution_count": 5,
     "metadata": {},
     "output_type": "execute_result"
    }
   ],
   "source": [
    "df2.head()"
   ]
  },
  {
   "cell_type": "code",
   "execution_count": 6,
   "metadata": {},
   "outputs": [
    {
     "data": {
      "text/plain": [
       "0    22811\n",
       "1     6319\n",
       "Name: default, dtype: int64"
      ]
     },
     "execution_count": 6,
     "metadata": {},
     "output_type": "execute_result"
    }
   ],
   "source": [
    "df2['default'].value_counts()"
   ]
  },
  {
   "cell_type": "code",
   "execution_count": null,
   "metadata": {},
   "outputs": [],
   "source": []
  },
  {
   "cell_type": "markdown",
   "metadata": {},
   "source": [
    "**Need to flip the 1 and 0's for the target as functions assume 1 is a good result.**"
   ]
  },
  {
   "cell_type": "code",
   "execution_count": 7,
   "metadata": {},
   "outputs": [],
   "source": [
    "\n",
    "df2['revDefault'] = df2.apply(lambda x: (1 if x['default']==0 else 0), axis=1)"
   ]
  },
  {
   "cell_type": "code",
   "execution_count": 8,
   "metadata": {},
   "outputs": [
    {
     "data": {
      "text/html": [
       "<div>\n",
       "<style scoped>\n",
       "    .dataframe tbody tr th:only-of-type {\n",
       "        vertical-align: middle;\n",
       "    }\n",
       "\n",
       "    .dataframe tbody tr th {\n",
       "        vertical-align: top;\n",
       "    }\n",
       "\n",
       "    .dataframe thead th {\n",
       "        text-align: right;\n",
       "    }\n",
       "</style>\n",
       "<table border=\"1\" class=\"dataframe\">\n",
       "  <thead>\n",
       "    <tr style=\"text-align: right;\">\n",
       "      <th></th>\n",
       "      <th>default</th>\n",
       "      <th>SEX</th>\n",
       "      <th>EDUCATION</th>\n",
       "      <th>MARRIAGE</th>\n",
       "      <th>AGE</th>\n",
       "      <th>LIMIT_BAL</th>\n",
       "      <th>MONTHS_LATE</th>\n",
       "      <th>PAYMENT_RATIO</th>\n",
       "      <th>revDefault</th>\n",
       "    </tr>\n",
       "  </thead>\n",
       "  <tbody>\n",
       "    <tr>\n",
       "      <th>0</th>\n",
       "      <td>1</td>\n",
       "      <td>1</td>\n",
       "      <td>1</td>\n",
       "      <td>2</td>\n",
       "      <td>3.401197</td>\n",
       "      <td>10.819798</td>\n",
       "      <td>1.94591</td>\n",
       "      <td>0.038110</td>\n",
       "      <td>0</td>\n",
       "    </tr>\n",
       "    <tr>\n",
       "      <th>1</th>\n",
       "      <td>1</td>\n",
       "      <td>1</td>\n",
       "      <td>2</td>\n",
       "      <td>2</td>\n",
       "      <td>3.401197</td>\n",
       "      <td>12.676079</td>\n",
       "      <td>1.94591</td>\n",
       "      <td>0.037397</td>\n",
       "      <td>0</td>\n",
       "    </tr>\n",
       "    <tr>\n",
       "      <th>2</th>\n",
       "      <td>1</td>\n",
       "      <td>1</td>\n",
       "      <td>1</td>\n",
       "      <td>1</td>\n",
       "      <td>3.988984</td>\n",
       "      <td>12.206078</td>\n",
       "      <td>1.94591</td>\n",
       "      <td>0.037338</td>\n",
       "      <td>0</td>\n",
       "    </tr>\n",
       "    <tr>\n",
       "      <th>3</th>\n",
       "      <td>0</td>\n",
       "      <td>2</td>\n",
       "      <td>2</td>\n",
       "      <td>2</td>\n",
       "      <td>3.295837</td>\n",
       "      <td>11.002117</td>\n",
       "      <td>1.94591</td>\n",
       "      <td>0.038758</td>\n",
       "      <td>1</td>\n",
       "    </tr>\n",
       "    <tr>\n",
       "      <th>4</th>\n",
       "      <td>0</td>\n",
       "      <td>1</td>\n",
       "      <td>2</td>\n",
       "      <td>1</td>\n",
       "      <td>3.737670</td>\n",
       "      <td>12.542548</td>\n",
       "      <td>1.94591</td>\n",
       "      <td>0.046396</td>\n",
       "      <td>1</td>\n",
       "    </tr>\n",
       "  </tbody>\n",
       "</table>\n",
       "</div>"
      ],
      "text/plain": [
       "   default  SEX  EDUCATION  MARRIAGE       AGE  LIMIT_BAL  MONTHS_LATE  \\\n",
       "0        1    1          1         2  3.401197  10.819798      1.94591   \n",
       "1        1    1          2         2  3.401197  12.676079      1.94591   \n",
       "2        1    1          1         1  3.988984  12.206078      1.94591   \n",
       "3        0    2          2         2  3.295837  11.002117      1.94591   \n",
       "4        0    1          2         1  3.737670  12.542548      1.94591   \n",
       "\n",
       "   PAYMENT_RATIO  revDefault  \n",
       "0       0.038110           0  \n",
       "1       0.037397           0  \n",
       "2       0.037338           0  \n",
       "3       0.038758           1  \n",
       "4       0.046396           1  "
      ]
     },
     "execution_count": 8,
     "metadata": {},
     "output_type": "execute_result"
    }
   ],
   "source": [
    "df2.head()"
   ]
  },
  {
   "cell_type": "code",
   "execution_count": 9,
   "metadata": {},
   "outputs": [
    {
     "data": {
      "text/plain": [
       "1    22811\n",
       "0     6319\n",
       "Name: revDefault, dtype: int64"
      ]
     },
     "execution_count": 9,
     "metadata": {},
     "output_type": "execute_result"
    }
   ],
   "source": [
    "df2['revDefault'].value_counts()"
   ]
  },
  {
   "cell_type": "code",
   "execution_count": 10,
   "metadata": {},
   "outputs": [],
   "source": [
    "# separate into input and output columns (X variable for features and y for target variables)\n",
    "\n",
    "X = df2.drop(['default', 'SEX', 'EDUCATION', 'MARRIAGE', 'AGE', 'revDefault'],  axis = 1)\n",
    "y = df2['revDefault']"
   ]
  },
  {
   "cell_type": "code",
   "execution_count": null,
   "metadata": {},
   "outputs": [],
   "source": []
  },
  {
   "cell_type": "code",
   "execution_count": 11,
   "metadata": {},
   "outputs": [],
   "source": [
    "# separate data into training and test data\n",
    "X_train, X_test, y_train, y_test = train_test_split(X, y, test_size =0.2, random_state=1, stratify = y)"
   ]
  },
  {
   "cell_type": "code",
   "execution_count": null,
   "metadata": {},
   "outputs": [],
   "source": []
  },
  {
   "cell_type": "markdown",
   "metadata": {},
   "source": [
    "## WoE Binning/Feature Engineering"
   ]
  },
  {
   "cell_type": "markdown",
   "metadata": {},
   "source": [
    "Analyze numerical features based on their binned WoEs and IVs and then combine some of these binned categories together through a custom Python Class with fit_transform method."
   ]
  },
  {
   "cell_type": "code",
   "execution_count": 12,
   "metadata": {},
   "outputs": [],
   "source": [
    "# Create copies of the 4 training sets to be preprocessed using WoE\n",
    "X_train_prepr = X_train.copy()\n",
    "y_train_prepr = y_train.copy()\n",
    "X_test_prepr = X_test.copy()\n",
    "y_test_prepr = y_test.copy()"
   ]
  },
  {
   "cell_type": "code",
   "execution_count": null,
   "metadata": {},
   "outputs": [],
   "source": []
  },
  {
   "cell_type": "markdown",
   "metadata": {},
   "source": [
    "### Analyze WoEs and IVs of numeric features"
   ]
  },
  {
   "cell_type": "code",
   "execution_count": 13,
   "metadata": {},
   "outputs": [],
   "source": [
    "# Define a function to calculate WoE of continuous variables. The function takes 3 arguments: a dataframe (X_train_prepr), \n",
    "# a string (column name), and a dataframe (y_train_prepr).\n",
    "# The function returns a dataframe as a result.\n",
    " \n",
    "def woe_ordered_continuous(df, continuous_variabe_name, y_df):\n",
    "    df = pd.concat([df[continuous_variabe_name], y_df], axis = 1)\n",
    "    df = pd.concat([df.groupby(df.columns.values[0], as_index = False)[df.columns.values[1]].count(),\n",
    "                    df.groupby(df.columns.values[0], as_index = False)[df.columns.values[1]].mean()], axis = 1)\n",
    "    df = df.iloc[:, [0, 1, 3]]\n",
    "    df.columns = [df.columns.values[0], 'n_obs', 'prop_good']\n",
    "    df['prop_n_obs'] = df['n_obs'] / df['n_obs'].sum()\n",
    "    df['n_good'] = df['prop_good'] * df['n_obs']\n",
    "    df['n_bad'] = (1 - df['prop_good']) * df['n_obs']\n",
    "    df['prop_n_good'] = df['n_good'] / df['n_good'].sum()\n",
    "    df['prop_n_bad'] = df['n_bad'] / df['n_bad'].sum()\n",
    "    df['WoE'] = np.log(df['prop_n_good'] / df['prop_n_bad'])\n",
    "    #df = df.sort_values(['WoE']) # this only for categorical vars\n",
    "    #df = df.reset_index(drop = True) # this only for categorical vars\n",
    "    df['diff_prop_good'] = df['prop_good'].diff().abs()\n",
    "    df['diff_WoE'] = df['WoE'].diff().abs()\n",
    "    df['IV'] = (df['prop_n_good'] - df['prop_n_bad']) * df['WoE']\n",
    "    df['IV'] = df['IV'].sum()\n",
    "    return df"
   ]
  },
  {
   "cell_type": "code",
   "execution_count": 14,
   "metadata": {},
   "outputs": [],
   "source": [
    "# set the default style of the graphs to the seaborn style. \n",
    "sns.set()\n",
    "# Function for plotting WoE across categories that takes 2 arguments: a dataframe and a number.\n",
    "def plot_by_woe(df_WoE, rotation_of_x_axis_labels = 0):\n",
    "    x = np.array(df_WoE.iloc[:, 0].apply(str))\n",
    "    y = df_WoE['WoE']\n",
    "    plt.figure(figsize=(18, 6))\n",
    "    plt.plot(x, y, marker = 'o', linestyle = '--', color = 'k')\n",
    "    plt.xlabel(df_WoE.columns[0])\n",
    "    plt.ylabel('Weight of Evidence')\n",
    "    plt.title(str('Weight of Evidence by ' + df_WoE.columns[0]))\n",
    "    plt.xticks(rotation = rotation_of_x_axis_labels)"
   ]
  },
  {
   "cell_type": "markdown",
   "metadata": {},
   "source": [
    "**MONTHS_LATE**"
   ]
  },
  {
   "cell_type": "code",
   "execution_count": 15,
   "metadata": {},
   "outputs": [
    {
     "data": {
      "text/html": [
       "<div>\n",
       "<style scoped>\n",
       "    .dataframe tbody tr th:only-of-type {\n",
       "        vertical-align: middle;\n",
       "    }\n",
       "\n",
       "    .dataframe tbody tr th {\n",
       "        vertical-align: top;\n",
       "    }\n",
       "\n",
       "    .dataframe thead th {\n",
       "        text-align: right;\n",
       "    }\n",
       "</style>\n",
       "<table border=\"1\" class=\"dataframe\">\n",
       "  <thead>\n",
       "    <tr style=\"text-align: right;\">\n",
       "      <th></th>\n",
       "      <th>MONTHS_LATE</th>\n",
       "      <th>n_obs</th>\n",
       "      <th>prop_good</th>\n",
       "      <th>prop_n_obs</th>\n",
       "      <th>n_good</th>\n",
       "      <th>n_bad</th>\n",
       "      <th>prop_n_good</th>\n",
       "      <th>prop_n_bad</th>\n",
       "      <th>WoE</th>\n",
       "      <th>diff_prop_good</th>\n",
       "      <th>diff_WoE</th>\n",
       "      <th>IV</th>\n",
       "    </tr>\n",
       "  </thead>\n",
       "  <tbody>\n",
       "    <tr>\n",
       "      <th>0</th>\n",
       "      <td>0.000000</td>\n",
       "      <td>15680</td>\n",
       "      <td>0.887564</td>\n",
       "      <td>0.672846</td>\n",
       "      <td>13917.0</td>\n",
       "      <td>1763.0</td>\n",
       "      <td>0.762617</td>\n",
       "      <td>0.348764</td>\n",
       "      <td>0.782362</td>\n",
       "      <td>NaN</td>\n",
       "      <td>NaN</td>\n",
       "      <td>0.965219</td>\n",
       "    </tr>\n",
       "    <tr>\n",
       "      <th>1</th>\n",
       "      <td>0.693147</td>\n",
       "      <td>1290</td>\n",
       "      <td>0.820155</td>\n",
       "      <td>0.055355</td>\n",
       "      <td>1058.0</td>\n",
       "      <td>232.0</td>\n",
       "      <td>0.057976</td>\n",
       "      <td>0.045895</td>\n",
       "      <td>0.233666</td>\n",
       "      <td>0.067409</td>\n",
       "      <td>0.548696</td>\n",
       "      <td>0.965219</td>\n",
       "    </tr>\n",
       "    <tr>\n",
       "      <th>2</th>\n",
       "      <td>1.098612</td>\n",
       "      <td>2423</td>\n",
       "      <td>0.628972</td>\n",
       "      <td>0.103974</td>\n",
       "      <td>1524.0</td>\n",
       "      <td>899.0</td>\n",
       "      <td>0.083511</td>\n",
       "      <td>0.177844</td>\n",
       "      <td>-0.755922</td>\n",
       "      <td>0.191183</td>\n",
       "      <td>0.989588</td>\n",
       "      <td>0.965219</td>\n",
       "    </tr>\n",
       "    <tr>\n",
       "      <th>3</th>\n",
       "      <td>1.386294</td>\n",
       "      <td>1189</td>\n",
       "      <td>0.624054</td>\n",
       "      <td>0.051021</td>\n",
       "      <td>742.0</td>\n",
       "      <td>447.0</td>\n",
       "      <td>0.040660</td>\n",
       "      <td>0.088427</td>\n",
       "      <td>-0.776942</td>\n",
       "      <td>0.004919</td>\n",
       "      <td>0.021020</td>\n",
       "      <td>0.965219</td>\n",
       "    </tr>\n",
       "    <tr>\n",
       "      <th>4</th>\n",
       "      <td>1.609438</td>\n",
       "      <td>947</td>\n",
       "      <td>0.418163</td>\n",
       "      <td>0.040637</td>\n",
       "      <td>396.0</td>\n",
       "      <td>551.0</td>\n",
       "      <td>0.021700</td>\n",
       "      <td>0.109001</td>\n",
       "      <td>-1.614053</td>\n",
       "      <td>0.205891</td>\n",
       "      <td>0.837111</td>\n",
       "      <td>0.965219</td>\n",
       "    </tr>\n",
       "    <tr>\n",
       "      <th>5</th>\n",
       "      <td>1.791759</td>\n",
       "      <td>547</td>\n",
       "      <td>0.444241</td>\n",
       "      <td>0.023472</td>\n",
       "      <td>243.0</td>\n",
       "      <td>304.0</td>\n",
       "      <td>0.013316</td>\n",
       "      <td>0.060138</td>\n",
       "      <td>-1.507699</td>\n",
       "      <td>0.026079</td>\n",
       "      <td>0.106354</td>\n",
       "      <td>0.965219</td>\n",
       "    </tr>\n",
       "    <tr>\n",
       "      <th>6</th>\n",
       "      <td>1.945910</td>\n",
       "      <td>1228</td>\n",
       "      <td>0.300489</td>\n",
       "      <td>0.052695</td>\n",
       "      <td>369.0</td>\n",
       "      <td>859.0</td>\n",
       "      <td>0.020220</td>\n",
       "      <td>0.169931</td>\n",
       "      <td>-2.128705</td>\n",
       "      <td>0.143753</td>\n",
       "      <td>0.621006</td>\n",
       "      <td>0.965219</td>\n",
       "    </tr>\n",
       "  </tbody>\n",
       "</table>\n",
       "</div>"
      ],
      "text/plain": [
       "   MONTHS_LATE  n_obs  prop_good  prop_n_obs   n_good   n_bad  prop_n_good  \\\n",
       "0     0.000000  15680   0.887564    0.672846  13917.0  1763.0     0.762617   \n",
       "1     0.693147   1290   0.820155    0.055355   1058.0   232.0     0.057976   \n",
       "2     1.098612   2423   0.628972    0.103974   1524.0   899.0     0.083511   \n",
       "3     1.386294   1189   0.624054    0.051021    742.0   447.0     0.040660   \n",
       "4     1.609438    947   0.418163    0.040637    396.0   551.0     0.021700   \n",
       "5     1.791759    547   0.444241    0.023472    243.0   304.0     0.013316   \n",
       "6     1.945910   1228   0.300489    0.052695    369.0   859.0     0.020220   \n",
       "\n",
       "   prop_n_bad       WoE  diff_prop_good  diff_WoE        IV  \n",
       "0    0.348764  0.782362             NaN       NaN  0.965219  \n",
       "1    0.045895  0.233666        0.067409  0.548696  0.965219  \n",
       "2    0.177844 -0.755922        0.191183  0.989588  0.965219  \n",
       "3    0.088427 -0.776942        0.004919  0.021020  0.965219  \n",
       "4    0.109001 -1.614053        0.205891  0.837111  0.965219  \n",
       "5    0.060138 -1.507699        0.026079  0.106354  0.965219  \n",
       "6    0.169931 -2.128705        0.143753  0.621006  0.965219  "
      ]
     },
     "execution_count": 15,
     "metadata": {},
     "output_type": "execute_result"
    }
   ],
   "source": [
    "df_temp = woe_ordered_continuous(X_train_prepr, 'MONTHS_LATE', y_train_prepr)\n",
    "df_temp"
   ]
  },
  {
   "cell_type": "code",
   "execution_count": 16,
   "metadata": {},
   "outputs": [
    {
     "data": {
      "image/png": "[encoded data removed]",
      "text/plain": [
       "<Figure size 1296x432 with 1 Axes>"
      ]
     },
     "metadata": {},
     "output_type": "display_data"
    }
   ],
   "source": [
    "plot_by_woe(df_temp)"
   ]
  },
  {
   "cell_type": "markdown",
   "metadata": {},
   "source": [
    "**PAYMENT_RATIO**"
   ]
  },
  {
   "cell_type": "code",
   "execution_count": 17,
   "metadata": {},
   "outputs": [
    {
     "data": {
      "text/html": [
       "<div>\n",
       "<style scoped>\n",
       "    .dataframe tbody tr th:only-of-type {\n",
       "        vertical-align: middle;\n",
       "    }\n",
       "\n",
       "    .dataframe tbody tr th {\n",
       "        vertical-align: top;\n",
       "    }\n",
       "\n",
       "    .dataframe thead th {\n",
       "        text-align: right;\n",
       "    }\n",
       "</style>\n",
       "<table border=\"1\" class=\"dataframe\">\n",
       "  <thead>\n",
       "    <tr style=\"text-align: right;\">\n",
       "      <th></th>\n",
       "      <th>PAYMENT_RATIO</th>\n",
       "      <th>n_obs</th>\n",
       "      <th>prop_good</th>\n",
       "      <th>prop_n_obs</th>\n",
       "      <th>n_good</th>\n",
       "      <th>n_bad</th>\n",
       "      <th>prop_n_good</th>\n",
       "      <th>prop_n_bad</th>\n",
       "      <th>WoE</th>\n",
       "      <th>diff_prop_good</th>\n",
       "      <th>diff_WoE</th>\n",
       "      <th>IV</th>\n",
       "    </tr>\n",
       "  </thead>\n",
       "  <tbody>\n",
       "    <tr>\n",
       "      <th>0</th>\n",
       "      <td>(-0.00668, 0.955]</td>\n",
       "      <td>22677</td>\n",
       "      <td>0.781453</td>\n",
       "      <td>0.973095</td>\n",
       "      <td>17721.0</td>\n",
       "      <td>4956.0</td>\n",
       "      <td>0.971067</td>\n",
       "      <td>0.980415</td>\n",
       "      <td>-0.009581</td>\n",
       "      <td>NaN</td>\n",
       "      <td>NaN</td>\n",
       "      <td>0.004242</td>\n",
       "    </tr>\n",
       "    <tr>\n",
       "      <th>1</th>\n",
       "      <td>(0.955, 1.909]</td>\n",
       "      <td>489</td>\n",
       "      <td>0.848671</td>\n",
       "      <td>0.020984</td>\n",
       "      <td>415.0</td>\n",
       "      <td>74.0</td>\n",
       "      <td>0.022741</td>\n",
       "      <td>0.014639</td>\n",
       "      <td>0.440481</td>\n",
       "      <td>0.067218</td>\n",
       "      <td>0.450062</td>\n",
       "      <td>0.004242</td>\n",
       "    </tr>\n",
       "    <tr>\n",
       "      <th>2</th>\n",
       "      <td>(1.909, 2.864]</td>\n",
       "      <td>92</td>\n",
       "      <td>0.836957</td>\n",
       "      <td>0.003948</td>\n",
       "      <td>77.0</td>\n",
       "      <td>15.0</td>\n",
       "      <td>0.004219</td>\n",
       "      <td>0.002967</td>\n",
       "      <td>0.352023</td>\n",
       "      <td>0.011714</td>\n",
       "      <td>0.088458</td>\n",
       "      <td>0.004242</td>\n",
       "    </tr>\n",
       "    <tr>\n",
       "      <th>3</th>\n",
       "      <td>(2.864, 3.818]</td>\n",
       "      <td>27</td>\n",
       "      <td>0.814815</td>\n",
       "      <td>0.001159</td>\n",
       "      <td>22.0</td>\n",
       "      <td>5.0</td>\n",
       "      <td>0.001206</td>\n",
       "      <td>0.000989</td>\n",
       "      <td>0.197872</td>\n",
       "      <td>0.022142</td>\n",
       "      <td>0.154151</td>\n",
       "      <td>0.004242</td>\n",
       "    </tr>\n",
       "    <tr>\n",
       "      <th>4</th>\n",
       "      <td>(3.818, 4.773]</td>\n",
       "      <td>10</td>\n",
       "      <td>0.700000</td>\n",
       "      <td>0.000429</td>\n",
       "      <td>7.0</td>\n",
       "      <td>3.0</td>\n",
       "      <td>0.000384</td>\n",
       "      <td>0.000593</td>\n",
       "      <td>-0.436435</td>\n",
       "      <td>0.114815</td>\n",
       "      <td>0.634307</td>\n",
       "      <td>0.004242</td>\n",
       "    </tr>\n",
       "    <tr>\n",
       "      <th>5</th>\n",
       "      <td>(4.773, 5.728]</td>\n",
       "      <td>5</td>\n",
       "      <td>0.800000</td>\n",
       "      <td>0.000215</td>\n",
       "      <td>4.0</td>\n",
       "      <td>1.0</td>\n",
       "      <td>0.000219</td>\n",
       "      <td>0.000198</td>\n",
       "      <td>0.102562</td>\n",
       "      <td>0.100000</td>\n",
       "      <td>0.538997</td>\n",
       "      <td>0.004242</td>\n",
       "    </tr>\n",
       "    <tr>\n",
       "      <th>6</th>\n",
       "      <td>(5.728, 6.682]</td>\n",
       "      <td>4</td>\n",
       "      <td>0.750000</td>\n",
       "      <td>0.000172</td>\n",
       "      <td>3.0</td>\n",
       "      <td>1.0</td>\n",
       "      <td>0.000164</td>\n",
       "      <td>0.000198</td>\n",
       "      <td>-0.185120</td>\n",
       "      <td>0.050000</td>\n",
       "      <td>0.287682</td>\n",
       "      <td>0.004242</td>\n",
       "    </tr>\n",
       "  </tbody>\n",
       "</table>\n",
       "</div>"
      ],
      "text/plain": [
       "       PAYMENT_RATIO  n_obs  prop_good  prop_n_obs   n_good   n_bad  \\\n",
       "0  (-0.00668, 0.955]  22677   0.781453    0.973095  17721.0  4956.0   \n",
       "1     (0.955, 1.909]    489   0.848671    0.020984    415.0    74.0   \n",
       "2     (1.909, 2.864]     92   0.836957    0.003948     77.0    15.0   \n",
       "3     (2.864, 3.818]     27   0.814815    0.001159     22.0     5.0   \n",
       "4     (3.818, 4.773]     10   0.700000    0.000429      7.0     3.0   \n",
       "5     (4.773, 5.728]      5   0.800000    0.000215      4.0     1.0   \n",
       "6     (5.728, 6.682]      4   0.750000    0.000172      3.0     1.0   \n",
       "\n",
       "   prop_n_good  prop_n_bad       WoE  diff_prop_good  diff_WoE        IV  \n",
       "0     0.971067    0.980415 -0.009581             NaN       NaN  0.004242  \n",
       "1     0.022741    0.014639  0.440481        0.067218  0.450062  0.004242  \n",
       "2     0.004219    0.002967  0.352023        0.011714  0.088458  0.004242  \n",
       "3     0.001206    0.000989  0.197872        0.022142  0.154151  0.004242  \n",
       "4     0.000384    0.000593 -0.436435        0.114815  0.634307  0.004242  \n",
       "5     0.000219    0.000198  0.102562        0.100000  0.538997  0.004242  \n",
       "6     0.000164    0.000198 -0.185120        0.050000  0.287682  0.004242  "
      ]
     },
     "execution_count": 17,
     "metadata": {},
     "output_type": "execute_result"
    }
   ],
   "source": [
    "\n",
    "\n",
    "# fine-classing using the 'cut' method, given the large number of unique values\n",
    "X_train_prepr['PAYMENT_RATIO'] = pd.cut(X_train_prepr['PAYMENT_RATIO'], 7)\n",
    "# Process 'int_rate_factor' column through woe_ordered_continuous and plot_by_woe functions\n",
    "df_temp = woe_ordered_continuous(X_train_prepr, 'PAYMENT_RATIO', y_train_prepr)\n",
    "df_temp"
   ]
  },
  {
   "cell_type": "code",
   "execution_count": 18,
   "metadata": {},
   "outputs": [
    {
     "data": {
      "image/png": "[encoded data removed]",
      "text/plain": [
       "<Figure size 1296x432 with 1 Axes>"
      ]
     },
     "metadata": {},
     "output_type": "display_data"
    }
   ],
   "source": [
    "plot_by_woe(df_temp)"
   ]
  },
  {
   "cell_type": "code",
   "execution_count": 18,
   "metadata": {},
   "outputs": [
    {
     "data": {
      "text/plain": [
       "(23304, 3)"
      ]
     },
     "execution_count": 18,
     "metadata": {},
     "output_type": "execute_result"
    }
   ],
   "source": [
    "X_train.shape"
   ]
  },
  {
   "cell_type": "markdown",
   "metadata": {},
   "source": [
    "**LIMIT_BALANCE**"
   ]
  },
  {
   "cell_type": "code",
   "execution_count": 19,
   "metadata": {},
   "outputs": [
    {
     "data": {
      "text/html": [
       "<div>\n",
       "<style scoped>\n",
       "    .dataframe tbody tr th:only-of-type {\n",
       "        vertical-align: middle;\n",
       "    }\n",
       "\n",
       "    .dataframe tbody tr th {\n",
       "        vertical-align: top;\n",
       "    }\n",
       "\n",
       "    .dataframe thead th {\n",
       "        text-align: right;\n",
       "    }\n",
       "</style>\n",
       "<table border=\"1\" class=\"dataframe\">\n",
       "  <thead>\n",
       "    <tr style=\"text-align: right;\">\n",
       "      <th></th>\n",
       "      <th>LIMIT_BAL</th>\n",
       "      <th>n_obs</th>\n",
       "      <th>prop_good</th>\n",
       "      <th>prop_n_obs</th>\n",
       "      <th>n_good</th>\n",
       "      <th>n_bad</th>\n",
       "      <th>prop_n_good</th>\n",
       "      <th>prop_n_bad</th>\n",
       "      <th>WoE</th>\n",
       "      <th>diff_prop_good</th>\n",
       "      <th>diff_WoE</th>\n",
       "      <th>IV</th>\n",
       "    </tr>\n",
       "  </thead>\n",
       "  <tbody>\n",
       "    <tr>\n",
       "      <th>0</th>\n",
       "      <td>(9.206, 10.131]</td>\n",
       "      <td>1955</td>\n",
       "      <td>0.632737</td>\n",
       "      <td>0.083891</td>\n",
       "      <td>1237.0</td>\n",
       "      <td>718.0</td>\n",
       "      <td>0.067785</td>\n",
       "      <td>0.142038</td>\n",
       "      <td>-0.739758</td>\n",
       "      <td>NaN</td>\n",
       "      <td>NaN</td>\n",
       "      <td>0.199189</td>\n",
       "    </tr>\n",
       "    <tr>\n",
       "      <th>1</th>\n",
       "      <td>(10.131, 11.052]</td>\n",
       "      <td>4790</td>\n",
       "      <td>0.701879</td>\n",
       "      <td>0.205544</td>\n",
       "      <td>3362.0</td>\n",
       "      <td>1428.0</td>\n",
       "      <td>0.184229</td>\n",
       "      <td>0.282493</td>\n",
       "      <td>-0.427471</td>\n",
       "      <td>0.069142</td>\n",
       "      <td>0.312286</td>\n",
       "      <td>0.199189</td>\n",
       "    </tr>\n",
       "    <tr>\n",
       "      <th>2</th>\n",
       "      <td>(11.052, 11.973]</td>\n",
       "      <td>6144</td>\n",
       "      <td>0.772135</td>\n",
       "      <td>0.263646</td>\n",
       "      <td>4744.0</td>\n",
       "      <td>1400.0</td>\n",
       "      <td>0.259959</td>\n",
       "      <td>0.276954</td>\n",
       "      <td>-0.063324</td>\n",
       "      <td>0.070257</td>\n",
       "      <td>0.364147</td>\n",
       "      <td>0.199189</td>\n",
       "    </tr>\n",
       "    <tr>\n",
       "      <th>3</th>\n",
       "      <td>(11.973, 12.894]</td>\n",
       "      <td>8801</td>\n",
       "      <td>0.847972</td>\n",
       "      <td>0.377660</td>\n",
       "      <td>7463.0</td>\n",
       "      <td>1338.0</td>\n",
       "      <td>0.408954</td>\n",
       "      <td>0.264688</td>\n",
       "      <td>0.435049</td>\n",
       "      <td>0.075836</td>\n",
       "      <td>0.498373</td>\n",
       "      <td>0.199189</td>\n",
       "    </tr>\n",
       "    <tr>\n",
       "      <th>4</th>\n",
       "      <td>(12.894, 13.816]</td>\n",
       "      <td>1614</td>\n",
       "      <td>0.894052</td>\n",
       "      <td>0.069258</td>\n",
       "      <td>1443.0</td>\n",
       "      <td>171.0</td>\n",
       "      <td>0.079073</td>\n",
       "      <td>0.033828</td>\n",
       "      <td>0.849084</td>\n",
       "      <td>0.046080</td>\n",
       "      <td>0.414034</td>\n",
       "      <td>0.199189</td>\n",
       "    </tr>\n",
       "  </tbody>\n",
       "</table>\n",
       "</div>"
      ],
      "text/plain": [
       "          LIMIT_BAL  n_obs  prop_good  prop_n_obs  n_good   n_bad  \\\n",
       "0   (9.206, 10.131]   1955   0.632737    0.083891  1237.0   718.0   \n",
       "1  (10.131, 11.052]   4790   0.701879    0.205544  3362.0  1428.0   \n",
       "2  (11.052, 11.973]   6144   0.772135    0.263646  4744.0  1400.0   \n",
       "3  (11.973, 12.894]   8801   0.847972    0.377660  7463.0  1338.0   \n",
       "4  (12.894, 13.816]   1614   0.894052    0.069258  1443.0   171.0   \n",
       "\n",
       "   prop_n_good  prop_n_bad       WoE  diff_prop_good  diff_WoE        IV  \n",
       "0     0.067785    0.142038 -0.739758             NaN       NaN  0.199189  \n",
       "1     0.184229    0.282493 -0.427471        0.069142  0.312286  0.199189  \n",
       "2     0.259959    0.276954 -0.063324        0.070257  0.364147  0.199189  \n",
       "3     0.408954    0.264688  0.435049        0.075836  0.498373  0.199189  \n",
       "4     0.079073    0.033828  0.849084        0.046080  0.414034  0.199189  "
      ]
     },
     "execution_count": 19,
     "metadata": {},
     "output_type": "execute_result"
    }
   ],
   "source": [
    "# fine-classing using the 'cut' method, given the large number of unique values\n",
    "X_train_prepr['LIMIT_BAL'] = pd.cut(X_train_prepr['LIMIT_BAL'], 5)\n",
    "# Process 'int_rate_factor' column through woe_ordered_continuous and plot_by_woe functions\n",
    "df_temp = woe_ordered_continuous(X_train_prepr, 'LIMIT_BAL', y_train_prepr)\n",
    "df_temp"
   ]
  },
  {
   "cell_type": "code",
   "execution_count": 20,
   "metadata": {},
   "outputs": [
    {
     "data": {
      "image/png": "[encoded data removed]",
      "text/plain": [
       "<Figure size 1296x432 with 1 Axes>"
      ]
     },
     "metadata": {},
     "output_type": "display_data"
    }
   ],
   "source": [
    "plot_by_woe(df_temp)"
   ]
  },
  {
   "cell_type": "code",
   "execution_count": null,
   "metadata": {},
   "outputs": [],
   "source": []
  },
  {
   "cell_type": "code",
   "execution_count": 21,
   "metadata": {},
   "outputs": [],
   "source": [
    "# create a list of all the reference categories, i.e. one category from each of the global features\n",
    "ref_categories = ['MONTHS_LATE:>1.791759', 'PAYMENT_RATIO:>0.954', 'LIMIT_BAL:>12.894']\n"
   ]
  },
  {
   "cell_type": "code",
   "execution_count": 22,
   "metadata": {},
   "outputs": [],
   "source": [
    "# This custom class will create new categorical dummy features based on the cut-off points that weRE manually identified\n",
    "# based on the WoE plots and IV above.\n",
    "# Given the way it is structured, this class also allows a fit_transform method to be implemented on it, thereby allowing \n",
    "# use in a scikit-learn Pipeline \n",
    "\n",
    "class WoE_Binning(BaseEstimator, TransformerMixin):\n",
    "    def __init__(self, X): # no *args or *kargs\n",
    "        self.X = X\n",
    "    def fit(self, X, y = None):\n",
    "        return self #nothing else to do\n",
    "    def transform(self, X):\n",
    "        X_new = X.loc[:, 'MONTHS_LATE': 'MONTHS_LATE']        \n",
    "        X_new['MONTHS_LATE:<0.693147'] = np.where((X['MONTHS_LATE'] <= 0.693147), 1, 0)\n",
    "        X_new['MONTHS_LATE:0.693147-1.098612'] = np.where((X['MONTHS_LATE'] > 0.693147) & (X['MONTHS_LATE'] <= 1.098612), 1, 0)\n",
    "        X_new['MONTHS_LATE:1.098612-1.609438'] = np.where((X['MONTHS_LATE'] > 1.098612) & (X['MONTHS_LATE'] <= 1.609438), 1, 0)\n",
    "        X_new['MONTHS_LATE:1.609438-1.791759'] = np.where((X['MONTHS_LATE'] > 1.609438) & (X['MONTHS_LATE'] <= 1.791759), 1, 0)\n",
    "        X_new['MONTHS_LATE:>1.791759'] = np.where((X['MONTHS_LATE'] > 1.791759), 1, 0)\n",
    "        X_new['PAYMENT_RATIO:<0.955'] = np.where((X['PAYMENT_RATIO'] <= 0.955), 1, 0)\n",
    "        X_new['PAYMENT_RATIO:>0.954'] = np.where((X['PAYMENT_RATIO'] > 0.954), 1, 0)\n",
    "        X_new['LIMIT_BAL:<10.131'] = np.where((X['LIMIT_BAL'] <= 10.131), 1, 0)\n",
    "        X_new['LIMIT_BAL:10.131-11.052'] = np.where((X['LIMIT_BAL'] > 10.131) & (X['LIMIT_BAL'] <= 11.052), 1, 0)\n",
    "        X_new['LIMIT_BAL:11.052-11.973'] = np.where((X['LIMIT_BAL'] > 11.052) & (X['LIMIT_BAL'] <= 11.973), 1, 0)\n",
    "        X_new['LIMIT_BAL:11.973-12.894'] = np.where((X['LIMIT_BAL'] > 11.973) & (X['LIMIT_BAL'] <= 12.894), 1, 0)\n",
    "        X_new['LIMIT_BAL:>12.894'] = np.where((X['LIMIT_BAL'] > 11.973), 1, 0)\n",
    "        X_new.drop(columns =ref_categories, inplace = True)\n",
    "        return X_new"
   ]
  },
  {
   "cell_type": "code",
   "execution_count": null,
   "metadata": {},
   "outputs": [],
   "source": [
    "\n"
   ]
  },
  {
   "cell_type": "markdown",
   "metadata": {},
   "source": [
    "## Model"
   ]
  },
  {
   "cell_type": "code",
   "execution_count": 23,
   "metadata": {},
   "outputs": [
    {
     "name": "stdout",
     "output_type": "stream",
     "text": [
      "(23304, 3)\n",
      "(23304,)\n",
      "(5826, 3)\n",
      "(5826,)\n"
     ]
    }
   ],
   "source": [
    "# reconfirm shape of the 4 datasets\n",
    "print(X_train.shape)\n",
    "print(y_train.shape)\n",
    "print(X_test.shape)\n",
    "print(y_test.shape)"
   ]
  },
  {
   "cell_type": "code",
   "execution_count": 24,
   "metadata": {},
   "outputs": [
    {
     "name": "stdout",
     "output_type": "stream",
     "text": [
      "Mean AUROC: 0.7572\n",
      "Gini: 0.5144\n"
     ]
    }
   ],
   "source": [
    "# define modeling pipeline\n",
    "reg = LogisticRegression(max_iter=1000, class_weight = 'balanced', C = 464.158883, penalty = 'l1')\n",
    "woe_transform = WoE_Binning(X)\n",
    "pipeline = Pipeline(steps=[('woe', woe_transform), ('model', reg)])\n",
    "\n",
    "# define cross-validation criteria. RepeatedStratifiedKFold automatially takes care of the class imbalance while splitting\n",
    "cv = RepeatedStratifiedKFold(n_splits=5, n_repeats=3, random_state=1)\n",
    "\n",
    "# fit and evaluate the logistic regression pipeline with cross-validation as defined in cv\n",
    "scores = cross_val_score(pipeline, X_train, y_train, scoring = 'roc_auc', cv = cv)\n",
    "AUROC = np.mean(scores)\n",
    "GINI = AUROC * 2 - 1\n",
    "\n",
    "# print the mean AUROC score and Gini\n",
    "print('Mean AUROC: %.4f' % (AUROC))\n",
    "print('Gini: %.4f' % (GINI))"
   ]
  },
  {
   "cell_type": "code",
   "execution_count": 25,
   "metadata": {},
   "outputs": [
    {
     "data": {
      "text/plain": [
       "Pipeline(memory=None,\n",
       "     steps=[('woe', WoE_Binning(X=       LIMIT_BAL  MONTHS_LATE  PAYMENT_RATIO\n",
       "0      10.819798     1.945910       0.038110\n",
       "1      12.676079     1.945910       0.037397\n",
       "2      12.206078     1.945910       0.037338\n",
       "3      11.002117     1.945910       0.038758\n",
       "4      12.542548     1.945910       0.046396\n",
       "....penalty='l1', random_state=None,\n",
       "          solver='warn', tol=0.0001, verbose=0, warm_start=False))])"
      ]
     },
     "execution_count": 25,
     "metadata": {},
     "output_type": "execute_result"
    }
   ],
   "source": [
    "# fit the pipeline on the whole training set\n",
    "pipeline.fit(X_train, y_train)"
   ]
  },
  {
   "cell_type": "code",
   "execution_count": null,
   "metadata": {},
   "outputs": [],
   "source": []
  },
  {
   "cell_type": "code",
   "execution_count": null,
   "metadata": {},
   "outputs": [],
   "source": []
  },
  {
   "cell_type": "markdown",
   "metadata": {},
   "source": [
    "## Scorecard Development"
   ]
  },
  {
   "cell_type": "code",
   "execution_count": 26,
   "metadata": {},
   "outputs": [
    {
     "data": {
      "text/html": [
       "<div>\n",
       "<style scoped>\n",
       "    .dataframe tbody tr th:only-of-type {\n",
       "        vertical-align: middle;\n",
       "    }\n",
       "\n",
       "    .dataframe tbody tr th {\n",
       "        vertical-align: top;\n",
       "    }\n",
       "\n",
       "    .dataframe thead th {\n",
       "        text-align: right;\n",
       "    }\n",
       "</style>\n",
       "<table border=\"1\" class=\"dataframe\">\n",
       "  <thead>\n",
       "    <tr style=\"text-align: right;\">\n",
       "      <th></th>\n",
       "      <th>Feature name</th>\n",
       "      <th>Coefficients</th>\n",
       "    </tr>\n",
       "  </thead>\n",
       "  <tbody>\n",
       "    <tr>\n",
       "      <th>0</th>\n",
       "      <td>Intercept</td>\n",
       "      <td>1.088768</td>\n",
       "    </tr>\n",
       "    <tr>\n",
       "      <th>1</th>\n",
       "      <td>MONTHS_LATE</td>\n",
       "      <td>-1.351952</td>\n",
       "    </tr>\n",
       "    <tr>\n",
       "      <th>2</th>\n",
       "      <td>MONTHS_LATE:&lt;0.693147</td>\n",
       "      <td>0.004906</td>\n",
       "    </tr>\n",
       "    <tr>\n",
       "      <th>3</th>\n",
       "      <td>MONTHS_LATE:0.693147-1.098612</td>\n",
       "      <td>0.392497</td>\n",
       "    </tr>\n",
       "    <tr>\n",
       "      <th>4</th>\n",
       "      <td>MONTHS_LATE:1.098612-1.609438</td>\n",
       "      <td>0.112620</td>\n",
       "    </tr>\n",
       "    <tr>\n",
       "      <th>5</th>\n",
       "      <td>MONTHS_LATE:1.609438-1.791759</td>\n",
       "      <td>0.000000</td>\n",
       "    </tr>\n",
       "    <tr>\n",
       "      <th>6</th>\n",
       "      <td>PAYMENT_RATIO:&lt;0.955</td>\n",
       "      <td>0.120415</td>\n",
       "    </tr>\n",
       "    <tr>\n",
       "      <th>7</th>\n",
       "      <td>LIMIT_BAL:&lt;10.131</td>\n",
       "      <td>-0.887972</td>\n",
       "    </tr>\n",
       "    <tr>\n",
       "      <th>8</th>\n",
       "      <td>LIMIT_BAL:10.131-11.052</td>\n",
       "      <td>-0.700523</td>\n",
       "    </tr>\n",
       "    <tr>\n",
       "      <th>9</th>\n",
       "      <td>LIMIT_BAL:11.052-11.973</td>\n",
       "      <td>-0.458005</td>\n",
       "    </tr>\n",
       "    <tr>\n",
       "      <th>10</th>\n",
       "      <td>LIMIT_BAL:11.973-12.894</td>\n",
       "      <td>-0.276142</td>\n",
       "    </tr>\n",
       "  </tbody>\n",
       "</table>\n",
       "</div>"
      ],
      "text/plain": [
       "                     Feature name  Coefficients\n",
       "0                       Intercept      1.088768\n",
       "1                     MONTHS_LATE     -1.351952\n",
       "2           MONTHS_LATE:<0.693147      0.004906\n",
       "3   MONTHS_LATE:0.693147-1.098612      0.392497\n",
       "4   MONTHS_LATE:1.098612-1.609438      0.112620\n",
       "5   MONTHS_LATE:1.609438-1.791759      0.000000\n",
       "6            PAYMENT_RATIO:<0.955      0.120415\n",
       "7               LIMIT_BAL:<10.131     -0.887972\n",
       "8         LIMIT_BAL:10.131-11.052     -0.700523\n",
       "9         LIMIT_BAL:11.052-11.973     -0.458005\n",
       "10        LIMIT_BAL:11.973-12.894     -0.276142"
      ]
     },
     "execution_count": 26,
     "metadata": {},
     "output_type": "execute_result"
    }
   ],
   "source": [
    "# first create a transformed training set through our WoE_Binning custom class\n",
    "X_train_woe_transformed = woe_transform.fit_transform(X_train)\n",
    "# Store the column names in X_train as a list\n",
    "feature_name = X_train_woe_transformed.columns.values\n",
    "# Create a summary table of our logistic regression model\n",
    "summary_table = pd.DataFrame(columns = ['Feature name'], data = feature_name)\n",
    "# Create a new column in the dataframe, called 'Coefficients', with row values the transposed coefficients from the 'LogisticRegression' model\n",
    "summary_table['Coefficients'] = np.transpose(pipeline.named_steps['model'].coef_)\n",
    "# Increase the index of every row of the dataframe with 1 to store our model intercept in 1st row\n",
    "summary_table.index = summary_table.index + 1\n",
    "# Assign our model intercept to this new row\n",
    "summary_table.loc[0] = ['Intercept', pipeline.named_steps['model'].intercept_[0]]\n",
    "# Sort the dataframe by index\n",
    "summary_table.sort_index(inplace = True)\n",
    "summary_table"
   ]
  },
  {
   "cell_type": "code",
   "execution_count": 27,
   "metadata": {},
   "outputs": [],
   "source": [
    "# 'MONTHS_LATE' was included in class WoE_Binning above in order to define X; but drop now as duplicative\n",
    "summary_table.drop([1], inplace = True)"
   ]
  },
  {
   "cell_type": "code",
   "execution_count": 28,
   "metadata": {},
   "outputs": [
    {
     "data": {
      "text/html": [
       "<div>\n",
       "<style scoped>\n",
       "    .dataframe tbody tr th:only-of-type {\n",
       "        vertical-align: middle;\n",
       "    }\n",
       "\n",
       "    .dataframe tbody tr th {\n",
       "        vertical-align: top;\n",
       "    }\n",
       "\n",
       "    .dataframe thead th {\n",
       "        text-align: right;\n",
       "    }\n",
       "</style>\n",
       "<table border=\"1\" class=\"dataframe\">\n",
       "  <thead>\n",
       "    <tr style=\"text-align: right;\">\n",
       "      <th></th>\n",
       "      <th>Feature name</th>\n",
       "      <th>Coefficients</th>\n",
       "    </tr>\n",
       "  </thead>\n",
       "  <tbody>\n",
       "    <tr>\n",
       "      <th>0</th>\n",
       "      <td>Intercept</td>\n",
       "      <td>1.088768</td>\n",
       "    </tr>\n",
       "    <tr>\n",
       "      <th>2</th>\n",
       "      <td>MONTHS_LATE:&lt;0.693147</td>\n",
       "      <td>0.004906</td>\n",
       "    </tr>\n",
       "    <tr>\n",
       "      <th>3</th>\n",
       "      <td>MONTHS_LATE:0.693147-1.098612</td>\n",
       "      <td>0.392497</td>\n",
       "    </tr>\n",
       "    <tr>\n",
       "      <th>4</th>\n",
       "      <td>MONTHS_LATE:1.098612-1.609438</td>\n",
       "      <td>0.112620</td>\n",
       "    </tr>\n",
       "    <tr>\n",
       "      <th>5</th>\n",
       "      <td>MONTHS_LATE:1.609438-1.791759</td>\n",
       "      <td>0.000000</td>\n",
       "    </tr>\n",
       "    <tr>\n",
       "      <th>6</th>\n",
       "      <td>PAYMENT_RATIO:&lt;0.955</td>\n",
       "      <td>0.120415</td>\n",
       "    </tr>\n",
       "    <tr>\n",
       "      <th>7</th>\n",
       "      <td>LIMIT_BAL:&lt;10.131</td>\n",
       "      <td>-0.887972</td>\n",
       "    </tr>\n",
       "    <tr>\n",
       "      <th>8</th>\n",
       "      <td>LIMIT_BAL:10.131-11.052</td>\n",
       "      <td>-0.700523</td>\n",
       "    </tr>\n",
       "    <tr>\n",
       "      <th>9</th>\n",
       "      <td>LIMIT_BAL:11.052-11.973</td>\n",
       "      <td>-0.458005</td>\n",
       "    </tr>\n",
       "    <tr>\n",
       "      <th>10</th>\n",
       "      <td>LIMIT_BAL:11.973-12.894</td>\n",
       "      <td>-0.276142</td>\n",
       "    </tr>\n",
       "  </tbody>\n",
       "</table>\n",
       "</div>"
      ],
      "text/plain": [
       "                     Feature name  Coefficients\n",
       "0                       Intercept      1.088768\n",
       "2           MONTHS_LATE:<0.693147      0.004906\n",
       "3   MONTHS_LATE:0.693147-1.098612      0.392497\n",
       "4   MONTHS_LATE:1.098612-1.609438      0.112620\n",
       "5   MONTHS_LATE:1.609438-1.791759      0.000000\n",
       "6            PAYMENT_RATIO:<0.955      0.120415\n",
       "7               LIMIT_BAL:<10.131     -0.887972\n",
       "8         LIMIT_BAL:10.131-11.052     -0.700523\n",
       "9         LIMIT_BAL:11.052-11.973     -0.458005\n",
       "10        LIMIT_BAL:11.973-12.894     -0.276142"
      ]
     },
     "execution_count": 28,
     "metadata": {},
     "output_type": "execute_result"
    }
   ],
   "source": [
    "summary_table"
   ]
  },
  {
   "cell_type": "markdown",
   "metadata": {},
   "source": [
    "## Applying the Model - Scorecard Creation"
   ]
  },
  {
   "cell_type": "markdown",
   "metadata": {},
   "source": [
    "Append all the reference categories that we dropped from the model, with a coefficient value of 0."
   ]
  },
  {
   "cell_type": "code",
   "execution_count": 29,
   "metadata": {},
   "outputs": [
    {
     "data": {
      "text/html": [
       "<div>\n",
       "<style scoped>\n",
       "    .dataframe tbody tr th:only-of-type {\n",
       "        vertical-align: middle;\n",
       "    }\n",
       "\n",
       "    .dataframe tbody tr th {\n",
       "        vertical-align: top;\n",
       "    }\n",
       "\n",
       "    .dataframe thead th {\n",
       "        text-align: right;\n",
       "    }\n",
       "</style>\n",
       "<table border=\"1\" class=\"dataframe\">\n",
       "  <thead>\n",
       "    <tr style=\"text-align: right;\">\n",
       "      <th></th>\n",
       "      <th>Feature name</th>\n",
       "      <th>Coefficients</th>\n",
       "    </tr>\n",
       "  </thead>\n",
       "  <tbody>\n",
       "    <tr>\n",
       "      <th>0</th>\n",
       "      <td>MONTHS_LATE:&gt;1.791759</td>\n",
       "      <td>0</td>\n",
       "    </tr>\n",
       "    <tr>\n",
       "      <th>1</th>\n",
       "      <td>PAYMENT_RATIO:&gt;0.954</td>\n",
       "      <td>0</td>\n",
       "    </tr>\n",
       "    <tr>\n",
       "      <th>2</th>\n",
       "      <td>LIMIT_BAL:&gt;12.894</td>\n",
       "      <td>0</td>\n",
       "    </tr>\n",
       "  </tbody>\n",
       "</table>\n",
       "</div>"
      ],
      "text/plain": [
       "            Feature name  Coefficients\n",
       "0  MONTHS_LATE:>1.791759             0\n",
       "1   PAYMENT_RATIO:>0.954             0\n",
       "2      LIMIT_BAL:>12.894             0"
      ]
     },
     "execution_count": 29,
     "metadata": {},
     "output_type": "execute_result"
    }
   ],
   "source": [
    "# new dataframe with one column. Its values are the values from the 'reference_categories' list. \n",
    "df_ref_categories = pd.DataFrame(ref_categories, columns = ['Feature name'])\n",
    "# create a second column, called 'Coefficients', which contains only 0 values.\n",
    "df_ref_categories['Coefficients'] = 0\n",
    "df_ref_categories"
   ]
  },
  {
   "cell_type": "code",
   "execution_count": 30,
   "metadata": {},
   "outputs": [
    {
     "data": {
      "text/html": [
       "<div>\n",
       "<style scoped>\n",
       "    .dataframe tbody tr th:only-of-type {\n",
       "        vertical-align: middle;\n",
       "    }\n",
       "\n",
       "    .dataframe tbody tr th {\n",
       "        vertical-align: top;\n",
       "    }\n",
       "\n",
       "    .dataframe thead th {\n",
       "        text-align: right;\n",
       "    }\n",
       "</style>\n",
       "<table border=\"1\" class=\"dataframe\">\n",
       "  <thead>\n",
       "    <tr style=\"text-align: right;\">\n",
       "      <th></th>\n",
       "      <th>index</th>\n",
       "      <th>Feature name</th>\n",
       "      <th>Coefficients</th>\n",
       "    </tr>\n",
       "  </thead>\n",
       "  <tbody>\n",
       "    <tr>\n",
       "      <th>0</th>\n",
       "      <td>0</td>\n",
       "      <td>Intercept</td>\n",
       "      <td>1.088768</td>\n",
       "    </tr>\n",
       "    <tr>\n",
       "      <th>1</th>\n",
       "      <td>2</td>\n",
       "      <td>MONTHS_LATE:&lt;0.693147</td>\n",
       "      <td>0.004906</td>\n",
       "    </tr>\n",
       "    <tr>\n",
       "      <th>2</th>\n",
       "      <td>3</td>\n",
       "      <td>MONTHS_LATE:0.693147-1.098612</td>\n",
       "      <td>0.392497</td>\n",
       "    </tr>\n",
       "    <tr>\n",
       "      <th>3</th>\n",
       "      <td>4</td>\n",
       "      <td>MONTHS_LATE:1.098612-1.609438</td>\n",
       "      <td>0.112620</td>\n",
       "    </tr>\n",
       "    <tr>\n",
       "      <th>4</th>\n",
       "      <td>5</td>\n",
       "      <td>MONTHS_LATE:1.609438-1.791759</td>\n",
       "      <td>0.000000</td>\n",
       "    </tr>\n",
       "    <tr>\n",
       "      <th>5</th>\n",
       "      <td>6</td>\n",
       "      <td>PAYMENT_RATIO:&lt;0.955</td>\n",
       "      <td>0.120415</td>\n",
       "    </tr>\n",
       "    <tr>\n",
       "      <th>6</th>\n",
       "      <td>7</td>\n",
       "      <td>LIMIT_BAL:&lt;10.131</td>\n",
       "      <td>-0.887972</td>\n",
       "    </tr>\n",
       "    <tr>\n",
       "      <th>7</th>\n",
       "      <td>8</td>\n",
       "      <td>LIMIT_BAL:10.131-11.052</td>\n",
       "      <td>-0.700523</td>\n",
       "    </tr>\n",
       "    <tr>\n",
       "      <th>8</th>\n",
       "      <td>9</td>\n",
       "      <td>LIMIT_BAL:11.052-11.973</td>\n",
       "      <td>-0.458005</td>\n",
       "    </tr>\n",
       "    <tr>\n",
       "      <th>9</th>\n",
       "      <td>10</td>\n",
       "      <td>LIMIT_BAL:11.973-12.894</td>\n",
       "      <td>-0.276142</td>\n",
       "    </tr>\n",
       "    <tr>\n",
       "      <th>10</th>\n",
       "      <td>0</td>\n",
       "      <td>MONTHS_LATE:&gt;1.791759</td>\n",
       "      <td>0.000000</td>\n",
       "    </tr>\n",
       "    <tr>\n",
       "      <th>11</th>\n",
       "      <td>1</td>\n",
       "      <td>PAYMENT_RATIO:&gt;0.954</td>\n",
       "      <td>0.000000</td>\n",
       "    </tr>\n",
       "    <tr>\n",
       "      <th>12</th>\n",
       "      <td>2</td>\n",
       "      <td>LIMIT_BAL:&gt;12.894</td>\n",
       "      <td>0.000000</td>\n",
       "    </tr>\n",
       "  </tbody>\n",
       "</table>\n",
       "</div>"
      ],
      "text/plain": [
       "    index                   Feature name  Coefficients\n",
       "0       0                      Intercept      1.088768\n",
       "1       2          MONTHS_LATE:<0.693147      0.004906\n",
       "2       3  MONTHS_LATE:0.693147-1.098612      0.392497\n",
       "3       4  MONTHS_LATE:1.098612-1.609438      0.112620\n",
       "4       5  MONTHS_LATE:1.609438-1.791759      0.000000\n",
       "5       6           PAYMENT_RATIO:<0.955      0.120415\n",
       "6       7              LIMIT_BAL:<10.131     -0.887972\n",
       "7       8        LIMIT_BAL:10.131-11.052     -0.700523\n",
       "8       9        LIMIT_BAL:11.052-11.973     -0.458005\n",
       "9      10        LIMIT_BAL:11.973-12.894     -0.276142\n",
       "10      0          MONTHS_LATE:>1.791759      0.000000\n",
       "11      1           PAYMENT_RATIO:>0.954      0.000000\n",
       "12      2              LIMIT_BAL:>12.894      0.000000"
      ]
     },
     "execution_count": 30,
     "metadata": {},
     "output_type": "execute_result"
    }
   ],
   "source": [
    "# Concatenates two dataframes.\n",
    "df_scorecard = pd.concat([summary_table, df_ref_categories])\n",
    "# We reset the index of a dataframe.\n",
    "df_scorecard.reset_index(inplace = True)\n",
    "df_scorecard"
   ]
  },
  {
   "cell_type": "code",
   "execution_count": 31,
   "metadata": {},
   "outputs": [
    {
     "data": {
      "text/html": [
       "<div>\n",
       "<style scoped>\n",
       "    .dataframe tbody tr th:only-of-type {\n",
       "        vertical-align: middle;\n",
       "    }\n",
       "\n",
       "    .dataframe tbody tr th {\n",
       "        vertical-align: top;\n",
       "    }\n",
       "\n",
       "    .dataframe thead th {\n",
       "        text-align: right;\n",
       "    }\n",
       "</style>\n",
       "<table border=\"1\" class=\"dataframe\">\n",
       "  <thead>\n",
       "    <tr style=\"text-align: right;\">\n",
       "      <th></th>\n",
       "      <th>index</th>\n",
       "      <th>Feature name</th>\n",
       "      <th>Coefficients</th>\n",
       "      <th>Original feature name</th>\n",
       "    </tr>\n",
       "  </thead>\n",
       "  <tbody>\n",
       "    <tr>\n",
       "      <th>0</th>\n",
       "      <td>0</td>\n",
       "      <td>Intercept</td>\n",
       "      <td>1.088768</td>\n",
       "      <td>Intercept</td>\n",
       "    </tr>\n",
       "    <tr>\n",
       "      <th>1</th>\n",
       "      <td>2</td>\n",
       "      <td>MONTHS_LATE:&lt;0.693147</td>\n",
       "      <td>0.004906</td>\n",
       "      <td>MONTHS_LATE</td>\n",
       "    </tr>\n",
       "    <tr>\n",
       "      <th>2</th>\n",
       "      <td>3</td>\n",
       "      <td>MONTHS_LATE:0.693147-1.098612</td>\n",
       "      <td>0.392497</td>\n",
       "      <td>MONTHS_LATE</td>\n",
       "    </tr>\n",
       "    <tr>\n",
       "      <th>3</th>\n",
       "      <td>4</td>\n",
       "      <td>MONTHS_LATE:1.098612-1.609438</td>\n",
       "      <td>0.112620</td>\n",
       "      <td>MONTHS_LATE</td>\n",
       "    </tr>\n",
       "    <tr>\n",
       "      <th>4</th>\n",
       "      <td>5</td>\n",
       "      <td>MONTHS_LATE:1.609438-1.791759</td>\n",
       "      <td>0.000000</td>\n",
       "      <td>MONTHS_LATE</td>\n",
       "    </tr>\n",
       "    <tr>\n",
       "      <th>5</th>\n",
       "      <td>6</td>\n",
       "      <td>PAYMENT_RATIO:&lt;0.955</td>\n",
       "      <td>0.120415</td>\n",
       "      <td>PAYMENT_RATIO</td>\n",
       "    </tr>\n",
       "    <tr>\n",
       "      <th>6</th>\n",
       "      <td>7</td>\n",
       "      <td>LIMIT_BAL:&lt;10.131</td>\n",
       "      <td>-0.887972</td>\n",
       "      <td>LIMIT_BAL</td>\n",
       "    </tr>\n",
       "    <tr>\n",
       "      <th>7</th>\n",
       "      <td>8</td>\n",
       "      <td>LIMIT_BAL:10.131-11.052</td>\n",
       "      <td>-0.700523</td>\n",
       "      <td>LIMIT_BAL</td>\n",
       "    </tr>\n",
       "    <tr>\n",
       "      <th>8</th>\n",
       "      <td>9</td>\n",
       "      <td>LIMIT_BAL:11.052-11.973</td>\n",
       "      <td>-0.458005</td>\n",
       "      <td>LIMIT_BAL</td>\n",
       "    </tr>\n",
       "    <tr>\n",
       "      <th>9</th>\n",
       "      <td>10</td>\n",
       "      <td>LIMIT_BAL:11.973-12.894</td>\n",
       "      <td>-0.276142</td>\n",
       "      <td>LIMIT_BAL</td>\n",
       "    </tr>\n",
       "    <tr>\n",
       "      <th>10</th>\n",
       "      <td>0</td>\n",
       "      <td>MONTHS_LATE:&gt;1.791759</td>\n",
       "      <td>0.000000</td>\n",
       "      <td>MONTHS_LATE</td>\n",
       "    </tr>\n",
       "    <tr>\n",
       "      <th>11</th>\n",
       "      <td>1</td>\n",
       "      <td>PAYMENT_RATIO:&gt;0.954</td>\n",
       "      <td>0.000000</td>\n",
       "      <td>PAYMENT_RATIO</td>\n",
       "    </tr>\n",
       "    <tr>\n",
       "      <th>12</th>\n",
       "      <td>2</td>\n",
       "      <td>LIMIT_BAL:&gt;12.894</td>\n",
       "      <td>0.000000</td>\n",
       "      <td>LIMIT_BAL</td>\n",
       "    </tr>\n",
       "  </tbody>\n",
       "</table>\n",
       "</div>"
      ],
      "text/plain": [
       "    index                   Feature name  Coefficients Original feature name\n",
       "0       0                      Intercept      1.088768             Intercept\n",
       "1       2          MONTHS_LATE:<0.693147      0.004906           MONTHS_LATE\n",
       "2       3  MONTHS_LATE:0.693147-1.098612      0.392497           MONTHS_LATE\n",
       "3       4  MONTHS_LATE:1.098612-1.609438      0.112620           MONTHS_LATE\n",
       "4       5  MONTHS_LATE:1.609438-1.791759      0.000000           MONTHS_LATE\n",
       "5       6           PAYMENT_RATIO:<0.955      0.120415         PAYMENT_RATIO\n",
       "6       7              LIMIT_BAL:<10.131     -0.887972             LIMIT_BAL\n",
       "7       8        LIMIT_BAL:10.131-11.052     -0.700523             LIMIT_BAL\n",
       "8       9        LIMIT_BAL:11.052-11.973     -0.458005             LIMIT_BAL\n",
       "9      10        LIMIT_BAL:11.973-12.894     -0.276142             LIMIT_BAL\n",
       "10      0          MONTHS_LATE:>1.791759      0.000000           MONTHS_LATE\n",
       "11      1           PAYMENT_RATIO:>0.954      0.000000         PAYMENT_RATIO\n",
       "12      2              LIMIT_BAL:>12.894      0.000000             LIMIT_BAL"
      ]
     },
     "execution_count": 31,
     "metadata": {},
     "output_type": "execute_result"
    }
   ],
   "source": [
    "# create a new column, called 'Original feature name', which contains the value of the 'Feature name' column, up to the column symbol.\n",
    "df_scorecard['Original feature name'] = df_scorecard['Feature name'].str.split(':').str[0]\n",
    "df_scorecard"
   ]
  },
  {
   "cell_type": "code",
   "execution_count": 32,
   "metadata": {},
   "outputs": [],
   "source": [
    "# Define the min and max threshholds for the scorecard\n",
    "min_score = 100\n",
    "max_score = 500"
   ]
  },
  {
   "cell_type": "markdown",
   "metadata": {},
   "source": [
    "The coefficients returned by the logistic regression model for each feature category are then scaled to the range of credit scores through simple arithmetic. An additional step here is to update the model intercept’s credit score through further scaling that will then be used as the starting point of each scoring calculation."
   ]
  },
  {
   "cell_type": "code",
   "execution_count": 33,
   "metadata": {},
   "outputs": [
    {
     "data": {
      "text/html": [
       "<div>\n",
       "<style scoped>\n",
       "    .dataframe tbody tr th:only-of-type {\n",
       "        vertical-align: middle;\n",
       "    }\n",
       "\n",
       "    .dataframe tbody tr th {\n",
       "        vertical-align: top;\n",
       "    }\n",
       "\n",
       "    .dataframe thead th {\n",
       "        text-align: right;\n",
       "    }\n",
       "</style>\n",
       "<table border=\"1\" class=\"dataframe\">\n",
       "  <thead>\n",
       "    <tr style=\"text-align: right;\">\n",
       "      <th></th>\n",
       "      <th>index</th>\n",
       "      <th>Feature name</th>\n",
       "      <th>Coefficients</th>\n",
       "      <th>Original feature name</th>\n",
       "      <th>Score - Calculation</th>\n",
       "      <th>Score - Preliminary</th>\n",
       "    </tr>\n",
       "  </thead>\n",
       "  <tbody>\n",
       "    <tr>\n",
       "      <th>0</th>\n",
       "      <td>0</td>\n",
       "      <td>Intercept</td>\n",
       "      <td>1.088768</td>\n",
       "      <td>Intercept</td>\n",
       "      <td>353.546362</td>\n",
       "      <td>354.0</td>\n",
       "    </tr>\n",
       "    <tr>\n",
       "      <th>1</th>\n",
       "      <td>2</td>\n",
       "      <td>MONTHS_LATE:&lt;0.693147</td>\n",
       "      <td>0.004906</td>\n",
       "      <td>MONTHS_LATE</td>\n",
       "      <td>1.400806</td>\n",
       "      <td>1.0</td>\n",
       "    </tr>\n",
       "    <tr>\n",
       "      <th>2</th>\n",
       "      <td>3</td>\n",
       "      <td>MONTHS_LATE:0.693147-1.098612</td>\n",
       "      <td>0.392497</td>\n",
       "      <td>MONTHS_LATE</td>\n",
       "      <td>112.071166</td>\n",
       "      <td>112.0</td>\n",
       "    </tr>\n",
       "    <tr>\n",
       "      <th>3</th>\n",
       "      <td>4</td>\n",
       "      <td>MONTHS_LATE:1.098612-1.609438</td>\n",
       "      <td>0.112620</td>\n",
       "      <td>MONTHS_LATE</td>\n",
       "      <td>32.156956</td>\n",
       "      <td>32.0</td>\n",
       "    </tr>\n",
       "    <tr>\n",
       "      <th>4</th>\n",
       "      <td>5</td>\n",
       "      <td>MONTHS_LATE:1.609438-1.791759</td>\n",
       "      <td>0.000000</td>\n",
       "      <td>MONTHS_LATE</td>\n",
       "      <td>0.000000</td>\n",
       "      <td>0.0</td>\n",
       "    </tr>\n",
       "    <tr>\n",
       "      <th>5</th>\n",
       "      <td>6</td>\n",
       "      <td>PAYMENT_RATIO:&lt;0.955</td>\n",
       "      <td>0.120415</td>\n",
       "      <td>PAYMENT_RATIO</td>\n",
       "      <td>34.382472</td>\n",
       "      <td>34.0</td>\n",
       "    </tr>\n",
       "    <tr>\n",
       "      <th>6</th>\n",
       "      <td>7</td>\n",
       "      <td>LIMIT_BAL:&lt;10.131</td>\n",
       "      <td>-0.887972</td>\n",
       "      <td>LIMIT_BAL</td>\n",
       "      <td>-253.546362</td>\n",
       "      <td>-254.0</td>\n",
       "    </tr>\n",
       "    <tr>\n",
       "      <th>7</th>\n",
       "      <td>8</td>\n",
       "      <td>LIMIT_BAL:10.131-11.052</td>\n",
       "      <td>-0.700523</td>\n",
       "      <td>LIMIT_BAL</td>\n",
       "      <td>-200.023195</td>\n",
       "      <td>-200.0</td>\n",
       "    </tr>\n",
       "    <tr>\n",
       "      <th>8</th>\n",
       "      <td>9</td>\n",
       "      <td>LIMIT_BAL:11.052-11.973</td>\n",
       "      <td>-0.458005</td>\n",
       "      <td>LIMIT_BAL</td>\n",
       "      <td>-130.776038</td>\n",
       "      <td>-131.0</td>\n",
       "    </tr>\n",
       "    <tr>\n",
       "      <th>9</th>\n",
       "      <td>10</td>\n",
       "      <td>LIMIT_BAL:11.973-12.894</td>\n",
       "      <td>-0.276142</td>\n",
       "      <td>LIMIT_BAL</td>\n",
       "      <td>-78.847975</td>\n",
       "      <td>-79.0</td>\n",
       "    </tr>\n",
       "    <tr>\n",
       "      <th>10</th>\n",
       "      <td>0</td>\n",
       "      <td>MONTHS_LATE:&gt;1.791759</td>\n",
       "      <td>0.000000</td>\n",
       "      <td>MONTHS_LATE</td>\n",
       "      <td>0.000000</td>\n",
       "      <td>0.0</td>\n",
       "    </tr>\n",
       "    <tr>\n",
       "      <th>11</th>\n",
       "      <td>1</td>\n",
       "      <td>PAYMENT_RATIO:&gt;0.954</td>\n",
       "      <td>0.000000</td>\n",
       "      <td>PAYMENT_RATIO</td>\n",
       "      <td>0.000000</td>\n",
       "      <td>0.0</td>\n",
       "    </tr>\n",
       "    <tr>\n",
       "      <th>12</th>\n",
       "      <td>2</td>\n",
       "      <td>LIMIT_BAL:&gt;12.894</td>\n",
       "      <td>0.000000</td>\n",
       "      <td>LIMIT_BAL</td>\n",
       "      <td>0.000000</td>\n",
       "      <td>0.0</td>\n",
       "    </tr>\n",
       "  </tbody>\n",
       "</table>\n",
       "</div>"
      ],
      "text/plain": [
       "    index                   Feature name  Coefficients Original feature name  \\\n",
       "0       0                      Intercept      1.088768             Intercept   \n",
       "1       2          MONTHS_LATE:<0.693147      0.004906           MONTHS_LATE   \n",
       "2       3  MONTHS_LATE:0.693147-1.098612      0.392497           MONTHS_LATE   \n",
       "3       4  MONTHS_LATE:1.098612-1.609438      0.112620           MONTHS_LATE   \n",
       "4       5  MONTHS_LATE:1.609438-1.791759      0.000000           MONTHS_LATE   \n",
       "5       6           PAYMENT_RATIO:<0.955      0.120415         PAYMENT_RATIO   \n",
       "6       7              LIMIT_BAL:<10.131     -0.887972             LIMIT_BAL   \n",
       "7       8        LIMIT_BAL:10.131-11.052     -0.700523             LIMIT_BAL   \n",
       "8       9        LIMIT_BAL:11.052-11.973     -0.458005             LIMIT_BAL   \n",
       "9      10        LIMIT_BAL:11.973-12.894     -0.276142             LIMIT_BAL   \n",
       "10      0          MONTHS_LATE:>1.791759      0.000000           MONTHS_LATE   \n",
       "11      1           PAYMENT_RATIO:>0.954      0.000000         PAYMENT_RATIO   \n",
       "12      2              LIMIT_BAL:>12.894      0.000000             LIMIT_BAL   \n",
       "\n",
       "    Score - Calculation  Score - Preliminary  \n",
       "0            353.546362                354.0  \n",
       "1              1.400806                  1.0  \n",
       "2            112.071166                112.0  \n",
       "3             32.156956                 32.0  \n",
       "4              0.000000                  0.0  \n",
       "5             34.382472                 34.0  \n",
       "6           -253.546362               -254.0  \n",
       "7           -200.023195               -200.0  \n",
       "8           -130.776038               -131.0  \n",
       "9            -78.847975                -79.0  \n",
       "10             0.000000                  0.0  \n",
       "11             0.000000                  0.0  \n",
       "12             0.000000                  0.0  "
      ]
     },
     "execution_count": 33,
     "metadata": {},
     "output_type": "execute_result"
    }
   ],
   "source": [
    "# calculate the sum of the minimum coefficients of each category within the original feature name\n",
    "min_sum_coef = df_scorecard.groupby('Original feature name')['Coefficients'].min().sum()\n",
    "# calculate the sum of the maximum coefficients of each category within the original feature name\n",
    "max_sum_coef = df_scorecard.groupby('Original feature name')['Coefficients'].max().sum()\n",
    "# create a new columns that has the imputed calculated Score based on the multiplication of the coefficient by the ratio of the differences between\n",
    "# maximum & minimum score and maximum & minimum sum of cefficients.\n",
    "df_scorecard['Score - Calculation'] = df_scorecard['Coefficients'] * (max_score - min_score) / (max_sum_coef - min_sum_coef)\n",
    "# update the calculated score of the Intercept (i.e. the default score for each loan)\n",
    "df_scorecard.loc[0, 'Score - Calculation'] = ((df_scorecard.loc[0,'Coefficients'] - min_sum_coef) / (max_sum_coef - min_sum_coef)) * (max_score - min_score) + min_score\n",
    "# round the values of the 'Score - Calculation' column and store them in a new column\n",
    "df_scorecard['Score - Preliminary'] = df_scorecard['Score - Calculation'].round()\n",
    "df_scorecard"
   ]
  },
  {
   "cell_type": "code",
   "execution_count": 34,
   "metadata": {},
   "outputs": [
    {
     "name": "stdout",
     "output_type": "stream",
     "text": [
      "100.0\n",
      "500.0\n"
     ]
    }
   ],
   "source": [
    "# check the min and max possible scores of our scorecard\n",
    "min_sum_score_prel = df_scorecard.groupby('Original feature name')['Score - Preliminary'].min().sum()\n",
    "max_sum_score_prel = df_scorecard.groupby('Original feature name')['Score - Preliminary'].max().sum()\n",
    "print(min_sum_score_prel)\n",
    "print(max_sum_score_prel)"
   ]
  },
  {
   "cell_type": "code",
   "execution_count": 35,
   "metadata": {},
   "outputs": [
    {
     "data": {
      "text/html": [
       "<div>\n",
       "<style scoped>\n",
       "    .dataframe tbody tr th:only-of-type {\n",
       "        vertical-align: middle;\n",
       "    }\n",
       "\n",
       "    .dataframe tbody tr th {\n",
       "        vertical-align: top;\n",
       "    }\n",
       "\n",
       "    .dataframe thead th {\n",
       "        text-align: right;\n",
       "    }\n",
       "</style>\n",
       "<table border=\"1\" class=\"dataframe\">\n",
       "  <thead>\n",
       "    <tr style=\"text-align: right;\">\n",
       "      <th></th>\n",
       "      <th>index</th>\n",
       "      <th>Feature name</th>\n",
       "      <th>Coefficients</th>\n",
       "      <th>Original feature name</th>\n",
       "      <th>Score - Calculation</th>\n",
       "      <th>Score - Preliminary</th>\n",
       "      <th>Score - Final</th>\n",
       "    </tr>\n",
       "  </thead>\n",
       "  <tbody>\n",
       "    <tr>\n",
       "      <th>0</th>\n",
       "      <td>0</td>\n",
       "      <td>Intercept</td>\n",
       "      <td>1.088768</td>\n",
       "      <td>Intercept</td>\n",
       "      <td>353.546362</td>\n",
       "      <td>354.0</td>\n",
       "      <td>354.0</td>\n",
       "    </tr>\n",
       "    <tr>\n",
       "      <th>1</th>\n",
       "      <td>2</td>\n",
       "      <td>MONTHS_LATE:&lt;0.693147</td>\n",
       "      <td>0.004906</td>\n",
       "      <td>MONTHS_LATE</td>\n",
       "      <td>1.400806</td>\n",
       "      <td>1.0</td>\n",
       "      <td>1.0</td>\n",
       "    </tr>\n",
       "    <tr>\n",
       "      <th>2</th>\n",
       "      <td>3</td>\n",
       "      <td>MONTHS_LATE:0.693147-1.098612</td>\n",
       "      <td>0.392497</td>\n",
       "      <td>MONTHS_LATE</td>\n",
       "      <td>112.071166</td>\n",
       "      <td>112.0</td>\n",
       "      <td>112.0</td>\n",
       "    </tr>\n",
       "    <tr>\n",
       "      <th>3</th>\n",
       "      <td>4</td>\n",
       "      <td>MONTHS_LATE:1.098612-1.609438</td>\n",
       "      <td>0.112620</td>\n",
       "      <td>MONTHS_LATE</td>\n",
       "      <td>32.156956</td>\n",
       "      <td>32.0</td>\n",
       "      <td>32.0</td>\n",
       "    </tr>\n",
       "    <tr>\n",
       "      <th>4</th>\n",
       "      <td>5</td>\n",
       "      <td>MONTHS_LATE:1.609438-1.791759</td>\n",
       "      <td>0.000000</td>\n",
       "      <td>MONTHS_LATE</td>\n",
       "      <td>0.000000</td>\n",
       "      <td>0.0</td>\n",
       "      <td>0.0</td>\n",
       "    </tr>\n",
       "    <tr>\n",
       "      <th>5</th>\n",
       "      <td>6</td>\n",
       "      <td>PAYMENT_RATIO:&lt;0.955</td>\n",
       "      <td>0.120415</td>\n",
       "      <td>PAYMENT_RATIO</td>\n",
       "      <td>34.382472</td>\n",
       "      <td>34.0</td>\n",
       "      <td>34.0</td>\n",
       "    </tr>\n",
       "    <tr>\n",
       "      <th>6</th>\n",
       "      <td>7</td>\n",
       "      <td>LIMIT_BAL:&lt;10.131</td>\n",
       "      <td>-0.887972</td>\n",
       "      <td>LIMIT_BAL</td>\n",
       "      <td>-253.546362</td>\n",
       "      <td>-254.0</td>\n",
       "      <td>-254.0</td>\n",
       "    </tr>\n",
       "    <tr>\n",
       "      <th>7</th>\n",
       "      <td>8</td>\n",
       "      <td>LIMIT_BAL:10.131-11.052</td>\n",
       "      <td>-0.700523</td>\n",
       "      <td>LIMIT_BAL</td>\n",
       "      <td>-200.023195</td>\n",
       "      <td>-200.0</td>\n",
       "      <td>-200.0</td>\n",
       "    </tr>\n",
       "    <tr>\n",
       "      <th>8</th>\n",
       "      <td>9</td>\n",
       "      <td>LIMIT_BAL:11.052-11.973</td>\n",
       "      <td>-0.458005</td>\n",
       "      <td>LIMIT_BAL</td>\n",
       "      <td>-130.776038</td>\n",
       "      <td>-131.0</td>\n",
       "      <td>-131.0</td>\n",
       "    </tr>\n",
       "    <tr>\n",
       "      <th>9</th>\n",
       "      <td>10</td>\n",
       "      <td>LIMIT_BAL:11.973-12.894</td>\n",
       "      <td>-0.276142</td>\n",
       "      <td>LIMIT_BAL</td>\n",
       "      <td>-78.847975</td>\n",
       "      <td>-79.0</td>\n",
       "      <td>-79.0</td>\n",
       "    </tr>\n",
       "    <tr>\n",
       "      <th>10</th>\n",
       "      <td>0</td>\n",
       "      <td>MONTHS_LATE:&gt;1.791759</td>\n",
       "      <td>0.000000</td>\n",
       "      <td>MONTHS_LATE</td>\n",
       "      <td>0.000000</td>\n",
       "      <td>0.0</td>\n",
       "      <td>0.0</td>\n",
       "    </tr>\n",
       "    <tr>\n",
       "      <th>11</th>\n",
       "      <td>1</td>\n",
       "      <td>PAYMENT_RATIO:&gt;0.954</td>\n",
       "      <td>0.000000</td>\n",
       "      <td>PAYMENT_RATIO</td>\n",
       "      <td>0.000000</td>\n",
       "      <td>0.0</td>\n",
       "      <td>0.0</td>\n",
       "    </tr>\n",
       "    <tr>\n",
       "      <th>12</th>\n",
       "      <td>2</td>\n",
       "      <td>LIMIT_BAL:&gt;12.894</td>\n",
       "      <td>0.000000</td>\n",
       "      <td>LIMIT_BAL</td>\n",
       "      <td>0.000000</td>\n",
       "      <td>0.0</td>\n",
       "      <td>0.0</td>\n",
       "    </tr>\n",
       "  </tbody>\n",
       "</table>\n",
       "</div>"
      ],
      "text/plain": [
       "    index                   Feature name  Coefficients Original feature name  \\\n",
       "0       0                      Intercept      1.088768             Intercept   \n",
       "1       2          MONTHS_LATE:<0.693147      0.004906           MONTHS_LATE   \n",
       "2       3  MONTHS_LATE:0.693147-1.098612      0.392497           MONTHS_LATE   \n",
       "3       4  MONTHS_LATE:1.098612-1.609438      0.112620           MONTHS_LATE   \n",
       "4       5  MONTHS_LATE:1.609438-1.791759      0.000000           MONTHS_LATE   \n",
       "5       6           PAYMENT_RATIO:<0.955      0.120415         PAYMENT_RATIO   \n",
       "6       7              LIMIT_BAL:<10.131     -0.887972             LIMIT_BAL   \n",
       "7       8        LIMIT_BAL:10.131-11.052     -0.700523             LIMIT_BAL   \n",
       "8       9        LIMIT_BAL:11.052-11.973     -0.458005             LIMIT_BAL   \n",
       "9      10        LIMIT_BAL:11.973-12.894     -0.276142             LIMIT_BAL   \n",
       "10      0          MONTHS_LATE:>1.791759      0.000000           MONTHS_LATE   \n",
       "11      1           PAYMENT_RATIO:>0.954      0.000000         PAYMENT_RATIO   \n",
       "12      2              LIMIT_BAL:>12.894      0.000000             LIMIT_BAL   \n",
       "\n",
       "    Score - Calculation  Score - Preliminary  Score - Final  \n",
       "0            353.546362                354.0          354.0  \n",
       "1              1.400806                  1.0            1.0  \n",
       "2            112.071166                112.0          112.0  \n",
       "3             32.156956                 32.0           32.0  \n",
       "4              0.000000                  0.0            0.0  \n",
       "5             34.382472                 34.0           34.0  \n",
       "6           -253.546362               -254.0         -254.0  \n",
       "7           -200.023195               -200.0         -200.0  \n",
       "8           -130.776038               -131.0         -131.0  \n",
       "9            -78.847975                -79.0          -79.0  \n",
       "10             0.000000                  0.0            0.0  \n",
       "11             0.000000                  0.0            0.0  \n",
       "12             0.000000                  0.0            0.0  "
      ]
     },
     "execution_count": 35,
     "metadata": {},
     "output_type": "execute_result"
    }
   ],
   "source": [
    "# Finalize after checking the possible scores\n",
    "df_scorecard['Score - Final'] = df_scorecard['Score - Preliminary']\n",
    "#df_scorecard.loc[0, 'Score - Final'] = 124\n",
    "df_scorecard"
   ]
  },
  {
   "cell_type": "code",
   "execution_count": 36,
   "metadata": {},
   "outputs": [
    {
     "name": "stdout",
     "output_type": "stream",
     "text": [
      "100.0\n",
      "500.0\n"
     ]
    }
   ],
   "source": [
    "# Recheck min and max possible scores\n",
    "print(df_scorecard.groupby('Original feature name')['Score - Final'].min().sum())\n",
    "print(df_scorecard.groupby('Original feature name')['Score - Final'].max().sum())"
   ]
  },
  {
   "cell_type": "markdown",
   "metadata": {},
   "source": [
    "## Calculating credit scores for all observations in the test data set"
   ]
  },
  {
   "cell_type": "markdown",
   "metadata": {},
   "source": [
    "For the final scorecard, calculate credit scores for all the observations in the test set. The training and test sets are a simple collection of dummy variables with 1s and 0s representing whether an observation belongs to a specific dummy variable. "
   ]
  },
  {
   "cell_type": "code",
   "execution_count": 43,
   "metadata": {},
   "outputs": [
    {
     "data": {
      "text/html": [
       "<div>\n",
       "<style scoped>\n",
       "    .dataframe tbody tr th:only-of-type {\n",
       "        vertical-align: middle;\n",
       "    }\n",
       "\n",
       "    .dataframe tbody tr th {\n",
       "        vertical-align: top;\n",
       "    }\n",
       "\n",
       "    .dataframe thead th {\n",
       "        text-align: right;\n",
       "    }\n",
       "</style>\n",
       "<table border=\"1\" class=\"dataframe\">\n",
       "  <thead>\n",
       "    <tr style=\"text-align: right;\">\n",
       "      <th></th>\n",
       "      <th>Intercept</th>\n",
       "      <th>MONTHS_LATE:&lt;0.693147</th>\n",
       "      <th>MONTHS_LATE:0.693147-1.098612</th>\n",
       "      <th>MONTHS_LATE:1.098612-1.609438</th>\n",
       "      <th>MONTHS_LATE:1.609438-1.791759</th>\n",
       "      <th>PAYMENT_RATIO:&lt;0.955</th>\n",
       "      <th>LIMIT_BAL:&lt;10.131</th>\n",
       "      <th>LIMIT_BAL:10.131-11.052</th>\n",
       "      <th>LIMIT_BAL:11.052-11.973</th>\n",
       "      <th>LIMIT_BAL:11.973-12.894</th>\n",
       "    </tr>\n",
       "  </thead>\n",
       "  <tbody>\n",
       "    <tr>\n",
       "      <th>15717</th>\n",
       "      <td>1</td>\n",
       "      <td>1</td>\n",
       "      <td>0</td>\n",
       "      <td>0</td>\n",
       "      <td>0</td>\n",
       "      <td>1</td>\n",
       "      <td>0</td>\n",
       "      <td>0</td>\n",
       "      <td>1</td>\n",
       "      <td>0</td>\n",
       "    </tr>\n",
       "    <tr>\n",
       "      <th>11597</th>\n",
       "      <td>1</td>\n",
       "      <td>1</td>\n",
       "      <td>0</td>\n",
       "      <td>0</td>\n",
       "      <td>0</td>\n",
       "      <td>1</td>\n",
       "      <td>0</td>\n",
       "      <td>1</td>\n",
       "      <td>0</td>\n",
       "      <td>0</td>\n",
       "    </tr>\n",
       "    <tr>\n",
       "      <th>21942</th>\n",
       "      <td>1</td>\n",
       "      <td>1</td>\n",
       "      <td>0</td>\n",
       "      <td>0</td>\n",
       "      <td>0</td>\n",
       "      <td>1</td>\n",
       "      <td>0</td>\n",
       "      <td>0</td>\n",
       "      <td>0</td>\n",
       "      <td>1</td>\n",
       "    </tr>\n",
       "    <tr>\n",
       "      <th>11331</th>\n",
       "      <td>1</td>\n",
       "      <td>1</td>\n",
       "      <td>0</td>\n",
       "      <td>0</td>\n",
       "      <td>0</td>\n",
       "      <td>1</td>\n",
       "      <td>0</td>\n",
       "      <td>0</td>\n",
       "      <td>1</td>\n",
       "      <td>0</td>\n",
       "    </tr>\n",
       "    <tr>\n",
       "      <th>13503</th>\n",
       "      <td>1</td>\n",
       "      <td>1</td>\n",
       "      <td>0</td>\n",
       "      <td>0</td>\n",
       "      <td>0</td>\n",
       "      <td>1</td>\n",
       "      <td>0</td>\n",
       "      <td>0</td>\n",
       "      <td>0</td>\n",
       "      <td>0</td>\n",
       "    </tr>\n",
       "  </tbody>\n",
       "</table>\n",
       "</div>"
      ],
      "text/plain": [
       "       Intercept  MONTHS_LATE:<0.693147  MONTHS_LATE:0.693147-1.098612  \\\n",
       "15717          1                      1                              0   \n",
       "11597          1                      1                              0   \n",
       "21942          1                      1                              0   \n",
       "11331          1                      1                              0   \n",
       "13503          1                      1                              0   \n",
       "\n",
       "       MONTHS_LATE:1.098612-1.609438  MONTHS_LATE:1.609438-1.791759  \\\n",
       "15717                              0                              0   \n",
       "11597                              0                              0   \n",
       "21942                              0                              0   \n",
       "11331                              0                              0   \n",
       "13503                              0                              0   \n",
       "\n",
       "       PAYMENT_RATIO:<0.955  LIMIT_BAL:<10.131  LIMIT_BAL:10.131-11.052  \\\n",
       "15717                     1                  0                        0   \n",
       "11597                     1                  0                        1   \n",
       "21942                     1                  0                        0   \n",
       "11331                     1                  0                        0   \n",
       "13503                     1                  0                        0   \n",
       "\n",
       "       LIMIT_BAL:11.052-11.973  LIMIT_BAL:11.973-12.894  \n",
       "15717                        1                        0  \n",
       "11597                        0                        0  \n",
       "21942                        0                        1  \n",
       "11331                        1                        0  \n",
       "13503                        0                        0  "
      ]
     },
     "execution_count": 43,
     "metadata": {},
     "output_type": "execute_result"
    }
   ],
   "source": [
    "# create a transformed test set through our WoE_Binning custom class\n",
    "X_test_woe_transformed = woe_transform.fit_transform(X_test)\n",
    "# insert an Intercept column in its beginning to align with the # of rows in scorecard\n",
    "X_test_woe_transformed.insert(0, 'Intercept', 1)\n",
    "# 'MONTHS_LATE' was included in class WoE_Binning above in order to define X; but drop now as duplicative\n",
    "X_test_woe_transformed.drop(['MONTHS_LATE'], axis=1, inplace = True)\n",
    "X_test_woe_transformed.head()"
   ]
  },
  {
   "cell_type": "markdown",
   "metadata": {},
   "source": [
    "After making certain adjustments to the test set, the credit scores are calculated as a simple matrix dot multiplication between the test set and the final score for each category. See the above observations together with the following final scores for the intercept and grade categories from the scorecard:"
   ]
  },
  {
   "cell_type": "code",
   "execution_count": 44,
   "metadata": {},
   "outputs": [
    {
     "name": "stdout",
     "output_type": "stream",
     "text": [
      "(5826, 10)\n",
      "(13,)\n"
     ]
    }
   ],
   "source": [
    "# get the list of final scorecard scores\n",
    "scorecard_scores = df_scorecard['Score - Final']\n",
    "# check the shapes of test set and scorecard before doing matrix dot multiplication\n",
    "print(X_test_woe_transformed.shape)\n",
    "print(scorecard_scores.shape)"
   ]
  },
  {
   "cell_type": "code",
   "execution_count": 48,
   "metadata": {},
   "outputs": [
    {
     "name": "stdout",
     "output_type": "stream",
     "text": [
      "[[ 354.]\n",
      " [   1.]\n",
      " [ 112.]\n",
      " [  32.]\n",
      " [   0.]\n",
      " [  34.]\n",
      " [-254.]\n",
      " [-200.]\n",
      " [-131.]\n",
      " [ -79.]\n",
      " [   0.]\n",
      " [   0.]\n",
      " [   0.]]\n"
     ]
    }
   ],
   "source": [
    "print(scorecard_scores)"
   ]
  },
  {
   "cell_type": "code",
   "execution_count": null,
   "metadata": {},
   "outputs": [],
   "source": []
  },
  {
   "cell_type": "code",
   "execution_count": 45,
   "metadata": {},
   "outputs": [
    {
     "name": "stdout",
     "output_type": "stream",
     "text": [
      "(5826, 13)\n",
      "(13, 1)\n"
     ]
    }
   ],
   "source": [
    "# we can see that the test set has 3 less columns than the rows in scorecard due to the reference categories\n",
    "# since the reference categories will always be scored as 0 based on the scorecard, add these categories to the end of test \n",
    "# set with 0 values\n",
    "X_test_woe_transformed = pd.concat([X_test_woe_transformed, pd.DataFrame(dict.fromkeys(ref_categories, [0] * len(X_test_woe_transformed)), \n",
    "                                                                         index = X_test_woe_transformed.index)], axis = 1)\n",
    "# Need to reshape scorecard_scores so that it is (14,1) to allow for matrix dot multiplication\n",
    "scorecard_scores = scorecard_scores.values.reshape(13, 1)\n",
    "print(X_test_woe_transformed.shape)\n",
    "print(scorecard_scores.shape)"
   ]
  },
  {
   "cell_type": "markdown",
   "metadata": {},
   "source": [
    "**Scores**"
   ]
  },
  {
   "cell_type": "code",
   "execution_count": 46,
   "metadata": {},
   "outputs": [
    {
     "data": {
      "text/html": [
       "<div>\n",
       "<style scoped>\n",
       "    .dataframe tbody tr th:only-of-type {\n",
       "        vertical-align: middle;\n",
       "    }\n",
       "\n",
       "    .dataframe tbody tr th {\n",
       "        vertical-align: top;\n",
       "    }\n",
       "\n",
       "    .dataframe thead th {\n",
       "        text-align: right;\n",
       "    }\n",
       "</style>\n",
       "<table border=\"1\" class=\"dataframe\">\n",
       "  <thead>\n",
       "    <tr style=\"text-align: right;\">\n",
       "      <th></th>\n",
       "      <th>0</th>\n",
       "    </tr>\n",
       "  </thead>\n",
       "  <tbody>\n",
       "    <tr>\n",
       "      <th>15717</th>\n",
       "      <td>258.0</td>\n",
       "    </tr>\n",
       "    <tr>\n",
       "      <th>11597</th>\n",
       "      <td>189.0</td>\n",
       "    </tr>\n",
       "    <tr>\n",
       "      <th>21942</th>\n",
       "      <td>310.0</td>\n",
       "    </tr>\n",
       "    <tr>\n",
       "      <th>11331</th>\n",
       "      <td>258.0</td>\n",
       "    </tr>\n",
       "    <tr>\n",
       "      <th>13503</th>\n",
       "      <td>389.0</td>\n",
       "    </tr>\n",
       "  </tbody>\n",
       "</table>\n",
       "</div>"
      ],
      "text/plain": [
       "           0\n",
       "15717  258.0\n",
       "11597  189.0\n",
       "21942  310.0\n",
       "11331  258.0\n",
       "13503  389.0"
      ]
     },
     "execution_count": 46,
     "metadata": {},
     "output_type": "execute_result"
    }
   ],
   "source": [
    "# matrix dot multiplication of test set with scorecard scores\n",
    "y_scores = X_test_woe_transformed.dot(scorecard_scores)\n",
    "y_scores.head()"
   ]
  },
  {
   "cell_type": "code",
   "execution_count": 66,
   "metadata": {},
   "outputs": [
    {
     "data": {
      "text/plain": [
       "310.0    1627\n",
       "258.0     997\n",
       "189.0     630\n",
       "389.0     335\n",
       "289.0     326\n",
       "220.0     321\n",
       "341.0     274\n",
       "135.0     237\n",
       "166.0     152\n",
       "188.0     147\n",
       "421.0     140\n",
       "257.0     136\n",
       "369.0      85\n",
       "134.0      69\n",
       "309.0      67\n",
       "276.0      59\n",
       "300.0      45\n",
       "420.0      42\n",
       "246.0      22\n",
       "500.0      17\n",
       "387.0      16\n",
       "224.0      16\n",
       "335.0      12\n",
       "355.0      10\n",
       "155.0       9\n",
       "307.0       7\n",
       "388.0       7\n",
       "266.0       5\n",
       "255.0       5\n",
       "466.0       5\n",
       "101.0       5\n",
       "186.0       1\n",
       "dtype: int64"
      ]
     },
     "execution_count": 66,
     "metadata": {},
     "output_type": "execute_result"
    }
   ],
   "source": [
    "y_scores.value_counts()"
   ]
  },
  {
   "cell_type": "code",
   "execution_count": null,
   "metadata": {},
   "outputs": [],
   "source": []
  }
 ],
 "metadata": {
  "kernelspec": {
   "display_name": "Python 3",
   "language": "python",
   "name": "python3"
  },
  "language_info": {
   "codemirror_mode": {
    "name": "ipython",
    "version": 3
   },
   "file_extension": ".py",
   "mimetype": "text/x-python",
   "name": "python",
   "nbconvert_exporter": "python",
   "pygments_lexer": "ipython3",
   "version": "3.7.6"
  }
 },
 "nbformat": 4,
 "nbformat_minor": 4
}
