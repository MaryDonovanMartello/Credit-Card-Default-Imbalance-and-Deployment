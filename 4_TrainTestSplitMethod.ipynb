{
 "cells": [
  {
   "cell_type": "markdown",
   "metadata": {},
   "source": [
    "# Phase 2: Classification Prediction with Imbalanced Target"
   ]
  },
  {
   "cell_type": "markdown",
   "metadata": {},
   "source": [
    "# Mary Donovan Martello"
   ]
  },
  {
   "cell_type": "markdown",
   "metadata": {},
   "source": [
    "**Phase 1 of the credit card default project involved testing five binary classification models for predicting credit card defaults.  Phase 1 can be found:** [here](https://github.com/MaryDonovanMartello/Credit-Card-Default-Prediction)\n",
    "\n",
    "**Phase 2 of the credit card default project includes (1) employing methodologies other than Principal Component Analysis to address multicollinearity and feature selection in an effort to be able to analyze individual factors that are significant for defaults, (2) testing multiple approaches to addressing an imbalanced target variable in a binary classification model, and (3) implementing deployment models to make actual predictions and convert the logistic regression coefficients to a risk score that can be used in making lending decisions.**"
   ]
  },
  {
   "cell_type": "code",
   "execution_count": null,
   "metadata": {},
   "outputs": [],
   "source": []
  },
  {
   "cell_type": "markdown",
   "metadata": {},
   "source": [
    "## Part 4:  Approach to Imbalanced Target:  Oversample Training with Holdout Method"
   ]
  },
  {
   "cell_type": "code",
   "execution_count": null,
   "metadata": {},
   "outputs": [],
   "source": []
  },
  {
   "cell_type": "code",
   "execution_count": 2,
   "metadata": {},
   "outputs": [],
   "source": [
    "# import libraries\n",
    "\n",
    "import pandas as pd\n",
    "from pandas import read_csv\n",
    "import numpy as np\n",
    "from numpy import mean\n",
    "from numpy import std\n",
    "from numpy import argmax\n",
    "from numpy import where\n",
    "\n",
    "import seaborn as sns\n",
    "import matplotlib.pyplot as plt\n",
    "\n",
    "from sklearn.preprocessing import LabelEncoder\n",
    "from sklearn.preprocessing import OneHotEncoder\n",
    "from sklearn.compose import ColumnTransformer\n",
    "from sklearn.preprocessing import RobustScaler\n",
    "from sklearn.preprocessing import StandardScaler\n",
    "\n",
    "from sklearn.feature_selection import SelectKBest\n",
    "\n",
    "from sklearn.model_selection import StratifiedKFold\n",
    "from sklearn.model_selection import RepeatedStratifiedKFold\n",
    "from sklearn.model_selection import train_test_split\n",
    "from sklearn.model_selection import GridSearchCV\n",
    "from sklearn.model_selection import cross_validate\n",
    "from sklearn.model_selection import cross_val_score\n",
    "from sklearn import model_selection, metrics\n",
    "from sklearn.metrics import accuracy_score\n",
    "from sklearn.metrics import recall_score\n",
    "from sklearn.metrics import classification_report\n",
    "from sklearn.metrics import log_loss\n",
    "from sklearn.metrics import brier_score_loss\n",
    "from sklearn.metrics import roc_auc_score\n",
    "from sklearn.metrics import confusion_matrix\n",
    "from sklearn.metrics import make_scorer, f1_score, recall_score, average_precision_score, auc, precision_recall_curve, log_loss\n",
    "\n",
    "from sklearn.ensemble import GradientBoostingClassifier\n",
    "from sklearn.linear_model import LogisticRegression\n",
    "from sklearn.ensemble import RandomForestClassifier\n",
    "\n",
    "from imblearn.over_sampling import SMOTE\n",
    "# from imblearn.under_sampling import RandomUnderSampler\n",
    "# from imblearn.over_sampling import BorderlineSMOTE\n",
    "# from imblearn.over_sampling import SVMSMOTE\n",
    "# from imblearn.over_sampling import ADASYN\n",
    "# from imblearn.pipeline import Pipeline\n",
    "\n",
    "\n",
    "#stop unnecessary warnings from printing to the screen\n",
    "import warnings\n",
    "warnings.simplefilter('ignore')\n",
    "\n",
    "\n"
   ]
  },
  {
   "cell_type": "code",
   "execution_count": null,
   "metadata": {},
   "outputs": [],
   "source": []
  },
  {
   "cell_type": "markdown",
   "metadata": {},
   "source": [
    "### This notebook uses two datasets that were cleaned and prepared in the 1_EDA_Prep notebook.  One of the datasets replaces some of the original variables with the Months_Late engineered features and the second dataset replaces some of the original variables with both the Months_Late and Payment_Ratio engineered features."
   ]
  },
  {
   "cell_type": "code",
   "execution_count": 3,
   "metadata": {},
   "outputs": [],
   "source": [
    "# Load data into a dataframe\n",
    "\n",
    "df1 = pd.read_csv('logDefaultRev1.csv')\n",
    "df2 = pd.read_csv('logDefaultRev2.csv')"
   ]
  },
  {
   "cell_type": "code",
   "execution_count": 4,
   "metadata": {},
   "outputs": [
    {
     "data": {
      "text/html": [
       "<div>\n",
       "<style scoped>\n",
       "    .dataframe tbody tr th:only-of-type {\n",
       "        vertical-align: middle;\n",
       "    }\n",
       "\n",
       "    .dataframe tbody tr th {\n",
       "        vertical-align: top;\n",
       "    }\n",
       "\n",
       "    .dataframe thead th {\n",
       "        text-align: right;\n",
       "    }\n",
       "</style>\n",
       "<table border=\"1\" class=\"dataframe\">\n",
       "  <thead>\n",
       "    <tr style=\"text-align: right;\">\n",
       "      <th></th>\n",
       "      <th>default</th>\n",
       "      <th>SEX</th>\n",
       "      <th>EDUCATION</th>\n",
       "      <th>MARRIAGE</th>\n",
       "      <th>AGE</th>\n",
       "      <th>LIMIT_BAL</th>\n",
       "      <th>BILL_AMT1</th>\n",
       "      <th>BILL_AMT2</th>\n",
       "      <th>BILL_AMT3</th>\n",
       "      <th>BILL_AMT4</th>\n",
       "      <th>BILL_AMT5</th>\n",
       "      <th>BILL_AMT6</th>\n",
       "      <th>PAY_AMT1</th>\n",
       "      <th>PAY_AMT2</th>\n",
       "      <th>PAY_AMT3</th>\n",
       "      <th>PAY_AMT4</th>\n",
       "      <th>PAY_AMT5</th>\n",
       "      <th>PAY_AMT6</th>\n",
       "      <th>MONTHS_LATE</th>\n",
       "    </tr>\n",
       "  </thead>\n",
       "  <tbody>\n",
       "    <tr>\n",
       "      <th>0</th>\n",
       "      <td>1</td>\n",
       "      <td>1</td>\n",
       "      <td>1</td>\n",
       "      <td>2</td>\n",
       "      <td>3.401197</td>\n",
       "      <td>10.819798</td>\n",
       "      <td>12.157764</td>\n",
       "      <td>11.451880</td>\n",
       "      <td>12.121908</td>\n",
       "      <td>12.185186</td>\n",
       "      <td>11.599122</td>\n",
       "      <td>12.815479</td>\n",
       "      <td>0.000000</td>\n",
       "      <td>7.901377</td>\n",
       "      <td>0.000000</td>\n",
       "      <td>7.707962</td>\n",
       "      <td>7.090910</td>\n",
       "      <td>0.000000</td>\n",
       "      <td>1.94591</td>\n",
       "    </tr>\n",
       "    <tr>\n",
       "      <th>1</th>\n",
       "      <td>1</td>\n",
       "      <td>1</td>\n",
       "      <td>2</td>\n",
       "      <td>2</td>\n",
       "      <td>3.401197</td>\n",
       "      <td>12.676079</td>\n",
       "      <td>12.318723</td>\n",
       "      <td>11.767754</td>\n",
       "      <td>12.289720</td>\n",
       "      <td>12.339830</td>\n",
       "      <td>11.875079</td>\n",
       "      <td>12.907014</td>\n",
       "      <td>7.824446</td>\n",
       "      <td>7.824446</td>\n",
       "      <td>0.000000</td>\n",
       "      <td>8.476580</td>\n",
       "      <td>7.783641</td>\n",
       "      <td>7.378384</td>\n",
       "      <td>1.94591</td>\n",
       "    </tr>\n",
       "    <tr>\n",
       "      <th>2</th>\n",
       "      <td>1</td>\n",
       "      <td>1</td>\n",
       "      <td>1</td>\n",
       "      <td>1</td>\n",
       "      <td>3.988984</td>\n",
       "      <td>12.206078</td>\n",
       "      <td>12.623996</td>\n",
       "      <td>12.257488</td>\n",
       "      <td>12.610621</td>\n",
       "      <td>12.657464</td>\n",
       "      <td>12.339112</td>\n",
       "      <td>13.100394</td>\n",
       "      <td>8.748464</td>\n",
       "      <td>8.612685</td>\n",
       "      <td>8.612685</td>\n",
       "      <td>8.612685</td>\n",
       "      <td>8.517393</td>\n",
       "      <td>8.517393</td>\n",
       "      <td>1.94591</td>\n",
       "    </tr>\n",
       "    <tr>\n",
       "      <th>3</th>\n",
       "      <td>0</td>\n",
       "      <td>2</td>\n",
       "      <td>2</td>\n",
       "      <td>2</td>\n",
       "      <td>3.295837</td>\n",
       "      <td>11.002117</td>\n",
       "      <td>12.311630</td>\n",
       "      <td>11.735957</td>\n",
       "      <td>12.285069</td>\n",
       "      <td>12.346786</td>\n",
       "      <td>11.826144</td>\n",
       "      <td>12.886411</td>\n",
       "      <td>0.000000</td>\n",
       "      <td>8.517393</td>\n",
       "      <td>7.828835</td>\n",
       "      <td>1.945910</td>\n",
       "      <td>8.006701</td>\n",
       "      <td>8.006701</td>\n",
       "      <td>1.94591</td>\n",
       "    </tr>\n",
       "    <tr>\n",
       "      <th>4</th>\n",
       "      <td>0</td>\n",
       "      <td>1</td>\n",
       "      <td>2</td>\n",
       "      <td>1</td>\n",
       "      <td>3.737670</td>\n",
       "      <td>12.542548</td>\n",
       "      <td>12.615709</td>\n",
       "      <td>12.246783</td>\n",
       "      <td>12.584776</td>\n",
       "      <td>12.658428</td>\n",
       "      <td>12.360976</td>\n",
       "      <td>13.100157</td>\n",
       "      <td>8.779711</td>\n",
       "      <td>0.000000</td>\n",
       "      <td>9.564863</td>\n",
       "      <td>9.605822</td>\n",
       "      <td>0.000000</td>\n",
       "      <td>8.517393</td>\n",
       "      <td>1.94591</td>\n",
       "    </tr>\n",
       "  </tbody>\n",
       "</table>\n",
       "</div>"
      ],
      "text/plain": [
       "   default  SEX  EDUCATION  MARRIAGE       AGE  LIMIT_BAL  BILL_AMT1  \\\n",
       "0        1    1          1         2  3.401197  10.819798  12.157764   \n",
       "1        1    1          2         2  3.401197  12.676079  12.318723   \n",
       "2        1    1          1         1  3.988984  12.206078  12.623996   \n",
       "3        0    2          2         2  3.295837  11.002117  12.311630   \n",
       "4        0    1          2         1  3.737670  12.542548  12.615709   \n",
       "\n",
       "   BILL_AMT2  BILL_AMT3  BILL_AMT4  BILL_AMT5  BILL_AMT6  PAY_AMT1  PAY_AMT2  \\\n",
       "0  11.451880  12.121908  12.185186  11.599122  12.815479  0.000000  7.901377   \n",
       "1  11.767754  12.289720  12.339830  11.875079  12.907014  7.824446  7.824446   \n",
       "2  12.257488  12.610621  12.657464  12.339112  13.100394  8.748464  8.612685   \n",
       "3  11.735957  12.285069  12.346786  11.826144  12.886411  0.000000  8.517393   \n",
       "4  12.246783  12.584776  12.658428  12.360976  13.100157  8.779711  0.000000   \n",
       "\n",
       "   PAY_AMT3  PAY_AMT4  PAY_AMT5  PAY_AMT6  MONTHS_LATE  \n",
       "0  0.000000  7.707962  7.090910  0.000000      1.94591  \n",
       "1  0.000000  8.476580  7.783641  7.378384      1.94591  \n",
       "2  8.612685  8.612685  8.517393  8.517393      1.94591  \n",
       "3  7.828835  1.945910  8.006701  8.006701      1.94591  \n",
       "4  9.564863  9.605822  0.000000  8.517393      1.94591  "
      ]
     },
     "execution_count": 4,
     "metadata": {},
     "output_type": "execute_result"
    }
   ],
   "source": [
    "df1.head()"
   ]
  },
  {
   "cell_type": "code",
   "execution_count": null,
   "metadata": {},
   "outputs": [],
   "source": []
  },
  {
   "cell_type": "code",
   "execution_count": 6,
   "metadata": {},
   "outputs": [
    {
     "data": {
      "text/plain": [
       "(30000, 19)"
      ]
     },
     "execution_count": 6,
     "metadata": {},
     "output_type": "execute_result"
    }
   ],
   "source": [
    "df1.shape"
   ]
  },
  {
   "cell_type": "code",
   "execution_count": 7,
   "metadata": {},
   "outputs": [
    {
     "data": {
      "text/plain": [
       "Index(['default', 'SEX', 'EDUCATION', 'MARRIAGE', 'AGE', 'LIMIT_BAL',\n",
       "       'BILL_AMT1', 'BILL_AMT2', 'BILL_AMT3', 'BILL_AMT4', 'BILL_AMT5',\n",
       "       'BILL_AMT6', 'PAY_AMT1', 'PAY_AMT2', 'PAY_AMT3', 'PAY_AMT4', 'PAY_AMT5',\n",
       "       'PAY_AMT6', 'MONTHS_LATE'],\n",
       "      dtype='object')"
      ]
     },
     "execution_count": 7,
     "metadata": {},
     "output_type": "execute_result"
    }
   ],
   "source": [
    "df1.columns"
   ]
  },
  {
   "cell_type": "code",
   "execution_count": 8,
   "metadata": {},
   "outputs": [
    {
     "data": {
      "text/html": [
       "<div>\n",
       "<style scoped>\n",
       "    .dataframe tbody tr th:only-of-type {\n",
       "        vertical-align: middle;\n",
       "    }\n",
       "\n",
       "    .dataframe tbody tr th {\n",
       "        vertical-align: top;\n",
       "    }\n",
       "\n",
       "    .dataframe thead th {\n",
       "        text-align: right;\n",
       "    }\n",
       "</style>\n",
       "<table border=\"1\" class=\"dataframe\">\n",
       "  <thead>\n",
       "    <tr style=\"text-align: right;\">\n",
       "      <th></th>\n",
       "      <th>default</th>\n",
       "      <th>SEX</th>\n",
       "      <th>EDUCATION</th>\n",
       "      <th>MARRIAGE</th>\n",
       "      <th>AGE</th>\n",
       "      <th>LIMIT_BAL</th>\n",
       "      <th>MONTHS_LATE</th>\n",
       "      <th>PAYMENT_RATIO</th>\n",
       "    </tr>\n",
       "  </thead>\n",
       "  <tbody>\n",
       "    <tr>\n",
       "      <th>0</th>\n",
       "      <td>1</td>\n",
       "      <td>1</td>\n",
       "      <td>1</td>\n",
       "      <td>2</td>\n",
       "      <td>3.401197</td>\n",
       "      <td>10.819798</td>\n",
       "      <td>1.94591</td>\n",
       "      <td>0.038110</td>\n",
       "    </tr>\n",
       "    <tr>\n",
       "      <th>1</th>\n",
       "      <td>1</td>\n",
       "      <td>1</td>\n",
       "      <td>2</td>\n",
       "      <td>2</td>\n",
       "      <td>3.401197</td>\n",
       "      <td>12.676079</td>\n",
       "      <td>1.94591</td>\n",
       "      <td>0.037397</td>\n",
       "    </tr>\n",
       "    <tr>\n",
       "      <th>2</th>\n",
       "      <td>1</td>\n",
       "      <td>1</td>\n",
       "      <td>1</td>\n",
       "      <td>1</td>\n",
       "      <td>3.988984</td>\n",
       "      <td>12.206078</td>\n",
       "      <td>1.94591</td>\n",
       "      <td>0.037338</td>\n",
       "    </tr>\n",
       "    <tr>\n",
       "      <th>3</th>\n",
       "      <td>0</td>\n",
       "      <td>2</td>\n",
       "      <td>2</td>\n",
       "      <td>2</td>\n",
       "      <td>3.295837</td>\n",
       "      <td>11.002117</td>\n",
       "      <td>1.94591</td>\n",
       "      <td>0.038758</td>\n",
       "    </tr>\n",
       "    <tr>\n",
       "      <th>4</th>\n",
       "      <td>0</td>\n",
       "      <td>1</td>\n",
       "      <td>2</td>\n",
       "      <td>1</td>\n",
       "      <td>3.737670</td>\n",
       "      <td>12.542548</td>\n",
       "      <td>1.94591</td>\n",
       "      <td>0.046396</td>\n",
       "    </tr>\n",
       "  </tbody>\n",
       "</table>\n",
       "</div>"
      ],
      "text/plain": [
       "   default  SEX  EDUCATION  MARRIAGE       AGE  LIMIT_BAL  MONTHS_LATE  \\\n",
       "0        1    1          1         2  3.401197  10.819798      1.94591   \n",
       "1        1    1          2         2  3.401197  12.676079      1.94591   \n",
       "2        1    1          1         1  3.988984  12.206078      1.94591   \n",
       "3        0    2          2         2  3.295837  11.002117      1.94591   \n",
       "4        0    1          2         1  3.737670  12.542548      1.94591   \n",
       "\n",
       "   PAYMENT_RATIO  \n",
       "0       0.038110  \n",
       "1       0.037397  \n",
       "2       0.037338  \n",
       "3       0.038758  \n",
       "4       0.046396  "
      ]
     },
     "execution_count": 8,
     "metadata": {},
     "output_type": "execute_result"
    }
   ],
   "source": [
    "df2.head()"
   ]
  },
  {
   "cell_type": "code",
   "execution_count": 9,
   "metadata": {},
   "outputs": [
    {
     "data": {
      "text/plain": [
       "(29130, 8)"
      ]
     },
     "execution_count": 9,
     "metadata": {},
     "output_type": "execute_result"
    }
   ],
   "source": [
    "df2.shape"
   ]
  },
  {
   "cell_type": "code",
   "execution_count": 10,
   "metadata": {},
   "outputs": [
    {
     "data": {
      "text/plain": [
       "Index(['default', 'SEX', 'EDUCATION', 'MARRIAGE', 'AGE', 'LIMIT_BAL',\n",
       "       'MONTHS_LATE', 'PAYMENT_RATIO'],\n",
       "      dtype='object')"
      ]
     },
     "execution_count": 10,
     "metadata": {},
     "output_type": "execute_result"
    }
   ],
   "source": [
    "df2.columns"
   ]
  },
  {
   "cell_type": "code",
   "execution_count": null,
   "metadata": {},
   "outputs": [],
   "source": []
  },
  {
   "cell_type": "markdown",
   "metadata": {},
   "source": [
    "**Create feature dataframes for modeling.**"
   ]
  },
  {
   "cell_type": "code",
   "execution_count": 11,
   "metadata": {},
   "outputs": [],
   "source": [
    "#df1\n",
    "\n",
    "# separate into input and output columns (X variable for features and y for target variables)\n",
    "\n",
    "X1 = df1.drop('default', axis = 1) \n",
    "y1 = df1['default']"
   ]
  },
  {
   "cell_type": "code",
   "execution_count": 12,
   "metadata": {},
   "outputs": [
    {
     "data": {
      "text/plain": [
       "0    23364\n",
       "1     6636\n",
       "Name: default, dtype: int64"
      ]
     },
     "execution_count": 12,
     "metadata": {},
     "output_type": "execute_result"
    }
   ],
   "source": [
    "y1.value_counts()"
   ]
  },
  {
   "cell_type": "code",
   "execution_count": 42,
   "metadata": {},
   "outputs": [],
   "source": [
    "#df1 subset\n",
    "\n",
    "# separate into input and output columns (X variable for features and y for target variables)\n",
    "\n",
    "X1s = df1.loc[:, ['MONTHS_LATE', 'LIMIT_BAL', 'AGE']] \n",
    "y1s = df1['default']"
   ]
  },
  {
   "cell_type": "code",
   "execution_count": 13,
   "metadata": {},
   "outputs": [],
   "source": [
    "#df1\n",
    "\n",
    "# one-hot encode input categorical variables\n",
    "transformer = ColumnTransformer(transformers=[('cat', OneHotEncoder(), [0, 1, 2])], remainder='passthrough')\n",
    "X1 = transformer.fit_transform(X1)\n"
   ]
  },
  {
   "cell_type": "code",
   "execution_count": null,
   "metadata": {},
   "outputs": [],
   "source": []
  },
  {
   "cell_type": "code",
   "execution_count": 15,
   "metadata": {},
   "outputs": [],
   "source": [
    "#df2\n",
    "\n",
    "# separate into input and output columns (X variable for features and y for target variables)\n",
    "\n",
    "X2 = df2.drop('default', axis = 1) \n",
    "y2 = df2['default']"
   ]
  },
  {
   "cell_type": "code",
   "execution_count": 16,
   "metadata": {},
   "outputs": [
    {
     "data": {
      "text/plain": [
       "0    22811\n",
       "1     6319\n",
       "Name: default, dtype: int64"
      ]
     },
     "execution_count": 16,
     "metadata": {},
     "output_type": "execute_result"
    }
   ],
   "source": [
    "y2.value_counts()"
   ]
  },
  {
   "cell_type": "code",
   "execution_count": 17,
   "metadata": {},
   "outputs": [
    {
     "data": {
      "text/plain": [
       "Index(['SEX', 'EDUCATION', 'MARRIAGE', 'AGE', 'LIMIT_BAL', 'MONTHS_LATE',\n",
       "       'PAYMENT_RATIO'],\n",
       "      dtype='object')"
      ]
     },
     "execution_count": 17,
     "metadata": {},
     "output_type": "execute_result"
    }
   ],
   "source": [
    "X2.columns"
   ]
  },
  {
   "cell_type": "code",
   "execution_count": 18,
   "metadata": {},
   "outputs": [],
   "source": [
    "#df2\n",
    "\n",
    "# one-hot encode input categorical variables\n",
    "\n",
    "transformer = ColumnTransformer(transformers=[('cat', OneHotEncoder(), [0, 1, 2])], remainder='passthrough')\n",
    "X2 = transformer.fit_transform(X2)\n"
   ]
  },
  {
   "cell_type": "code",
   "execution_count": 43,
   "metadata": {},
   "outputs": [],
   "source": [
    "#df2 subset\n",
    "\n",
    "# separate into input and output columns (X variable for features and y for target variables)\n",
    "\n",
    "X2s = df2.loc[:, ['MONTHS_LATE', 'PAYMENT_RATIO',]] \n",
    "y2s = df2['default']"
   ]
  },
  {
   "cell_type": "code",
   "execution_count": null,
   "metadata": {},
   "outputs": [],
   "source": []
  },
  {
   "cell_type": "markdown",
   "metadata": {},
   "source": [
    "**Split and scale data**"
   ]
  },
  {
   "cell_type": "code",
   "execution_count": 19,
   "metadata": {},
   "outputs": [],
   "source": [
    "# separate data into training and test data\n",
    "X1Train, X1Test, y1Train, y1Test = train_test_split(X1, y1, test_size =0.2, random_state=1)\n",
    "\n",
    "# define the scaler\n",
    "scaler = StandardScaler()\n",
    "# fit and transform on the training dataset\n",
    "X1Train = scaler.fit_transform(X1Train)\n",
    "# transform the test dataset\n",
    "X1Test = scaler.transform(X1Test)"
   ]
  },
  {
   "cell_type": "code",
   "execution_count": 35,
   "metadata": {},
   "outputs": [],
   "source": [
    "# separate data into training and test data\n",
    "X2Train, X2Test, y2Train, y2Test = train_test_split(X2, y2, test_size =0.2, random_state=1)\n",
    "\n",
    "# define the scaler\n",
    "scaler2 = StandardScaler()\n",
    "# fit and transform on the training dataset\n",
    "X2Train = scaler.fit_transform(X2Train)\n",
    "# transform the test dataset\n",
    "X2Test = scaler.transform(X2Test)"
   ]
  },
  {
   "cell_type": "code",
   "execution_count": 44,
   "metadata": {},
   "outputs": [],
   "source": [
    "# separate data into training and test data\n",
    "X1sTrain, X1sTest, y1sTrain, y1sTest = train_test_split(X1s, y1s, test_size =0.2, random_state=1)\n",
    "\n",
    "# define the scaler\n",
    "scaler1s = StandardScaler()\n",
    "# fit and transform on the training dataset\n",
    "X1sTrain = scaler.fit_transform(X1sTrain)\n",
    "# transform the test dataset\n",
    "X1sTest = scaler.transform(X1sTest)"
   ]
  },
  {
   "cell_type": "code",
   "execution_count": 45,
   "metadata": {},
   "outputs": [],
   "source": [
    "# separate data into training and test data\n",
    "X2sTrain, X2sTest, y2sTrain, y2sTest = train_test_split(X2s, y2s, test_size =0.2, random_state=1)\n",
    "\n",
    "# define the scaler\n",
    "scaler2s = StandardScaler()\n",
    "# fit and transform on the training dataset\n",
    "X2sTrain = scaler.fit_transform(X2sTrain)\n",
    "# transform the test dataset\n",
    "X2sTest = scaler.transform(X2sTest)"
   ]
  },
  {
   "cell_type": "code",
   "execution_count": null,
   "metadata": {},
   "outputs": [],
   "source": []
  },
  {
   "cell_type": "markdown",
   "metadata": {},
   "source": [
    "**Look at target imbalance**"
   ]
  },
  {
   "cell_type": "code",
   "execution_count": 20,
   "metadata": {},
   "outputs": [
    {
     "data": {
      "text/plain": [
       "0    18705\n",
       "1     5295\n",
       "Name: default, dtype: int64"
      ]
     },
     "execution_count": 20,
     "metadata": {},
     "output_type": "execute_result"
    }
   ],
   "source": [
    "y1Train.value_counts()"
   ]
  },
  {
   "cell_type": "code",
   "execution_count": 36,
   "metadata": {},
   "outputs": [
    {
     "data": {
      "text/plain": [
       "0    18231\n",
       "1     5073\n",
       "Name: default, dtype: int64"
      ]
     },
     "execution_count": 36,
     "metadata": {},
     "output_type": "execute_result"
    }
   ],
   "source": [
    "y2Train.value_counts()"
   ]
  },
  {
   "cell_type": "code",
   "execution_count": null,
   "metadata": {},
   "outputs": [],
   "source": []
  },
  {
   "cell_type": "markdown",
   "metadata": {},
   "source": [
    "**Oversample Training Data**"
   ]
  },
  {
   "cell_type": "code",
   "execution_count": 22,
   "metadata": {},
   "outputs": [],
   "source": [
    "# over sample the minority class\n",
    "#from imblearn.over_sampling import SMOTE\n",
    "\n",
    "smote = SMOTE()\n",
    "X1TrainBal, y1TrainBal = smote.fit_resample(X1Train, y1Train)"
   ]
  },
  {
   "cell_type": "code",
   "execution_count": 23,
   "metadata": {},
   "outputs": [
    {
     "name": "stdout",
     "output_type": "stream",
     "text": [
      "18705\n"
     ]
    }
   ],
   "source": [
    "# new balance\n",
    "yPosClass = np.count_nonzero(y1TrainBal==1)\n",
    "print(yPosClass)"
   ]
  },
  {
   "cell_type": "code",
   "execution_count": 24,
   "metadata": {},
   "outputs": [
    {
     "name": "stdout",
     "output_type": "stream",
     "text": [
      "18705\n"
     ]
    }
   ],
   "source": [
    "yNegClass = np.count_nonzero(y1TrainBal==0)\n",
    "print(yNegClass)"
   ]
  },
  {
   "cell_type": "code",
   "execution_count": 37,
   "metadata": {},
   "outputs": [],
   "source": [
    "X2TrainBal, y2TrainBal = smote.fit_resample(X2Train, y2Train)"
   ]
  },
  {
   "cell_type": "code",
   "execution_count": 46,
   "metadata": {},
   "outputs": [],
   "source": [
    "X1sTrainBal, y1sTrainBal = smote.fit_resample(X1sTrain, y1sTrain)"
   ]
  },
  {
   "cell_type": "code",
   "execution_count": 47,
   "metadata": {},
   "outputs": [],
   "source": [
    "X2sTrainBal, y2sTrainBal = smote.fit_resample(X2sTrain, y2sTrain)"
   ]
  },
  {
   "cell_type": "code",
   "execution_count": null,
   "metadata": {},
   "outputs": [],
   "source": []
  },
  {
   "cell_type": "markdown",
   "metadata": {},
   "source": [
    "**Gridsearch to tune Logistic Regression model**"
   ]
  },
  {
   "cell_type": "code",
   "execution_count": 25,
   "metadata": {},
   "outputs": [],
   "source": [
    "params = {'C': [1.00000000e+00, 2.78255940e+00, 7.74263683e+00, 2.15443469e+01,\n",
    "       5.99484250e+01, 1.66810054e+02, 4.64158883e+02, 1.29154967e+03,\n",
    "       3.59381366e+03, 1.00000000e+04],\n",
    "            'penalty': ['l1', 'l2']}\n",
    "\n",
    "skf = StratifiedKFold(n_splits=10, shuffle=True, random_state=1)\n",
    "\n",
    "lr_grid = GridSearchCV(LogisticRegression(),\n",
    "                       param_grid=params,\n",
    "                       scoring={'avr': make_scorer(recall_score, needs_proba=False),\n",
    "                                'll': make_scorer(log_loss, greater_is_better=False, needs_proba=True)},\n",
    "                       n_jobs=-1,\n",
    "                       cv=skf,\n",
    "                       refit='avr')"
   ]
  },
  {
   "cell_type": "markdown",
   "metadata": {},
   "source": [
    "**Fit the oversampled training data**"
   ]
  },
  {
   "cell_type": "markdown",
   "metadata": {},
   "source": [
    "Duplicate for each of four subsets of data."
   ]
  },
  {
   "cell_type": "code",
   "execution_count": 27,
   "metadata": {},
   "outputs": [
    {
     "data": {
      "text/plain": [
       "GridSearchCV(cv=StratifiedKFold(n_splits=10, random_state=1, shuffle=True),\n",
       "       error_score='raise-deprecating',\n",
       "       estimator=LogisticRegression(C=1.0, class_weight=None, dual=False, fit_intercept=True,\n",
       "          intercept_scaling=1, max_iter=100, multi_class='warn',\n",
       "          n_jobs=None, penalty='l2', random_state=None, solver='warn',\n",
       "          tol=0.0001, verbose=0, warm_start=False),\n",
       "       fit_params=None, iid='warn', n_jobs=-1,\n",
       "       param_grid={'C': [1.0, 2.7825594, 7.74263683, 21.5443469, 59.948425, 166.810054, 464.158883, 1291.54967, 3593.81366, 10000.0], 'penalty': ['l1', 'l2']},\n",
       "       pre_dispatch='2*n_jobs', refit='avr', return_train_score='warn',\n",
       "       scoring={'avr': make_scorer(recall_score), 'll': make_scorer(log_loss, greater_is_better=False, needs_proba=True)},\n",
       "       verbose=0)"
      ]
     },
     "execution_count": 27,
     "metadata": {},
     "output_type": "execute_result"
    }
   ],
   "source": [
    "#X1 df\n",
    "lr_grid.fit(X1TrainBal, y1TrainBal)"
   ]
  },
  {
   "cell_type": "code",
   "execution_count": 38,
   "metadata": {},
   "outputs": [
    {
     "data": {
      "text/plain": [
       "GridSearchCV(cv=StratifiedKFold(n_splits=10, random_state=1, shuffle=True),\n",
       "       error_score='raise-deprecating',\n",
       "       estimator=LogisticRegression(C=1.0, class_weight=None, dual=False, fit_intercept=True,\n",
       "          intercept_scaling=1, max_iter=100, multi_class='warn',\n",
       "          n_jobs=None, penalty='l2', random_state=None, solver='warn',\n",
       "          tol=0.0001, verbose=0, warm_start=False),\n",
       "       fit_params=None, iid='warn', n_jobs=-1,\n",
       "       param_grid={'C': [1.0, 2.7825594, 7.74263683, 21.5443469, 59.948425, 166.810054, 464.158883, 1291.54967, 3593.81366, 10000.0], 'penalty': ['l1', 'l2']},\n",
       "       pre_dispatch='2*n_jobs', refit='avr', return_train_score='warn',\n",
       "       scoring={'avr': make_scorer(recall_score), 'll': make_scorer(log_loss, greater_is_better=False, needs_proba=True)},\n",
       "       verbose=0)"
      ]
     },
     "execution_count": 38,
     "metadata": {},
     "output_type": "execute_result"
    }
   ],
   "source": [
    "#X2 df\n",
    "lr_grid.fit(X2TrainBal, y2TrainBal)"
   ]
  },
  {
   "cell_type": "code",
   "execution_count": 48,
   "metadata": {},
   "outputs": [
    {
     "data": {
      "text/plain": [
       "GridSearchCV(cv=StratifiedKFold(n_splits=10, random_state=1, shuffle=True),\n",
       "       error_score='raise-deprecating',\n",
       "       estimator=LogisticRegression(C=1.0, class_weight=None, dual=False, fit_intercept=True,\n",
       "          intercept_scaling=1, max_iter=100, multi_class='warn',\n",
       "          n_jobs=None, penalty='l2', random_state=None, solver='warn',\n",
       "          tol=0.0001, verbose=0, warm_start=False),\n",
       "       fit_params=None, iid='warn', n_jobs=-1,\n",
       "       param_grid={'C': [1.0, 2.7825594, 7.74263683, 21.5443469, 59.948425, 166.810054, 464.158883, 1291.54967, 3593.81366, 10000.0], 'penalty': ['l1', 'l2']},\n",
       "       pre_dispatch='2*n_jobs', refit='avr', return_train_score='warn',\n",
       "       scoring={'avr': make_scorer(recall_score), 'll': make_scorer(log_loss, greater_is_better=False, needs_proba=True)},\n",
       "       verbose=0)"
      ]
     },
     "execution_count": 48,
     "metadata": {},
     "output_type": "execute_result"
    }
   ],
   "source": [
    "#X1s df\n",
    "lr_grid.fit(X1sTrainBal, y1sTrainBal)"
   ]
  },
  {
   "cell_type": "code",
   "execution_count": 52,
   "metadata": {},
   "outputs": [
    {
     "data": {
      "text/plain": [
       "GridSearchCV(cv=StratifiedKFold(n_splits=10, random_state=1, shuffle=True),\n",
       "       error_score='raise-deprecating',\n",
       "       estimator=LogisticRegression(C=1.0, class_weight=None, dual=False, fit_intercept=True,\n",
       "          intercept_scaling=1, max_iter=100, multi_class='warn',\n",
       "          n_jobs=None, penalty='l2', random_state=None, solver='warn',\n",
       "          tol=0.0001, verbose=0, warm_start=False),\n",
       "       fit_params=None, iid='warn', n_jobs=-1,\n",
       "       param_grid={'C': [1.0, 2.7825594, 7.74263683, 21.5443469, 59.948425, 166.810054, 464.158883, 1291.54967, 3593.81366, 10000.0], 'penalty': ['l1', 'l2']},\n",
       "       pre_dispatch='2*n_jobs', refit='avr', return_train_score='warn',\n",
       "       scoring={'avr': make_scorer(recall_score), 'll': make_scorer(log_loss, greater_is_better=False, needs_proba=True)},\n",
       "       verbose=0)"
      ]
     },
     "execution_count": 52,
     "metadata": {},
     "output_type": "execute_result"
    }
   ],
   "source": [
    "#X2s df\n",
    "lr_grid.fit(X2sTrainBal, y2sTrainBal)"
   ]
  },
  {
   "cell_type": "code",
   "execution_count": null,
   "metadata": {},
   "outputs": [],
   "source": []
  },
  {
   "cell_type": "code",
   "execution_count": 68,
   "metadata": {},
   "outputs": [
    {
     "data": {
      "text/plain": [
       "['TrainTest1model.sav']"
      ]
     },
     "execution_count": 68,
     "metadata": {},
     "output_type": "execute_result"
    }
   ],
   "source": [
    "# save the model to a file\n",
    "#import joblib\n",
    "filename = 'TrainTest1model.sav'  \n",
    "joblib.dump(lr_grid, filename)"
   ]
  },
  {
   "cell_type": "code",
   "execution_count": null,
   "metadata": {},
   "outputs": [],
   "source": []
  },
  {
   "cell_type": "markdown",
   "metadata": {},
   "source": [
    "**Evaluate Predictions**"
   ]
  },
  {
   "cell_type": "code",
   "execution_count": 29,
   "metadata": {},
   "outputs": [
    {
     "data": {
      "text/plain": [
       "<AxesSubplot:>"
      ]
     },
     "execution_count": 29,
     "metadata": {},
     "output_type": "execute_result"
    },
    {
     "data": {
      "image/png": "[encoded data removed]",
      "text/plain": [
       "<Figure size 432x288 with 2 Axes>"
      ]
     },
     "metadata": {
      "needs_background": "light"
     },
     "output_type": "display_data"
    }
   ],
   "source": [
    "# predictions X1 df\n",
    "y1Pred = lr_grid.predict(X1Test)\n",
    "\n",
    "lrCR = classification_report(y1Test, y1Pred, output_dict=True, target_names= ['No Default', 'Default'])\n",
    "\n",
    "# Create a dataframe from the dictionary and plot a heatmap of it.\n",
    "# .iloc[:-1, :] to exclude support\n",
    "sns.heatmap(pd.DataFrame(lrCR).iloc[:-1, :].T, annot=True, cmap=\"Blues\")"
   ]
  },
  {
   "cell_type": "code",
   "execution_count": 30,
   "metadata": {},
   "outputs": [
    {
     "name": "stdout",
     "output_type": "stream",
     "text": [
      "{'No Default': {'precision': 0.8812625250501002, 'recall': 0.755097660442155, 'f1-score': 0.8133163796092938, 'support': 4659}, 'Default': {'precision': 0.43177290836653387, 'recall': 0.6465324384787472, 'f1-score': 0.517766497461929, 'support': 1341}, 'micro avg': {'precision': 0.7308333333333333, 'recall': 0.7308333333333333, 'f1-score': 0.7308333333333333, 'support': 6000}, 'macro avg': {'precision': 0.656517716708317, 'recall': 0.700815049460451, 'f1-score': 0.6655414385356114, 'support': 6000}, 'weighted avg': {'precision': 0.780801595721323, 'recall': 0.7308333333333333, 'f1-score': 0.7472609809493577, 'support': 6000}}\n"
     ]
    }
   ],
   "source": [
    "print(lrCR)"
   ]
  },
  {
   "cell_type": "code",
   "execution_count": 40,
   "metadata": {},
   "outputs": [
    {
     "data": {
      "text/plain": [
       "<AxesSubplot:>"
      ]
     },
     "execution_count": 40,
     "metadata": {},
     "output_type": "execute_result"
    },
    {
     "data": {
      "image/png": "[encoded data removed]",
      "text/plain": [
       "<Figure size 432x288 with 2 Axes>"
      ]
     },
     "metadata": {
      "needs_background": "light"
     },
     "output_type": "display_data"
    }
   ],
   "source": [
    "# predictions X2\n",
    "y2Pred = lr_grid.predict(X2Test)\n",
    "\n",
    "lrCR2 = classification_report(y2Test, y2Pred, output_dict=True, target_names= ['No Default', 'Default'])\n",
    "\n",
    "# Create a dataframe from the dictionary and plot a heatmap of it.\n",
    "# .iloc[:-1, :] to exclude support\n",
    "sns.heatmap(pd.DataFrame(lrCR2).iloc[:-1, :].T, annot=True, cmap=\"Blues\")"
   ]
  },
  {
   "cell_type": "code",
   "execution_count": 41,
   "metadata": {},
   "outputs": [
    {
     "data": {
      "text/plain": [
       "{'No Default': {'precision': 0.8920340681362725,\n",
       "  'recall': 0.7775109170305677,\n",
       "  'f1-score': 0.8308446103593095,\n",
       "  'support': 4580},\n",
       " 'Default': {'precision': 0.44438386041439476,\n",
       "  'recall': 0.6540930979133226,\n",
       "  'f1-score': 0.5292207792207793,\n",
       "  'support': 1246},\n",
       " 'micro avg': {'precision': 0.7511156882938551,\n",
       "  'recall': 0.7511156882938551,\n",
       "  'f1-score': 0.7511156882938551,\n",
       "  'support': 5826},\n",
       " 'macro avg': {'precision': 0.6682089642753336,\n",
       "  'recall': 0.7158020074719451,\n",
       "  'f1-score': 0.6800326947900444,\n",
       "  'support': 5826},\n",
       " 'weighted avg': {'precision': 0.7962956268692867,\n",
       "  'recall': 0.7511156882938551,\n",
       "  'f1-score': 0.7663366643245328,\n",
       "  'support': 5826}}"
      ]
     },
     "execution_count": 41,
     "metadata": {},
     "output_type": "execute_result"
    }
   ],
   "source": [
    "lrCR2"
   ]
  },
  {
   "cell_type": "code",
   "execution_count": 50,
   "metadata": {},
   "outputs": [
    {
     "data": {
      "text/plain": [
       "<AxesSubplot:>"
      ]
     },
     "execution_count": 50,
     "metadata": {},
     "output_type": "execute_result"
    },
    {
     "data": {
      "image/png": "[encoded data removed]",
      "text/plain": [
       "<Figure size 432x288 with 2 Axes>"
      ]
     },
     "metadata": {
      "needs_background": "light"
     },
     "output_type": "display_data"
    }
   ],
   "source": [
    "# predictions X1s subset\n",
    "y1sPred = lr_grid.predict(X1sTest)\n",
    "\n",
    "lrCR1s = classification_report(y1sTest, y1sPred, output_dict=True, target_names= ['No Default', 'Default'])\n",
    "\n",
    "# Create a dataframe from the dictionary and plot a heatmap of it.\n",
    "# .iloc[:-1, :] to exclude support\n",
    "sns.heatmap(pd.DataFrame(lrCR1s).iloc[:-1, :].T, annot=True, cmap=\"Blues\")"
   ]
  },
  {
   "cell_type": "code",
   "execution_count": 51,
   "metadata": {},
   "outputs": [
    {
     "data": {
      "text/plain": [
       "{'No Default': {'precision': 0.8783484885721308,\n",
       "  'recall': 0.7671174071689204,\n",
       "  'f1-score': 0.8189734188817599,\n",
       "  'support': 4659},\n",
       " 'Default': {'precision': 0.43811496633868463,\n",
       "  'recall': 0.6308724832214765,\n",
       "  'f1-score': 0.5171149144254279,\n",
       "  'support': 1341},\n",
       " 'micro avg': {'precision': 0.7366666666666667,\n",
       "  'recall': 0.7366666666666667,\n",
       "  'f1-score': 0.7366666666666667,\n",
       "  'support': 6000},\n",
       " 'macro avg': {'precision': 0.6582317274554077,\n",
       "  'recall': 0.6989949451951984,\n",
       "  'f1-score': 0.6680441666535939,\n",
       "  'support': 6000},\n",
       " 'weighted avg': {'precision': 0.7799562963529555,\n",
       "  'recall': 0.7366666666666667,\n",
       "  'f1-score': 0.7515080431357698,\n",
       "  'support': 6000}}"
      ]
     },
     "execution_count": 51,
     "metadata": {},
     "output_type": "execute_result"
    }
   ],
   "source": [
    "lrCR1s"
   ]
  },
  {
   "cell_type": "code",
   "execution_count": 54,
   "metadata": {},
   "outputs": [
    {
     "data": {
      "text/plain": [
       "<AxesSubplot:>"
      ]
     },
     "execution_count": 54,
     "metadata": {},
     "output_type": "execute_result"
    },
    {
     "data": {
      "image/png": "[encoded data removed]",
      "text/plain": [
       "<Figure size 432x288 with 2 Axes>"
      ]
     },
     "metadata": {
      "needs_background": "light"
     },
     "output_type": "display_data"
    }
   ],
   "source": [
    "# predictions X2s subset\n",
    "y2sPred = lr_grid.predict(X2sTest)\n",
    "\n",
    "lrCR2s = classification_report(y2sTest, y2sPred, output_dict=True, target_names= ['No Default', 'Default'])\n",
    "\n",
    "# Create a dataframe from the dictionary and plot a heatmap of it.\n",
    "# .iloc[:-1, :] to exclude support\n",
    "sns.heatmap(pd.DataFrame(lrCR2s).iloc[:-1, :].T, annot=True, cmap=\"Blues\")"
   ]
  },
  {
   "cell_type": "code",
   "execution_count": 55,
   "metadata": {},
   "outputs": [
    {
     "data": {
      "text/plain": [
       "{'No Default': {'precision': 0.8924675324675325,\n",
       "  'recall': 0.7502183406113537,\n",
       "  'f1-score': 0.8151838671411625,\n",
       "  'support': 4580},\n",
       " 'Default': {'precision': 0.42105263157894735,\n",
       "  'recall': 0.6677367576243981,\n",
       "  'f1-score': 0.516449410304159,\n",
       "  'support': 1246},\n",
       " 'micro avg': {'precision': 0.7325780981805698,\n",
       "  'recall': 0.7325780981805698,\n",
       "  'f1-score': 0.7325780981805697,\n",
       "  'support': 5826},\n",
       " 'macro avg': {'precision': 0.65676008202324,\n",
       "  'recall': 0.7089775491178759,\n",
       "  'f1-score': 0.6658166387226607,\n",
       "  'support': 5826},\n",
       " 'weighted avg': {'precision': 0.7916465632764619,\n",
       "  'recall': 0.7325780981805698,\n",
       "  'f1-score': 0.7512938683050989,\n",
       "  'support': 5826}}"
      ]
     },
     "execution_count": 55,
     "metadata": {},
     "output_type": "execute_result"
    }
   ],
   "source": [
    "lrCR2s"
   ]
  },
  {
   "cell_type": "code",
   "execution_count": null,
   "metadata": {},
   "outputs": [],
   "source": []
  },
  {
   "cell_type": "code",
   "execution_count": null,
   "metadata": {},
   "outputs": [],
   "source": []
  }
 ],
 "metadata": {
  "kernelspec": {
   "display_name": "Python 3",
   "language": "python",
   "name": "python3"
  },
  "language_info": {
   "codemirror_mode": {
    "name": "ipython",
    "version": 3
   },
   "file_extension": ".py",
   "mimetype": "text/x-python",
   "name": "python",
   "nbconvert_exporter": "python",
   "pygments_lexer": "ipython3",
   "version": "3.7.6"
  }
 },
 "nbformat": 4,
 "nbformat_minor": 4
}
