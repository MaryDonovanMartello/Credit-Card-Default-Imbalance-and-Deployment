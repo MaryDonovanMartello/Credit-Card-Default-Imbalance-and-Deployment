{
 "cells": [
  {
   "cell_type": "markdown",
   "metadata": {},
   "source": [
    "# Phase 2:  Classification Prediction with Imbalanced Target "
   ]
  },
  {
   "cell_type": "markdown",
   "metadata": {},
   "source": [
    "# Mary Donovan Martello"
   ]
  },
  {
   "cell_type": "markdown",
   "metadata": {},
   "source": [
    "**Phase 1 of the credit card default project involved testing five binary classification models for predicting credit card defaults.  Phase 1 can be found:** [here](https://github.com/MaryDonovanMartello/Credit-Card-Default-Prediction)\n",
    "\n",
    "**Phase 2 of the credit card default project includes (1) employing methodologies other than Principal Component Analysis to address multicollinearity and feature selection in an effort to be able to analyze individual factors that are significant for defaults, (2) testing multiple approaches to addressing an imbalanced target variable in a binary classification model, and (3) implementing deployment models to make actual predictions and convert the logistic regression coefficients to a risk score that can be used in making lending decisions.**"
   ]
  },
  {
   "cell_type": "markdown",
   "metadata": {},
   "source": [
    "## Part 1:  Exploratory Data Analysis and Data Preparation"
   ]
  },
  {
   "cell_type": "markdown",
   "metadata": {},
   "source": [
    "**Phase 2 for exploratory data analysis and data preparation looks only at reducing the features with a method other than Principal Component Analysis.  This Phase 2 notebook only includes code for the new Phase 2 analysis.  The EDA for the other features can be found in the link above.**"
   ]
  },
  {
   "cell_type": "code",
   "execution_count": null,
   "metadata": {},
   "outputs": [],
   "source": []
  },
  {
   "cell_type": "code",
   "execution_count": 2,
   "metadata": {},
   "outputs": [],
   "source": [
    "# import libraries for data preparation and exploration phase\n",
    "import pandas as pd\n",
    "from pandas import DataFrame\n",
    "import numpy as np\n",
    "# importing regex module (search strings) RegEx can be used to check if a string contains the specified search pattern\n",
    "import re\n",
    "#from pandas_profiling import ProfileReport\n",
    "\n",
    "import yellowbrick\n",
    "from yellowbrick.features import Rank2D\n",
    "import matplotlib.pyplot as plt\n",
    "import seaborn as sn\n",
    "\n",
    "# import libraries for statistical exploratory analysis\n",
    "from collections import Counter\n",
    "import random\n",
    "import scipy.stats\n",
    "import statsmodels.formula.api as smf\n",
    "from scipy import stats\n",
    "from scipy.stats import norm\n",
    "\n",
    "# scaling and feature importance\n",
    "from sklearn.preprocessing import StandardScaler\n",
    "from sklearn.linear_model import LogisticRegression\n",
    "from sklearn.tree import DecisionTreeClassifier\n",
    "from sklearn.ensemble import RandomForestClassifier\n",
    "import xgboost\n",
    "from xgboost import XGBClassifier\n",
    "from xgboost import plot_importance\n",
    "from sklearn.feature_selection import f_classif\n",
    "from sklearn.model_selection import cross_validate\n",
    "from sklearn.ensemble import  RandomForestClassifier\n",
    "from sklearn.linear_model import LogisticRegression\n",
    "from sklearn.model_selection import StratifiedKFold\n",
    "from sklearn.feature_selection import RFECV\n",
    "from sklearn.discriminant_analysis import LinearDiscriminantAnalysis\n",
    "from sklearn.decomposition import FactorAnalysis\n",
    "\n",
    "#stop unnecessary warnings from printing to the screen\n",
    "import warnings\n",
    "warnings.simplefilter('ignore')\n"
   ]
  },
  {
   "cell_type": "code",
   "execution_count": null,
   "metadata": {},
   "outputs": [],
   "source": []
  },
  {
   "cell_type": "markdown",
   "metadata": {},
   "source": [
    "### The dataset used for this project includes actual credit card records at points in time in the past. Each record in the dataset also includes a label of whether the account holder defaulted the next month (default = 0) or did not default the next month (default = 1). Each record also includes demographic data of the account holder (age, gender, marital status and education), as well as the account holder’s credit limit, and multiple monthly values of how long the payments are overdue, the debt outstanding, and the amounts of previous payments."
   ]
  },
  {
   "cell_type": "code",
   "execution_count": null,
   "metadata": {},
   "outputs": [],
   "source": []
  },
  {
   "cell_type": "code",
   "execution_count": 3,
   "metadata": {},
   "outputs": [],
   "source": [
    "# import data\n",
    "df = pd.read_csv('UCI_Credit_CardRev.csv')"
   ]
  },
  {
   "cell_type": "code",
   "execution_count": null,
   "metadata": {},
   "outputs": [],
   "source": []
  },
  {
   "cell_type": "markdown",
   "metadata": {},
   "source": [
    "## Data Cleaning"
   ]
  },
  {
   "cell_type": "code",
   "execution_count": 4,
   "metadata": {},
   "outputs": [
    {
     "data": {
      "text/plain": [
       "Index(['ID', 'LIMIT_BAL', 'SEX', 'EDUCATION', 'MARRIAGE', 'AGE', 'PAY_0',\n",
       "       'PAY_2', 'PAY_3', 'PAY_4', 'PAY_5', 'PAY_6', 'BILL_AMT1', 'BILL_AMT2',\n",
       "       'BILL_AMT3', 'BILL_AMT4', 'BILL_AMT5', 'BILL_AMT6', 'PAY_AMT1',\n",
       "       'PAY_AMT2', 'PAY_AMT3', 'PAY_AMT4', 'PAY_AMT5', 'PAY_AMT6',\n",
       "       'default.payment.next.month'],\n",
       "      dtype='object')"
      ]
     },
     "execution_count": 4,
     "metadata": {},
     "output_type": "execute_result"
    }
   ],
   "source": [
    "# print the column names\n",
    "df.columns"
   ]
  },
  {
   "cell_type": "code",
   "execution_count": 5,
   "metadata": {},
   "outputs": [
    {
     "data": {
      "text/plain": [
       "Index(['ID', 'LIMIT_BAL', 'SEX', 'EDUCATION', 'MARRIAGE', 'AGE', 'PAY_1',\n",
       "       'PAY_2', 'PAY_3', 'PAY_4', 'PAY_5', 'PAY_6', 'BILL_AMT1', 'BILL_AMT2',\n",
       "       'BILL_AMT3', 'BILL_AMT4', 'BILL_AMT5', 'BILL_AMT6', 'PAY_AMT1',\n",
       "       'PAY_AMT2', 'PAY_AMT3', 'PAY_AMT4', 'PAY_AMT5', 'PAY_AMT6', 'default'],\n",
       "      dtype='object')"
      ]
     },
     "execution_count": 5,
     "metadata": {},
     "output_type": "execute_result"
    }
   ],
   "source": [
    "# rename difficult column names\n",
    "\n",
    "df.rename(columns={'PAY_0': 'PAY_1', 'default.payment.next.month': 'default'}, inplace=True)\n",
    "df.columns"
   ]
  },
  {
   "cell_type": "code",
   "execution_count": 6,
   "metadata": {},
   "outputs": [],
   "source": [
    "pd.set_option('display.max_columns', None)"
   ]
  },
  {
   "cell_type": "code",
   "execution_count": 7,
   "metadata": {
    "scrolled": true
   },
   "outputs": [
    {
     "data": {
      "text/html": [
       "<div>\n",
       "<style scoped>\n",
       "    .dataframe tbody tr th:only-of-type {\n",
       "        vertical-align: middle;\n",
       "    }\n",
       "\n",
       "    .dataframe tbody tr th {\n",
       "        vertical-align: top;\n",
       "    }\n",
       "\n",
       "    .dataframe thead th {\n",
       "        text-align: right;\n",
       "    }\n",
       "</style>\n",
       "<table border=\"1\" class=\"dataframe\">\n",
       "  <thead>\n",
       "    <tr style=\"text-align: right;\">\n",
       "      <th></th>\n",
       "      <th>ID</th>\n",
       "      <th>LIMIT_BAL</th>\n",
       "      <th>SEX</th>\n",
       "      <th>EDUCATION</th>\n",
       "      <th>MARRIAGE</th>\n",
       "      <th>AGE</th>\n",
       "      <th>PAY_1</th>\n",
       "      <th>PAY_2</th>\n",
       "      <th>PAY_3</th>\n",
       "      <th>PAY_4</th>\n",
       "      <th>PAY_5</th>\n",
       "      <th>PAY_6</th>\n",
       "      <th>BILL_AMT1</th>\n",
       "      <th>BILL_AMT2</th>\n",
       "      <th>BILL_AMT3</th>\n",
       "      <th>BILL_AMT4</th>\n",
       "      <th>BILL_AMT5</th>\n",
       "      <th>BILL_AMT6</th>\n",
       "      <th>PAY_AMT1</th>\n",
       "      <th>PAY_AMT2</th>\n",
       "      <th>PAY_AMT3</th>\n",
       "      <th>PAY_AMT4</th>\n",
       "      <th>PAY_AMT5</th>\n",
       "      <th>PAY_AMT6</th>\n",
       "      <th>default</th>\n",
       "    </tr>\n",
       "  </thead>\n",
       "  <tbody>\n",
       "    <tr>\n",
       "      <th>0</th>\n",
       "      <td>63</td>\n",
       "      <td>50000.0</td>\n",
       "      <td>1</td>\n",
       "      <td>1</td>\n",
       "      <td>2</td>\n",
       "      <td>29</td>\n",
       "      <td>2</td>\n",
       "      <td>1</td>\n",
       "      <td>2</td>\n",
       "      <td>1</td>\n",
       "      <td>2</td>\n",
       "      <td>1</td>\n",
       "      <td>24987.0</td>\n",
       "      <td>24300.0</td>\n",
       "      <td>26591.0</td>\n",
       "      <td>25865.0</td>\n",
       "      <td>27667.0</td>\n",
       "      <td>28264.0</td>\n",
       "      <td>0.0</td>\n",
       "      <td>2700.0</td>\n",
       "      <td>0.0</td>\n",
       "      <td>2225.0</td>\n",
       "      <td>1200.0</td>\n",
       "      <td>0.0</td>\n",
       "      <td>1</td>\n",
       "    </tr>\n",
       "    <tr>\n",
       "      <th>1</th>\n",
       "      <td>72</td>\n",
       "      <td>320000.0</td>\n",
       "      <td>1</td>\n",
       "      <td>2</td>\n",
       "      <td>2</td>\n",
       "      <td>29</td>\n",
       "      <td>2</td>\n",
       "      <td>1</td>\n",
       "      <td>2</td>\n",
       "      <td>1</td>\n",
       "      <td>2</td>\n",
       "      <td>1</td>\n",
       "      <td>58267.0</td>\n",
       "      <td>59246.0</td>\n",
       "      <td>60184.0</td>\n",
       "      <td>58622.0</td>\n",
       "      <td>62307.0</td>\n",
       "      <td>63526.0</td>\n",
       "      <td>2500.0</td>\n",
       "      <td>2500.0</td>\n",
       "      <td>0.0</td>\n",
       "      <td>4800.0</td>\n",
       "      <td>2400.0</td>\n",
       "      <td>1600.0</td>\n",
       "      <td>1</td>\n",
       "    </tr>\n",
       "    <tr>\n",
       "      <th>2</th>\n",
       "      <td>91</td>\n",
       "      <td>200000.0</td>\n",
       "      <td>1</td>\n",
       "      <td>1</td>\n",
       "      <td>1</td>\n",
       "      <td>53</td>\n",
       "      <td>2</td>\n",
       "      <td>1</td>\n",
       "      <td>2</td>\n",
       "      <td>1</td>\n",
       "      <td>2</td>\n",
       "      <td>1</td>\n",
       "      <td>138180.0</td>\n",
       "      <td>140774.0</td>\n",
       "      <td>142460.0</td>\n",
       "      <td>144098.0</td>\n",
       "      <td>147124.0</td>\n",
       "      <td>149531.0</td>\n",
       "      <td>6300.0</td>\n",
       "      <td>5500.0</td>\n",
       "      <td>5500.0</td>\n",
       "      <td>5500.0</td>\n",
       "      <td>5000.0</td>\n",
       "      <td>5000.0</td>\n",
       "      <td>1</td>\n",
       "    </tr>\n",
       "    <tr>\n",
       "      <th>3</th>\n",
       "      <td>105</td>\n",
       "      <td>60000.0</td>\n",
       "      <td>2</td>\n",
       "      <td>2</td>\n",
       "      <td>2</td>\n",
       "      <td>26</td>\n",
       "      <td>2</td>\n",
       "      <td>1</td>\n",
       "      <td>2</td>\n",
       "      <td>1</td>\n",
       "      <td>2</td>\n",
       "      <td>1</td>\n",
       "      <td>56685.0</td>\n",
       "      <td>55208.0</td>\n",
       "      <td>59175.0</td>\n",
       "      <td>60218.0</td>\n",
       "      <td>55447.0</td>\n",
       "      <td>55305.0</td>\n",
       "      <td>0.0</td>\n",
       "      <td>5000.0</td>\n",
       "      <td>2511.0</td>\n",
       "      <td>6.0</td>\n",
       "      <td>3000.0</td>\n",
       "      <td>3000.0</td>\n",
       "      <td>0</td>\n",
       "    </tr>\n",
       "    <tr>\n",
       "      <th>4</th>\n",
       "      <td>113</td>\n",
       "      <td>280000.0</td>\n",
       "      <td>1</td>\n",
       "      <td>2</td>\n",
       "      <td>1</td>\n",
       "      <td>41</td>\n",
       "      <td>2</td>\n",
       "      <td>1</td>\n",
       "      <td>2</td>\n",
       "      <td>1</td>\n",
       "      <td>2</td>\n",
       "      <td>1</td>\n",
       "      <td>135673.0</td>\n",
       "      <td>138532.0</td>\n",
       "      <td>134813.0</td>\n",
       "      <td>144401.0</td>\n",
       "      <td>152174.0</td>\n",
       "      <td>149415.0</td>\n",
       "      <td>6500.0</td>\n",
       "      <td>0.0</td>\n",
       "      <td>14254.0</td>\n",
       "      <td>14850.0</td>\n",
       "      <td>0.0</td>\n",
       "      <td>5000.0</td>\n",
       "      <td>0</td>\n",
       "    </tr>\n",
       "  </tbody>\n",
       "</table>\n",
       "</div>"
      ],
      "text/plain": [
       "    ID  LIMIT_BAL  SEX  EDUCATION  MARRIAGE  AGE  PAY_1  PAY_2  PAY_3  PAY_4  \\\n",
       "0   63    50000.0    1          1         2   29      2      1      2      1   \n",
       "1   72   320000.0    1          2         2   29      2      1      2      1   \n",
       "2   91   200000.0    1          1         1   53      2      1      2      1   \n",
       "3  105    60000.0    2          2         2   26      2      1      2      1   \n",
       "4  113   280000.0    1          2         1   41      2      1      2      1   \n",
       "\n",
       "   PAY_5  PAY_6  BILL_AMT1  BILL_AMT2  BILL_AMT3  BILL_AMT4  BILL_AMT5  \\\n",
       "0      2      1    24987.0    24300.0    26591.0    25865.0    27667.0   \n",
       "1      2      1    58267.0    59246.0    60184.0    58622.0    62307.0   \n",
       "2      2      1   138180.0   140774.0   142460.0   144098.0   147124.0   \n",
       "3      2      1    56685.0    55208.0    59175.0    60218.0    55447.0   \n",
       "4      2      1   135673.0   138532.0   134813.0   144401.0   152174.0   \n",
       "\n",
       "   BILL_AMT6  PAY_AMT1  PAY_AMT2  PAY_AMT3  PAY_AMT4  PAY_AMT5  PAY_AMT6  \\\n",
       "0    28264.0       0.0    2700.0       0.0    2225.0    1200.0       0.0   \n",
       "1    63526.0    2500.0    2500.0       0.0    4800.0    2400.0    1600.0   \n",
       "2   149531.0    6300.0    5500.0    5500.0    5500.0    5000.0    5000.0   \n",
       "3    55305.0       0.0    5000.0    2511.0       6.0    3000.0    3000.0   \n",
       "4   149415.0    6500.0       0.0   14254.0   14850.0       0.0    5000.0   \n",
       "\n",
       "   default  \n",
       "0        1  \n",
       "1        1  \n",
       "2        1  \n",
       "3        0  \n",
       "4        0  "
      ]
     },
     "execution_count": 7,
     "metadata": {},
     "output_type": "execute_result"
    }
   ],
   "source": [
    "df.head()"
   ]
  },
  {
   "cell_type": "code",
   "execution_count": 6,
   "metadata": {},
   "outputs": [],
   "source": [
    "# rearrange column order\n",
    "df = df[['ID', 'default', 'SEX', 'EDUCATION', 'MARRIAGE', 'AGE', 'LIMIT_BAL', 'PAY_1',\n",
    "       'PAY_2', 'PAY_3', 'PAY_4', 'PAY_5', 'PAY_6', 'BILL_AMT1', 'BILL_AMT2',\n",
    "       'BILL_AMT3', 'BILL_AMT4', 'BILL_AMT5', 'BILL_AMT6', 'PAY_AMT1',\n",
    "       'PAY_AMT2', 'PAY_AMT3', 'PAY_AMT4', 'PAY_AMT5', 'PAY_AMT6']]"
   ]
  },
  {
   "cell_type": "code",
   "execution_count": 7,
   "metadata": {},
   "outputs": [
    {
     "data": {
      "text/html": [
       "<div>\n",
       "<style scoped>\n",
       "    .dataframe tbody tr th:only-of-type {\n",
       "        vertical-align: middle;\n",
       "    }\n",
       "\n",
       "    .dataframe tbody tr th {\n",
       "        vertical-align: top;\n",
       "    }\n",
       "\n",
       "    .dataframe thead th {\n",
       "        text-align: right;\n",
       "    }\n",
       "</style>\n",
       "<table border=\"1\" class=\"dataframe\">\n",
       "  <thead>\n",
       "    <tr style=\"text-align: right;\">\n",
       "      <th></th>\n",
       "      <th>ID</th>\n",
       "      <th>default</th>\n",
       "      <th>SEX</th>\n",
       "      <th>EDUCATION</th>\n",
       "      <th>MARRIAGE</th>\n",
       "      <th>AGE</th>\n",
       "      <th>LIMIT_BAL</th>\n",
       "      <th>PAY_1</th>\n",
       "      <th>PAY_2</th>\n",
       "      <th>PAY_3</th>\n",
       "      <th>...</th>\n",
       "      <th>BILL_AMT3</th>\n",
       "      <th>BILL_AMT4</th>\n",
       "      <th>BILL_AMT5</th>\n",
       "      <th>BILL_AMT6</th>\n",
       "      <th>PAY_AMT1</th>\n",
       "      <th>PAY_AMT2</th>\n",
       "      <th>PAY_AMT3</th>\n",
       "      <th>PAY_AMT4</th>\n",
       "      <th>PAY_AMT5</th>\n",
       "      <th>PAY_AMT6</th>\n",
       "    </tr>\n",
       "  </thead>\n",
       "  <tbody>\n",
       "    <tr>\n",
       "      <th>0</th>\n",
       "      <td>63</td>\n",
       "      <td>1</td>\n",
       "      <td>1</td>\n",
       "      <td>1</td>\n",
       "      <td>2</td>\n",
       "      <td>29</td>\n",
       "      <td>50000.0</td>\n",
       "      <td>2</td>\n",
       "      <td>1</td>\n",
       "      <td>2</td>\n",
       "      <td>...</td>\n",
       "      <td>26591.0</td>\n",
       "      <td>25865.0</td>\n",
       "      <td>27667.0</td>\n",
       "      <td>28264.0</td>\n",
       "      <td>0.0</td>\n",
       "      <td>2700.0</td>\n",
       "      <td>0.0</td>\n",
       "      <td>2225.0</td>\n",
       "      <td>1200.0</td>\n",
       "      <td>0.0</td>\n",
       "    </tr>\n",
       "    <tr>\n",
       "      <th>1</th>\n",
       "      <td>72</td>\n",
       "      <td>1</td>\n",
       "      <td>1</td>\n",
       "      <td>2</td>\n",
       "      <td>2</td>\n",
       "      <td>29</td>\n",
       "      <td>320000.0</td>\n",
       "      <td>2</td>\n",
       "      <td>1</td>\n",
       "      <td>2</td>\n",
       "      <td>...</td>\n",
       "      <td>60184.0</td>\n",
       "      <td>58622.0</td>\n",
       "      <td>62307.0</td>\n",
       "      <td>63526.0</td>\n",
       "      <td>2500.0</td>\n",
       "      <td>2500.0</td>\n",
       "      <td>0.0</td>\n",
       "      <td>4800.0</td>\n",
       "      <td>2400.0</td>\n",
       "      <td>1600.0</td>\n",
       "    </tr>\n",
       "    <tr>\n",
       "      <th>2</th>\n",
       "      <td>91</td>\n",
       "      <td>1</td>\n",
       "      <td>1</td>\n",
       "      <td>1</td>\n",
       "      <td>1</td>\n",
       "      <td>53</td>\n",
       "      <td>200000.0</td>\n",
       "      <td>2</td>\n",
       "      <td>1</td>\n",
       "      <td>2</td>\n",
       "      <td>...</td>\n",
       "      <td>142460.0</td>\n",
       "      <td>144098.0</td>\n",
       "      <td>147124.0</td>\n",
       "      <td>149531.0</td>\n",
       "      <td>6300.0</td>\n",
       "      <td>5500.0</td>\n",
       "      <td>5500.0</td>\n",
       "      <td>5500.0</td>\n",
       "      <td>5000.0</td>\n",
       "      <td>5000.0</td>\n",
       "    </tr>\n",
       "    <tr>\n",
       "      <th>3</th>\n",
       "      <td>105</td>\n",
       "      <td>0</td>\n",
       "      <td>2</td>\n",
       "      <td>2</td>\n",
       "      <td>2</td>\n",
       "      <td>26</td>\n",
       "      <td>60000.0</td>\n",
       "      <td>2</td>\n",
       "      <td>1</td>\n",
       "      <td>2</td>\n",
       "      <td>...</td>\n",
       "      <td>59175.0</td>\n",
       "      <td>60218.0</td>\n",
       "      <td>55447.0</td>\n",
       "      <td>55305.0</td>\n",
       "      <td>0.0</td>\n",
       "      <td>5000.0</td>\n",
       "      <td>2511.0</td>\n",
       "      <td>6.0</td>\n",
       "      <td>3000.0</td>\n",
       "      <td>3000.0</td>\n",
       "    </tr>\n",
       "    <tr>\n",
       "      <th>4</th>\n",
       "      <td>113</td>\n",
       "      <td>0</td>\n",
       "      <td>1</td>\n",
       "      <td>2</td>\n",
       "      <td>1</td>\n",
       "      <td>41</td>\n",
       "      <td>280000.0</td>\n",
       "      <td>2</td>\n",
       "      <td>1</td>\n",
       "      <td>2</td>\n",
       "      <td>...</td>\n",
       "      <td>134813.0</td>\n",
       "      <td>144401.0</td>\n",
       "      <td>152174.0</td>\n",
       "      <td>149415.0</td>\n",
       "      <td>6500.0</td>\n",
       "      <td>0.0</td>\n",
       "      <td>14254.0</td>\n",
       "      <td>14850.0</td>\n",
       "      <td>0.0</td>\n",
       "      <td>5000.0</td>\n",
       "    </tr>\n",
       "  </tbody>\n",
       "</table>\n",
       "<p>5 rows × 25 columns</p>\n",
       "</div>"
      ],
      "text/plain": [
       "    ID  default  SEX  EDUCATION  MARRIAGE  AGE  LIMIT_BAL  PAY_1  PAY_2  \\\n",
       "0   63        1    1          1         2   29    50000.0      2      1   \n",
       "1   72        1    1          2         2   29   320000.0      2      1   \n",
       "2   91        1    1          1         1   53   200000.0      2      1   \n",
       "3  105        0    2          2         2   26    60000.0      2      1   \n",
       "4  113        0    1          2         1   41   280000.0      2      1   \n",
       "\n",
       "   PAY_3  ...  BILL_AMT3  BILL_AMT4  BILL_AMT5  BILL_AMT6  PAY_AMT1  PAY_AMT2  \\\n",
       "0      2  ...    26591.0    25865.0    27667.0    28264.0       0.0    2700.0   \n",
       "1      2  ...    60184.0    58622.0    62307.0    63526.0    2500.0    2500.0   \n",
       "2      2  ...   142460.0   144098.0   147124.0   149531.0    6300.0    5500.0   \n",
       "3      2  ...    59175.0    60218.0    55447.0    55305.0       0.0    5000.0   \n",
       "4      2  ...   134813.0   144401.0   152174.0   149415.0    6500.0       0.0   \n",
       "\n",
       "   PAY_AMT3  PAY_AMT4  PAY_AMT5  PAY_AMT6  \n",
       "0       0.0    2225.0    1200.0       0.0  \n",
       "1       0.0    4800.0    2400.0    1600.0  \n",
       "2    5500.0    5500.0    5000.0    5000.0  \n",
       "3    2511.0       6.0    3000.0    3000.0  \n",
       "4   14254.0   14850.0       0.0    5000.0  \n",
       "\n",
       "[5 rows x 25 columns]"
      ]
     },
     "execution_count": 7,
     "metadata": {},
     "output_type": "execute_result"
    }
   ],
   "source": [
    "df.head()"
   ]
  },
  {
   "cell_type": "code",
   "execution_count": null,
   "metadata": {},
   "outputs": [],
   "source": []
  },
  {
   "cell_type": "markdown",
   "metadata": {},
   "source": [
    "## Feature Selection"
   ]
  },
  {
   "cell_type": "markdown",
   "metadata": {},
   "source": [
    "**Combine the repayment status columns to one column and change them from categorical to numeric by calculating the number of months the account holder has had delayed payments.**"
   ]
  },
  {
   "cell_type": "code",
   "execution_count": 8,
   "metadata": {},
   "outputs": [],
   "source": [
    "def monthsLate(row):\n",
    "    counter = 0\n",
    "    if row['PAY_1'] > 0:\n",
    "        counter = counter + 1\n",
    "    if row['PAY_2'] > 0:\n",
    "        counter = counter + 1\n",
    "    if row['PAY_3'] > 0:\n",
    "        counter = counter + 1\n",
    "    if row['PAY_4'] > 0:\n",
    "        counter = counter + 1\n",
    "    if row['PAY_5'] > 0:\n",
    "        counter = counter + 1\n",
    "    if row['PAY_6'] > 0:\n",
    "        counter = counter + 1\n",
    "    return counter"
   ]
  },
  {
   "cell_type": "code",
   "execution_count": 9,
   "metadata": {},
   "outputs": [],
   "source": [
    "# add the new Series to the df\n",
    "df['MONTHS_LATE'] = df.apply(lambda row: monthsLate(row), axis=1)"
   ]
  },
  {
   "cell_type": "code",
   "execution_count": 10,
   "metadata": {},
   "outputs": [
    {
     "data": {
      "text/plain": [
       "(30000, 26)"
      ]
     },
     "execution_count": 10,
     "metadata": {},
     "output_type": "execute_result"
    }
   ],
   "source": [
    "df.shape"
   ]
  },
  {
   "cell_type": "code",
   "execution_count": 11,
   "metadata": {},
   "outputs": [
    {
     "data": {
      "text/plain": [
       "(30000, 20)"
      ]
     },
     "execution_count": 11,
     "metadata": {},
     "output_type": "execute_result"
    }
   ],
   "source": [
    "# above the engineered Series was added to the df; now drop the columns that made that Series\n",
    "df.drop(columns =['PAY_1', 'PAY_2', 'PAY_3', 'PAY_4', 'PAY_5', 'PAY_6'], inplace = True) \n",
    "df.shape"
   ]
  },
  {
   "cell_type": "code",
   "execution_count": null,
   "metadata": {},
   "outputs": [],
   "source": []
  },
  {
   "cell_type": "markdown",
   "metadata": {},
   "source": [
    "**More feature engineering for the bill amount and pay amount columns.  Use in a second dataframe for these features so that the first dataframe can still be used.**"
   ]
  },
  {
   "cell_type": "code",
   "execution_count": 15,
   "metadata": {},
   "outputs": [
    {
     "data": {
      "text/plain": [
       "(29130, 20)"
      ]
     },
     "execution_count": 15,
     "metadata": {},
     "output_type": "execute_result"
    }
   ],
   "source": [
    "# subset dataframe so as to not have records with zero balances in the bill amounts columns\n",
    "rowsBillsZero = (df['BILL_AMT1']+df['BILL_AMT2']+df['BILL_AMT3']+df['BILL_AMT4']+df['BILL_AMT5']+df['BILL_AMT6']) != 0\n",
    "df2 = df.loc[rowsBillsZero, ]\n",
    "df2.shape"
   ]
  },
  {
   "cell_type": "code",
   "execution_count": 16,
   "metadata": {},
   "outputs": [
    {
     "data": {
      "text/plain": [
       "Index(['ID', 'default', 'SEX', 'EDUCATION', 'MARRIAGE', 'AGE', 'LIMIT_BAL',\n",
       "       'BILL_AMT1', 'BILL_AMT2', 'BILL_AMT3', 'BILL_AMT4', 'BILL_AMT5',\n",
       "       'BILL_AMT6', 'PAY_AMT1', 'PAY_AMT2', 'PAY_AMT3', 'PAY_AMT4', 'PAY_AMT5',\n",
       "       'PAY_AMT6', 'MONTHS_LATE'],\n",
       "      dtype='object')"
      ]
     },
     "execution_count": 16,
     "metadata": {},
     "output_type": "execute_result"
    }
   ],
   "source": [
    "df2.columns"
   ]
  },
  {
   "cell_type": "markdown",
   "metadata": {},
   "source": [
    "**Create a single feature of the ratio of payments made over six months to the outstanding debt for those six months.**"
   ]
  },
  {
   "cell_type": "code",
   "execution_count": 17,
   "metadata": {},
   "outputs": [],
   "source": [
    "# The proportion of the amount of repayment to the amount for bills for the past six months\n",
    "df2['PAYMENT_RATIO'] = abs((df['PAY_AMT1']+df['PAY_AMT2']+df['PAY_AMT3']+df['PAY_AMT4']+df['PAY_AMT5']\\\n",
    "                        +df['PAY_AMT6']))/abs((df['BILL_AMT1']+df['BILL_AMT2']+df['BILL_AMT3']+df['BILL_AMT4']+df['BILL_AMT5']\\\n",
    "                        +df['BILL_AMT6']))"
   ]
  },
  {
   "cell_type": "code",
   "execution_count": 18,
   "metadata": {},
   "outputs": [
    {
     "data": {
      "text/plain": [
       "(29130, 21)"
      ]
     },
     "execution_count": 18,
     "metadata": {},
     "output_type": "execute_result"
    }
   ],
   "source": [
    "df2.shape"
   ]
  },
  {
   "cell_type": "code",
   "execution_count": 19,
   "metadata": {},
   "outputs": [
    {
     "data": {
      "text/plain": [
       "(29130, 9)"
      ]
     },
     "execution_count": 19,
     "metadata": {},
     "output_type": "execute_result"
    }
   ],
   "source": [
    "# above the engineered Series was added to the df; now drop the columns that made that Series\n",
    "df2.drop(columns =['BILL_AMT1', 'BILL_AMT2', 'BILL_AMT3', 'BILL_AMT4', 'BILL_AMT5', 'BILL_AMT6', 'PAY_AMT1', 'PAY_AMT2', \n",
    "                  'PAY_AMT3', 'PAY_AMT4', 'PAY_AMT5', 'PAY_AMT6'], inplace = True) \n",
    "df2.shape"
   ]
  },
  {
   "cell_type": "code",
   "execution_count": null,
   "metadata": {},
   "outputs": [],
   "source": []
  },
  {
   "cell_type": "markdown",
   "metadata": {},
   "source": [
    "### Data Cleaning cont."
   ]
  },
  {
   "cell_type": "code",
   "execution_count": 19,
   "metadata": {},
   "outputs": [
    {
     "name": "stdout",
     "output_type": "stream",
     "text": [
      "<class 'pandas.core.frame.DataFrame'>\n",
      "Int64Index: 29130 entries, 0 to 29999\n",
      "Data columns (total 9 columns):\n",
      " #   Column         Non-Null Count  Dtype  \n",
      "---  ------         --------------  -----  \n",
      " 0   ID             29130 non-null  int64  \n",
      " 1   default        29130 non-null  int64  \n",
      " 2   SEX            29130 non-null  int64  \n",
      " 3   EDUCATION      29130 non-null  int64  \n",
      " 4   MARRIAGE       29130 non-null  int64  \n",
      " 5   AGE            29130 non-null  int64  \n",
      " 6   LIMIT_BAL      29130 non-null  float64\n",
      " 7   MONTHS_LATE    29130 non-null  int64  \n",
      " 8   PAYMENT_RATIO  29130 non-null  float64\n",
      "dtypes: float64(2), int64(7)\n",
      "memory usage: 2.2 MB\n"
     ]
    }
   ],
   "source": [
    "# check data types\n",
    "\n",
    "df2.info()"
   ]
  },
  {
   "cell_type": "code",
   "execution_count": null,
   "metadata": {},
   "outputs": [],
   "source": []
  },
  {
   "cell_type": "code",
   "execution_count": 22,
   "metadata": {},
   "outputs": [
    {
     "name": "stdout",
     "output_type": "stream",
     "text": [
      "[30000, 2, 2, 7, 4, 56, 81, 22723, 22346, 22026, 21548, 21010, 20604, 7943, 7899, 7518, 6937, 6897, 6939, 7]\n"
     ]
    }
   ],
   "source": [
    "# find features with too many nonunique values\n",
    "distinctList = []\n",
    "for i in df.columns:\n",
    "    count = df[i].nunique()\n",
    "    distinctList.append(count)\n",
    "    \n",
    "print(distinctList)"
   ]
  },
  {
   "cell_type": "code",
   "execution_count": 23,
   "metadata": {},
   "outputs": [
    {
     "data": {
      "text/plain": [
       "(30000, 19)"
      ]
     },
     "execution_count": 23,
     "metadata": {},
     "output_type": "execute_result"
    }
   ],
   "source": [
    "# removing ID column as it is just numbering the rows 1 - 30,000\n",
    "df.drop(columns =['ID'], inplace = True) \n",
    "df.shape\n"
   ]
  },
  {
   "cell_type": "code",
   "execution_count": 24,
   "metadata": {},
   "outputs": [
    {
     "data": {
      "text/plain": [
       "(29130, 8)"
      ]
     },
     "execution_count": 24,
     "metadata": {},
     "output_type": "execute_result"
    }
   ],
   "source": [
    "# removing ID column as it is just numbering the rows 1 - 30,000\n",
    "df2.drop(columns =['ID'], inplace = True) \n",
    "df2.shape"
   ]
  },
  {
   "cell_type": "code",
   "execution_count": null,
   "metadata": {},
   "outputs": [],
   "source": []
  },
  {
   "cell_type": "markdown",
   "metadata": {},
   "source": [
    "### Each record in the dataset includes a label of whether the account holder defaulted the next month (default = 0) or did not default the next month (default = 1). Create separate subsets of the dataset so that one subset only has records that did not have defaults and another subset that only has records that did have defaults. Use these separate subsets for EDA."
   ]
  },
  {
   "cell_type": "code",
   "execution_count": 12,
   "metadata": {},
   "outputs": [
    {
     "data": {
      "text/plain": [
       "(6636, 20)"
      ]
     },
     "execution_count": 12,
     "metadata": {},
     "output_type": "execute_result"
    }
   ],
   "source": [
    "# subset for default is 1\n",
    "rowsYesDefault = df['default'] == 1\n",
    "defaultY = df.loc[rowsYesDefault, ]\n",
    "defaultY.shape"
   ]
  },
  {
   "cell_type": "code",
   "execution_count": 13,
   "metadata": {},
   "outputs": [
    {
     "data": {
      "text/plain": [
       "(23364, 20)"
      ]
     },
     "execution_count": 13,
     "metadata": {},
     "output_type": "execute_result"
    }
   ],
   "source": [
    "# subset for default is 0\n",
    "rowsNoDefault = df['default'] == 0\n",
    "defaultN = df.loc[rowsNoDefault, ]\n",
    "defaultN.shape"
   ]
  },
  {
   "cell_type": "code",
   "execution_count": 20,
   "metadata": {},
   "outputs": [
    {
     "data": {
      "text/plain": [
       "(6319, 9)"
      ]
     },
     "execution_count": 20,
     "metadata": {},
     "output_type": "execute_result"
    }
   ],
   "source": [
    "# subset for default is 1\n",
    "rowsYesDefault2 = df2['default'] == 1\n",
    "defaultY2 = df2.loc[rowsYesDefault, ]\n",
    "defaultY2.shape"
   ]
  },
  {
   "cell_type": "code",
   "execution_count": 21,
   "metadata": {},
   "outputs": [
    {
     "data": {
      "text/plain": [
       "(22811, 9)"
      ]
     },
     "execution_count": 21,
     "metadata": {},
     "output_type": "execute_result"
    }
   ],
   "source": [
    "# subset for default is 0\n",
    "rowsNoDefault2 = df2['default'] == 0\n",
    "defaultN2 = df2.loc[rowsNoDefault, ]\n",
    "defaultN2.shape"
   ]
  },
  {
   "cell_type": "code",
   "execution_count": null,
   "metadata": {},
   "outputs": [],
   "source": []
  },
  {
   "cell_type": "markdown",
   "metadata": {},
   "source": [
    "# Exploratory Data Analysis"
   ]
  },
  {
   "cell_type": "markdown",
   "metadata": {},
   "source": [
    "## Visuals"
   ]
  },
  {
   "cell_type": "code",
   "execution_count": 33,
   "metadata": {},
   "outputs": [
    {
     "data": {
      "image/png": "[encoded data removed]",
      "text/plain": [
       "<Figure size 576x396 with 1 Axes>"
      ]
     },
     "metadata": {},
     "output_type": "display_data"
    },
    {
     "data": {
      "image/png": "[encoded data removed]",
      "text/plain": [
       "<Figure size 576x396 with 1 Axes>"
      ]
     },
     "metadata": {},
     "output_type": "display_data"
    },
    {
     "data": {
      "image/png": "[encoded data removed]",
      "text/plain": [
       "<Figure size 576x396 with 1 Axes>"
      ]
     },
     "metadata": {},
     "output_type": "display_data"
    },
    {
     "data": {
      "image/png": "[encoded data removed]",
      "text/plain": [
       "<Figure size 576x396 with 1 Axes>"
      ]
     },
     "metadata": {},
     "output_type": "display_data"
    },
    {
     "data": {
      "image/png": "[encoded data removed]",
      "text/plain": [
       "<Figure size 576x396 with 1 Axes>"
      ]
     },
     "metadata": {},
     "output_type": "display_data"
    },
    {
     "data": {
      "image/png": "[encoded data removed]",
      "text/plain": [
       "<Figure size 576x396 with 1 Axes>"
      ]
     },
     "metadata": {},
     "output_type": "display_data"
    },
    {
     "data": {
      "image/png": "[encoded data removed]",
      "text/plain": [
       "<Figure size 576x396 with 1 Axes>"
      ]
     },
     "metadata": {},
     "output_type": "display_data"
    },
    {
     "data": {
      "image/png": "[encoded data removed]",
      "text/plain": [
       "<Figure size 576x396 with 1 Axes>"
      ]
     },
     "metadata": {},
     "output_type": "display_data"
    },
    {
     "data": {
      "image/png": "[encoded data removed]",
      "text/plain": [
       "<Figure size 576x396 with 1 Axes>"
      ]
     },
     "metadata": {},
     "output_type": "display_data"
    },
    {
     "data": {
      "image/png": "[encoded data removed]",
      "text/plain": [
       "<Figure size 576x396 with 1 Axes>"
      ]
     },
     "metadata": {},
     "output_type": "display_data"
    },
    {
     "data": {
      "image/png": "[encoded data removed]",
      "text/plain": [
       "<Figure size 576x396 with 1 Axes>"
      ]
     },
     "metadata": {},
     "output_type": "display_data"
    },
    {
     "data": {
      "image/png": "[encoded data removed]",
      "text/plain": [
       "<Figure size 576x396 with 1 Axes>"
      ]
     },
     "metadata": {},
     "output_type": "display_data"
    },
    {
     "data": {
      "image/png": "[encoded data removed]",
      "text/plain": [
       "<Figure size 576x396 with 1 Axes>"
      ]
     },
     "metadata": {},
     "output_type": "display_data"
    },
    {
     "data": {
      "image/png": "[encoded data removed]",
      "text/plain": [
       "<Figure size 576x396 with 1 Axes>"
      ]
     },
     "metadata": {},
     "output_type": "display_data"
    },
    {
     "data": {
      "image/png": "[encoded data removed]",
      "text/plain": [
       "<Figure size 576x396 with 1 Axes>"
      ]
     },
     "metadata": {},
     "output_type": "display_data"
    },
    {
     "data": {
      "image/png": "[encoded data removed]",
      "text/plain": [
       "<Figure size 576x396 with 1 Axes>"
      ]
     },
     "metadata": {},
     "output_type": "display_data"
    },
    {
     "data": {
      "image/png": "[encoded data removed]",
      "text/plain": [
       "<Figure size 576x396 with 1 Axes>"
      ]
     },
     "metadata": {},
     "output_type": "display_data"
    },
    {
     "data": {
      "image/png": "[encoded data removed]",
      "text/plain": [
       "<Figure size 576x396 with 1 Axes>"
      ]
     },
     "metadata": {},
     "output_type": "display_data"
    },
    {
     "data": {
      "image/png": "[encoded data removed]",
      "text/plain": [
       "<Figure size 576x396 with 1 Axes>"
      ]
     },
     "metadata": {},
     "output_type": "display_data"
    }
   ],
   "source": [
    "# Plot the histograms of all the variables in the DataFrame.  Plot them all at once using a for loop.  Add unique title.\n",
    "import matplotlib.pyplot as plt\n",
    "for i in df:\n",
    "    df[i].hist()\n",
    "    plt.title('Histogram of ' + i)\n",
    "    plt.show()"
   ]
  },
  {
   "cell_type": "code",
   "execution_count": 34,
   "metadata": {},
   "outputs": [
    {
     "data": {
      "image/png": "[encoded data removed]",
      "text/plain": [
       "<Figure size 576x396 with 1 Axes>"
      ]
     },
     "metadata": {},
     "output_type": "display_data"
    },
    {
     "data": {
      "image/png": "[encoded data removed]",
      "text/plain": [
       "<Figure size 576x396 with 1 Axes>"
      ]
     },
     "metadata": {},
     "output_type": "display_data"
    },
    {
     "data": {
      "image/png": "[encoded data removed]",
      "text/plain": [
       "<Figure size 576x396 with 1 Axes>"
      ]
     },
     "metadata": {},
     "output_type": "display_data"
    },
    {
     "data": {
      "image/png": "[encoded data removed]",
      "text/plain": [
       "<Figure size 576x396 with 1 Axes>"
      ]
     },
     "metadata": {},
     "output_type": "display_data"
    },
    {
     "data": {
      "image/png": "[encoded data removed]",
      "text/plain": [
       "<Figure size 576x396 with 1 Axes>"
      ]
     },
     "metadata": {},
     "output_type": "display_data"
    },
    {
     "data": {
      "image/png": "[encoded data removed]",
      "text/plain": [
       "<Figure size 576x396 with 1 Axes>"
      ]
     },
     "metadata": {},
     "output_type": "display_data"
    },
    {
     "data": {
      "image/png": "[encoded data removed]",
      "text/plain": [
       "<Figure size 576x396 with 1 Axes>"
      ]
     },
     "metadata": {},
     "output_type": "display_data"
    },
    {
     "data": {
      "image/png": "[encoded data removed]",
      "text/plain": [
       "<Figure size 576x396 with 1 Axes>"
      ]
     },
     "metadata": {},
     "output_type": "display_data"
    }
   ],
   "source": [
    "# Plot the histograms of all the variables in the DataFrame.  Plot them all at once using a for loop.  Add unique title.\n",
    "#import matplotlib.pyplot as plt\n",
    "for i in df2:\n",
    "    df2[i].hist()\n",
    "    plt.title('Histogram of ' + i)\n",
    "    plt.show()"
   ]
  },
  {
   "cell_type": "code",
   "execution_count": null,
   "metadata": {},
   "outputs": [],
   "source": []
  },
  {
   "cell_type": "markdown",
   "metadata": {},
   "source": [
    "###  Distribution plots comparing default subset with non-default subset."
   ]
  },
  {
   "cell_type": "code",
   "execution_count": 35,
   "metadata": {},
   "outputs": [
    {
     "data": {
      "text/plain": [
       "Text(0.5, 8.959999999999987, 'Months Late')"
      ]
     },
     "execution_count": 35,
     "metadata": {},
     "output_type": "execute_result"
    },
    {
     "data": {
      "image/png": "[encoded data removed]",
      "text/plain": [
       "<Figure size 864x576 with 2 Axes>"
      ]
     },
     "metadata": {},
     "output_type": "display_data"
    }
   ],
   "source": [
    "# distribution plots comparing default subset with non-default subsets:  new months_late feature\n",
    "\n",
    "cl = sn.FacetGrid(df2, row=\"default\", \n",
    "                  height=4.0, aspect=3,)\n",
    "cl.map(sn.distplot, \"MONTHS_LATE\")\n",
    "plt.xlabel(\"Months Late\")"
   ]
  },
  {
   "cell_type": "code",
   "execution_count": null,
   "metadata": {},
   "outputs": [],
   "source": []
  },
  {
   "cell_type": "markdown",
   "metadata": {},
   "source": [
    "**The months late bar chart shows distinction between the default records and the non-default records.  The grey bars for the default subset are higher than the blue bars for the non-default subset in the bars on the right side of X-axis.  These bars on the right side of axis represent a greater number of months being late on payments.  Thus, this chart reveals that even though there are 3.5 times as many non-default records as default records  --- the default bar is still higher than the non-default counts when the payments are 4 and 5 months late.**"
   ]
  },
  {
   "cell_type": "code",
   "execution_count": 24,
   "metadata": {},
   "outputs": [
    {
     "data": {
      "text/plain": [
       "Text(0.5, 1.0, 'Compare Months Late')"
      ]
     },
     "execution_count": 24,
     "metadata": {},
     "output_type": "execute_result"
    },
    {
     "data": {
      "image/png": "[encoded data removed]",
      "text/plain": [
       "<Figure size 404.125x360 with 1 Axes>"
      ]
     },
     "metadata": {},
     "output_type": "display_data"
    }
   ],
   "source": [
    "# comparing default subset with non-default subsets: \n",
    "#bright=[\"#003FFF\", \"#03ED3A\", \"#E8000B\",\n",
    "#            \"#8A2BE2\", \"#FFC400\", \"#00D7FF\"]\n",
    "#newPal   = dict(setosa = muted[0], versicolor = muted[2], virginica = muted[1])\n",
    "#sns.swarmplot(x=\"measurement\", y=\"value\", hue=\"species\", data=iris,palette=newPal )\n",
    "sn.displot(df, x=\"MONTHS_LATE\", hue=\"default\", bins=6, palette=[\"blue\", \"orange\"])\n",
    "plt.xlabel(\"Months Late\")\n",
    "plt.title(\"Compare Months Late\")\n"
   ]
  },
  {
   "cell_type": "code",
   "execution_count": null,
   "metadata": {},
   "outputs": [],
   "source": []
  },
  {
   "cell_type": "code",
   "execution_count": 155,
   "metadata": {},
   "outputs": [
    {
     "data": {
      "text/plain": [
       "Text(0.5, 8.959999999999987, 'Payment Ratio')"
      ]
     },
     "execution_count": 155,
     "metadata": {},
     "output_type": "execute_result"
    },
    {
     "data": {
      "image/png": "[encoded data removed]",
      "text/plain": [
       "<Figure size 864x576 with 2 Axes>"
      ]
     },
     "metadata": {},
     "output_type": "display_data"
    }
   ],
   "source": [
    "# distribution plots comparing default subset with non-default subsets: payment ratio\n",
    "cl = sn.FacetGrid(df2, row=\"default\", \n",
    "                  height=4.0, aspect=3,)\n",
    "cl.map(sn.distplot, \"PAYMENT_RATIO\")\n",
    "plt.xlim([-5, 50])\n",
    "plt.xlabel(\"Payment Ratio\")"
   ]
  },
  {
   "cell_type": "code",
   "execution_count": 148,
   "metadata": {},
   "outputs": [
    {
     "data": {
      "text/plain": [
       "(-5.0, 5.0)"
      ]
     },
     "execution_count": 148,
     "metadata": {},
     "output_type": "execute_result"
    },
    {
     "data": {
      "image/png": "[encoded data removed]",
      "text/plain": [
       "<Figure size 576x396 with 2 Axes>"
      ]
     },
     "metadata": {},
     "output_type": "display_data"
    }
   ],
   "source": [
    "# distribution plots comparing default subset with non-default subsets: payment ratio\n",
    "plt.figure()\n",
    "plt.subplot(1, 2, 1)\n",
    "plt.hist(defaultY3[\"PAYMENT_RATIO\"], bins = 20, facecolor='blue', alpha=0.5)\n",
    "plt.subplot(1, 2, 2)\n",
    "plt.xlim([-5, 5])\n",
    "plt.hist(defaultN3[\"PAYMENT_RATIO\"], bins = 10000, facecolor='blue', alpha=0.5)\n",
    "plt.xlim([-5, 5])\n"
   ]
  },
  {
   "cell_type": "code",
   "execution_count": null,
   "metadata": {},
   "outputs": [],
   "source": []
  },
  {
   "cell_type": "code",
   "execution_count": 37,
   "metadata": {},
   "outputs": [
    {
     "data": {
      "text/plain": [
       "[Text(0.5, 0, 'Months Late'),\n",
       " Text(0, 0.5, 'Proportion'),\n",
       " Text(0.5, 1.0, 'Months Late Empirical Cumulative Distribution')]"
      ]
     },
     "execution_count": 37,
     "metadata": {},
     "output_type": "execute_result"
    },
    {
     "data": {
      "image/png": "[encoded data removed]",
      "text/plain": [
       "<Figure size 576x396 with 1 Axes>"
      ]
     },
     "metadata": {},
     "output_type": "display_data"
    }
   ],
   "source": [
    "# ECD plots comparing default subset with non-default subsets: Age  \n",
    "ax = sn.ecdfplot(data=df2, x=\"MONTHS_LATE\", hue=\"default\")\n",
    "ax.set(xlabel='Months Late', ylabel='Proportion', title='Months Late Empirical Cumulative Distribution')"
   ]
  },
  {
   "cell_type": "code",
   "execution_count": 161,
   "metadata": {},
   "outputs": [
    {
     "data": {
      "text/plain": [
       "[Text(0.5, 0, 'Payment Ratio'),\n",
       " Text(0, 0.5, 'Proportion'),\n",
       " Text(0.5, 1.0, 'Payment Ratio Empirical Cumulative Distribution')]"
      ]
     },
     "execution_count": 161,
     "metadata": {},
     "output_type": "execute_result"
    },
    {
     "data": {
      "image/png": "[encoded data removed]",
      "text/plain": [
       "<Figure size 576x396 with 1 Axes>"
      ]
     },
     "metadata": {},
     "output_type": "display_data"
    }
   ],
   "source": [
    "# ECD plots comparing default subset with non-default subsets: Age  \n",
    "ax = sn.ecdfplot(data=df2, x=\"PAYMENT_RATIO\", hue=\"default\")\n",
    "ax.set(xlabel='Payment Ratio', ylabel='Proportion', title='Payment Ratio Empirical Cumulative Distribution')"
   ]
  },
  {
   "cell_type": "code",
   "execution_count": null,
   "metadata": {},
   "outputs": [],
   "source": []
  },
  {
   "cell_type": "markdown",
   "metadata": {},
   "source": [
    "## Descriptive Statistics"
   ]
  },
  {
   "cell_type": "code",
   "execution_count": 38,
   "metadata": {
    "scrolled": true
   },
   "outputs": [
    {
     "data": {
      "text/html": [
       "<div>\n",
       "<style scoped>\n",
       "    .dataframe tbody tr th:only-of-type {\n",
       "        vertical-align: middle;\n",
       "    }\n",
       "\n",
       "    .dataframe tbody tr th {\n",
       "        vertical-align: top;\n",
       "    }\n",
       "\n",
       "    .dataframe thead th {\n",
       "        text-align: right;\n",
       "    }\n",
       "</style>\n",
       "<table border=\"1\" class=\"dataframe\">\n",
       "  <thead>\n",
       "    <tr style=\"text-align: right;\">\n",
       "      <th></th>\n",
       "      <th>LIMIT_BAL</th>\n",
       "      <th>AGE</th>\n",
       "      <th>MONTHS_LATE</th>\n",
       "      <th>BILL_AMT1</th>\n",
       "      <th>BILL_AMT2</th>\n",
       "      <th>BILL_AMT3</th>\n",
       "      <th>BILL_AMT4</th>\n",
       "      <th>BILL_AMT5</th>\n",
       "      <th>BILL_AMT6</th>\n",
       "      <th>PAY_AMT1</th>\n",
       "      <th>PAY_AMT2</th>\n",
       "      <th>PAY_AMT3</th>\n",
       "      <th>PAY_AMT4</th>\n",
       "      <th>PAY_AMT5</th>\n",
       "      <th>PAY_AMT6</th>\n",
       "      <th>default</th>\n",
       "    </tr>\n",
       "  </thead>\n",
       "  <tbody>\n",
       "    <tr>\n",
       "      <th>count</th>\n",
       "      <td>30000.000000</td>\n",
       "      <td>30000.000000</td>\n",
       "      <td>30000.000000</td>\n",
       "      <td>30000.000000</td>\n",
       "      <td>30000.000000</td>\n",
       "      <td>3.000000e+04</td>\n",
       "      <td>30000.000000</td>\n",
       "      <td>30000.000000</td>\n",
       "      <td>30000.000000</td>\n",
       "      <td>30000.000000</td>\n",
       "      <td>3.000000e+04</td>\n",
       "      <td>30000.00000</td>\n",
       "      <td>30000.000000</td>\n",
       "      <td>30000.000000</td>\n",
       "      <td>30000.000000</td>\n",
       "      <td>30000.000000</td>\n",
       "    </tr>\n",
       "    <tr>\n",
       "      <th>mean</th>\n",
       "      <td>167484.322667</td>\n",
       "      <td>35.485500</td>\n",
       "      <td>0.996967</td>\n",
       "      <td>51223.330900</td>\n",
       "      <td>49179.075167</td>\n",
       "      <td>4.701315e+04</td>\n",
       "      <td>43262.948967</td>\n",
       "      <td>40311.400967</td>\n",
       "      <td>38871.760400</td>\n",
       "      <td>5663.580500</td>\n",
       "      <td>5.921163e+03</td>\n",
       "      <td>5225.68150</td>\n",
       "      <td>4826.076867</td>\n",
       "      <td>4799.387633</td>\n",
       "      <td>5215.502567</td>\n",
       "      <td>0.221200</td>\n",
       "    </tr>\n",
       "    <tr>\n",
       "      <th>std</th>\n",
       "      <td>129747.661567</td>\n",
       "      <td>9.217904</td>\n",
       "      <td>1.716000</td>\n",
       "      <td>73635.860576</td>\n",
       "      <td>71173.768783</td>\n",
       "      <td>6.934939e+04</td>\n",
       "      <td>64332.856134</td>\n",
       "      <td>60797.155770</td>\n",
       "      <td>59554.107537</td>\n",
       "      <td>16563.280354</td>\n",
       "      <td>2.304087e+04</td>\n",
       "      <td>17606.96147</td>\n",
       "      <td>15666.159744</td>\n",
       "      <td>15278.305679</td>\n",
       "      <td>17777.465775</td>\n",
       "      <td>0.415062</td>\n",
       "    </tr>\n",
       "    <tr>\n",
       "      <th>min</th>\n",
       "      <td>10000.000000</td>\n",
       "      <td>21.000000</td>\n",
       "      <td>0.000000</td>\n",
       "      <td>-165580.000000</td>\n",
       "      <td>-69777.000000</td>\n",
       "      <td>-1.572640e+05</td>\n",
       "      <td>-170000.000000</td>\n",
       "      <td>-81334.000000</td>\n",
       "      <td>-339603.000000</td>\n",
       "      <td>0.000000</td>\n",
       "      <td>0.000000e+00</td>\n",
       "      <td>0.00000</td>\n",
       "      <td>0.000000</td>\n",
       "      <td>0.000000</td>\n",
       "      <td>0.000000</td>\n",
       "      <td>0.000000</td>\n",
       "    </tr>\n",
       "    <tr>\n",
       "      <th>25%</th>\n",
       "      <td>50000.000000</td>\n",
       "      <td>28.000000</td>\n",
       "      <td>0.000000</td>\n",
       "      <td>3558.750000</td>\n",
       "      <td>2984.750000</td>\n",
       "      <td>2.666250e+03</td>\n",
       "      <td>2326.750000</td>\n",
       "      <td>1763.000000</td>\n",
       "      <td>1256.000000</td>\n",
       "      <td>1000.000000</td>\n",
       "      <td>8.330000e+02</td>\n",
       "      <td>390.00000</td>\n",
       "      <td>296.000000</td>\n",
       "      <td>252.500000</td>\n",
       "      <td>117.750000</td>\n",
       "      <td>0.000000</td>\n",
       "    </tr>\n",
       "    <tr>\n",
       "      <th>50%</th>\n",
       "      <td>140000.000000</td>\n",
       "      <td>34.000000</td>\n",
       "      <td>0.000000</td>\n",
       "      <td>22381.500000</td>\n",
       "      <td>21200.000000</td>\n",
       "      <td>2.008850e+04</td>\n",
       "      <td>19052.000000</td>\n",
       "      <td>18104.500000</td>\n",
       "      <td>17071.000000</td>\n",
       "      <td>2100.000000</td>\n",
       "      <td>2.009000e+03</td>\n",
       "      <td>1800.00000</td>\n",
       "      <td>1500.000000</td>\n",
       "      <td>1500.000000</td>\n",
       "      <td>1500.000000</td>\n",
       "      <td>0.000000</td>\n",
       "    </tr>\n",
       "    <tr>\n",
       "      <th>75%</th>\n",
       "      <td>240000.000000</td>\n",
       "      <td>41.000000</td>\n",
       "      <td>2.000000</td>\n",
       "      <td>67091.000000</td>\n",
       "      <td>64006.250000</td>\n",
       "      <td>6.016475e+04</td>\n",
       "      <td>54506.000000</td>\n",
       "      <td>50190.500000</td>\n",
       "      <td>49198.250000</td>\n",
       "      <td>5006.000000</td>\n",
       "      <td>5.000000e+03</td>\n",
       "      <td>4505.00000</td>\n",
       "      <td>4013.250000</td>\n",
       "      <td>4031.500000</td>\n",
       "      <td>4000.000000</td>\n",
       "      <td>0.000000</td>\n",
       "    </tr>\n",
       "    <tr>\n",
       "      <th>max</th>\n",
       "      <td>1000000.000000</td>\n",
       "      <td>79.000000</td>\n",
       "      <td>6.000000</td>\n",
       "      <td>964511.000000</td>\n",
       "      <td>983931.000000</td>\n",
       "      <td>1.664089e+06</td>\n",
       "      <td>891586.000000</td>\n",
       "      <td>927171.000000</td>\n",
       "      <td>961664.000000</td>\n",
       "      <td>873552.000000</td>\n",
       "      <td>1.684259e+06</td>\n",
       "      <td>896040.00000</td>\n",
       "      <td>621000.000000</td>\n",
       "      <td>426529.000000</td>\n",
       "      <td>528666.000000</td>\n",
       "      <td>1.000000</td>\n",
       "    </tr>\n",
       "  </tbody>\n",
       "</table>\n",
       "</div>"
      ],
      "text/plain": [
       "            LIMIT_BAL           AGE   MONTHS_LATE      BILL_AMT1  \\\n",
       "count    30000.000000  30000.000000  30000.000000   30000.000000   \n",
       "mean    167484.322667     35.485500      0.996967   51223.330900   \n",
       "std     129747.661567      9.217904      1.716000   73635.860576   \n",
       "min      10000.000000     21.000000      0.000000 -165580.000000   \n",
       "25%      50000.000000     28.000000      0.000000    3558.750000   \n",
       "50%     140000.000000     34.000000      0.000000   22381.500000   \n",
       "75%     240000.000000     41.000000      2.000000   67091.000000   \n",
       "max    1000000.000000     79.000000      6.000000  964511.000000   \n",
       "\n",
       "           BILL_AMT2     BILL_AMT3      BILL_AMT4      BILL_AMT5  \\\n",
       "count   30000.000000  3.000000e+04   30000.000000   30000.000000   \n",
       "mean    49179.075167  4.701315e+04   43262.948967   40311.400967   \n",
       "std     71173.768783  6.934939e+04   64332.856134   60797.155770   \n",
       "min    -69777.000000 -1.572640e+05 -170000.000000  -81334.000000   \n",
       "25%      2984.750000  2.666250e+03    2326.750000    1763.000000   \n",
       "50%     21200.000000  2.008850e+04   19052.000000   18104.500000   \n",
       "75%     64006.250000  6.016475e+04   54506.000000   50190.500000   \n",
       "max    983931.000000  1.664089e+06  891586.000000  927171.000000   \n",
       "\n",
       "           BILL_AMT6       PAY_AMT1      PAY_AMT2      PAY_AMT3  \\\n",
       "count   30000.000000   30000.000000  3.000000e+04   30000.00000   \n",
       "mean    38871.760400    5663.580500  5.921163e+03    5225.68150   \n",
       "std     59554.107537   16563.280354  2.304087e+04   17606.96147   \n",
       "min   -339603.000000       0.000000  0.000000e+00       0.00000   \n",
       "25%      1256.000000    1000.000000  8.330000e+02     390.00000   \n",
       "50%     17071.000000    2100.000000  2.009000e+03    1800.00000   \n",
       "75%     49198.250000    5006.000000  5.000000e+03    4505.00000   \n",
       "max    961664.000000  873552.000000  1.684259e+06  896040.00000   \n",
       "\n",
       "            PAY_AMT4       PAY_AMT5       PAY_AMT6       default  \n",
       "count   30000.000000   30000.000000   30000.000000  30000.000000  \n",
       "mean     4826.076867    4799.387633    5215.502567      0.221200  \n",
       "std     15666.159744   15278.305679   17777.465775      0.415062  \n",
       "min         0.000000       0.000000       0.000000      0.000000  \n",
       "25%       296.000000     252.500000     117.750000      0.000000  \n",
       "50%      1500.000000    1500.000000    1500.000000      0.000000  \n",
       "75%      4013.250000    4031.500000    4000.000000      0.000000  \n",
       "max    621000.000000  426529.000000  528666.000000      1.000000  "
      ]
     },
     "execution_count": 38,
     "metadata": {},
     "output_type": "execute_result"
    }
   ],
   "source": [
    "# Create new dataset with quantitative variables - full dataset\n",
    "df_quant = df.filter(['LIMIT_BAL', 'AGE', 'MONTHS_LATE',\n",
    "       'BILL_AMT1', 'BILL_AMT2',\n",
    "       'BILL_AMT3', 'BILL_AMT4', 'BILL_AMT5', 'BILL_AMT6', 'PAY_AMT1',\n",
    "       'PAY_AMT2', 'PAY_AMT3', 'PAY_AMT4', 'PAY_AMT5', 'PAY_AMT6', 'default'], axis=1)\n",
    "df_quant.describe()\n"
   ]
  },
  {
   "cell_type": "code",
   "execution_count": 40,
   "metadata": {},
   "outputs": [
    {
     "data": {
      "text/html": [
       "<div>\n",
       "<style scoped>\n",
       "    .dataframe tbody tr th:only-of-type {\n",
       "        vertical-align: middle;\n",
       "    }\n",
       "\n",
       "    .dataframe tbody tr th {\n",
       "        vertical-align: top;\n",
       "    }\n",
       "\n",
       "    .dataframe thead th {\n",
       "        text-align: right;\n",
       "    }\n",
       "</style>\n",
       "<table border=\"1\" class=\"dataframe\">\n",
       "  <thead>\n",
       "    <tr style=\"text-align: right;\">\n",
       "      <th></th>\n",
       "      <th>LIMIT_BAL</th>\n",
       "      <th>AGE</th>\n",
       "      <th>MONTHS_LATE</th>\n",
       "      <th>PAYMENT_RATIO</th>\n",
       "      <th>default</th>\n",
       "    </tr>\n",
       "  </thead>\n",
       "  <tbody>\n",
       "    <tr>\n",
       "      <th>count</th>\n",
       "      <td>29130.000000</td>\n",
       "      <td>29130.000000</td>\n",
       "      <td>29130.000000</td>\n",
       "      <td>29130.000000</td>\n",
       "      <td>29130.000000</td>\n",
       "    </tr>\n",
       "    <tr>\n",
       "      <th>mean</th>\n",
       "      <td>166149.319602</td>\n",
       "      <td>35.442911</td>\n",
       "      <td>1.007999</td>\n",
       "      <td>0.574022</td>\n",
       "      <td>0.216924</td>\n",
       "    </tr>\n",
       "    <tr>\n",
       "      <th>std</th>\n",
       "      <td>129833.321495</td>\n",
       "      <td>9.207667</td>\n",
       "      <td>1.738166</td>\n",
       "      <td>7.773143</td>\n",
       "      <td>0.412158</td>\n",
       "    </tr>\n",
       "    <tr>\n",
       "      <th>min</th>\n",
       "      <td>10000.000000</td>\n",
       "      <td>21.000000</td>\n",
       "      <td>0.000000</td>\n",
       "      <td>0.000000</td>\n",
       "      <td>0.000000</td>\n",
       "    </tr>\n",
       "    <tr>\n",
       "      <th>25%</th>\n",
       "      <td>50000.000000</td>\n",
       "      <td>28.000000</td>\n",
       "      <td>0.000000</td>\n",
       "      <td>0.042445</td>\n",
       "      <td>0.000000</td>\n",
       "    </tr>\n",
       "    <tr>\n",
       "      <th>50%</th>\n",
       "      <td>140000.000000</td>\n",
       "      <td>34.000000</td>\n",
       "      <td>0.000000</td>\n",
       "      <td>0.094891</td>\n",
       "      <td>0.000000</td>\n",
       "    </tr>\n",
       "    <tr>\n",
       "      <th>75%</th>\n",
       "      <td>240000.000000</td>\n",
       "      <td>41.000000</td>\n",
       "      <td>2.000000</td>\n",
       "      <td>0.627543</td>\n",
       "      <td>0.000000</td>\n",
       "    </tr>\n",
       "    <tr>\n",
       "      <th>max</th>\n",
       "      <td>1000000.000000</td>\n",
       "      <td>79.000000</td>\n",
       "      <td>6.000000</td>\n",
       "      <td>797.000000</td>\n",
       "      <td>1.000000</td>\n",
       "    </tr>\n",
       "  </tbody>\n",
       "</table>\n",
       "</div>"
      ],
      "text/plain": [
       "            LIMIT_BAL           AGE   MONTHS_LATE  PAYMENT_RATIO       default\n",
       "count    29130.000000  29130.000000  29130.000000   29130.000000  29130.000000\n",
       "mean    166149.319602     35.442911      1.007999       0.574022      0.216924\n",
       "std     129833.321495      9.207667      1.738166       7.773143      0.412158\n",
       "min      10000.000000     21.000000      0.000000       0.000000      0.000000\n",
       "25%      50000.000000     28.000000      0.000000       0.042445      0.000000\n",
       "50%     140000.000000     34.000000      0.000000       0.094891      0.000000\n",
       "75%     240000.000000     41.000000      2.000000       0.627543      0.000000\n",
       "max    1000000.000000     79.000000      6.000000     797.000000      1.000000"
      ]
     },
     "execution_count": 40,
     "metadata": {},
     "output_type": "execute_result"
    }
   ],
   "source": [
    "df_quant2 = df2.filter(['LIMIT_BAL', 'AGE', 'MONTHS_LATE', 'PAYMENT_RATIO','default'], axis=1)\n",
    "df_quant2.describe()"
   ]
  },
  {
   "cell_type": "code",
   "execution_count": null,
   "metadata": {},
   "outputs": [],
   "source": []
  },
  {
   "cell_type": "markdown",
   "metadata": {},
   "source": [
    "## Create correlation visuals to see strength of correlation of each variable with the target \"default\" variable."
   ]
  },
  {
   "cell_type": "code",
   "execution_count": 41,
   "metadata": {},
   "outputs": [],
   "source": [
    "features_quant = [ 'default', 'LIMIT_BAL', 'AGE', 'MONTHS_LATE', 'BILL_AMT1', 'BILL_AMT2',\n",
    "       'BILL_AMT3', 'BILL_AMT4', 'BILL_AMT5', 'BILL_AMT6', 'PAY_AMT1',\n",
    "       'PAY_AMT2', 'PAY_AMT3', 'PAY_AMT4', 'PAY_AMT5', 'PAY_AMT6']"
   ]
  },
  {
   "cell_type": "code",
   "execution_count": 42,
   "metadata": {},
   "outputs": [
    {
     "data": {
      "text/plain": [
       "array([[1.0000e+00, 5.0000e+04, 2.9000e+01, ..., 2.2250e+03, 1.2000e+03,\n",
       "        0.0000e+00],\n",
       "       [1.0000e+00, 3.2000e+05, 2.9000e+01, ..., 4.8000e+03, 2.4000e+03,\n",
       "        1.6000e+03],\n",
       "       [1.0000e+00, 2.0000e+05, 5.3000e+01, ..., 5.5000e+03, 5.0000e+03,\n",
       "        5.0000e+03],\n",
       "       ...,\n",
       "       [0.0000e+00, 1.5000e+05, 4.3000e+01, ..., 1.2900e+02, 0.0000e+00,\n",
       "        0.0000e+00],\n",
       "       [1.0000e+00, 8.0000e+04, 4.1000e+01, ..., 1.9260e+03, 5.2964e+04,\n",
       "        1.8040e+03],\n",
       "       [1.0000e+00, 5.0000e+04, 4.6000e+01, ..., 1.0000e+03, 1.0000e+03,\n",
       "        1.0000e+03]])"
      ]
     },
     "execution_count": 42,
     "metadata": {},
     "output_type": "execute_result"
    },
    {
     "data": {
      "image/png": "[encoded data removed]",
      "text/plain": [
       "<Figure size 1080x504 with 2 Axes>"
      ]
     },
     "metadata": {},
     "output_type": "display_data"
    }
   ],
   "source": [
    "#set up the figure size\n",
    "#%matplotlib inline\n",
    "plt.rcParams['figure.figsize'] = (15, 7)\n",
    "\n",
    "# import the package for visulization of the correlation\n",
    "from yellowbrick.features import Rank2D\n",
    "\n",
    "# extract the numpy arrays from the data frame\n",
    "X =df[features_quant].to_numpy()\n",
    "\n",
    "# instantiate the visualizer with the Covariance ranking algorithm\n",
    "visualizer = Rank2D(features=features_quant, algorithm='pearson')\n",
    "visualizer.fit(X)                # Fit the data to the visualizer\n",
    "visualizer.transform(X)             # Transform the data\n",
    "#visualizer.poof(outpath=\"d://pcoords1.png\") # Draw/show/poof the data"
   ]
  },
  {
   "cell_type": "code",
   "execution_count": 43,
   "metadata": {},
   "outputs": [
    {
     "data": {
      "text/plain": [
       "array([[1.0000e+00, 5.0000e+04, 2.9000e+01, ..., 2.2250e+03, 1.2000e+03,\n",
       "        0.0000e+00],\n",
       "       [1.0000e+00, 3.2000e+05, 2.9000e+01, ..., 4.8000e+03, 2.4000e+03,\n",
       "        1.6000e+03],\n",
       "       [1.0000e+00, 2.0000e+05, 5.3000e+01, ..., 5.5000e+03, 5.0000e+03,\n",
       "        5.0000e+03],\n",
       "       ...,\n",
       "       [1.0000e+00, 9.0000e+04, 3.6000e+01, ..., 1.2000e+03, 2.5000e+03,\n",
       "        0.0000e+00],\n",
       "       [1.0000e+00, 8.0000e+04, 4.1000e+01, ..., 1.9260e+03, 5.2964e+04,\n",
       "        1.8040e+03],\n",
       "       [1.0000e+00, 5.0000e+04, 4.6000e+01, ..., 1.0000e+03, 1.0000e+03,\n",
       "        1.0000e+03]])"
      ]
     },
     "execution_count": 43,
     "metadata": {},
     "output_type": "execute_result"
    },
    {
     "data": {
      "image/png": "[encoded data removed]",
      "text/plain": [
       "<Figure size 1080x504 with 2 Axes>"
      ]
     },
     "metadata": {},
     "output_type": "display_data"
    }
   ],
   "source": [
    "#set up the figure size\n",
    "#%matplotlib inline\n",
    "plt.rcParams['figure.figsize'] = (15, 7)\n",
    "\n",
    "# import the package for visulization of the correlation\n",
    "from yellowbrick.features import Rank2D\n",
    "\n",
    "# extract the numpy arrays from the data frame\n",
    "X =defaultY[features_quant].to_numpy()\n",
    "\n",
    "# instantiate the visualizer with the Covariance ranking algorithm\n",
    "visualizer = Rank2D(features=features_quant, algorithm='pearson')\n",
    "visualizer.fit(X)                # Fit the data to the visualizer\n",
    "visualizer.transform(X)             # Transform the data\n",
    "#visualizer.poof(outpath=\"d://pcoords1.png\") # Draw/show/poof the data"
   ]
  },
  {
   "cell_type": "code",
   "execution_count": 44,
   "metadata": {},
   "outputs": [
    {
     "data": {
      "text/plain": [
       "array([[0.000e+00, 6.000e+04, 2.600e+01, ..., 6.000e+00, 3.000e+03,\n",
       "        3.000e+03],\n",
       "       [0.000e+00, 2.800e+05, 4.100e+01, ..., 1.485e+04, 0.000e+00,\n",
       "        5.000e+03],\n",
       "       [0.000e+00, 3.000e+04, 4.100e+01, ..., 0.000e+00, 1.200e+03,\n",
       "        1.250e+03],\n",
       "       ...,\n",
       "       [0.000e+00, 1.000e+05, 3.800e+01, ..., 3.000e+03, 2.000e+03,\n",
       "        2.000e+03],\n",
       "       [0.000e+00, 2.200e+05, 3.900e+01, ..., 3.047e+03, 5.000e+03,\n",
       "        1.000e+03],\n",
       "       [0.000e+00, 1.500e+05, 4.300e+01, ..., 1.290e+02, 0.000e+00,\n",
       "        0.000e+00]])"
      ]
     },
     "execution_count": 44,
     "metadata": {},
     "output_type": "execute_result"
    },
    {
     "data": {
      "image/png": "[encoded data removed]",
      "text/plain": [
       "<Figure size 1080x504 with 2 Axes>"
      ]
     },
     "metadata": {},
     "output_type": "display_data"
    }
   ],
   "source": [
    "#set up the figure size\n",
    "#%matplotlib inline\n",
    "plt.rcParams['figure.figsize'] = (15, 7)\n",
    "\n",
    "# import the package for visulization of the correlation\n",
    "from yellowbrick.features import Rank2D\n",
    "\n",
    "# extract the numpy arrays from the data frame\n",
    "X =defaultN[features_quant].to_numpy()\n",
    "\n",
    "# instantiate the visualizer with the Covariance ranking algorithm\n",
    "visualizer = Rank2D(features=features_quant, algorithm='pearson')\n",
    "visualizer.fit(X)                # Fit the data to the visualizer\n",
    "visualizer.transform(X)             # Transform the data\n",
    "#visualizer.poof(outpath=\"d://pcoords1.png\") # Draw/show/poof the data"
   ]
  },
  {
   "cell_type": "code",
   "execution_count": null,
   "metadata": {},
   "outputs": [],
   "source": []
  },
  {
   "cell_type": "code",
   "execution_count": 45,
   "metadata": {},
   "outputs": [],
   "source": [
    "features_quant2 = [ 'default', 'LIMIT_BAL', 'AGE', 'MONTHS_LATE', 'PAYMENT_RATIO']"
   ]
  },
  {
   "cell_type": "code",
   "execution_count": 46,
   "metadata": {},
   "outputs": [
    {
     "data": {
      "text/plain": [
       "array([[1.00000000e+00, 5.00000000e+04, 2.90000000e+01, 6.00000000e+00,\n",
       "        3.88459733e-02],\n",
       "       [1.00000000e+00, 3.20000000e+05, 2.90000000e+01, 6.00000000e+00,\n",
       "        3.81055468e-02],\n",
       "       [1.00000000e+00, 2.00000000e+05, 5.30000000e+01, 6.00000000e+00,\n",
       "        3.80436737e-02],\n",
       "       ...,\n",
       "       [0.00000000e+00, 1.50000000e+05, 4.30000000e+01, 0.00000000e+00,\n",
       "        6.84071381e-01],\n",
       "       [1.00000000e+00, 8.00000000e+04, 4.10000000e+01, 1.00000000e+00,\n",
       "        5.52043989e-01],\n",
       "       [1.00000000e+00, 5.00000000e+04, 4.60000000e+01, 0.00000000e+00,\n",
       "        3.59849961e-02]])"
      ]
     },
     "execution_count": 46,
     "metadata": {},
     "output_type": "execute_result"
    },
    {
     "data": {
      "image/png": "[encoded data removed]",
      "text/plain": [
       "<Figure size 1080x504 with 2 Axes>"
      ]
     },
     "metadata": {},
     "output_type": "display_data"
    }
   ],
   "source": [
    "#set up the figure size\n",
    "#%matplotlib inline\n",
    "plt.rcParams['figure.figsize'] = (15, 7)\n",
    "\n",
    "# import the package for visulization of the correlation\n",
    "from yellowbrick.features import Rank2D\n",
    "\n",
    "# extract the numpy arrays from the data frame\n",
    "X =df2[features_quant2].to_numpy()\n",
    "\n",
    "# instantiate the visualizer with the Covariance ranking algorithm\n",
    "visualizer = Rank2D(features=features_quant2, algorithm='pearson')\n",
    "visualizer.fit(X)                # Fit the data to the visualizer\n",
    "visualizer.transform(X)             # Transform the data"
   ]
  },
  {
   "cell_type": "code",
   "execution_count": 47,
   "metadata": {},
   "outputs": [
    {
     "data": {
      "text/plain": [
       "array([[1.00000000e+00, 5.00000000e+04, 2.90000000e+01, 6.00000000e+00,\n",
       "        3.88459733e-02],\n",
       "       [1.00000000e+00, 3.20000000e+05, 2.90000000e+01, 6.00000000e+00,\n",
       "        3.81055468e-02],\n",
       "       [1.00000000e+00, 2.00000000e+05, 5.30000000e+01, 6.00000000e+00,\n",
       "        3.80436737e-02],\n",
       "       ...,\n",
       "       [1.00000000e+00, 9.00000000e+04, 3.60000000e+01, 0.00000000e+00,\n",
       "        1.26420301e-01],\n",
       "       [1.00000000e+00, 8.00000000e+04, 4.10000000e+01, 1.00000000e+00,\n",
       "        5.52043989e-01],\n",
       "       [1.00000000e+00, 5.00000000e+04, 4.60000000e+01, 0.00000000e+00,\n",
       "        3.59849961e-02]])"
      ]
     },
     "execution_count": 47,
     "metadata": {},
     "output_type": "execute_result"
    },
    {
     "data": {
      "image/png": "[encoded data removed]",
      "text/plain": [
       "<Figure size 1080x504 with 2 Axes>"
      ]
     },
     "metadata": {},
     "output_type": "display_data"
    }
   ],
   "source": [
    "#set up the figure size\n",
    "#%matplotlib inline\n",
    "plt.rcParams['figure.figsize'] = (15, 7)\n",
    "\n",
    "# import the package for visulization of the correlation\n",
    "from yellowbrick.features import Rank2D\n",
    "\n",
    "# extract the numpy arrays from the data frame\n",
    "X =defaultY2[features_quant2].to_numpy()\n",
    "\n",
    "# instantiate the visualizer with the Covariance ranking algorithm\n",
    "visualizer = Rank2D(features=features_quant2, algorithm='pearson')\n",
    "visualizer.fit(X)                # Fit the data to the visualizer\n",
    "visualizer.transform(X)             # Transform the data"
   ]
  },
  {
   "cell_type": "code",
   "execution_count": 48,
   "metadata": {},
   "outputs": [
    {
     "data": {
      "text/plain": [
       "array([[0.00000000e+00, 6.00000000e+04, 2.60000000e+01, 6.00000000e+00,\n",
       "        3.95190008e-02],\n",
       "       [0.00000000e+00, 2.80000000e+05, 4.10000000e+01, 6.00000000e+00,\n",
       "        4.74896141e-02],\n",
       "       [0.00000000e+00, 3.00000000e+04, 4.10000000e+01, 6.00000000e+00,\n",
       "        5.01242343e-02],\n",
       "       ...,\n",
       "       [0.00000000e+00, 1.00000000e+05, 3.80000000e+01, 0.00000000e+00,\n",
       "        4.12416382e-01],\n",
       "       [0.00000000e+00, 2.20000000e+05, 3.90000000e+01, 0.00000000e+00,\n",
       "        5.86614168e-02],\n",
       "       [0.00000000e+00, 1.50000000e+05, 4.30000000e+01, 0.00000000e+00,\n",
       "        6.84071381e-01]])"
      ]
     },
     "execution_count": 48,
     "metadata": {},
     "output_type": "execute_result"
    },
    {
     "data": {
      "image/png": "[encoded data removed]",
      "text/plain": [
       "<Figure size 1080x504 with 2 Axes>"
      ]
     },
     "metadata": {},
     "output_type": "display_data"
    }
   ],
   "source": [
    "#set up the figure size\n",
    "#%matplotlib inline\n",
    "plt.rcParams['figure.figsize'] = (15, 7)\n",
    "\n",
    "# import the package for visulization of the correlation\n",
    "from yellowbrick.features import Rank2D\n",
    "\n",
    "# extract the numpy arrays from the data frame\n",
    "X =defaultN2[features_quant2].to_numpy()\n",
    "\n",
    "# instantiate the visualizer with the Covariance ranking algorithm\n",
    "visualizer = Rank2D(features=features_quant2, algorithm='pearson')\n",
    "visualizer.fit(X)                # Fit the data to the visualizer\n",
    "visualizer.transform(X)             # Transform the data"
   ]
  },
  {
   "cell_type": "code",
   "execution_count": null,
   "metadata": {},
   "outputs": [],
   "source": []
  },
  {
   "cell_type": "markdown",
   "metadata": {},
   "source": [
    "**Look at descriptive statistics for separate default subset and non-default subset.**"
   ]
  },
  {
   "cell_type": "code",
   "execution_count": 49,
   "metadata": {},
   "outputs": [
    {
     "data": {
      "text/html": [
       "<div>\n",
       "<style scoped>\n",
       "    .dataframe tbody tr th:only-of-type {\n",
       "        vertical-align: middle;\n",
       "    }\n",
       "\n",
       "    .dataframe tbody tr th {\n",
       "        vertical-align: top;\n",
       "    }\n",
       "\n",
       "    .dataframe thead th {\n",
       "        text-align: right;\n",
       "    }\n",
       "</style>\n",
       "<table border=\"1\" class=\"dataframe\">\n",
       "  <thead>\n",
       "    <tr style=\"text-align: right;\">\n",
       "      <th></th>\n",
       "      <th>LIMIT_BAL</th>\n",
       "      <th>AGE</th>\n",
       "      <th>MONTHS_LATE</th>\n",
       "      <th>BILL_AMT1</th>\n",
       "      <th>BILL_AMT2</th>\n",
       "      <th>BILL_AMT3</th>\n",
       "      <th>BILL_AMT4</th>\n",
       "      <th>BILL_AMT5</th>\n",
       "      <th>BILL_AMT6</th>\n",
       "      <th>PAY_AMT1</th>\n",
       "      <th>PAY_AMT2</th>\n",
       "      <th>PAY_AMT3</th>\n",
       "      <th>PAY_AMT4</th>\n",
       "      <th>PAY_AMT5</th>\n",
       "      <th>PAY_AMT6</th>\n",
       "    </tr>\n",
       "  </thead>\n",
       "  <tbody>\n",
       "    <tr>\n",
       "      <th>count</th>\n",
       "      <td>6636.000000</td>\n",
       "      <td>6636.000000</td>\n",
       "      <td>6636.000000</td>\n",
       "      <td>6636.000000</td>\n",
       "      <td>6636.000000</td>\n",
       "      <td>6636.000000</td>\n",
       "      <td>6636.000000</td>\n",
       "      <td>6636.000000</td>\n",
       "      <td>6636.000000</td>\n",
       "      <td>6636.000000</td>\n",
       "      <td>6636.000000</td>\n",
       "      <td>6636.000000</td>\n",
       "      <td>6636.000000</td>\n",
       "      <td>6636.000000</td>\n",
       "      <td>6636.000000</td>\n",
       "    </tr>\n",
       "    <tr>\n",
       "      <th>mean</th>\n",
       "      <td>130109.656420</td>\n",
       "      <td>35.725738</td>\n",
       "      <td>2.317661</td>\n",
       "      <td>48509.162297</td>\n",
       "      <td>47283.617842</td>\n",
       "      <td>45181.598855</td>\n",
       "      <td>42036.950573</td>\n",
       "      <td>39540.190476</td>\n",
       "      <td>38271.435503</td>\n",
       "      <td>3397.044153</td>\n",
       "      <td>3388.649638</td>\n",
       "      <td>3367.351567</td>\n",
       "      <td>3155.626733</td>\n",
       "      <td>3219.139542</td>\n",
       "      <td>3441.482068</td>\n",
       "    </tr>\n",
       "    <tr>\n",
       "      <th>std</th>\n",
       "      <td>115378.540571</td>\n",
       "      <td>9.693438</td>\n",
       "      <td>2.223813</td>\n",
       "      <td>73782.067220</td>\n",
       "      <td>71651.030364</td>\n",
       "      <td>68516.975738</td>\n",
       "      <td>64351.076092</td>\n",
       "      <td>61424.695949</td>\n",
       "      <td>59579.674268</td>\n",
       "      <td>9544.252427</td>\n",
       "      <td>11737.986064</td>\n",
       "      <td>12959.624486</td>\n",
       "      <td>11191.973162</td>\n",
       "      <td>11944.731175</td>\n",
       "      <td>13464.005894</td>\n",
       "    </tr>\n",
       "    <tr>\n",
       "      <th>min</th>\n",
       "      <td>10000.000000</td>\n",
       "      <td>21.000000</td>\n",
       "      <td>0.000000</td>\n",
       "      <td>-6676.000000</td>\n",
       "      <td>-17710.000000</td>\n",
       "      <td>-61506.000000</td>\n",
       "      <td>-65167.000000</td>\n",
       "      <td>-53007.000000</td>\n",
       "      <td>-339603.000000</td>\n",
       "      <td>0.000000</td>\n",
       "      <td>0.000000</td>\n",
       "      <td>0.000000</td>\n",
       "      <td>0.000000</td>\n",
       "      <td>0.000000</td>\n",
       "      <td>0.000000</td>\n",
       "    </tr>\n",
       "    <tr>\n",
       "      <th>25%</th>\n",
       "      <td>50000.000000</td>\n",
       "      <td>28.000000</td>\n",
       "      <td>0.000000</td>\n",
       "      <td>2987.750000</td>\n",
       "      <td>2694.000000</td>\n",
       "      <td>2500.000000</td>\n",
       "      <td>2141.500000</td>\n",
       "      <td>1502.750000</td>\n",
       "      <td>1150.000000</td>\n",
       "      <td>0.000000</td>\n",
       "      <td>0.000000</td>\n",
       "      <td>0.000000</td>\n",
       "      <td>0.000000</td>\n",
       "      <td>0.000000</td>\n",
       "      <td>0.000000</td>\n",
       "    </tr>\n",
       "    <tr>\n",
       "      <th>50%</th>\n",
       "      <td>90000.000000</td>\n",
       "      <td>34.000000</td>\n",
       "      <td>2.000000</td>\n",
       "      <td>20185.000000</td>\n",
       "      <td>20300.500000</td>\n",
       "      <td>19834.500000</td>\n",
       "      <td>19119.500000</td>\n",
       "      <td>18478.500000</td>\n",
       "      <td>18028.500000</td>\n",
       "      <td>1636.000000</td>\n",
       "      <td>1533.500000</td>\n",
       "      <td>1222.000000</td>\n",
       "      <td>1000.000000</td>\n",
       "      <td>1000.000000</td>\n",
       "      <td>1000.000000</td>\n",
       "    </tr>\n",
       "    <tr>\n",
       "      <th>75%</th>\n",
       "      <td>200000.000000</td>\n",
       "      <td>42.000000</td>\n",
       "      <td>4.000000</td>\n",
       "      <td>59626.500000</td>\n",
       "      <td>57919.750000</td>\n",
       "      <td>54733.750000</td>\n",
       "      <td>50175.750000</td>\n",
       "      <td>47853.000000</td>\n",
       "      <td>47424.000000</td>\n",
       "      <td>3478.250000</td>\n",
       "      <td>3309.750000</td>\n",
       "      <td>3000.000000</td>\n",
       "      <td>2939.250000</td>\n",
       "      <td>3000.000000</td>\n",
       "      <td>2974.500000</td>\n",
       "    </tr>\n",
       "    <tr>\n",
       "      <th>max</th>\n",
       "      <td>740000.000000</td>\n",
       "      <td>75.000000</td>\n",
       "      <td>6.000000</td>\n",
       "      <td>613860.000000</td>\n",
       "      <td>581775.000000</td>\n",
       "      <td>578971.000000</td>\n",
       "      <td>548020.000000</td>\n",
       "      <td>547880.000000</td>\n",
       "      <td>514975.000000</td>\n",
       "      <td>300000.000000</td>\n",
       "      <td>358689.000000</td>\n",
       "      <td>508229.000000</td>\n",
       "      <td>432130.000000</td>\n",
       "      <td>332000.000000</td>\n",
       "      <td>345293.000000</td>\n",
       "    </tr>\n",
       "  </tbody>\n",
       "</table>\n",
       "</div>"
      ],
      "text/plain": [
       "           LIMIT_BAL          AGE  MONTHS_LATE      BILL_AMT1      BILL_AMT2  \\\n",
       "count    6636.000000  6636.000000  6636.000000    6636.000000    6636.000000   \n",
       "mean   130109.656420    35.725738     2.317661   48509.162297   47283.617842   \n",
       "std    115378.540571     9.693438     2.223813   73782.067220   71651.030364   \n",
       "min     10000.000000    21.000000     0.000000   -6676.000000  -17710.000000   \n",
       "25%     50000.000000    28.000000     0.000000    2987.750000    2694.000000   \n",
       "50%     90000.000000    34.000000     2.000000   20185.000000   20300.500000   \n",
       "75%    200000.000000    42.000000     4.000000   59626.500000   57919.750000   \n",
       "max    740000.000000    75.000000     6.000000  613860.000000  581775.000000   \n",
       "\n",
       "           BILL_AMT3      BILL_AMT4      BILL_AMT5      BILL_AMT6  \\\n",
       "count    6636.000000    6636.000000    6636.000000    6636.000000   \n",
       "mean    45181.598855   42036.950573   39540.190476   38271.435503   \n",
       "std     68516.975738   64351.076092   61424.695949   59579.674268   \n",
       "min    -61506.000000  -65167.000000  -53007.000000 -339603.000000   \n",
       "25%      2500.000000    2141.500000    1502.750000    1150.000000   \n",
       "50%     19834.500000   19119.500000   18478.500000   18028.500000   \n",
       "75%     54733.750000   50175.750000   47853.000000   47424.000000   \n",
       "max    578971.000000  548020.000000  547880.000000  514975.000000   \n",
       "\n",
       "            PAY_AMT1       PAY_AMT2       PAY_AMT3       PAY_AMT4  \\\n",
       "count    6636.000000    6636.000000    6636.000000    6636.000000   \n",
       "mean     3397.044153    3388.649638    3367.351567    3155.626733   \n",
       "std      9544.252427   11737.986064   12959.624486   11191.973162   \n",
       "min         0.000000       0.000000       0.000000       0.000000   \n",
       "25%         0.000000       0.000000       0.000000       0.000000   \n",
       "50%      1636.000000    1533.500000    1222.000000    1000.000000   \n",
       "75%      3478.250000    3309.750000    3000.000000    2939.250000   \n",
       "max    300000.000000  358689.000000  508229.000000  432130.000000   \n",
       "\n",
       "            PAY_AMT5       PAY_AMT6  \n",
       "count    6636.000000    6636.000000  \n",
       "mean     3219.139542    3441.482068  \n",
       "std     11944.731175   13464.005894  \n",
       "min         0.000000       0.000000  \n",
       "25%         0.000000       0.000000  \n",
       "50%      1000.000000    1000.000000  \n",
       "75%      3000.000000    2974.500000  \n",
       "max    332000.000000  345293.000000  "
      ]
     },
     "execution_count": 49,
     "metadata": {},
     "output_type": "execute_result"
    }
   ],
   "source": [
    "# Create new dataset with quantitative variables - default is yes\n",
    "defaultY_quant = defaultY.filter(['LIMIT_BAL', 'AGE', 'MONTHS_LATE',\n",
    "       'BILL_AMT1', 'BILL_AMT2',\n",
    "       'BILL_AMT3', 'BILL_AMT4', 'BILL_AMT5', 'BILL_AMT6', 'PAY_AMT1',\n",
    "       'PAY_AMT2', 'PAY_AMT3', 'PAY_AMT4', 'PAY_AMT5', 'PAY_AMT6'], axis=1)\n",
    "defaultY_quant.describe()"
   ]
  },
  {
   "cell_type": "code",
   "execution_count": 50,
   "metadata": {},
   "outputs": [
    {
     "data": {
      "text/html": [
       "<div>\n",
       "<style scoped>\n",
       "    .dataframe tbody tr th:only-of-type {\n",
       "        vertical-align: middle;\n",
       "    }\n",
       "\n",
       "    .dataframe tbody tr th {\n",
       "        vertical-align: top;\n",
       "    }\n",
       "\n",
       "    .dataframe thead th {\n",
       "        text-align: right;\n",
       "    }\n",
       "</style>\n",
       "<table border=\"1\" class=\"dataframe\">\n",
       "  <thead>\n",
       "    <tr style=\"text-align: right;\">\n",
       "      <th></th>\n",
       "      <th>LIMIT_BAL</th>\n",
       "      <th>AGE</th>\n",
       "      <th>MONTHS_LATE</th>\n",
       "      <th>BILL_AMT1</th>\n",
       "      <th>BILL_AMT2</th>\n",
       "      <th>BILL_AMT3</th>\n",
       "      <th>BILL_AMT4</th>\n",
       "      <th>BILL_AMT5</th>\n",
       "      <th>BILL_AMT6</th>\n",
       "      <th>PAY_AMT1</th>\n",
       "      <th>PAY_AMT2</th>\n",
       "      <th>PAY_AMT3</th>\n",
       "      <th>PAY_AMT4</th>\n",
       "      <th>PAY_AMT5</th>\n",
       "      <th>PAY_AMT6</th>\n",
       "    </tr>\n",
       "  </thead>\n",
       "  <tbody>\n",
       "    <tr>\n",
       "      <th>count</th>\n",
       "      <td>23364.000000</td>\n",
       "      <td>23364.000000</td>\n",
       "      <td>23364.000000</td>\n",
       "      <td>23364.000000</td>\n",
       "      <td>23364.000000</td>\n",
       "      <td>2.336400e+04</td>\n",
       "      <td>23364.000000</td>\n",
       "      <td>23364.000000</td>\n",
       "      <td>23364.000000</td>\n",
       "      <td>23364.000000</td>\n",
       "      <td>2.336400e+04</td>\n",
       "      <td>23364.000000</td>\n",
       "      <td>23364.000000</td>\n",
       "      <td>23364.000000</td>\n",
       "      <td>23364.000000</td>\n",
       "    </tr>\n",
       "    <tr>\n",
       "      <th>mean</th>\n",
       "      <td>178099.726074</td>\n",
       "      <td>35.417266</td>\n",
       "      <td>0.621854</td>\n",
       "      <td>51994.227273</td>\n",
       "      <td>49717.435670</td>\n",
       "      <td>4.753337e+04</td>\n",
       "      <td>43611.165254</td>\n",
       "      <td>40530.445343</td>\n",
       "      <td>39042.268704</td>\n",
       "      <td>6307.337357</td>\n",
       "      <td>6.640465e+03</td>\n",
       "      <td>5753.496833</td>\n",
       "      <td>5300.529319</td>\n",
       "      <td>5248.220296</td>\n",
       "      <td>5719.371769</td>\n",
       "    </tr>\n",
       "    <tr>\n",
       "      <th>std</th>\n",
       "      <td>131628.359660</td>\n",
       "      <td>9.077355</td>\n",
       "      <td>1.319260</td>\n",
       "      <td>73577.606694</td>\n",
       "      <td>71029.946709</td>\n",
       "      <td>6.957666e+04</td>\n",
       "      <td>64324.796730</td>\n",
       "      <td>60617.268112</td>\n",
       "      <td>59547.015717</td>\n",
       "      <td>18014.508990</td>\n",
       "      <td>2.530226e+04</td>\n",
       "      <td>18684.255937</td>\n",
       "      <td>16689.778060</td>\n",
       "      <td>16071.667860</td>\n",
       "      <td>18792.950473</td>\n",
       "    </tr>\n",
       "    <tr>\n",
       "      <th>min</th>\n",
       "      <td>10000.000000</td>\n",
       "      <td>21.000000</td>\n",
       "      <td>0.000000</td>\n",
       "      <td>-165580.000000</td>\n",
       "      <td>-69777.000000</td>\n",
       "      <td>-1.572640e+05</td>\n",
       "      <td>-170000.000000</td>\n",
       "      <td>-81334.000000</td>\n",
       "      <td>-209051.000000</td>\n",
       "      <td>0.000000</td>\n",
       "      <td>0.000000e+00</td>\n",
       "      <td>0.000000</td>\n",
       "      <td>0.000000</td>\n",
       "      <td>0.000000</td>\n",
       "      <td>0.000000</td>\n",
       "    </tr>\n",
       "    <tr>\n",
       "      <th>25%</th>\n",
       "      <td>70000.000000</td>\n",
       "      <td>28.000000</td>\n",
       "      <td>0.000000</td>\n",
       "      <td>3677.250000</td>\n",
       "      <td>3055.000000</td>\n",
       "      <td>2.769750e+03</td>\n",
       "      <td>2360.000000</td>\n",
       "      <td>1823.000000</td>\n",
       "      <td>1265.500000</td>\n",
       "      <td>1163.750000</td>\n",
       "      <td>1.005000e+03</td>\n",
       "      <td>600.000000</td>\n",
       "      <td>390.000000</td>\n",
       "      <td>369.000000</td>\n",
       "      <td>300.000000</td>\n",
       "    </tr>\n",
       "    <tr>\n",
       "      <th>50%</th>\n",
       "      <td>150000.000000</td>\n",
       "      <td>34.000000</td>\n",
       "      <td>0.000000</td>\n",
       "      <td>23119.500000</td>\n",
       "      <td>21660.500000</td>\n",
       "      <td>2.020250e+04</td>\n",
       "      <td>19000.000000</td>\n",
       "      <td>17998.000000</td>\n",
       "      <td>16679.000000</td>\n",
       "      <td>2459.500000</td>\n",
       "      <td>2.247500e+03</td>\n",
       "      <td>2000.000000</td>\n",
       "      <td>1734.000000</td>\n",
       "      <td>1765.000000</td>\n",
       "      <td>1706.000000</td>\n",
       "    </tr>\n",
       "    <tr>\n",
       "      <th>75%</th>\n",
       "      <td>250000.000000</td>\n",
       "      <td>41.000000</td>\n",
       "      <td>0.000000</td>\n",
       "      <td>69027.000000</td>\n",
       "      <td>65686.000000</td>\n",
       "      <td>6.189400e+04</td>\n",
       "      <td>55988.000000</td>\n",
       "      <td>51135.250000</td>\n",
       "      <td>49842.500000</td>\n",
       "      <td>5606.250000</td>\n",
       "      <td>5.311250e+03</td>\n",
       "      <td>5000.000000</td>\n",
       "      <td>4602.000000</td>\n",
       "      <td>4600.000000</td>\n",
       "      <td>4545.000000</td>\n",
       "    </tr>\n",
       "    <tr>\n",
       "      <th>max</th>\n",
       "      <td>1000000.000000</td>\n",
       "      <td>79.000000</td>\n",
       "      <td>6.000000</td>\n",
       "      <td>964511.000000</td>\n",
       "      <td>983931.000000</td>\n",
       "      <td>1.664089e+06</td>\n",
       "      <td>891586.000000</td>\n",
       "      <td>927171.000000</td>\n",
       "      <td>961664.000000</td>\n",
       "      <td>873552.000000</td>\n",
       "      <td>1.684259e+06</td>\n",
       "      <td>896040.000000</td>\n",
       "      <td>621000.000000</td>\n",
       "      <td>426529.000000</td>\n",
       "      <td>528666.000000</td>\n",
       "    </tr>\n",
       "  </tbody>\n",
       "</table>\n",
       "</div>"
      ],
      "text/plain": [
       "            LIMIT_BAL           AGE   MONTHS_LATE      BILL_AMT1  \\\n",
       "count    23364.000000  23364.000000  23364.000000   23364.000000   \n",
       "mean    178099.726074     35.417266      0.621854   51994.227273   \n",
       "std     131628.359660      9.077355      1.319260   73577.606694   \n",
       "min      10000.000000     21.000000      0.000000 -165580.000000   \n",
       "25%      70000.000000     28.000000      0.000000    3677.250000   \n",
       "50%     150000.000000     34.000000      0.000000   23119.500000   \n",
       "75%     250000.000000     41.000000      0.000000   69027.000000   \n",
       "max    1000000.000000     79.000000      6.000000  964511.000000   \n",
       "\n",
       "           BILL_AMT2     BILL_AMT3      BILL_AMT4      BILL_AMT5  \\\n",
       "count   23364.000000  2.336400e+04   23364.000000   23364.000000   \n",
       "mean    49717.435670  4.753337e+04   43611.165254   40530.445343   \n",
       "std     71029.946709  6.957666e+04   64324.796730   60617.268112   \n",
       "min    -69777.000000 -1.572640e+05 -170000.000000  -81334.000000   \n",
       "25%      3055.000000  2.769750e+03    2360.000000    1823.000000   \n",
       "50%     21660.500000  2.020250e+04   19000.000000   17998.000000   \n",
       "75%     65686.000000  6.189400e+04   55988.000000   51135.250000   \n",
       "max    983931.000000  1.664089e+06  891586.000000  927171.000000   \n",
       "\n",
       "           BILL_AMT6       PAY_AMT1      PAY_AMT2       PAY_AMT3  \\\n",
       "count   23364.000000   23364.000000  2.336400e+04   23364.000000   \n",
       "mean    39042.268704    6307.337357  6.640465e+03    5753.496833   \n",
       "std     59547.015717   18014.508990  2.530226e+04   18684.255937   \n",
       "min   -209051.000000       0.000000  0.000000e+00       0.000000   \n",
       "25%      1265.500000    1163.750000  1.005000e+03     600.000000   \n",
       "50%     16679.000000    2459.500000  2.247500e+03    2000.000000   \n",
       "75%     49842.500000    5606.250000  5.311250e+03    5000.000000   \n",
       "max    961664.000000  873552.000000  1.684259e+06  896040.000000   \n",
       "\n",
       "            PAY_AMT4       PAY_AMT5       PAY_AMT6  \n",
       "count   23364.000000   23364.000000   23364.000000  \n",
       "mean     5300.529319    5248.220296    5719.371769  \n",
       "std     16689.778060   16071.667860   18792.950473  \n",
       "min         0.000000       0.000000       0.000000  \n",
       "25%       390.000000     369.000000     300.000000  \n",
       "50%      1734.000000    1765.000000    1706.000000  \n",
       "75%      4602.000000    4600.000000    4545.000000  \n",
       "max    621000.000000  426529.000000  528666.000000  "
      ]
     },
     "execution_count": 50,
     "metadata": {},
     "output_type": "execute_result"
    }
   ],
   "source": [
    "# Create new dataset with quantitative variables - default is no\n",
    "defaultN_quant = defaultN.filter(['LIMIT_BAL', 'AGE', 'MONTHS_LATE',\n",
    "       'BILL_AMT1', 'BILL_AMT2',\n",
    "       'BILL_AMT3', 'BILL_AMT4', 'BILL_AMT5', 'BILL_AMT6', 'PAY_AMT1',\n",
    "       'PAY_AMT2', 'PAY_AMT3', 'PAY_AMT4', 'PAY_AMT5', 'PAY_AMT6'], axis=1)\n",
    "defaultN_quant.describe()"
   ]
  },
  {
   "cell_type": "code",
   "execution_count": null,
   "metadata": {},
   "outputs": [],
   "source": []
  },
  {
   "cell_type": "code",
   "execution_count": null,
   "metadata": {},
   "outputs": [],
   "source": []
  },
  {
   "cell_type": "markdown",
   "metadata": {},
   "source": [
    "**Correlation of full dataframe quantitative variables.**"
   ]
  },
  {
   "cell_type": "code",
   "execution_count": 51,
   "metadata": {
    "scrolled": false
   },
   "outputs": [
    {
     "data": {
      "text/html": [
       "<div>\n",
       "<style scoped>\n",
       "    .dataframe tbody tr th:only-of-type {\n",
       "        vertical-align: middle;\n",
       "    }\n",
       "\n",
       "    .dataframe tbody tr th {\n",
       "        vertical-align: top;\n",
       "    }\n",
       "\n",
       "    .dataframe thead th {\n",
       "        text-align: right;\n",
       "    }\n",
       "</style>\n",
       "<table border=\"1\" class=\"dataframe\">\n",
       "  <thead>\n",
       "    <tr style=\"text-align: right;\">\n",
       "      <th></th>\n",
       "      <th>LIMIT_BAL</th>\n",
       "      <th>AGE</th>\n",
       "      <th>MONTHS_LATE</th>\n",
       "      <th>BILL_AMT1</th>\n",
       "      <th>BILL_AMT2</th>\n",
       "      <th>BILL_AMT3</th>\n",
       "      <th>BILL_AMT4</th>\n",
       "      <th>BILL_AMT5</th>\n",
       "      <th>BILL_AMT6</th>\n",
       "      <th>PAY_AMT1</th>\n",
       "      <th>PAY_AMT2</th>\n",
       "      <th>PAY_AMT3</th>\n",
       "      <th>PAY_AMT4</th>\n",
       "      <th>PAY_AMT5</th>\n",
       "      <th>PAY_AMT6</th>\n",
       "      <th>default</th>\n",
       "    </tr>\n",
       "  </thead>\n",
       "  <tbody>\n",
       "    <tr>\n",
       "      <th>LIMIT_BAL</th>\n",
       "      <td>1.000000</td>\n",
       "      <td>0.144713</td>\n",
       "      <td>-0.250876</td>\n",
       "      <td>0.285430</td>\n",
       "      <td>0.278314</td>\n",
       "      <td>0.283236</td>\n",
       "      <td>0.293988</td>\n",
       "      <td>0.295562</td>\n",
       "      <td>0.290389</td>\n",
       "      <td>0.195236</td>\n",
       "      <td>0.178408</td>\n",
       "      <td>0.210167</td>\n",
       "      <td>0.203242</td>\n",
       "      <td>0.217202</td>\n",
       "      <td>0.219595</td>\n",
       "      <td>-0.153520</td>\n",
       "    </tr>\n",
       "    <tr>\n",
       "      <th>AGE</th>\n",
       "      <td>0.144713</td>\n",
       "      <td>1.000000</td>\n",
       "      <td>-0.020711</td>\n",
       "      <td>0.056239</td>\n",
       "      <td>0.054283</td>\n",
       "      <td>0.053710</td>\n",
       "      <td>0.051353</td>\n",
       "      <td>0.049345</td>\n",
       "      <td>0.047613</td>\n",
       "      <td>0.026147</td>\n",
       "      <td>0.021785</td>\n",
       "      <td>0.029247</td>\n",
       "      <td>0.021379</td>\n",
       "      <td>0.022850</td>\n",
       "      <td>0.019478</td>\n",
       "      <td>0.013890</td>\n",
       "    </tr>\n",
       "    <tr>\n",
       "      <th>MONTHS_LATE</th>\n",
       "      <td>-0.250876</td>\n",
       "      <td>-0.020711</td>\n",
       "      <td>1.000000</td>\n",
       "      <td>-0.026984</td>\n",
       "      <td>-0.010613</td>\n",
       "      <td>0.001461</td>\n",
       "      <td>0.019934</td>\n",
       "      <td>0.035142</td>\n",
       "      <td>0.038950</td>\n",
       "      <td>-0.088728</td>\n",
       "      <td>-0.071383</td>\n",
       "      <td>-0.077331</td>\n",
       "      <td>-0.076323</td>\n",
       "      <td>-0.076831</td>\n",
       "      <td>-0.067276</td>\n",
       "      <td>0.410178</td>\n",
       "    </tr>\n",
       "    <tr>\n",
       "      <th>BILL_AMT1</th>\n",
       "      <td>0.285430</td>\n",
       "      <td>0.056239</td>\n",
       "      <td>-0.026984</td>\n",
       "      <td>1.000000</td>\n",
       "      <td>0.951484</td>\n",
       "      <td>0.892279</td>\n",
       "      <td>0.860272</td>\n",
       "      <td>0.829779</td>\n",
       "      <td>0.802650</td>\n",
       "      <td>0.140277</td>\n",
       "      <td>0.099355</td>\n",
       "      <td>0.156887</td>\n",
       "      <td>0.158303</td>\n",
       "      <td>0.167026</td>\n",
       "      <td>0.179341</td>\n",
       "      <td>-0.019644</td>\n",
       "    </tr>\n",
       "    <tr>\n",
       "      <th>BILL_AMT2</th>\n",
       "      <td>0.278314</td>\n",
       "      <td>0.054283</td>\n",
       "      <td>-0.010613</td>\n",
       "      <td>0.951484</td>\n",
       "      <td>1.000000</td>\n",
       "      <td>0.928326</td>\n",
       "      <td>0.892482</td>\n",
       "      <td>0.859778</td>\n",
       "      <td>0.831594</td>\n",
       "      <td>0.280365</td>\n",
       "      <td>0.100851</td>\n",
       "      <td>0.150718</td>\n",
       "      <td>0.147398</td>\n",
       "      <td>0.157957</td>\n",
       "      <td>0.174256</td>\n",
       "      <td>-0.014193</td>\n",
       "    </tr>\n",
       "    <tr>\n",
       "      <th>BILL_AMT3</th>\n",
       "      <td>0.283236</td>\n",
       "      <td>0.053710</td>\n",
       "      <td>0.001461</td>\n",
       "      <td>0.892279</td>\n",
       "      <td>0.928326</td>\n",
       "      <td>1.000000</td>\n",
       "      <td>0.923969</td>\n",
       "      <td>0.883910</td>\n",
       "      <td>0.853320</td>\n",
       "      <td>0.244335</td>\n",
       "      <td>0.316936</td>\n",
       "      <td>0.130011</td>\n",
       "      <td>0.143405</td>\n",
       "      <td>0.179712</td>\n",
       "      <td>0.182326</td>\n",
       "      <td>-0.014076</td>\n",
       "    </tr>\n",
       "    <tr>\n",
       "      <th>BILL_AMT4</th>\n",
       "      <td>0.293988</td>\n",
       "      <td>0.051353</td>\n",
       "      <td>0.019934</td>\n",
       "      <td>0.860272</td>\n",
       "      <td>0.892482</td>\n",
       "      <td>0.923969</td>\n",
       "      <td>1.000000</td>\n",
       "      <td>0.940134</td>\n",
       "      <td>0.900941</td>\n",
       "      <td>0.233012</td>\n",
       "      <td>0.207564</td>\n",
       "      <td>0.300023</td>\n",
       "      <td>0.130191</td>\n",
       "      <td>0.160433</td>\n",
       "      <td>0.177637</td>\n",
       "      <td>-0.010156</td>\n",
       "    </tr>\n",
       "    <tr>\n",
       "      <th>BILL_AMT5</th>\n",
       "      <td>0.295562</td>\n",
       "      <td>0.049345</td>\n",
       "      <td>0.035142</td>\n",
       "      <td>0.829779</td>\n",
       "      <td>0.859778</td>\n",
       "      <td>0.883910</td>\n",
       "      <td>0.940134</td>\n",
       "      <td>1.000000</td>\n",
       "      <td>0.946197</td>\n",
       "      <td>0.217031</td>\n",
       "      <td>0.181246</td>\n",
       "      <td>0.252305</td>\n",
       "      <td>0.293118</td>\n",
       "      <td>0.141574</td>\n",
       "      <td>0.164184</td>\n",
       "      <td>-0.006760</td>\n",
       "    </tr>\n",
       "    <tr>\n",
       "      <th>BILL_AMT6</th>\n",
       "      <td>0.290389</td>\n",
       "      <td>0.047613</td>\n",
       "      <td>0.038950</td>\n",
       "      <td>0.802650</td>\n",
       "      <td>0.831594</td>\n",
       "      <td>0.853320</td>\n",
       "      <td>0.900941</td>\n",
       "      <td>0.946197</td>\n",
       "      <td>1.000000</td>\n",
       "      <td>0.199965</td>\n",
       "      <td>0.172663</td>\n",
       "      <td>0.233770</td>\n",
       "      <td>0.250237</td>\n",
       "      <td>0.307729</td>\n",
       "      <td>0.115494</td>\n",
       "      <td>-0.005372</td>\n",
       "    </tr>\n",
       "    <tr>\n",
       "      <th>PAY_AMT1</th>\n",
       "      <td>0.195236</td>\n",
       "      <td>0.026147</td>\n",
       "      <td>-0.088728</td>\n",
       "      <td>0.140277</td>\n",
       "      <td>0.280365</td>\n",
       "      <td>0.244335</td>\n",
       "      <td>0.233012</td>\n",
       "      <td>0.217031</td>\n",
       "      <td>0.199965</td>\n",
       "      <td>1.000000</td>\n",
       "      <td>0.285576</td>\n",
       "      <td>0.252191</td>\n",
       "      <td>0.199558</td>\n",
       "      <td>0.148459</td>\n",
       "      <td>0.185735</td>\n",
       "      <td>-0.072929</td>\n",
       "    </tr>\n",
       "    <tr>\n",
       "      <th>PAY_AMT2</th>\n",
       "      <td>0.178408</td>\n",
       "      <td>0.021785</td>\n",
       "      <td>-0.071383</td>\n",
       "      <td>0.099355</td>\n",
       "      <td>0.100851</td>\n",
       "      <td>0.316936</td>\n",
       "      <td>0.207564</td>\n",
       "      <td>0.181246</td>\n",
       "      <td>0.172663</td>\n",
       "      <td>0.285576</td>\n",
       "      <td>1.000000</td>\n",
       "      <td>0.244770</td>\n",
       "      <td>0.180107</td>\n",
       "      <td>0.180908</td>\n",
       "      <td>0.157634</td>\n",
       "      <td>-0.058579</td>\n",
       "    </tr>\n",
       "    <tr>\n",
       "      <th>PAY_AMT3</th>\n",
       "      <td>0.210167</td>\n",
       "      <td>0.029247</td>\n",
       "      <td>-0.077331</td>\n",
       "      <td>0.156887</td>\n",
       "      <td>0.150718</td>\n",
       "      <td>0.130011</td>\n",
       "      <td>0.300023</td>\n",
       "      <td>0.252305</td>\n",
       "      <td>0.233770</td>\n",
       "      <td>0.252191</td>\n",
       "      <td>0.244770</td>\n",
       "      <td>1.000000</td>\n",
       "      <td>0.216325</td>\n",
       "      <td>0.159214</td>\n",
       "      <td>0.162740</td>\n",
       "      <td>-0.056250</td>\n",
       "    </tr>\n",
       "    <tr>\n",
       "      <th>PAY_AMT4</th>\n",
       "      <td>0.203242</td>\n",
       "      <td>0.021379</td>\n",
       "      <td>-0.076323</td>\n",
       "      <td>0.158303</td>\n",
       "      <td>0.147398</td>\n",
       "      <td>0.143405</td>\n",
       "      <td>0.130191</td>\n",
       "      <td>0.293118</td>\n",
       "      <td>0.250237</td>\n",
       "      <td>0.199558</td>\n",
       "      <td>0.180107</td>\n",
       "      <td>0.216325</td>\n",
       "      <td>1.000000</td>\n",
       "      <td>0.151830</td>\n",
       "      <td>0.157834</td>\n",
       "      <td>-0.056827</td>\n",
       "    </tr>\n",
       "    <tr>\n",
       "      <th>PAY_AMT5</th>\n",
       "      <td>0.217202</td>\n",
       "      <td>0.022850</td>\n",
       "      <td>-0.076831</td>\n",
       "      <td>0.167026</td>\n",
       "      <td>0.157957</td>\n",
       "      <td>0.179712</td>\n",
       "      <td>0.160433</td>\n",
       "      <td>0.141574</td>\n",
       "      <td>0.307729</td>\n",
       "      <td>0.148459</td>\n",
       "      <td>0.180908</td>\n",
       "      <td>0.159214</td>\n",
       "      <td>0.151830</td>\n",
       "      <td>1.000000</td>\n",
       "      <td>0.154896</td>\n",
       "      <td>-0.055124</td>\n",
       "    </tr>\n",
       "    <tr>\n",
       "      <th>PAY_AMT6</th>\n",
       "      <td>0.219595</td>\n",
       "      <td>0.019478</td>\n",
       "      <td>-0.067276</td>\n",
       "      <td>0.179341</td>\n",
       "      <td>0.174256</td>\n",
       "      <td>0.182326</td>\n",
       "      <td>0.177637</td>\n",
       "      <td>0.164184</td>\n",
       "      <td>0.115494</td>\n",
       "      <td>0.185735</td>\n",
       "      <td>0.157634</td>\n",
       "      <td>0.162740</td>\n",
       "      <td>0.157834</td>\n",
       "      <td>0.154896</td>\n",
       "      <td>1.000000</td>\n",
       "      <td>-0.053183</td>\n",
       "    </tr>\n",
       "    <tr>\n",
       "      <th>default</th>\n",
       "      <td>-0.153520</td>\n",
       "      <td>0.013890</td>\n",
       "      <td>0.410178</td>\n",
       "      <td>-0.019644</td>\n",
       "      <td>-0.014193</td>\n",
       "      <td>-0.014076</td>\n",
       "      <td>-0.010156</td>\n",
       "      <td>-0.006760</td>\n",
       "      <td>-0.005372</td>\n",
       "      <td>-0.072929</td>\n",
       "      <td>-0.058579</td>\n",
       "      <td>-0.056250</td>\n",
       "      <td>-0.056827</td>\n",
       "      <td>-0.055124</td>\n",
       "      <td>-0.053183</td>\n",
       "      <td>1.000000</td>\n",
       "    </tr>\n",
       "  </tbody>\n",
       "</table>\n",
       "</div>"
      ],
      "text/plain": [
       "             LIMIT_BAL       AGE  MONTHS_LATE  BILL_AMT1  BILL_AMT2  \\\n",
       "LIMIT_BAL     1.000000  0.144713    -0.250876   0.285430   0.278314   \n",
       "AGE           0.144713  1.000000    -0.020711   0.056239   0.054283   \n",
       "MONTHS_LATE  -0.250876 -0.020711     1.000000  -0.026984  -0.010613   \n",
       "BILL_AMT1     0.285430  0.056239    -0.026984   1.000000   0.951484   \n",
       "BILL_AMT2     0.278314  0.054283    -0.010613   0.951484   1.000000   \n",
       "BILL_AMT3     0.283236  0.053710     0.001461   0.892279   0.928326   \n",
       "BILL_AMT4     0.293988  0.051353     0.019934   0.860272   0.892482   \n",
       "BILL_AMT5     0.295562  0.049345     0.035142   0.829779   0.859778   \n",
       "BILL_AMT6     0.290389  0.047613     0.038950   0.802650   0.831594   \n",
       "PAY_AMT1      0.195236  0.026147    -0.088728   0.140277   0.280365   \n",
       "PAY_AMT2      0.178408  0.021785    -0.071383   0.099355   0.100851   \n",
       "PAY_AMT3      0.210167  0.029247    -0.077331   0.156887   0.150718   \n",
       "PAY_AMT4      0.203242  0.021379    -0.076323   0.158303   0.147398   \n",
       "PAY_AMT5      0.217202  0.022850    -0.076831   0.167026   0.157957   \n",
       "PAY_AMT6      0.219595  0.019478    -0.067276   0.179341   0.174256   \n",
       "default      -0.153520  0.013890     0.410178  -0.019644  -0.014193   \n",
       "\n",
       "             BILL_AMT3  BILL_AMT4  BILL_AMT5  BILL_AMT6  PAY_AMT1  PAY_AMT2  \\\n",
       "LIMIT_BAL     0.283236   0.293988   0.295562   0.290389  0.195236  0.178408   \n",
       "AGE           0.053710   0.051353   0.049345   0.047613  0.026147  0.021785   \n",
       "MONTHS_LATE   0.001461   0.019934   0.035142   0.038950 -0.088728 -0.071383   \n",
       "BILL_AMT1     0.892279   0.860272   0.829779   0.802650  0.140277  0.099355   \n",
       "BILL_AMT2     0.928326   0.892482   0.859778   0.831594  0.280365  0.100851   \n",
       "BILL_AMT3     1.000000   0.923969   0.883910   0.853320  0.244335  0.316936   \n",
       "BILL_AMT4     0.923969   1.000000   0.940134   0.900941  0.233012  0.207564   \n",
       "BILL_AMT5     0.883910   0.940134   1.000000   0.946197  0.217031  0.181246   \n",
       "BILL_AMT6     0.853320   0.900941   0.946197   1.000000  0.199965  0.172663   \n",
       "PAY_AMT1      0.244335   0.233012   0.217031   0.199965  1.000000  0.285576   \n",
       "PAY_AMT2      0.316936   0.207564   0.181246   0.172663  0.285576  1.000000   \n",
       "PAY_AMT3      0.130011   0.300023   0.252305   0.233770  0.252191  0.244770   \n",
       "PAY_AMT4      0.143405   0.130191   0.293118   0.250237  0.199558  0.180107   \n",
       "PAY_AMT5      0.179712   0.160433   0.141574   0.307729  0.148459  0.180908   \n",
       "PAY_AMT6      0.182326   0.177637   0.164184   0.115494  0.185735  0.157634   \n",
       "default      -0.014076  -0.010156  -0.006760  -0.005372 -0.072929 -0.058579   \n",
       "\n",
       "             PAY_AMT3  PAY_AMT4  PAY_AMT5  PAY_AMT6   default  \n",
       "LIMIT_BAL    0.210167  0.203242  0.217202  0.219595 -0.153520  \n",
       "AGE          0.029247  0.021379  0.022850  0.019478  0.013890  \n",
       "MONTHS_LATE -0.077331 -0.076323 -0.076831 -0.067276  0.410178  \n",
       "BILL_AMT1    0.156887  0.158303  0.167026  0.179341 -0.019644  \n",
       "BILL_AMT2    0.150718  0.147398  0.157957  0.174256 -0.014193  \n",
       "BILL_AMT3    0.130011  0.143405  0.179712  0.182326 -0.014076  \n",
       "BILL_AMT4    0.300023  0.130191  0.160433  0.177637 -0.010156  \n",
       "BILL_AMT5    0.252305  0.293118  0.141574  0.164184 -0.006760  \n",
       "BILL_AMT6    0.233770  0.250237  0.307729  0.115494 -0.005372  \n",
       "PAY_AMT1     0.252191  0.199558  0.148459  0.185735 -0.072929  \n",
       "PAY_AMT2     0.244770  0.180107  0.180908  0.157634 -0.058579  \n",
       "PAY_AMT3     1.000000  0.216325  0.159214  0.162740 -0.056250  \n",
       "PAY_AMT4     0.216325  1.000000  0.151830  0.157834 -0.056827  \n",
       "PAY_AMT5     0.159214  0.151830  1.000000  0.154896 -0.055124  \n",
       "PAY_AMT6     0.162740  0.157834  0.154896  1.000000 -0.053183  \n",
       "default     -0.056250 -0.056827 -0.055124 -0.053183  1.000000  "
      ]
     },
     "execution_count": 51,
     "metadata": {},
     "output_type": "execute_result"
    }
   ],
   "source": [
    "# Create new dataset with quantitative variables - full dataframe\n",
    "df_quant.corr()"
   ]
  },
  {
   "cell_type": "code",
   "execution_count": 52,
   "metadata": {},
   "outputs": [
    {
     "data": {
      "text/html": [
       "<div>\n",
       "<style scoped>\n",
       "    .dataframe tbody tr th:only-of-type {\n",
       "        vertical-align: middle;\n",
       "    }\n",
       "\n",
       "    .dataframe tbody tr th {\n",
       "        vertical-align: top;\n",
       "    }\n",
       "\n",
       "    .dataframe thead th {\n",
       "        text-align: right;\n",
       "    }\n",
       "</style>\n",
       "<table border=\"1\" class=\"dataframe\">\n",
       "  <thead>\n",
       "    <tr style=\"text-align: right;\">\n",
       "      <th></th>\n",
       "      <th>LIMIT_BAL</th>\n",
       "      <th>AGE</th>\n",
       "      <th>MONTHS_LATE</th>\n",
       "      <th>PAYMENT_RATIO</th>\n",
       "      <th>default</th>\n",
       "    </tr>\n",
       "  </thead>\n",
       "  <tbody>\n",
       "    <tr>\n",
       "      <th>LIMIT_BAL</th>\n",
       "      <td>1.000000</td>\n",
       "      <td>0.141168</td>\n",
       "      <td>-0.251711</td>\n",
       "      <td>0.030463</td>\n",
       "      <td>-0.167660</td>\n",
       "    </tr>\n",
       "    <tr>\n",
       "      <th>AGE</th>\n",
       "      <td>0.141168</td>\n",
       "      <td>1.000000</td>\n",
       "      <td>-0.019977</td>\n",
       "      <td>0.004110</td>\n",
       "      <td>0.007203</td>\n",
       "    </tr>\n",
       "    <tr>\n",
       "      <th>MONTHS_LATE</th>\n",
       "      <td>-0.251711</td>\n",
       "      <td>-0.019977</td>\n",
       "      <td>1.000000</td>\n",
       "      <td>-0.018773</td>\n",
       "      <td>0.421769</td>\n",
       "    </tr>\n",
       "    <tr>\n",
       "      <th>PAYMENT_RATIO</th>\n",
       "      <td>0.030463</td>\n",
       "      <td>0.004110</td>\n",
       "      <td>-0.018773</td>\n",
       "      <td>1.000000</td>\n",
       "      <td>-0.008221</td>\n",
       "    </tr>\n",
       "    <tr>\n",
       "      <th>default</th>\n",
       "      <td>-0.167660</td>\n",
       "      <td>0.007203</td>\n",
       "      <td>0.421769</td>\n",
       "      <td>-0.008221</td>\n",
       "      <td>1.000000</td>\n",
       "    </tr>\n",
       "  </tbody>\n",
       "</table>\n",
       "</div>"
      ],
      "text/plain": [
       "               LIMIT_BAL       AGE  MONTHS_LATE  PAYMENT_RATIO   default\n",
       "LIMIT_BAL       1.000000  0.141168    -0.251711       0.030463 -0.167660\n",
       "AGE             0.141168  1.000000    -0.019977       0.004110  0.007203\n",
       "MONTHS_LATE    -0.251711 -0.019977     1.000000      -0.018773  0.421769\n",
       "PAYMENT_RATIO   0.030463  0.004110    -0.018773       1.000000 -0.008221\n",
       "default        -0.167660  0.007203     0.421769      -0.008221  1.000000"
      ]
     },
     "execution_count": 52,
     "metadata": {},
     "output_type": "execute_result"
    }
   ],
   "source": [
    "# Create new dataset with quantitative variables - full dataframe\n",
    "df_quant2.corr()"
   ]
  },
  {
   "cell_type": "markdown",
   "metadata": {},
   "source": [
    "**Create subsets to look at highest correlations between different types of variables (address 6 columns for 3 of the variables).**"
   ]
  },
  {
   "cell_type": "code",
   "execution_count": 53,
   "metadata": {},
   "outputs": [],
   "source": [
    "# Create new dataset with quantitative variables - full dataset\n",
    "df_quant = df.filter(['LIMIT_BAL', 'AGE', 'MONTHS_LATE',\n",
    "       'BILL_AMT1', 'BILL_AMT2',\n",
    "       'BILL_AMT3', 'BILL_AMT4', 'BILL_AMT5', 'BILL_AMT6', 'PAY_AMT1',\n",
    "       'PAY_AMT2', 'PAY_AMT3', 'PAY_AMT4', 'PAY_AMT5', 'PAY_AMT6', 'default'], axis=1)"
   ]
  },
  {
   "cell_type": "code",
   "execution_count": 54,
   "metadata": {},
   "outputs": [],
   "source": [
    "# Create new dataset with selected quantitative variables - full dataset\n",
    "df_quantSep = df.filter(['LIMIT_BAL', 'AGE', 'MONTHS_LATE', 'BILL_AMT1', 'PAY_AMT1',\n",
    "        'default'], axis=1)"
   ]
  },
  {
   "cell_type": "code",
   "execution_count": 55,
   "metadata": {},
   "outputs": [],
   "source": [
    "# Create new dataset with selected quantitative variables - full dataset\n",
    "df_quantApr = df.filter(['LIMIT_BAL', 'AGE', 'MONTHS_LATE', 'BILL_AMT6', 'PAY_AMT6',\n",
    "        'default'], axis=1)"
   ]
  },
  {
   "cell_type": "code",
   "execution_count": 56,
   "metadata": {},
   "outputs": [],
   "source": [
    "# Create new dataset with selected quantitative variables - full dataset\n",
    "dfY_quantSep = defaultY.filter(['LIMIT_BAL', 'AGE', 'MONTHS_LATE', 'BILL_AMT1', 'PAY_AMT1',\n",
    "        'default'], axis=1)"
   ]
  },
  {
   "cell_type": "code",
   "execution_count": 57,
   "metadata": {},
   "outputs": [],
   "source": [
    "# Create new dataset with selected quantitative variables - full dataset\n",
    "dfN_quantSep = defaultN.filter(['LIMIT_BAL', 'AGE', 'MONTHS_LATE', 'BILL_AMT1', 'PAY_AMT1',\n",
    "        'default'], axis=1)"
   ]
  },
  {
   "cell_type": "code",
   "execution_count": 58,
   "metadata": {},
   "outputs": [],
   "source": [
    "# Create new dataset with selected quantitative variables - full dataset\n",
    "dfY_quantApr = defaultY.filter(['LIMIT_BAL', 'AGE', 'MONTHS_LATE', 'BILL_AMT1', 'PAY_AMT1',\n",
    "        'default'], axis=1)"
   ]
  },
  {
   "cell_type": "code",
   "execution_count": 59,
   "metadata": {},
   "outputs": [],
   "source": [
    "# Create new dataset with selected quantitative variables - full dataset\n",
    "dfN_quantApr = defaultN.filter(['LIMIT_BAL', 'AGE', 'MONTHS_LATE', 'BILL_AMT1', 'PAY_AMT1',\n",
    "        'default'], axis=1)"
   ]
  },
  {
   "cell_type": "code",
   "execution_count": 60,
   "metadata": {},
   "outputs": [],
   "source": [
    "df_quant2 = df2.filter(['LIMIT_BAL', 'AGE', 'MONTHS_LATE', 'PAYMENT_RATIO','default'], axis=1)"
   ]
  },
  {
   "cell_type": "code",
   "execution_count": 61,
   "metadata": {},
   "outputs": [],
   "source": [
    "# get highest correlated pairs\n",
    "# https://stackoverflow.com/questions/17778394/list-highest-correlation-pairs-from-a-large-correlation-matrix-in-pandas\n",
    "def get_redundant_pairs(df):\n",
    "    '''Get diagonal and lower triangular pairs of correlation matrix'''\n",
    "    pairs_to_drop = set()\n",
    "    cols = df.columns\n",
    "    for i in range(0, df.shape[1]):\n",
    "        for j in range(0, i+1):\n",
    "            pairs_to_drop.add((cols[i], cols[j]))\n",
    "    return pairs_to_drop\n",
    "\n",
    "def get_top_abs_correlations(df, n=5):\n",
    "    au_corr = df.corr().abs().unstack()\n",
    "    labels_to_drop = get_redundant_pairs(df)\n",
    "    au_corr = au_corr.drop(labels=labels_to_drop).sort_values(ascending=False)\n",
    "    return au_corr[0:n]"
   ]
  },
  {
   "cell_type": "code",
   "execution_count": 62,
   "metadata": {},
   "outputs": [
    {
     "name": "stdout",
     "output_type": "stream",
     "text": [
      "Top Absolute Correlations\n",
      "MONTHS_LATE  default        0.410178\n",
      "LIMIT_BAL    BILL_AMT1      0.285430\n",
      "             MONTHS_LATE    0.250876\n",
      "             PAY_AMT1       0.195236\n",
      "             default        0.153520\n",
      "             AGE            0.144713\n",
      "BILL_AMT1    PAY_AMT1       0.140277\n",
      "MONTHS_LATE  PAY_AMT1       0.088728\n",
      "PAY_AMT1     default        0.072929\n",
      "AGE          BILL_AMT1      0.056239\n",
      "MONTHS_LATE  BILL_AMT1      0.026984\n",
      "AGE          PAY_AMT1       0.026147\n",
      "             MONTHS_LATE    0.020711\n",
      "BILL_AMT1    default        0.019644\n",
      "AGE          default        0.013890\n",
      "dtype: float64\n"
     ]
    }
   ],
   "source": [
    "print(\"Top Absolute Correlations\")\n",
    "print(get_top_abs_correlations(df_quantSep, 20))"
   ]
  },
  {
   "cell_type": "code",
   "execution_count": 63,
   "metadata": {},
   "outputs": [
    {
     "name": "stdout",
     "output_type": "stream",
     "text": [
      "Top Absolute Correlations for April\n",
      "MONTHS_LATE  default        0.410178\n",
      "LIMIT_BAL    BILL_AMT6      0.290389\n",
      "             MONTHS_LATE    0.250876\n",
      "             PAY_AMT6       0.219595\n",
      "             default        0.153520\n",
      "             AGE            0.144713\n",
      "BILL_AMT6    PAY_AMT6       0.115494\n",
      "MONTHS_LATE  PAY_AMT6       0.067276\n",
      "PAY_AMT6     default        0.053183\n",
      "AGE          BILL_AMT6      0.047613\n",
      "MONTHS_LATE  BILL_AMT6      0.038950\n",
      "AGE          MONTHS_LATE    0.020711\n",
      "             PAY_AMT6       0.019478\n",
      "             default        0.013890\n",
      "BILL_AMT6    default        0.005372\n",
      "dtype: float64\n"
     ]
    }
   ],
   "source": [
    "print(\"Top Absolute Correlations for April\")\n",
    "print(get_top_abs_correlations(df_quantApr, 20))"
   ]
  },
  {
   "cell_type": "code",
   "execution_count": 64,
   "metadata": {},
   "outputs": [
    {
     "name": "stdout",
     "output_type": "stream",
     "text": [
      "Top Absolute Correlations\n",
      "LIMIT_BAL    BILL_AMT1      0.360554\n",
      "             MONTHS_LATE    0.255759\n",
      "BILL_AMT1    PAY_AMT1       0.253973\n",
      "LIMIT_BAL    PAY_AMT1       0.167616\n",
      "             AGE            0.160025\n",
      "MONTHS_LATE  PAY_AMT1       0.082514\n",
      "AGE          BILL_AMT1      0.044896\n",
      "MONTHS_LATE  BILL_AMT1      0.031034\n",
      "AGE          PAY_AMT1       0.030329\n",
      "             MONTHS_LATE    0.027644\n",
      "LIMIT_BAL    default             NaN\n",
      "AGE          default             NaN\n",
      "MONTHS_LATE  default             NaN\n",
      "BILL_AMT1    default             NaN\n",
      "PAY_AMT1     default             NaN\n",
      "dtype: float64\n"
     ]
    }
   ],
   "source": [
    "print(\"Top Absolute Correlations\")\n",
    "print(get_top_abs_correlations(dfY_quantSep, 20))"
   ]
  },
  {
   "cell_type": "code",
   "execution_count": 65,
   "metadata": {},
   "outputs": [
    {
     "name": "stdout",
     "output_type": "stream",
     "text": [
      "Top Absolute Correlations for April\n",
      "LIMIT_BAL    BILL_AMT1      0.360554\n",
      "             MONTHS_LATE    0.255759\n",
      "BILL_AMT1    PAY_AMT1       0.253973\n",
      "LIMIT_BAL    PAY_AMT1       0.167616\n",
      "             AGE            0.160025\n",
      "MONTHS_LATE  PAY_AMT1       0.082514\n",
      "AGE          BILL_AMT1      0.044896\n",
      "MONTHS_LATE  BILL_AMT1      0.031034\n",
      "AGE          PAY_AMT1       0.030329\n",
      "             MONTHS_LATE    0.027644\n",
      "LIMIT_BAL    default             NaN\n",
      "AGE          default             NaN\n",
      "MONTHS_LATE  default             NaN\n",
      "BILL_AMT1    default             NaN\n",
      "PAY_AMT1     default             NaN\n",
      "dtype: float64\n"
     ]
    }
   ],
   "source": [
    "print(\"Top Absolute Correlations for April\")\n",
    "print(get_top_abs_correlations(dfY_quantApr, 20))"
   ]
  },
  {
   "cell_type": "code",
   "execution_count": 66,
   "metadata": {},
   "outputs": [
    {
     "name": "stdout",
     "output_type": "stream",
     "text": [
      "Top Absolute Correlations\n",
      "LIMIT_BAL    BILL_AMT1      0.267728\n",
      "             MONTHS_LATE    0.202033\n",
      "             PAY_AMT1       0.192066\n",
      "             AGE            0.146199\n",
      "BILL_AMT1    PAY_AMT1       0.125730\n",
      "MONTHS_LATE  PAY_AMT1       0.069389\n",
      "AGE          BILL_AMT1      0.060091\n",
      "MONTHS_LATE  BILL_AMT1      0.046533\n",
      "AGE          MONTHS_LATE    0.030658\n",
      "             PAY_AMT1       0.027688\n",
      "LIMIT_BAL    default             NaN\n",
      "AGE          default             NaN\n",
      "MONTHS_LATE  default             NaN\n",
      "BILL_AMT1    default             NaN\n",
      "PAY_AMT1     default             NaN\n",
      "dtype: float64\n"
     ]
    }
   ],
   "source": [
    "print(\"Top Absolute Correlations\")\n",
    "print(get_top_abs_correlations(dfN_quantSep, 20))"
   ]
  },
  {
   "cell_type": "code",
   "execution_count": 67,
   "metadata": {},
   "outputs": [
    {
     "name": "stdout",
     "output_type": "stream",
     "text": [
      "Top Absolute Correlations for April\n",
      "LIMIT_BAL    BILL_AMT1      0.267728\n",
      "             MONTHS_LATE    0.202033\n",
      "             PAY_AMT1       0.192066\n",
      "             AGE            0.146199\n",
      "BILL_AMT1    PAY_AMT1       0.125730\n",
      "MONTHS_LATE  PAY_AMT1       0.069389\n",
      "AGE          BILL_AMT1      0.060091\n",
      "MONTHS_LATE  BILL_AMT1      0.046533\n",
      "AGE          MONTHS_LATE    0.030658\n",
      "             PAY_AMT1       0.027688\n",
      "LIMIT_BAL    default             NaN\n",
      "AGE          default             NaN\n",
      "MONTHS_LATE  default             NaN\n",
      "BILL_AMT1    default             NaN\n",
      "PAY_AMT1     default             NaN\n",
      "dtype: float64\n"
     ]
    }
   ],
   "source": [
    "print(\"Top Absolute Correlations for April\")\n",
    "print(get_top_abs_correlations(dfN_quantApr, 20))"
   ]
  },
  {
   "cell_type": "code",
   "execution_count": 68,
   "metadata": {},
   "outputs": [
    {
     "name": "stdout",
     "output_type": "stream",
     "text": [
      "Top Absolute Correlations for Second Dataframe\n",
      "MONTHS_LATE    default          0.421769\n",
      "LIMIT_BAL      MONTHS_LATE      0.251711\n",
      "               default          0.167660\n",
      "               AGE              0.141168\n",
      "               PAYMENT_RATIO    0.030463\n",
      "AGE            MONTHS_LATE      0.019977\n",
      "MONTHS_LATE    PAYMENT_RATIO    0.018773\n",
      "PAYMENT_RATIO  default          0.008221\n",
      "AGE            default          0.007203\n",
      "               PAYMENT_RATIO    0.004110\n",
      "dtype: float64\n"
     ]
    }
   ],
   "source": [
    "print(\"Top Absolute Correlations for Second Dataframe\")\n",
    "print(get_top_abs_correlations(df_quant2, 20))"
   ]
  },
  {
   "cell_type": "code",
   "execution_count": null,
   "metadata": {},
   "outputs": [],
   "source": []
  },
  {
   "cell_type": "markdown",
   "metadata": {},
   "source": [
    "**Point-biserial correlation with binary target and continuous variables.**"
   ]
  },
  {
   "cell_type": "code",
   "execution_count": 69,
   "metadata": {},
   "outputs": [
    {
     "name": "stdout",
     "output_type": "stream",
     "text": [
      "Limit Bal:  PointbiserialrResult(correlation=-0.1535198763935002, pvalue=1.3022439534049927e-157)\n",
      "Age:  PointbiserialrResult(correlation=0.013889834301963083, pvalue=0.016136845891438788)\n",
      "MONTHS LATE:  PointbiserialrResult(correlation=0.41017762547934067, pvalue=0.0)\n",
      "RATIO:  PointbiserialrResult(correlation=-0.00822146718000966, pvalue=0.16056809592422933)\n"
     ]
    }
   ],
   "source": [
    "pbcLIMIT_BAL = stats.pointbiserialr(df.default, df.LIMIT_BAL)\n",
    "print('Limit Bal: ', pbcLIMIT_BAL)\n",
    "\n",
    "pbcAGE = stats.pointbiserialr(df.default, df.AGE)\n",
    "print('Age: ', pbcAGE)\n",
    "\n",
    "pbcLATE = stats.pointbiserialr(df.default, df.MONTHS_LATE)\n",
    "print('MONTHS LATE: ', pbcLATE)\n",
    "\n",
    "pbcRATIO = stats.pointbiserialr(df2.default, df2.PAYMENT_RATIO)\n",
    "print('RATIO: ', pbcRATIO)\n"
   ]
  },
  {
   "cell_type": "code",
   "execution_count": 106,
   "metadata": {},
   "outputs": [
    {
     "name": "stdout",
     "output_type": "stream",
     "text": [
      "PointbiserialrResult(correlation=0.324793728478616, pvalue=0.0)\n",
      "PointbiserialrResult(correlation=0.2516560312852095, pvalue=0.0)\n",
      "PointbiserialrResult(correlation=0.2304638794395602, pvalue=0.0)\n",
      "PointbiserialrResult(correlation=0.2012543619956233, pvalue=1.0700808338728614e-271)\n",
      "PointbiserialrResult(correlation=0.19798778821209348, pvalue=7.662079791822927e-263)\n",
      "PointbiserialrResult(correlation=0.1706733918643573, pvalue=7.307791380213848e-195)\n"
     ]
    }
   ],
   "source": [
    "pbcPAY_1 = stats.pointbiserialr(df.default, df.PAY_1)\n",
    "print(pbcPAY_1)\n",
    "\n",
    "pbcPAY_2 = stats.pointbiserialr(df.default, df.PAY_2)\n",
    "print(pbcPAY_2)\n",
    "\n",
    "pbcPAY_3 = stats.pointbiserialr(df.default, df.PAY_3)\n",
    "print(pbcPAY_3)\n",
    "\n",
    "pbcPAY_4 = stats.pointbiserialr(df.default, df.PAY_4)\n",
    "print(pbcPAY_4)\n",
    "\n",
    "pbcPAY_5 = stats.pointbiserialr(df.default, df.PAY_5)\n",
    "print(pbcPAY_5)\n",
    "\n",
    "pbcPAY_6 = stats.pointbiserialr(df.default, df.PAY_6)\n",
    "print(pbcPAY_6)\n"
   ]
  },
  {
   "cell_type": "code",
   "execution_count": 107,
   "metadata": {},
   "outputs": [
    {
     "name": "stdout",
     "output_type": "stream",
     "text": [
      "PointbiserialrResult(correlation=-0.01964419714322115, pvalue=0.0006673295491749174)\n",
      "PointbiserialrResult(correlation=-0.014193218088215446, pvalue=0.013957362393566234)\n",
      "PointbiserialrResult(correlation=-0.014075518043214523, pvalue=0.014769982711883418)\n",
      "PointbiserialrResult(correlation=-0.010156495880289523, pvalue=0.07855564158273723)\n",
      "PointbiserialrResult(correlation=-0.006760463841014679, pvalue=0.24163444293293249)\n",
      "PointbiserialrResult(correlation=-0.005372314914815476, pvalue=0.3521225212582135)\n"
     ]
    }
   ],
   "source": [
    "pbcBILL_AMT1 = stats.pointbiserialr(df.default, df.BILL_AMT1)\n",
    "print(pbcBILL_AMT1)\n",
    "\n",
    "pbcBILL_AMT2 = stats.pointbiserialr(df.default, df.BILL_AMT2)\n",
    "print(pbcBILL_AMT2)\n",
    "\n",
    "pbcBILL_AMT3 = stats.pointbiserialr(df.default, df.BILL_AMT3)\n",
    "print(pbcBILL_AMT3)\n",
    "\n",
    "pbcBILL_AMT4 = stats.pointbiserialr(df.default, df.BILL_AMT4)\n",
    "print(pbcBILL_AMT4)\n",
    "\n",
    "pbcBILL_AMT5 = stats.pointbiserialr(df.default, df.BILL_AMT5)\n",
    "print(pbcBILL_AMT5)\n",
    "\n",
    "pbcBILL_AMT6 = stats.pointbiserialr(df.default, df.BILL_AMT6)\n",
    "print(pbcBILL_AMT6)\n",
    "\n"
   ]
  },
  {
   "cell_type": "code",
   "execution_count": 108,
   "metadata": {},
   "outputs": [
    {
     "name": "stdout",
     "output_type": "stream",
     "text": [
      "PointbiserialrResult(correlation=-0.07292948777784954, pvalue=1.1464876143168228e-36)\n",
      "PointbiserialrResult(correlation=-0.058578706582899764, pvalue=3.1666567630894573e-24)\n",
      "PointbiserialrResult(correlation=-0.05625035099033063, pvalue=1.8417702916460075e-22)\n",
      "PointbiserialrResult(correlation=-0.05682740089288609, pvalue=6.830941601927818e-23)\n",
      "PointbiserialrResult(correlation=-0.05512351562108721, pvalue=1.2413447728790327e-21)\n",
      "PointbiserialrResult(correlation=-0.053183340326126725, pvalue=3.0335890730065803e-20)\n"
     ]
    }
   ],
   "source": [
    "pbcPAY_AMT1 = stats.pointbiserialr(df.default, df.PAY_AMT1)\n",
    "print(pbcPAY_AMT1)\n",
    "\n",
    "pbcPAY_AMT2 = stats.pointbiserialr(df.default, df.PAY_AMT2)\n",
    "print(pbcPAY_AMT2)\n",
    "\n",
    "pbcPAY_AMT3 = stats.pointbiserialr(df.default, df.PAY_AMT3)\n",
    "print(pbcPAY_AMT3)\n",
    "\n",
    "pbcPAY_AMT4 = stats.pointbiserialr(df.default, df.PAY_AMT4)\n",
    "print(pbcPAY_AMT4)\n",
    "\n",
    "pbcPAY_AMT5 = stats.pointbiserialr(df.default, df.PAY_AMT5)\n",
    "print(pbcPAY_AMT5)\n",
    "\n",
    "pbcPAY_AMT6 = stats.pointbiserialr(df.default, df.PAY_AMT6)\n",
    "print(pbcPAY_AMT6)\n"
   ]
  },
  {
   "cell_type": "code",
   "execution_count": null,
   "metadata": {},
   "outputs": [],
   "source": []
  },
  {
   "cell_type": "markdown",
   "metadata": {},
   "source": [
    "### Address skew with log-transformation."
   ]
  },
  {
   "cell_type": "code",
   "execution_count": 70,
   "metadata": {},
   "outputs": [],
   "source": [
    "# log-transformation\n",
    "# first need to convert values in the PAY and BILL_AMT columns to remove negative values before log_transformation.  \n",
    "#     Add the largest negative number to all values.\n",
    "\n",
    "df['BILL_AMT1'] = df['BILL_AMT1'] - df['BILL_AMT1'].min()\n",
    "df['BILL_AMT2'] = df['BILL_AMT2'] - df['BILL_AMT2'].min()\n",
    "df['BILL_AMT3'] = df['BILL_AMT3'] - df['BILL_AMT3'].min()\n",
    "df['BILL_AMT4'] = df['BILL_AMT4'] - df['BILL_AMT4'].min()\n",
    "df['BILL_AMT5'] = df['BILL_AMT5'] - df['BILL_AMT5'].min()\n",
    "df['BILL_AMT6'] = df['BILL_AMT6'] - df['BILL_AMT6'].min()\n"
   ]
  },
  {
   "cell_type": "code",
   "execution_count": 71,
   "metadata": {},
   "outputs": [],
   "source": [
    "# log-transformation - cont\n",
    "\n",
    "# now without negative values, can use log_transformation\n",
    "\n",
    "def log_transformation(data):\n",
    "    return data.apply(np.log1p)\n",
    "\n",
    "df['LIMIT_BAL'] = log_transformation(df['LIMIT_BAL'])\n",
    "df['AGE']  = log_transformation(df['AGE'])\n",
    "df['MONTHS_LATE'] = log_transformation(df['MONTHS_LATE']) \n",
    "df['BILL_AMT1'] = log_transformation(df['BILL_AMT1']) \n",
    "df['BILL_AMT2'] = log_transformation(df['BILL_AMT2']) \n",
    "df['BILL_AMT3'] = log_transformation(df['BILL_AMT3']) \n",
    "df['BILL_AMT4'] = log_transformation(df['BILL_AMT4']) \n",
    "df['BILL_AMT5'] = log_transformation(df['BILL_AMT5']) \n",
    "df['BILL_AMT6'] = log_transformation(df['BILL_AMT6']) \n",
    "df['PAY_AMT1'] = log_transformation(df['PAY_AMT1'])\n",
    "df['PAY_AMT2'] = log_transformation(df['PAY_AMT2'])\n",
    "df['PAY_AMT3'] = log_transformation(df['PAY_AMT3'])\n",
    "df['PAY_AMT4'] = log_transformation(df['PAY_AMT4'])\n",
    "df['PAY_AMT5'] = log_transformation(df['PAY_AMT5'])\n",
    "df['PAY_AMT6'] = log_transformation(df['PAY_AMT6'])\n",
    "\n"
   ]
  },
  {
   "cell_type": "code",
   "execution_count": 151,
   "metadata": {},
   "outputs": [],
   "source": [
    "# export the revised df to a csv file\n",
    "df.to_csv('logDefaultRev1.csv', index = False)"
   ]
  },
  {
   "cell_type": "code",
   "execution_count": 73,
   "metadata": {},
   "outputs": [],
   "source": [
    "df2['LIMIT_BAL'] = log_transformation(df2['LIMIT_BAL'])\n",
    "df2['AGE']  = log_transformation(df2['AGE'])\n",
    "df2['MONTHS_LATE'] = log_transformation(df2['MONTHS_LATE'])\n",
    "df2['PAYMENT_RATIO'] = log_transformation(df2['PAYMENT_RATIO'])"
   ]
  },
  {
   "cell_type": "code",
   "execution_count": 152,
   "metadata": {},
   "outputs": [],
   "source": [
    "df2.to_csv('logDefaultRev2.csv', index = False)"
   ]
  },
  {
   "cell_type": "code",
   "execution_count": null,
   "metadata": {},
   "outputs": [],
   "source": []
  },
  {
   "cell_type": "markdown",
   "metadata": {},
   "source": [
    "### Scale Features."
   ]
  },
  {
   "cell_type": "code",
   "execution_count": 75,
   "metadata": {},
   "outputs": [],
   "source": [
    "df_quant3 = df.filter(['LIMIT_BAL', 'AGE', 'MONTHS_LATE',\n",
    "       'BILL_AMT1', 'BILL_AMT2',\n",
    "       'BILL_AMT3', 'BILL_AMT4', 'BILL_AMT5', 'BILL_AMT6', 'PAY_AMT1',\n",
    "       'PAY_AMT2', 'PAY_AMT3', 'PAY_AMT4', 'PAY_AMT5', 'PAY_AMT6'], axis=1)"
   ]
  },
  {
   "cell_type": "code",
   "execution_count": 76,
   "metadata": {},
   "outputs": [
    {
     "data": {
      "text/plain": [
       "(30000, 15)"
      ]
     },
     "execution_count": 76,
     "metadata": {},
     "output_type": "execute_result"
    }
   ],
   "source": [
    "df_quant3.shape"
   ]
  },
  {
   "cell_type": "code",
   "execution_count": 77,
   "metadata": {},
   "outputs": [],
   "source": [
    "df_quant4 = df2.filter(['LIMIT_BAL', 'AGE', 'MONTHS_LATE', 'PAYMENT_RATIO'], axis=1)"
   ]
  },
  {
   "cell_type": "code",
   "execution_count": 78,
   "metadata": {},
   "outputs": [
    {
     "data": {
      "text/plain": [
       "(29130, 4)"
      ]
     },
     "execution_count": 78,
     "metadata": {},
     "output_type": "execute_result"
    }
   ],
   "source": [
    "df_quant4.shape"
   ]
  },
  {
   "cell_type": "code",
   "execution_count": 79,
   "metadata": {},
   "outputs": [],
   "source": [
    "df_quant3 = df_quant3.reset_index()\n",
    "df_quant4 = df_quant4.reset_index()"
   ]
  },
  {
   "cell_type": "code",
   "execution_count": 80,
   "metadata": {},
   "outputs": [],
   "source": [
    "from sklearn.preprocessing import StandardScaler\n",
    "features= StandardScaler().fit_transform(df_quant3)\n",
    "features2= StandardScaler().fit_transform(df_quant4)"
   ]
  },
  {
   "cell_type": "code",
   "execution_count": 81,
   "metadata": {},
   "outputs": [],
   "source": [
    "# convert the array back to a dataframe\n",
    "#from pandas import DataFrame\n",
    "dfNumm = DataFrame(features, columns=df_quant3.columns)\n",
    "dfNumm2 = DataFrame(features2, columns=df_quant4.columns)"
   ]
  },
  {
   "cell_type": "markdown",
   "metadata": {},
   "source": [
    "# Feature Selection"
   ]
  },
  {
   "cell_type": "markdown",
   "metadata": {},
   "source": [
    "**Create dataframes for feature selection with dummy variables**"
   ]
  },
  {
   "cell_type": "code",
   "execution_count": 86,
   "metadata": {},
   "outputs": [],
   "source": [
    "#df1\n",
    "# convert categorical data to numbers\n",
    "\n",
    "#get the categorical data\n",
    "cat_features = ['SEX', 'EDUCATION', 'MARRIAGE']\n",
    "df_cat = df[cat_features]\n",
    "\n",
    "# One Hot Encoding \n",
    "dfDumm = pd.get_dummies(df_cat)"
   ]
  },
  {
   "cell_type": "code",
   "execution_count": 87,
   "metadata": {},
   "outputs": [],
   "source": [
    "# df1\n",
    "# here we will combine the numerical features and the dummie features together\n",
    "#dfNum = df.drop(['SEX', 'EDUCATION', 'MARRIAGE', 'default'], axis = 1)\n",
    "#Xdumm = pd.concat([dfNum, dfDumm], axis=1)\n",
    "X1 = pd.concat([dfNumm, dfDumm], axis=1)\n",
    "# create a whole target dataset that can be used for train and validation data splitting\n",
    "y1 =  df['default']\n"
   ]
  },
  {
   "cell_type": "code",
   "execution_count": 88,
   "metadata": {},
   "outputs": [
    {
     "data": {
      "text/plain": [
       "(30000, 19)"
      ]
     },
     "execution_count": 88,
     "metadata": {},
     "output_type": "execute_result"
    }
   ],
   "source": [
    "X1.shape"
   ]
  },
  {
   "cell_type": "code",
   "execution_count": 89,
   "metadata": {},
   "outputs": [
    {
     "data": {
      "text/html": [
       "<div>\n",
       "<style scoped>\n",
       "    .dataframe tbody tr th:only-of-type {\n",
       "        vertical-align: middle;\n",
       "    }\n",
       "\n",
       "    .dataframe tbody tr th {\n",
       "        vertical-align: top;\n",
       "    }\n",
       "\n",
       "    .dataframe thead th {\n",
       "        text-align: right;\n",
       "    }\n",
       "</style>\n",
       "<table border=\"1\" class=\"dataframe\">\n",
       "  <thead>\n",
       "    <tr style=\"text-align: right;\">\n",
       "      <th></th>\n",
       "      <th>index</th>\n",
       "      <th>LIMIT_BAL</th>\n",
       "      <th>AGE</th>\n",
       "      <th>MONTHS_LATE</th>\n",
       "      <th>BILL_AMT1</th>\n",
       "      <th>BILL_AMT2</th>\n",
       "      <th>BILL_AMT3</th>\n",
       "      <th>BILL_AMT4</th>\n",
       "      <th>BILL_AMT5</th>\n",
       "      <th>BILL_AMT6</th>\n",
       "      <th>PAY_AMT1</th>\n",
       "      <th>PAY_AMT2</th>\n",
       "      <th>PAY_AMT3</th>\n",
       "      <th>PAY_AMT4</th>\n",
       "      <th>PAY_AMT5</th>\n",
       "      <th>PAY_AMT6</th>\n",
       "      <th>SEX</th>\n",
       "      <th>EDUCATION</th>\n",
       "      <th>MARRIAGE</th>\n",
       "    </tr>\n",
       "  </thead>\n",
       "  <tbody>\n",
       "    <tr>\n",
       "      <th>0</th>\n",
       "      <td>-1.731993</td>\n",
       "      <td>-0.895987</td>\n",
       "      <td>-0.676200</td>\n",
       "      <td>2.305401</td>\n",
       "      <td>-0.314778</td>\n",
       "      <td>-0.261852</td>\n",
       "      <td>-0.235947</td>\n",
       "      <td>-0.208691</td>\n",
       "      <td>-0.073707</td>\n",
       "      <td>-0.117278</td>\n",
       "      <td>-2.039844</td>\n",
       "      <td>0.408310</td>\n",
       "      <td>-1.875766</td>\n",
       "      <td>0.479972</td>\n",
       "      <td>0.307415</td>\n",
       "      <td>-1.681626</td>\n",
       "      <td>1</td>\n",
       "      <td>1</td>\n",
       "      <td>2</td>\n",
       "    </tr>\n",
       "    <tr>\n",
       "      <th>1</th>\n",
       "      <td>-1.731878</td>\n",
       "      <td>1.076462</td>\n",
       "      <td>-0.676200</td>\n",
       "      <td>2.305401</td>\n",
       "      <td>0.266249</td>\n",
       "      <td>0.442591</td>\n",
       "      <td>0.378440</td>\n",
       "      <td>0.413197</td>\n",
       "      <td>0.660815</td>\n",
       "      <td>0.478054</td>\n",
       "      <td>0.367493</td>\n",
       "      <td>0.384846</td>\n",
       "      <td>-1.875766</td>\n",
       "      <td>0.706266</td>\n",
       "      <td>0.508560</td>\n",
       "      <td>0.409733</td>\n",
       "      <td>1</td>\n",
       "      <td>2</td>\n",
       "      <td>2</td>\n",
       "    </tr>\n",
       "    <tr>\n",
       "      <th>2</th>\n",
       "      <td>-1.731762</td>\n",
       "      <td>0.577047</td>\n",
       "      <td>1.727980</td>\n",
       "      <td>2.305401</td>\n",
       "      <td>1.368228</td>\n",
       "      <td>1.534766</td>\n",
       "      <td>1.553315</td>\n",
       "      <td>1.690541</td>\n",
       "      <td>1.895940</td>\n",
       "      <td>1.735769</td>\n",
       "      <td>0.651784</td>\n",
       "      <td>0.625258</td>\n",
       "      <td>0.695442</td>\n",
       "      <td>0.746338</td>\n",
       "      <td>0.721616</td>\n",
       "      <td>0.732579</td>\n",
       "      <td>1</td>\n",
       "      <td>1</td>\n",
       "      <td>1</td>\n",
       "    </tr>\n",
       "    <tr>\n",
       "      <th>3</th>\n",
       "      <td>-1.731647</td>\n",
       "      <td>-0.702259</td>\n",
       "      <td>-1.107148</td>\n",
       "      <td>2.305401</td>\n",
       "      <td>0.240647</td>\n",
       "      <td>0.371680</td>\n",
       "      <td>0.361412</td>\n",
       "      <td>0.441173</td>\n",
       "      <td>0.530562</td>\n",
       "      <td>0.344050</td>\n",
       "      <td>-2.039844</td>\n",
       "      <td>0.596194</td>\n",
       "      <td>0.461433</td>\n",
       "      <td>-1.216475</td>\n",
       "      <td>0.573329</td>\n",
       "      <td>0.587826</td>\n",
       "      <td>2</td>\n",
       "      <td>2</td>\n",
       "      <td>2</td>\n",
       "    </tr>\n",
       "    <tr>\n",
       "      <th>4</th>\n",
       "      <td>-1.731531</td>\n",
       "      <td>0.934575</td>\n",
       "      <td>0.700047</td>\n",
       "      <td>2.305401</td>\n",
       "      <td>1.338312</td>\n",
       "      <td>1.510892</td>\n",
       "      <td>1.458693</td>\n",
       "      <td>1.694418</td>\n",
       "      <td>1.954135</td>\n",
       "      <td>1.734227</td>\n",
       "      <td>0.661398</td>\n",
       "      <td>-2.001603</td>\n",
       "      <td>0.979702</td>\n",
       "      <td>1.038735</td>\n",
       "      <td>-1.751539</td>\n",
       "      <td>0.732579</td>\n",
       "      <td>1</td>\n",
       "      <td>2</td>\n",
       "      <td>1</td>\n",
       "    </tr>\n",
       "  </tbody>\n",
       "</table>\n",
       "</div>"
      ],
      "text/plain": [
       "      index  LIMIT_BAL       AGE  MONTHS_LATE  BILL_AMT1  BILL_AMT2  \\\n",
       "0 -1.731993  -0.895987 -0.676200     2.305401  -0.314778  -0.261852   \n",
       "1 -1.731878   1.076462 -0.676200     2.305401   0.266249   0.442591   \n",
       "2 -1.731762   0.577047  1.727980     2.305401   1.368228   1.534766   \n",
       "3 -1.731647  -0.702259 -1.107148     2.305401   0.240647   0.371680   \n",
       "4 -1.731531   0.934575  0.700047     2.305401   1.338312   1.510892   \n",
       "\n",
       "   BILL_AMT3  BILL_AMT4  BILL_AMT5  BILL_AMT6  PAY_AMT1  PAY_AMT2  PAY_AMT3  \\\n",
       "0  -0.235947  -0.208691  -0.073707  -0.117278 -2.039844  0.408310 -1.875766   \n",
       "1   0.378440   0.413197   0.660815   0.478054  0.367493  0.384846 -1.875766   \n",
       "2   1.553315   1.690541   1.895940   1.735769  0.651784  0.625258  0.695442   \n",
       "3   0.361412   0.441173   0.530562   0.344050 -2.039844  0.596194  0.461433   \n",
       "4   1.458693   1.694418   1.954135   1.734227  0.661398 -2.001603  0.979702   \n",
       "\n",
       "   PAY_AMT4  PAY_AMT5  PAY_AMT6  SEX  EDUCATION  MARRIAGE  \n",
       "0  0.479972  0.307415 -1.681626    1          1         2  \n",
       "1  0.706266  0.508560  0.409733    1          2         2  \n",
       "2  0.746338  0.721616  0.732579    1          1         1  \n",
       "3 -1.216475  0.573329  0.587826    2          2         2  \n",
       "4  1.038735 -1.751539  0.732579    1          2         1  "
      ]
     },
     "execution_count": 89,
     "metadata": {},
     "output_type": "execute_result"
    }
   ],
   "source": [
    "X1.head()"
   ]
  },
  {
   "cell_type": "code",
   "execution_count": 109,
   "metadata": {},
   "outputs": [
    {
     "data": {
      "text/plain": [
       "(30000, 18)"
      ]
     },
     "execution_count": 109,
     "metadata": {},
     "output_type": "execute_result"
    }
   ],
   "source": [
    "colDrop = [0]\n",
    "X1.drop(X1.columns[colDrop],axis=1,inplace=True)\n",
    "X1.shape"
   ]
  },
  {
   "cell_type": "code",
   "execution_count": null,
   "metadata": {},
   "outputs": [],
   "source": []
  },
  {
   "cell_type": "code",
   "execution_count": 91,
   "metadata": {},
   "outputs": [],
   "source": [
    "#df2\n",
    "# convert categorical data to numbers\n",
    "\n",
    "#get the categorical data\n",
    "cat_features = ['SEX', 'EDUCATION', 'MARRIAGE']\n",
    "df_cat2 = df2[cat_features]\n",
    "\n",
    "# One Hot Encoding \n",
    "dfDumm2 = pd.get_dummies(df_cat2)"
   ]
  },
  {
   "cell_type": "code",
   "execution_count": 103,
   "metadata": {},
   "outputs": [
    {
     "data": {
      "text/html": [
       "<div>\n",
       "<style scoped>\n",
       "    .dataframe tbody tr th:only-of-type {\n",
       "        vertical-align: middle;\n",
       "    }\n",
       "\n",
       "    .dataframe tbody tr th {\n",
       "        vertical-align: top;\n",
       "    }\n",
       "\n",
       "    .dataframe thead th {\n",
       "        text-align: right;\n",
       "    }\n",
       "</style>\n",
       "<table border=\"1\" class=\"dataframe\">\n",
       "  <thead>\n",
       "    <tr style=\"text-align: right;\">\n",
       "      <th></th>\n",
       "      <th>level_0</th>\n",
       "      <th>index</th>\n",
       "      <th>LIMIT_BAL</th>\n",
       "      <th>AGE</th>\n",
       "      <th>MONTHS_LATE</th>\n",
       "      <th>PAYMENT_RATIO</th>\n",
       "    </tr>\n",
       "  </thead>\n",
       "  <tbody>\n",
       "    <tr>\n",
       "      <th>0</th>\n",
       "      <td>0</td>\n",
       "      <td>-1.713097</td>\n",
       "      <td>-0.881906</td>\n",
       "      <td>-0.671063</td>\n",
       "      <td>2.280546</td>\n",
       "      <td>-0.657495</td>\n",
       "    </tr>\n",
       "    <tr>\n",
       "      <th>1</th>\n",
       "      <td>1</td>\n",
       "      <td>-1.712982</td>\n",
       "      <td>1.085882</td>\n",
       "      <td>-0.671063</td>\n",
       "      <td>2.280546</td>\n",
       "      <td>-0.659470</td>\n",
       "    </tr>\n",
       "    <tr>\n",
       "      <th>2</th>\n",
       "      <td>2</td>\n",
       "      <td>-1.712867</td>\n",
       "      <td>0.587647</td>\n",
       "      <td>1.732119</td>\n",
       "      <td>2.280546</td>\n",
       "      <td>-0.659635</td>\n",
       "    </tr>\n",
       "    <tr>\n",
       "      <th>3</th>\n",
       "      <td>3</td>\n",
       "      <td>-1.712752</td>\n",
       "      <td>-0.688636</td>\n",
       "      <td>-1.101833</td>\n",
       "      <td>2.280546</td>\n",
       "      <td>-0.655701</td>\n",
       "    </tr>\n",
       "    <tr>\n",
       "      <th>4</th>\n",
       "      <td>4</td>\n",
       "      <td>-1.712637</td>\n",
       "      <td>0.944330</td>\n",
       "      <td>0.704613</td>\n",
       "      <td>2.280546</td>\n",
       "      <td>-0.634541</td>\n",
       "    </tr>\n",
       "  </tbody>\n",
       "</table>\n",
       "</div>"
      ],
      "text/plain": [
       "   level_0     index  LIMIT_BAL       AGE  MONTHS_LATE  PAYMENT_RATIO\n",
       "0        0 -1.713097  -0.881906 -0.671063     2.280546      -0.657495\n",
       "1        1 -1.712982   1.085882 -0.671063     2.280546      -0.659470\n",
       "2        2 -1.712867   0.587647  1.732119     2.280546      -0.659635\n",
       "3        3 -1.712752  -0.688636 -1.101833     2.280546      -0.655701\n",
       "4        4 -1.712637   0.944330  0.704613     2.280546      -0.634541"
      ]
     },
     "execution_count": 103,
     "metadata": {},
     "output_type": "execute_result"
    }
   ],
   "source": [
    "dfNumm2.head()"
   ]
  },
  {
   "cell_type": "code",
   "execution_count": 95,
   "metadata": {},
   "outputs": [],
   "source": [
    "dfNumm2 = dfNumm2.reset_index()\n",
    "dfDumm2 = dfDumm2.reset_index()"
   ]
  },
  {
   "cell_type": "code",
   "execution_count": 104,
   "metadata": {},
   "outputs": [],
   "source": [
    "#df2\n",
    "# combine the numerical features and the dummie features together\n",
    "X2 = pd.concat([dfNumm2, dfDumm2], axis=1)\n",
    "# create a whole target dataset that can be used for train and validation data splitting\n",
    "y2 =  df2['default']\n"
   ]
  },
  {
   "cell_type": "code",
   "execution_count": 106,
   "metadata": {},
   "outputs": [
    {
     "data": {
      "text/html": [
       "<div>\n",
       "<style scoped>\n",
       "    .dataframe tbody tr th:only-of-type {\n",
       "        vertical-align: middle;\n",
       "    }\n",
       "\n",
       "    .dataframe tbody tr th {\n",
       "        vertical-align: top;\n",
       "    }\n",
       "\n",
       "    .dataframe thead th {\n",
       "        text-align: right;\n",
       "    }\n",
       "</style>\n",
       "<table border=\"1\" class=\"dataframe\">\n",
       "  <thead>\n",
       "    <tr style=\"text-align: right;\">\n",
       "      <th></th>\n",
       "      <th>level_0</th>\n",
       "      <th>index</th>\n",
       "      <th>LIMIT_BAL</th>\n",
       "      <th>AGE</th>\n",
       "      <th>MONTHS_LATE</th>\n",
       "      <th>PAYMENT_RATIO</th>\n",
       "      <th>index</th>\n",
       "      <th>SEX</th>\n",
       "      <th>EDUCATION</th>\n",
       "      <th>MARRIAGE</th>\n",
       "    </tr>\n",
       "  </thead>\n",
       "  <tbody>\n",
       "    <tr>\n",
       "      <th>0</th>\n",
       "      <td>0</td>\n",
       "      <td>-1.713097</td>\n",
       "      <td>-0.881906</td>\n",
       "      <td>-0.671063</td>\n",
       "      <td>2.280546</td>\n",
       "      <td>-0.657495</td>\n",
       "      <td>0</td>\n",
       "      <td>1</td>\n",
       "      <td>1</td>\n",
       "      <td>2</td>\n",
       "    </tr>\n",
       "    <tr>\n",
       "      <th>1</th>\n",
       "      <td>1</td>\n",
       "      <td>-1.712982</td>\n",
       "      <td>1.085882</td>\n",
       "      <td>-0.671063</td>\n",
       "      <td>2.280546</td>\n",
       "      <td>-0.659470</td>\n",
       "      <td>1</td>\n",
       "      <td>1</td>\n",
       "      <td>2</td>\n",
       "      <td>2</td>\n",
       "    </tr>\n",
       "    <tr>\n",
       "      <th>2</th>\n",
       "      <td>2</td>\n",
       "      <td>-1.712867</td>\n",
       "      <td>0.587647</td>\n",
       "      <td>1.732119</td>\n",
       "      <td>2.280546</td>\n",
       "      <td>-0.659635</td>\n",
       "      <td>2</td>\n",
       "      <td>1</td>\n",
       "      <td>1</td>\n",
       "      <td>1</td>\n",
       "    </tr>\n",
       "    <tr>\n",
       "      <th>3</th>\n",
       "      <td>3</td>\n",
       "      <td>-1.712752</td>\n",
       "      <td>-0.688636</td>\n",
       "      <td>-1.101833</td>\n",
       "      <td>2.280546</td>\n",
       "      <td>-0.655701</td>\n",
       "      <td>3</td>\n",
       "      <td>2</td>\n",
       "      <td>2</td>\n",
       "      <td>2</td>\n",
       "    </tr>\n",
       "    <tr>\n",
       "      <th>4</th>\n",
       "      <td>4</td>\n",
       "      <td>-1.712637</td>\n",
       "      <td>0.944330</td>\n",
       "      <td>0.704613</td>\n",
       "      <td>2.280546</td>\n",
       "      <td>-0.634541</td>\n",
       "      <td>4</td>\n",
       "      <td>1</td>\n",
       "      <td>2</td>\n",
       "      <td>1</td>\n",
       "    </tr>\n",
       "  </tbody>\n",
       "</table>\n",
       "</div>"
      ],
      "text/plain": [
       "   level_0     index  LIMIT_BAL       AGE  MONTHS_LATE  PAYMENT_RATIO  index  \\\n",
       "0        0 -1.713097  -0.881906 -0.671063     2.280546      -0.657495      0   \n",
       "1        1 -1.712982   1.085882 -0.671063     2.280546      -0.659470      1   \n",
       "2        2 -1.712867   0.587647  1.732119     2.280546      -0.659635      2   \n",
       "3        3 -1.712752  -0.688636 -1.101833     2.280546      -0.655701      3   \n",
       "4        4 -1.712637   0.944330  0.704613     2.280546      -0.634541      4   \n",
       "\n",
       "   SEX  EDUCATION  MARRIAGE  \n",
       "0    1          1         2  \n",
       "1    1          2         2  \n",
       "2    1          1         1  \n",
       "3    2          2         2  \n",
       "4    1          2         1  "
      ]
     },
     "execution_count": 106,
     "metadata": {},
     "output_type": "execute_result"
    }
   ],
   "source": [
    "X2.head()"
   ]
  },
  {
   "cell_type": "code",
   "execution_count": 107,
   "metadata": {},
   "outputs": [
    {
     "data": {
      "text/plain": [
       "(29130, 7)"
      ]
     },
     "execution_count": 107,
     "metadata": {},
     "output_type": "execute_result"
    }
   ],
   "source": [
    "colsDrop = [0, 1]\n",
    "X2.drop(X2.columns[colsDrop],axis=1,inplace=True)\n",
    "X2.shape"
   ]
  },
  {
   "cell_type": "code",
   "execution_count": null,
   "metadata": {},
   "outputs": [],
   "source": []
  },
  {
   "cell_type": "markdown",
   "metadata": {},
   "source": [
    "**ANOVA test and classification models to get feature importance scores**"
   ]
  },
  {
   "cell_type": "code",
   "execution_count": null,
   "metadata": {},
   "outputs": [],
   "source": [
    "# feature selection\n",
    "#https://medium.com/swlh/feature-importance-hows-and-why-s-3678ede1e58f#:~:text=Features%20with%20a%20p_value%20of,used%20in%20the%20predictive%20model.&text=This%20is%20one%20of%20the,lines%20of%20code%20to%20execute."
   ]
  },
  {
   "cell_type": "code",
   "execution_count": null,
   "metadata": {},
   "outputs": [],
   "source": []
  },
  {
   "cell_type": "code",
   "execution_count": 110,
   "metadata": {},
   "outputs": [
    {
     "name": "stdout",
     "output_type": "stream",
     "text": [
      "Feature:  LIMIT_BAL Score:      -0.22328\n",
      "Feature:  AGE Score:      0.05555\n",
      "Feature:  MONTHS_LATE Score:      0.76831\n",
      "Feature:  BILL_AMT1 Score:      0.06983\n",
      "Feature:  BILL_AMT2 Score:      0.03896\n",
      "Feature:  BILL_AMT3 Score:      0.04759\n",
      "Feature:  BILL_AMT4 Score:      0.07760\n",
      "Feature:  BILL_AMT5 Score:      -0.03511\n",
      "Feature:  BILL_AMT6 Score:      -0.02182\n",
      "Feature:  PAY_AMT1 Score:      -0.09324\n",
      "Feature:  PAY_AMT2 Score:      -0.06302\n",
      "Feature:  PAY_AMT3 Score:      -0.07679\n",
      "Feature:  PAY_AMT4 Score:      -0.05871\n",
      "Feature:  PAY_AMT5 Score:      -0.04319\n",
      "Feature:  PAY_AMT6 Score:      -0.06285\n",
      "Feature:  SEX Score:      -0.09095\n",
      "Feature:  EDUCATION Score:      -0.06003\n",
      "Feature:  MARRIAGE Score:      -0.14213\n"
     ]
    },
    {
     "data": {
      "image/png": "[encoded data removed]",
      "text/plain": [
       "<Figure size 1080x504 with 1 Axes>"
      ]
     },
     "metadata": {},
     "output_type": "display_data"
    }
   ],
   "source": [
    "# df1\n",
    "# look at coefficients only\n",
    "# define the model\n",
    "# logistic regression\n",
    "from sklearn.linear_model import LogisticRegression\n",
    "model = LogisticRegression(max_iter=1000)\n",
    "# fit the model\n",
    "model.fit(X1, y1)\n",
    "# get importance\n",
    "importance = model.coef_[0]\n",
    "# summarize feature importance\n",
    "for i,v in enumerate(importance):\n",
    "#\tprint('Feature: %0d, Score: %.5f' % (i,v))\n",
    "    print('Feature: ', list(X1)[i], 'Score:      %.5f' % (v))\n",
    "# plot feature importance\n",
    "plt.bar([x for x in range(len(importance))], importance)\n",
    "plt.show()\n",
    "\n",
    "# Recall this is a classification problem with classes 0 and 1. Notice that the coefficients are both positive and negative. \n",
    "#The positive scores indicate a feature that predicts class 1, whereas the negative scores indicate a feature that predicts \n",
    "#class 0."
   ]
  },
  {
   "cell_type": "code",
   "execution_count": 111,
   "metadata": {},
   "outputs": [
    {
     "name": "stdout",
     "output_type": "stream",
     "text": [
      "Feature:  LIMIT_BAL Score:      -0.23199\n",
      "Feature:  AGE Score:      0.04369\n",
      "Feature:  MONTHS_LATE Score:      0.85705\n",
      "Feature:  PAYMENT_RATIO Score:      -0.01274\n",
      "Feature:  SEX Score:      -0.09924\n",
      "Feature:  EDUCATION Score:      -0.05612\n",
      "Feature:  MARRIAGE Score:      -0.16234\n"
     ]
    },
    {
     "data": {
      "image/png": "[encoded data removed]",
      "text/plain": [
       "<Figure size 1080x504 with 1 Axes>"
      ]
     },
     "metadata": {},
     "output_type": "display_data"
    }
   ],
   "source": [
    "# df2\n",
    "# look at coefficients only\n",
    "# define the model\n",
    "# logistic regression\n",
    "from sklearn.linear_model import LogisticRegression\n",
    "model = LogisticRegression(max_iter=1000)\n",
    "# fit the model\n",
    "model.fit(X2, y2)\n",
    "# get importance\n",
    "importance = model.coef_[0]\n",
    "# summarize feature importance\n",
    "for i,v in enumerate(importance):\n",
    "#\tprint('Feature: %0d, Score: %.5f' % (i,v))\n",
    "    print('Feature: ', list(X2)[i], 'Score:      %.5f' % (v))\n",
    "# plot feature importance\n",
    "plt.bar([x for x in range(len(importance))], importance)\n",
    "plt.show()\n"
   ]
  },
  {
   "cell_type": "code",
   "execution_count": null,
   "metadata": {},
   "outputs": [],
   "source": []
  },
  {
   "cell_type": "code",
   "execution_count": 112,
   "metadata": {},
   "outputs": [
    {
     "name": "stdout",
     "output_type": "stream",
     "text": [
      "Feature:  LIMIT_BAL Score:      0.05975\n",
      "Feature:  AGE Score:      0.08104\n",
      "Feature:  MONTHS_LATE Score:      0.17785\n",
      "Feature:  BILL_AMT1 Score:      0.07818\n",
      "Feature:  BILL_AMT2 Score:      0.05046\n",
      "Feature:  BILL_AMT3 Score:      0.04594\n",
      "Feature:  BILL_AMT4 Score:      0.04771\n",
      "Feature:  BILL_AMT5 Score:      0.05149\n",
      "Feature:  BILL_AMT6 Score:      0.04790\n",
      "Feature:  PAY_AMT1 Score:      0.05114\n",
      "Feature:  PAY_AMT2 Score:      0.05263\n",
      "Feature:  PAY_AMT3 Score:      0.04963\n",
      "Feature:  PAY_AMT4 Score:      0.05430\n",
      "Feature:  PAY_AMT5 Score:      0.05204\n",
      "Feature:  PAY_AMT6 Score:      0.05587\n",
      "Feature:  SEX Score:      0.01051\n",
      "Feature:  EDUCATION Score:      0.01998\n",
      "Feature:  MARRIAGE Score:      0.01359\n"
     ]
    },
    {
     "data": {
      "image/png": "[encoded data removed]",
      "text/plain": [
       "<Figure size 1080x504 with 1 Axes>"
      ]
     },
     "metadata": {},
     "output_type": "display_data"
    }
   ],
   "source": [
    "#df1\n",
    "# https://machinelearningmastery.com/calculate-feature-importance-with-python/\n",
    "# use CART classification feature importance\n",
    "from sklearn.tree import DecisionTreeClassifier\n",
    "from matplotlib import pyplot\n",
    "\n",
    "# define the model\n",
    "model = DecisionTreeClassifier()\n",
    "# fit the model\n",
    "model.fit(X1, y1)\n",
    "# get importance\n",
    "importance = model.feature_importances_\n",
    "# summarize feature importance\n",
    "for i,v in enumerate(importance):\n",
    "\tprint('Feature: ', list(X1)[i], 'Score:      %.5f' % (v))\n",
    "# plot feature importance\n",
    "plt.bar([x for x in range(len(importance))], importance)\n",
    "plt.show()\n",
    "\n"
   ]
  },
  {
   "cell_type": "code",
   "execution_count": 113,
   "metadata": {},
   "outputs": [
    {
     "name": "stdout",
     "output_type": "stream",
     "text": [
      "Feature:  LIMIT_BAL Score:      0.13346\n",
      "Feature:  AGE Score:      0.18188\n",
      "Feature:  MONTHS_LATE Score:      0.19513\n",
      "Feature:  PAYMENT_RATIO Score:      0.39017\n",
      "Feature:  SEX Score:      0.02678\n",
      "Feature:  EDUCATION Score:      0.04515\n",
      "Feature:  MARRIAGE Score:      0.02742\n"
     ]
    },
    {
     "data": {
      "image/png": "[encoded data removed]",
      "text/plain": [
       "<Figure size 1080x504 with 1 Axes>"
      ]
     },
     "metadata": {},
     "output_type": "display_data"
    }
   ],
   "source": [
    "#df2\n",
    "# https://machinelearningmastery.com/calculate-feature-importance-with-python/\n",
    "# use CART classification feature importance\n",
    "#from sklearn.tree import DecisionTreeClassifier\n",
    "#from matplotlib import pyplot\n",
    "\n",
    "# define the model\n",
    "model = DecisionTreeClassifier()\n",
    "# fit the model\n",
    "model.fit(X2, y2)\n",
    "# get importance\n",
    "importance = model.feature_importances_\n",
    "# summarize feature importance\n",
    "for i,v in enumerate(importance):\n",
    "\tprint('Feature: ', list(X2)[i], 'Score:      %.5f' % (v))\n",
    "# plot feature importance\n",
    "plt.bar([x for x in range(len(importance))], importance)\n",
    "plt.show()"
   ]
  },
  {
   "cell_type": "code",
   "execution_count": 114,
   "metadata": {},
   "outputs": [
    {
     "name": "stdout",
     "output_type": "stream",
     "text": [
      "Feature:  LIMIT_BAL Score:      0.06533\n",
      "Feature:  AGE Score:      0.07254\n",
      "Feature:  MONTHS_LATE Score:      0.13729\n",
      "Feature:  BILL_AMT1 Score:      0.06992\n",
      "Feature:  BILL_AMT2 Score:      0.06428\n",
      "Feature:  BILL_AMT3 Score:      0.05644\n",
      "Feature:  BILL_AMT4 Score:      0.05584\n",
      "Feature:  BILL_AMT5 Score:      0.05400\n",
      "Feature:  BILL_AMT6 Score:      0.05654\n",
      "Feature:  PAY_AMT1 Score:      0.06305\n",
      "Feature:  PAY_AMT2 Score:      0.05792\n",
      "Feature:  PAY_AMT3 Score:      0.05361\n",
      "Feature:  PAY_AMT4 Score:      0.05048\n",
      "Feature:  PAY_AMT5 Score:      0.04659\n",
      "Feature:  PAY_AMT6 Score:      0.04949\n",
      "Feature:  SEX Score:      0.01269\n",
      "Feature:  EDUCATION Score:      0.02012\n",
      "Feature:  MARRIAGE Score:      0.01388\n"
     ]
    },
    {
     "data": {
      "image/png": "[encoded data removed]",
      "text/plain": [
       "<Figure size 1080x504 with 1 Axes>"
      ]
     },
     "metadata": {},
     "output_type": "display_data"
    }
   ],
   "source": [
    "# df1\n",
    "# use random forest feature importance\n",
    "# This approach can also be used with the bagging and extra trees algorithms.\n",
    "# https://machinelearningmastery.com/calculate-feature-importance-with-python/\n",
    "from sklearn.ensemble import RandomForestClassifier\n",
    "\n",
    "# define the model\n",
    "model = RandomForestClassifier()\n",
    "# fit the model\n",
    "model.fit(X1, y1)\n",
    "# get importance\n",
    "importance = model.feature_importances_\n",
    "# summarize feature importance\n",
    "for i,v in enumerate(importance):\n",
    "\tprint('Feature: ', list(X1)[i], 'Score:      %.5f' % (v))\n",
    "# plot feature importance\n",
    "plt.bar([x for x in range(len(importance))], importance)\n",
    "plt.show()"
   ]
  },
  {
   "cell_type": "code",
   "execution_count": 115,
   "metadata": {},
   "outputs": [
    {
     "name": "stdout",
     "output_type": "stream",
     "text": [
      "Feature:  LIMIT_BAL Score:      0.17212\n",
      "Feature:  AGE Score:      0.19974\n",
      "Feature:  MONTHS_LATE Score:      0.18516\n",
      "Feature:  PAYMENT_RATIO Score:      0.37237\n",
      "Feature:  SEX Score:      0.01634\n",
      "Feature:  EDUCATION Score:      0.03394\n",
      "Feature:  MARRIAGE Score:      0.02033\n"
     ]
    },
    {
     "data": {
      "image/png": "[encoded data removed]",
      "text/plain": [
       "<Figure size 1080x504 with 1 Axes>"
      ]
     },
     "metadata": {},
     "output_type": "display_data"
    }
   ],
   "source": [
    "# df2\n",
    "# use random forest feature importance\n",
    "# This approach can also be used with the bagging and extra trees algorithms.\n",
    "# https://machinelearningmastery.com/calculate-feature-importance-with-python/\n",
    "#from sklearn.ensemble import RandomForestClassifier\n",
    "\n",
    "# define the model\n",
    "model = RandomForestClassifier()\n",
    "# fit the model\n",
    "model.fit(X2, y2)\n",
    "# get importance\n",
    "importance = model.feature_importances_\n",
    "# summarize feature importance\n",
    "for i,v in enumerate(importance):\n",
    "\tprint('Feature: ', list(X2)[i], 'Score:      %.5f' % (v))\n",
    "# plot feature importance\n",
    "plt.bar([x for x in range(len(importance))], importance)\n",
    "plt.show()"
   ]
  },
  {
   "cell_type": "code",
   "execution_count": 116,
   "metadata": {},
   "outputs": [
    {
     "name": "stdout",
     "output_type": "stream",
     "text": [
      "[20:02:45] WARNING: C:/Users/Administrator/workspace/xgboost-win64_release_1.3.0/src/learner.cc:1061: Starting in XGBoost 1.3.0, the default evaluation metric used with the objective 'binary:logistic' was changed from 'error' to 'logloss'. Explicitly set eval_metric if you'd like to restore the old behavior.\n",
      "Feature:  LIMIT_BAL Score:      0.03046\n",
      "Feature:  AGE Score:      0.02226\n",
      "Feature:  MONTHS_LATE Score:      0.55988\n",
      "Feature:  BILL_AMT1 Score:      0.03206\n",
      "Feature:  BILL_AMT2 Score:      0.02749\n",
      "Feature:  BILL_AMT3 Score:      0.02622\n",
      "Feature:  BILL_AMT4 Score:      0.02257\n",
      "Feature:  BILL_AMT5 Score:      0.02497\n",
      "Feature:  BILL_AMT6 Score:      0.02404\n",
      "Feature:  PAY_AMT1 Score:      0.02746\n",
      "Feature:  PAY_AMT2 Score:      0.02919\n",
      "Feature:  PAY_AMT3 Score:      0.02915\n",
      "Feature:  PAY_AMT4 Score:      0.02605\n",
      "Feature:  PAY_AMT5 Score:      0.02327\n",
      "Feature:  PAY_AMT6 Score:      0.02637\n",
      "Feature:  SEX Score:      0.02342\n",
      "Feature:  EDUCATION Score:      0.02431\n",
      "Feature:  MARRIAGE Score:      0.02082\n"
     ]
    },
    {
     "data": {
      "image/png": "[encoded data removed]",
      "text/plain": [
       "<Figure size 1080x504 with 1 Axes>"
      ]
     },
     "metadata": {},
     "output_type": "display_data"
    }
   ],
   "source": [
    "#df1\n",
    "# https://machinelearningmastery.com/feature-importance-and-feature-selection-with-xgboost-in-python/\n",
    "# xgboost for feature importance on a classification problem\n",
    "\n",
    "#from xgboost import XGBClassifier\n",
    "#from xgboost import plot_importance\n",
    "\n",
    "# define the model\n",
    "model = XGBClassifier(random_state = 0)\n",
    "# fit the model\n",
    "model.fit(X1, y1)\n",
    "# get importance\n",
    "importance = model.feature_importances_\n",
    "# summarize feature importance\n",
    "for i,v in enumerate(importance):\n",
    "\tprint('Feature: ', list(X1)[i], 'Score:      %.5f' % (v))\n",
    "# plot feature importance\n",
    "#plt.bar([x for x in range(len(importance))], importance)\n",
    "#plt.show()\n",
    "\n",
    "# plot feature importance\n",
    "plot_importance(model)\n",
    "plt.show()"
   ]
  },
  {
   "cell_type": "code",
   "execution_count": 117,
   "metadata": {},
   "outputs": [
    {
     "name": "stdout",
     "output_type": "stream",
     "text": [
      "[20:02:49] WARNING: C:/Users/Administrator/workspace/xgboost-win64_release_1.3.0/src/learner.cc:1061: Starting in XGBoost 1.3.0, the default evaluation metric used with the objective 'binary:logistic' was changed from 'error' to 'logloss'. Explicitly set eval_metric if you'd like to restore the old behavior.\n",
      "Feature:  LIMIT_BAL Score:      0.04427\n",
      "Feature:  AGE Score:      0.03722\n",
      "Feature:  MONTHS_LATE Score:      0.76410\n",
      "Feature:  PAYMENT_RATIO Score:      0.04788\n",
      "Feature:  SEX Score:      0.03560\n",
      "Feature:  EDUCATION Score:      0.03892\n",
      "Feature:  MARRIAGE Score:      0.03201\n"
     ]
    },
    {
     "data": {
      "image/png": "[encoded data removed]",
      "text/plain": [
       "<Figure size 1080x504 with 1 Axes>"
      ]
     },
     "metadata": {},
     "output_type": "display_data"
    }
   ],
   "source": [
    "#df2\n",
    "# https://machinelearningmastery.com/feature-importance-and-feature-selection-with-xgboost-in-python/\n",
    "# xgboost for feature importance on a classification problem\n",
    "\n",
    "#from xgboost import XGBClassifier\n",
    "#from xgboost import plot_importance\n",
    "\n",
    "# define the model\n",
    "model = XGBClassifier(random_state = 0)\n",
    "# fit the model\n",
    "model.fit(X2, y2)\n",
    "# get importance\n",
    "importance = model.feature_importances_\n",
    "# summarize feature importance\n",
    "for i,v in enumerate(importance):\n",
    "\tprint('Feature: ', list(X2)[i], 'Score:      %.5f' % (v))\n",
    "# plot feature importance\n",
    "#plt.bar([x for x in range(len(importance))], importance)\n",
    "#plt.show()\n",
    "\n",
    "# plot feature importance\n",
    "plot_importance(model)\n",
    "plt.show()"
   ]
  },
  {
   "cell_type": "code",
   "execution_count": null,
   "metadata": {},
   "outputs": [],
   "source": []
  },
  {
   "cell_type": "code",
   "execution_count": 118,
   "metadata": {},
   "outputs": [],
   "source": [
    "def f_score(X, y):\n",
    "    \"\"\"\n",
    "    This function implements the anova f_value feature selection (existing method for classification in scikit-learn),\n",
    "    where f_score = sum((ni/(c-1))*(mean_i - mean)^2)/((1/(n - c))*sum((ni-1)*std_i^2))\n",
    "\n",
    "    Input\n",
    "    -----\n",
    "    X: {numpy array}, shape (n_samples, n_features)\n",
    "        input data\n",
    "    y : {numpy array},shape (n_samples,)\n",
    "        input class labels\n",
    "\n",
    "    Output\n",
    "    ------\n",
    "    F: {numpy array}, shape (n_features,)\n",
    "        f-score for each feature\n",
    "    \"\"\"\n",
    "\n",
    "    F, pval = f_classif(X, y)\n",
    "    for i,v in enumerate(F):\n",
    "        print('Feature: ', list(X)[i], 'Score:      %.5f' % (v))\n",
    "    for i,v in enumerate(pval):\n",
    "        print('Feature: ', list(X)[i], 'pval:      %.5f' % (v))\n",
    "    \n",
    "    return F, pval\n"
   ]
  },
  {
   "cell_type": "code",
   "execution_count": 119,
   "metadata": {},
   "outputs": [
    {
     "name": "stdout",
     "output_type": "stream",
     "text": [
      "Feature:  LIMIT_BAL Score:      931.81952\n",
      "Feature:  AGE Score:      1.72874\n",
      "Feature:  MONTHS_LATE Score:      5913.47974\n",
      "Feature:  BILL_AMT1 Score:      15.01126\n",
      "Feature:  BILL_AMT2 Score:      8.67999\n",
      "Feature:  BILL_AMT3 Score:      6.79968\n",
      "Feature:  BILL_AMT4 Score:      3.43250\n",
      "Feature:  BILL_AMT5 Score:      1.96312\n",
      "Feature:  BILL_AMT6 Score:      2.93857\n",
      "Feature:  PAY_AMT1 Score:      895.99261\n",
      "Feature:  PAY_AMT2 Score:      690.77643\n",
      "Feature:  PAY_AMT3 Score:      592.72177\n",
      "Feature:  PAY_AMT4 Score:      484.26328\n",
      "Feature:  PAY_AMT5 Score:      366.25689\n",
      "Feature:  PAY_AMT6 Score:      376.62466\n",
      "Feature:  SEX Score:      47.97885\n",
      "Feature:  EDUCATION Score:      23.54711\n",
      "Feature:  MARRIAGE Score:      17.78127\n",
      "Feature:  LIMIT_BAL pval:      0.00000\n",
      "Feature:  AGE pval:      0.18858\n",
      "Feature:  MONTHS_LATE pval:      0.00000\n",
      "Feature:  BILL_AMT1 pval:      0.00011\n",
      "Feature:  BILL_AMT2 pval:      0.00322\n",
      "Feature:  BILL_AMT3 pval:      0.00912\n",
      "Feature:  BILL_AMT4 pval:      0.06394\n",
      "Feature:  BILL_AMT5 pval:      0.16119\n",
      "Feature:  BILL_AMT6 pval:      0.08650\n",
      "Feature:  PAY_AMT1 pval:      0.00000\n",
      "Feature:  PAY_AMT2 pval:      0.00000\n",
      "Feature:  PAY_AMT3 pval:      0.00000\n",
      "Feature:  PAY_AMT4 pval:      0.00000\n",
      "Feature:  PAY_AMT5 pval:      0.00000\n",
      "Feature:  PAY_AMT6 pval:      0.00000\n",
      "Feature:  SEX pval:      0.00000\n",
      "Feature:  EDUCATION pval:      0.00000\n",
      "Feature:  MARRIAGE pval:      0.00002\n"
     ]
    },
    {
     "data": {
      "text/plain": [
       "(array([9.31819517e+02, 1.72874286e+00, 5.91347974e+03, 1.50112618e+01,\n",
       "        8.67999148e+00, 6.79968300e+00, 3.43250202e+00, 1.96312421e+00,\n",
       "        2.93856542e+00, 8.95992607e+02, 6.90776427e+02, 5.92721767e+02,\n",
       "        4.84263275e+02, 3.66256892e+02, 3.76624664e+02, 4.79788543e+01,\n",
       "        2.35471118e+01, 1.77812714e+01]),\n",
       " array([1.44696567e-201, 1.88581577e-001, 0.00000000e+000, 1.07098535e-004,\n",
       "        3.21969761e-003, 9.12192054e-003, 6.39350019e-002, 1.61189928e-001,\n",
       "        8.64978443e-002, 5.22890930e-194, 1.53951712e-150, 1.16460753e-129,\n",
       "        1.75914339e-106, 3.72758466e-081, 2.19621370e-083, 4.39524880e-012,\n",
       "        1.22503803e-006, 2.48536389e-005]))"
      ]
     },
     "execution_count": 119,
     "metadata": {},
     "output_type": "execute_result"
    }
   ],
   "source": [
    "#df1\n",
    "f_score(X1, y1)"
   ]
  },
  {
   "cell_type": "code",
   "execution_count": 120,
   "metadata": {},
   "outputs": [
    {
     "name": "stdout",
     "output_type": "stream",
     "text": [
      "Feature:  LIMIT_BAL Score:      1056.09891\n",
      "Feature:  AGE Score:      0.02951\n",
      "Feature:  MONTHS_LATE Score:      6073.13291\n",
      "Feature:  PAYMENT_RATIO Score:      271.13193\n",
      "Feature:  SEX Score:      47.51817\n",
      "Feature:  EDUCATION Score:      30.75250\n",
      "Feature:  MARRIAGE Score:      16.41212\n",
      "Feature:  LIMIT_BAL pval:      0.00000\n",
      "Feature:  AGE pval:      0.86360\n",
      "Feature:  MONTHS_LATE pval:      0.00000\n",
      "Feature:  PAYMENT_RATIO pval:      0.00000\n",
      "Feature:  SEX pval:      0.00000\n",
      "Feature:  EDUCATION pval:      0.00000\n",
      "Feature:  MARRIAGE pval:      0.00005\n"
     ]
    },
    {
     "data": {
      "text/plain": [
       "(array([1.05609891e+03, 2.95132313e-02, 6.07313291e+03, 2.71131930e+02,\n",
       "        4.75181705e+01, 3.07524996e+01, 1.64121165e+01]),\n",
       " array([1.34281830e-227, 8.63600555e-001, 0.00000000e+000, 1.20933581e-060,\n",
       "        5.56066129e-012, 2.95667222e-008, 5.10904457e-005]))"
      ]
     },
     "execution_count": 120,
     "metadata": {},
     "output_type": "execute_result"
    }
   ],
   "source": [
    "#df2\n",
    "f_score(X2, y2)"
   ]
  },
  {
   "cell_type": "code",
   "execution_count": 121,
   "metadata": {},
   "outputs": [
    {
     "name": "stdout",
     "output_type": "stream",
     "text": [
      "Features sorted by their score for estimator 0:\n",
      "             importance\n",
      "MONTHS_LATE    0.078694\n",
      "LIMIT_BAL      0.076349\n",
      "BILL_AMT1      0.073926\n",
      "PAY_AMT3       0.072947\n",
      "AGE            0.072368\n",
      "PAY_AMT1       0.062345\n",
      "PAY_AMT2       0.060689\n",
      "BILL_AMT2      0.060415\n",
      "PAY_AMT6       0.059648\n",
      "BILL_AMT3      0.058304\n",
      "PAY_AMT4       0.057824\n",
      "BILL_AMT4      0.056711\n",
      "BILL_AMT5      0.054847\n",
      "BILL_AMT6      0.053740\n",
      "PAY_AMT5       0.050001\n",
      "EDUCATION      0.023430\n",
      "MARRIAGE       0.014936\n",
      "SEX            0.012828\n",
      "Features sorted by their score for estimator 1:\n",
      "             importance\n",
      "MONTHS_LATE    0.433798\n",
      "BILL_AMT2      0.046457\n",
      "LIMIT_BAL      0.045245\n",
      "PAY_AMT1       0.043747\n",
      "BILL_AMT1      0.043539\n",
      "PAY_AMT2       0.042149\n",
      "BILL_AMT6      0.040441\n",
      "BILL_AMT3      0.040391\n",
      "BILL_AMT5      0.039620\n",
      "BILL_AMT4      0.036690\n",
      "PAY_AMT3       0.036015\n",
      "AGE            0.033354\n",
      "PAY_AMT6       0.033275\n",
      "PAY_AMT4       0.031412\n",
      "PAY_AMT5       0.029812\n",
      "EDUCATION      0.010979\n",
      "MARRIAGE       0.007012\n",
      "SEX            0.006065\n"
     ]
    }
   ],
   "source": [
    "#df1\n",
    "#https://stackoverflow.com/questions/55466081/how-to-calculate-feature-importance-in-each-models-of-cross-validation-in-sklear\n",
    "\n",
    "#from sklearn.model_selection import cross_validate\n",
    "#from sklearn.ensemble import  RandomForestClassifier\n",
    "\n",
    "\n",
    "clf=RandomForestClassifier(n_estimators =10, random_state = 42, class_weight=\"balanced\")\n",
    "output = cross_validate(clf, X1, y1, cv=2, scoring = 'accuracy', return_estimator =True)\n",
    "for idx,estimator in enumerate(output['estimator']):\n",
    "    print(\"Features sorted by their score for estimator {}:\".format(idx))\n",
    "    feature_importances = pd.DataFrame(estimator.feature_importances_,\n",
    "                                       index = X1.columns,\n",
    "                                        columns=['importance']).sort_values('importance', ascending=False)\n",
    "    print(feature_importances.head(20))\n"
   ]
  },
  {
   "cell_type": "code",
   "execution_count": 122,
   "metadata": {},
   "outputs": [
    {
     "name": "stdout",
     "output_type": "stream",
     "text": [
      "Features sorted by their score for estimator 0:\n",
      "               importance\n",
      "PAYMENT_RATIO    0.383979\n",
      "AGE              0.214255\n",
      "LIMIT_BAL        0.197614\n",
      "MONTHS_LATE      0.111234\n",
      "EDUCATION        0.052099\n",
      "MARRIAGE         0.026345\n",
      "SEX              0.014474\n",
      "Features sorted by their score for estimator 1:\n",
      "               importance\n",
      "MONTHS_LATE      0.475825\n",
      "PAYMENT_RATIO    0.218457\n",
      "LIMIT_BAL        0.124147\n",
      "AGE              0.120161\n",
      "EDUCATION        0.030531\n",
      "SEX              0.016142\n",
      "MARRIAGE         0.014738\n"
     ]
    }
   ],
   "source": [
    "#df2\n",
    "#https://stackoverflow.com/questions/55466081/how-to-calculate-feature-importance-in-each-models-of-cross-validation-in-sklear\n",
    "\n",
    "#from sklearn.model_selection import cross_validate\n",
    "#from sklearn.ensemble import  RandomForestClassifier\n",
    "\n",
    "\n",
    "clf=RandomForestClassifier(n_estimators =10, random_state = 42, class_weight=\"balanced\")\n",
    "output = cross_validate(clf, X2, y2, cv=2, scoring = 'accuracy', return_estimator =True)\n",
    "for idx,estimator in enumerate(output['estimator']):\n",
    "    print(\"Features sorted by their score for estimator {}:\".format(idx))\n",
    "    feature_importances = pd.DataFrame(estimator.feature_importances_,\n",
    "                                       index = X2.columns,\n",
    "                                        columns=['importance']).sort_values('importance', ascending=False)\n",
    "    print(feature_importances.head(20))\n"
   ]
  },
  {
   "cell_type": "code",
   "execution_count": null,
   "metadata": {},
   "outputs": [],
   "source": []
  },
  {
   "cell_type": "markdown",
   "metadata": {},
   "source": [
    "**scikit-learn's RFECV to conduct recursive feature elimination using cross-validation.**"
   ]
  },
  {
   "cell_type": "code",
   "execution_count": 123,
   "metadata": {},
   "outputs": [],
   "source": [
    "#df1"
   ]
  },
  {
   "cell_type": "code",
   "execution_count": 124,
   "metadata": {},
   "outputs": [],
   "source": [
    "from sklearn.linear_model import LogisticRegression\n",
    "from sklearn.model_selection import StratifiedKFold\n",
    "from sklearn.feature_selection import RFECV"
   ]
  },
  {
   "cell_type": "code",
   "execution_count": 125,
   "metadata": {},
   "outputs": [
    {
     "data": {
      "text/plain": [
       "RFECV(cv=StratifiedKFold(n_splits=10, random_state=None, shuffle=False),\n",
       "   estimator=LogisticRegression(C=0.1, class_weight='balanced', dual=False,\n",
       "          fit_intercept=True, intercept_scaling=1, max_iter=100,\n",
       "          multi_class='warn', n_jobs=None, penalty='l2', random_state=None,\n",
       "          solver='liblinear', tol=0.0001, verbose=0, warm_start=False),\n",
       "   min_features_to_select=1, n_jobs=-1, scoring='recall', step=1,\n",
       "   verbose=0)"
      ]
     },
     "execution_count": 125,
     "metadata": {},
     "output_type": "execute_result"
    }
   ],
   "source": [
    "lr = LogisticRegression(penalty='l2', C=0.1, solver='liblinear', class_weight='balanced')\n",
    "# recursively eliminate features\n",
    "rfecv = RFECV(estimator=lr, step=1, cv=StratifiedKFold(10), scoring='recall', n_jobs=-1)\n",
    "rfecv.fit(X1, y1)"
   ]
  },
  {
   "cell_type": "code",
   "execution_count": 126,
   "metadata": {},
   "outputs": [
    {
     "data": {
      "text/plain": [
       "1"
      ]
     },
     "execution_count": 126,
     "metadata": {},
     "output_type": "execute_result"
    }
   ],
   "source": [
    "rfecv.n_features_"
   ]
  },
  {
   "cell_type": "code",
   "execution_count": 127,
   "metadata": {},
   "outputs": [
    {
     "data": {
      "text/plain": [
       "array([False, False,  True, False, False, False, False, False, False,\n",
       "       False, False, False, False, False, False, False, False, False])"
      ]
     },
     "execution_count": 127,
     "metadata": {},
     "output_type": "execute_result"
    }
   ],
   "source": [
    "rfecv.support_"
   ]
  },
  {
   "cell_type": "code",
   "execution_count": 128,
   "metadata": {},
   "outputs": [
    {
     "data": {
      "text/plain": [
       "Index(['LIMIT_BAL', 'AGE', 'MONTHS_LATE', 'BILL_AMT1', 'BILL_AMT2',\n",
       "       'BILL_AMT3', 'BILL_AMT4', 'BILL_AMT5', 'BILL_AMT6', 'PAY_AMT1',\n",
       "       'PAY_AMT2', 'PAY_AMT3', 'PAY_AMT4', 'PAY_AMT5', 'PAY_AMT6', 'SEX',\n",
       "       'EDUCATION', 'MARRIAGE'],\n",
       "      dtype='object')"
      ]
     },
     "execution_count": 128,
     "metadata": {},
     "output_type": "execute_result"
    }
   ],
   "source": [
    "X1.columns"
   ]
  },
  {
   "cell_type": "code",
   "execution_count": 129,
   "metadata": {},
   "outputs": [
    {
     "data": {
      "text/plain": [
       "array([ 2, 14,  1,  7, 18,  9, 11, 12, 17,  3, 10,  6,  8, 16, 13,  5, 15,\n",
       "        4])"
      ]
     },
     "execution_count": 129,
     "metadata": {},
     "output_type": "execute_result"
    }
   ],
   "source": [
    "rfecv.ranking_"
   ]
  },
  {
   "cell_type": "code",
   "execution_count": 130,
   "metadata": {},
   "outputs": [
    {
     "data": {
      "text/plain": [
       "array([[0.88030883]])"
      ]
     },
     "execution_count": 130,
     "metadata": {},
     "output_type": "execute_result"
    }
   ],
   "source": [
    "np.absolute(rfecv.estimator_.coef_)"
   ]
  },
  {
   "cell_type": "code",
   "execution_count": 131,
   "metadata": {},
   "outputs": [],
   "source": [
    "#df2"
   ]
  },
  {
   "cell_type": "code",
   "execution_count": 132,
   "metadata": {},
   "outputs": [
    {
     "data": {
      "text/plain": [
       "RFECV(cv=StratifiedKFold(n_splits=10, random_state=None, shuffle=False),\n",
       "   estimator=LogisticRegression(C=0.1, class_weight='balanced', dual=False,\n",
       "          fit_intercept=True, intercept_scaling=1, max_iter=100,\n",
       "          multi_class='warn', n_jobs=None, penalty='l2', random_state=None,\n",
       "          solver='liblinear', tol=0.0001, verbose=0, warm_start=False),\n",
       "   min_features_to_select=1, n_jobs=-1, scoring='recall', step=1,\n",
       "   verbose=0)"
      ]
     },
     "execution_count": 132,
     "metadata": {},
     "output_type": "execute_result"
    }
   ],
   "source": [
    "lr = LogisticRegression(penalty='l2', C=0.1, solver='liblinear', class_weight='balanced')\n",
    "# recursively eliminate features\n",
    "rfecv2 = RFECV(estimator=lr, step=1, cv=StratifiedKFold(10), scoring='recall', n_jobs=-1)\n",
    "rfecv2.fit(X2, y2)"
   ]
  },
  {
   "cell_type": "code",
   "execution_count": 133,
   "metadata": {},
   "outputs": [
    {
     "data": {
      "text/plain": [
       "1"
      ]
     },
     "execution_count": 133,
     "metadata": {},
     "output_type": "execute_result"
    }
   ],
   "source": [
    "rfecv2.n_features_"
   ]
  },
  {
   "cell_type": "code",
   "execution_count": 134,
   "metadata": {},
   "outputs": [
    {
     "data": {
      "text/plain": [
       "array([False, False,  True, False, False, False, False])"
      ]
     },
     "execution_count": 134,
     "metadata": {},
     "output_type": "execute_result"
    }
   ],
   "source": [
    "rfecv2.support_"
   ]
  },
  {
   "cell_type": "code",
   "execution_count": 135,
   "metadata": {},
   "outputs": [
    {
     "data": {
      "text/plain": [
       "Index(['LIMIT_BAL', 'AGE', 'MONTHS_LATE', 'PAYMENT_RATIO', 'SEX', 'EDUCATION',\n",
       "       'MARRIAGE'],\n",
       "      dtype='object')"
      ]
     },
     "execution_count": 135,
     "metadata": {},
     "output_type": "execute_result"
    }
   ],
   "source": [
    "X2.columns"
   ]
  },
  {
   "cell_type": "code",
   "execution_count": 136,
   "metadata": {},
   "outputs": [
    {
     "data": {
      "text/plain": [
       "array([2, 6, 1, 7, 4, 5, 3])"
      ]
     },
     "execution_count": 136,
     "metadata": {},
     "output_type": "execute_result"
    }
   ],
   "source": [
    "rfecv2.ranking_"
   ]
  },
  {
   "cell_type": "code",
   "execution_count": 137,
   "metadata": {},
   "outputs": [
    {
     "data": {
      "text/plain": [
       "array([[0.90118418]])"
      ]
     },
     "execution_count": 137,
     "metadata": {},
     "output_type": "execute_result"
    }
   ],
   "source": [
    "np.absolute(rfecv2.estimator_.coef_)"
   ]
  },
  {
   "cell_type": "code",
   "execution_count": null,
   "metadata": {},
   "outputs": [],
   "source": []
  },
  {
   "cell_type": "code",
   "execution_count": null,
   "metadata": {},
   "outputs": [],
   "source": []
  },
  {
   "cell_type": "code",
   "execution_count": null,
   "metadata": {},
   "outputs": [],
   "source": [
    "rfecv.estimator_.feature_importances_\n",
    "np.absolute(rfecv.estimator_.coef_)\n",
    "rfecv.ranking_\n",
    "rfecv.support_\n",
    "#https://stackoverflow.com/questions/34703051/score-of-rfecv-in-python-scikit-learn\n",
    "#https://stackoverflow.com/questions/31059123/scikit-learn-feature-reduction-using-rfecv-and-gridsearch-where-are-the-coeff\n",
    "#https://stackoverflow.com/questions/51181170/selecting-a-specific-number-of-features-via-sklearns-rfecv-recursive-feature-e\n",
    "\n",
    "optimal_features = X[:, selector.support_] # selector is a RFECV fitted object\n",
    "n = 6 # to select top 6 features\n",
    "feature_ranks = selector.ranking_  # selector is a RFECV fitted object\n",
    "feature_ranks_with_idx = enumerate(feature_ranks)\n",
    "sorted_ranks_with_idx = sorted(feature_ranks_with_idx, key=lambda x: x[1])\n",
    "top_n_idx = [idx for idx, rnk in sorted_ranks_with_idx[:n]]\n",
    "\n",
    "top_n_features = X[:5, top_n_idx]"
   ]
  },
  {
   "cell_type": "code",
   "execution_count": null,
   "metadata": {},
   "outputs": [],
   "source": []
  },
  {
   "cell_type": "markdown",
   "metadata": {},
   "source": [
    "**Linear Discriminant Analysis**"
   ]
  },
  {
   "cell_type": "code",
   "execution_count": 138,
   "metadata": {},
   "outputs": [],
   "source": [
    "#df1\n",
    "# run baseline with n_components = None to return the ratio of variance explained by every component feature\n",
    "lda = LinearDiscriminantAnalysis(n_components = None)\n",
    "features_lda = lda.fit(X1, y1)\n",
    "# create array of explained variance ratios\n",
    "lda_var_ratios = lda.explained_variance_ratio_\n"
   ]
  },
  {
   "cell_type": "code",
   "execution_count": 139,
   "metadata": {},
   "outputs": [
    {
     "data": {
      "text/plain": [
       "array([1.])"
      ]
     },
     "execution_count": 139,
     "metadata": {},
     "output_type": "execute_result"
    }
   ],
   "source": [
    "lda_var_ratios"
   ]
  },
  {
   "cell_type": "code",
   "execution_count": 140,
   "metadata": {},
   "outputs": [
    {
     "data": {
      "text/plain": [
       "1"
      ]
     },
     "execution_count": 140,
     "metadata": {},
     "output_type": "execute_result"
    }
   ],
   "source": [
    "# calculate how many components are required to get above the threshold of variance explained\n",
    "def select_n_components(var_ratio, goal_var: float) -> int:\n",
    "    #set initial variance explained so far\n",
    "    total_variance = 0.0\n",
    "    # set initial number of features\n",
    "    n_components = 0\n",
    "    #for the explained variance of each feature:\n",
    "    for explained_variance in var_ratio:\n",
    "        #add the explained variance to the total\n",
    "        total_variance += explained_variance\n",
    "        # add one to the number of components\n",
    "        n_components += 1\n",
    "        # if goal level of explained variance is reached\n",
    "        if total_variance >= goal_var:\n",
    "            # end the loop\n",
    "            break\n",
    "        \n",
    "    # return the number of components\n",
    "    return n_components\n",
    "\n",
    "# run function\n",
    "select_n_components(lda_var_ratios, 0.95)"
   ]
  },
  {
   "cell_type": "code",
   "execution_count": 141,
   "metadata": {},
   "outputs": [
    {
     "data": {
      "text/plain": [
       "array([ 1.36070776,  0.56154129,  0.94900053, ..., -2.43326786,\n",
       "       -1.25960095, -1.96695827])"
      ]
     },
     "execution_count": 141,
     "metadata": {},
     "output_type": "execute_result"
    }
   ],
   "source": [
    "lda.decision_function(X1)"
   ]
  },
  {
   "cell_type": "code",
   "execution_count": 142,
   "metadata": {},
   "outputs": [
    {
     "data": {
      "text/plain": [
       "{'n_components': None,\n",
       " 'priors': None,\n",
       " 'shrinkage': None,\n",
       " 'solver': 'svd',\n",
       " 'store_covariance': False,\n",
       " 'tol': 0.0001}"
      ]
     },
     "execution_count": 142,
     "metadata": {},
     "output_type": "execute_result"
    }
   ],
   "source": [
    "lda.get_params(deep=True)"
   ]
  },
  {
   "cell_type": "code",
   "execution_count": null,
   "metadata": {},
   "outputs": [],
   "source": []
  },
  {
   "cell_type": "code",
   "execution_count": 143,
   "metadata": {},
   "outputs": [],
   "source": [
    "#df2\n",
    "# run baseline with n_components = None to return the ratio of variance explained by every component feature\n",
    "lda2 = LinearDiscriminantAnalysis(n_components = None)\n",
    "features_lda2 = lda2.fit(X2, y2)\n",
    "# create array of explained variance ratios\n",
    "lda_var_ratios2 = lda2.explained_variance_ratio_"
   ]
  },
  {
   "cell_type": "code",
   "execution_count": 144,
   "metadata": {},
   "outputs": [
    {
     "data": {
      "text/plain": [
       "array([1.])"
      ]
     },
     "execution_count": 144,
     "metadata": {},
     "output_type": "execute_result"
    }
   ],
   "source": [
    "lda_var_ratios2"
   ]
  },
  {
   "cell_type": "code",
   "execution_count": 145,
   "metadata": {},
   "outputs": [
    {
     "data": {
      "text/plain": [
       "1"
      ]
     },
     "execution_count": 145,
     "metadata": {},
     "output_type": "execute_result"
    }
   ],
   "source": [
    "# run function\n",
    "select_n_components(lda_var_ratios2, 0.95)"
   ]
  },
  {
   "cell_type": "code",
   "execution_count": null,
   "metadata": {},
   "outputs": [],
   "source": []
  },
  {
   "cell_type": "markdown",
   "metadata": {},
   "source": [
    "**Factor Analysis**"
   ]
  },
  {
   "cell_type": "code",
   "execution_count": 146,
   "metadata": {},
   "outputs": [],
   "source": [
    "#df2\n",
    "# run baseline with n_components = None to return the ratio of variance explained by every component feature\n",
    "mfa = FactorAnalysis(n_components = None)\n",
    "features_mfa = mfa.fit(X1, y1)\n",
    "# create array of explained variance ratios\n",
    "mfa_var_ratios = mfa.get_covariance()\n"
   ]
  },
  {
   "cell_type": "code",
   "execution_count": 147,
   "metadata": {},
   "outputs": [],
   "source": [
    "# calculate how many components are required to get above the threshold of variance explained\n",
    "def select_n_components2(var_ratio, goal_var: float) -> int:\n",
    "    #set initial variance explained so far\n",
    "    total_variance = 0.0\n",
    "    # set initial number of features\n",
    "    n_components = 0\n",
    "    #for the explained variance of each feature:\n",
    "    for explained_variance in var_ratio:\n",
    "        #add the explained variance to the total\n",
    "        total_variance += explained_variance\n",
    "        # add one to the number of components\n",
    "        n_components += 1\n",
    "        # if goal level of explained variance is reached\n",
    "        if total_variance.all():\n",
    "            # end the loop\n",
    "            break\n",
    "        \n",
    "    # return the number of components\n",
    "    return n_components"
   ]
  },
  {
   "cell_type": "code",
   "execution_count": 148,
   "metadata": {},
   "outputs": [
    {
     "data": {
      "text/plain": [
       "1"
      ]
     },
     "execution_count": 148,
     "metadata": {},
     "output_type": "execute_result"
    }
   ],
   "source": [
    "# run function\n",
    "select_n_components2(mfa_var_ratios, 0.95)"
   ]
  },
  {
   "cell_type": "code",
   "execution_count": 149,
   "metadata": {},
   "outputs": [],
   "source": [
    "#df2\n",
    "# run baseline with n_components = None to return the ratio of variance explained by every component feature\n",
    "mfa2 = FactorAnalysis(n_components = None)\n",
    "features_mfa2 = mfa2.fit(X1, y1)\n",
    "# create array of explained variance ratios\n",
    "mfa_var_ratios2 = mfa2.get_covariance()"
   ]
  },
  {
   "cell_type": "code",
   "execution_count": 150,
   "metadata": {},
   "outputs": [
    {
     "data": {
      "text/plain": [
       "1"
      ]
     },
     "execution_count": 150,
     "metadata": {},
     "output_type": "execute_result"
    }
   ],
   "source": [
    "# run function\n",
    "select_n_components2(mfa_var_ratios2, 0.95)"
   ]
  },
  {
   "cell_type": "code",
   "execution_count": null,
   "metadata": {},
   "outputs": [],
   "source": []
  }
 ],
 "metadata": {
  "kernelspec": {
   "display_name": "Python 3",
   "language": "python",
   "name": "python3"
  },
  "language_info": {
   "codemirror_mode": {
    "name": "ipython",
    "version": 3
   },
   "file_extension": ".py",
   "mimetype": "text/x-python",
   "name": "python",
   "nbconvert_exporter": "python",
   "pygments_lexer": "ipython3",
   "version": "3.7.6"
  }
 },
 "nbformat": 4,
 "nbformat_minor": 4
}
