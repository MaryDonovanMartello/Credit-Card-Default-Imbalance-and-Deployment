{
 "cells": [
  {
   "cell_type": "markdown",
   "metadata": {},
   "source": [
    "# Phase 2: Classification Prediction with Imbalanced Target"
   ]
  },
  {
   "cell_type": "markdown",
   "metadata": {},
   "source": [
    "# Mary Donovan Martello"
   ]
  },
  {
   "cell_type": "markdown",
   "metadata": {},
   "source": [
    "**Phase 1 of the credit card default project involved testing five binary classification models for predicting credit card defaults.  Phase 1 can be found:** [here](https://github.com/MaryDonovanMartello/Credit-Card-Default-Prediction)\n",
    "\n",
    "**Phase 2 of the credit card default project includes (1) employing methodologies other than Principal Component Analysis to address multicollinearity and feature selection in an effort to be able to analyze individual factors that are significant for defaults, (2) testing multiple approaches to addressing an imbalanced target variable in a binary classification model, and (3) implementing deployment models to make actual predictions and convert the logistic regression coefficients to a risk score that can be used in making lending decisions.**"
   ]
  },
  {
   "cell_type": "code",
   "execution_count": null,
   "metadata": {},
   "outputs": [],
   "source": []
  },
  {
   "cell_type": "markdown",
   "metadata": {},
   "source": [
    "## Part 5:  Approach to Imbalance:  Oversample Training Data with GroupKFold"
   ]
  },
  {
   "cell_type": "code",
   "execution_count": null,
   "metadata": {},
   "outputs": [],
   "source": []
  },
  {
   "cell_type": "code",
   "execution_count": 75,
   "metadata": {},
   "outputs": [],
   "source": [
    "# import libraries\n",
    "\n",
    "import pandas as pd\n",
    "from pandas import read_csv\n",
    "import numpy as np\n",
    "from numpy import mean\n",
    "from numpy import std\n",
    "from numpy import argmax\n",
    "from numpy import where\n",
    "\n",
    "import seaborn as sns\n",
    "import matplotlib.pyplot as plt\n",
    "\n",
    "from sklearn.preprocessing import LabelEncoder\n",
    "from sklearn.preprocessing import OneHotEncoder\n",
    "from sklearn.compose import ColumnTransformer\n",
    "from sklearn.preprocessing import RobustScaler\n",
    "from sklearn.preprocessing import StandardScaler\n",
    "\n",
    "from sklearn.feature_selection import SelectKBest\n",
    "\n",
    "from sklearn.model_selection import GroupKFold\n",
    "from sklearn.model_selection import StratifiedKFold\n",
    "from sklearn.model_selection import RepeatedStratifiedKFold\n",
    "from sklearn.model_selection import train_test_split\n",
    "from sklearn.pipeline import make_pipeline\n",
    "from sklearn.pipeline import Pipeline\n",
    "from sklearn.model_selection import GridSearchCV\n",
    "from sklearn.model_selection import cross_validate\n",
    "from sklearn.model_selection import cross_val_score\n",
    "from sklearn import model_selection, metrics\n",
    "from sklearn.metrics import accuracy_score\n",
    "from sklearn.metrics import recall_score\n",
    "from sklearn.metrics import classification_report\n",
    "from sklearn.metrics import log_loss\n",
    "from sklearn.metrics import brier_score_loss\n",
    "from sklearn.metrics import roc_auc_score\n",
    "from sklearn.metrics import confusion_matrix\n",
    "from sklearn.metrics import make_scorer, f1_score, average_precision_score, auc, precision_recall_curve, log_loss\n",
    "\n",
    "from sklearn.ensemble import GradientBoostingClassifier\n",
    "from sklearn.linear_model import LogisticRegression\n",
    "from sklearn.ensemble import RandomForestClassifier\n",
    "\n",
    "from imblearn.over_sampling import SMOTE\n",
    "from imblearn.over_sampling import BorderlineSMOTE\n",
    "from imblearn.over_sampling import SVMSMOTE\n",
    "from imblearn.over_sampling import ADASYN\n",
    "#from imblearn.pipeline import Pipeline\n",
    "\n",
    "\n",
    "#stop unnecessary warnings from printing to the screen\n",
    "import warnings\n",
    "warnings.simplefilter('ignore')\n",
    "\n",
    "\n"
   ]
  },
  {
   "cell_type": "code",
   "execution_count": null,
   "metadata": {},
   "outputs": [],
   "source": []
  },
  {
   "cell_type": "markdown",
   "metadata": {},
   "source": [
    "### This notebook uses two datasets that were cleaned and prepared in the 1_EDA_Prep notebook.  One of the datasets replaces some of the original variables with the Months_Late engineered features and the second dataset replaces some of the original variables with both the Months_Late and Payment_Ratio engineered features."
   ]
  },
  {
   "cell_type": "code",
   "execution_count": 2,
   "metadata": {},
   "outputs": [],
   "source": [
    "# Load data into a dataframe\n",
    "\n",
    "df1 = pd.read_csv('logDefaultRev1.csv')\n",
    "df2 = pd.read_csv('logDefaultRev2.csv')"
   ]
  },
  {
   "cell_type": "code",
   "execution_count": 3,
   "metadata": {},
   "outputs": [
    {
     "data": {
      "text/html": [
       "<div>\n",
       "<style scoped>\n",
       "    .dataframe tbody tr th:only-of-type {\n",
       "        vertical-align: middle;\n",
       "    }\n",
       "\n",
       "    .dataframe tbody tr th {\n",
       "        vertical-align: top;\n",
       "    }\n",
       "\n",
       "    .dataframe thead th {\n",
       "        text-align: right;\n",
       "    }\n",
       "</style>\n",
       "<table border=\"1\" class=\"dataframe\">\n",
       "  <thead>\n",
       "    <tr style=\"text-align: right;\">\n",
       "      <th></th>\n",
       "      <th>default</th>\n",
       "      <th>SEX</th>\n",
       "      <th>EDUCATION</th>\n",
       "      <th>MARRIAGE</th>\n",
       "      <th>AGE</th>\n",
       "      <th>LIMIT_BAL</th>\n",
       "      <th>BILL_AMT1</th>\n",
       "      <th>BILL_AMT2</th>\n",
       "      <th>BILL_AMT3</th>\n",
       "      <th>BILL_AMT4</th>\n",
       "      <th>BILL_AMT5</th>\n",
       "      <th>BILL_AMT6</th>\n",
       "      <th>PAY_AMT1</th>\n",
       "      <th>PAY_AMT2</th>\n",
       "      <th>PAY_AMT3</th>\n",
       "      <th>PAY_AMT4</th>\n",
       "      <th>PAY_AMT5</th>\n",
       "      <th>PAY_AMT6</th>\n",
       "      <th>MONTHS_LATE</th>\n",
       "    </tr>\n",
       "  </thead>\n",
       "  <tbody>\n",
       "    <tr>\n",
       "      <th>0</th>\n",
       "      <td>1</td>\n",
       "      <td>1</td>\n",
       "      <td>1</td>\n",
       "      <td>2</td>\n",
       "      <td>3.401197</td>\n",
       "      <td>10.819798</td>\n",
       "      <td>12.157764</td>\n",
       "      <td>11.451880</td>\n",
       "      <td>12.121908</td>\n",
       "      <td>12.185186</td>\n",
       "      <td>11.599122</td>\n",
       "      <td>12.815479</td>\n",
       "      <td>0.000000</td>\n",
       "      <td>7.901377</td>\n",
       "      <td>0.000000</td>\n",
       "      <td>7.707962</td>\n",
       "      <td>7.090910</td>\n",
       "      <td>0.000000</td>\n",
       "      <td>1.94591</td>\n",
       "    </tr>\n",
       "    <tr>\n",
       "      <th>1</th>\n",
       "      <td>1</td>\n",
       "      <td>1</td>\n",
       "      <td>2</td>\n",
       "      <td>2</td>\n",
       "      <td>3.401197</td>\n",
       "      <td>12.676079</td>\n",
       "      <td>12.318723</td>\n",
       "      <td>11.767754</td>\n",
       "      <td>12.289720</td>\n",
       "      <td>12.339830</td>\n",
       "      <td>11.875079</td>\n",
       "      <td>12.907014</td>\n",
       "      <td>7.824446</td>\n",
       "      <td>7.824446</td>\n",
       "      <td>0.000000</td>\n",
       "      <td>8.476580</td>\n",
       "      <td>7.783641</td>\n",
       "      <td>7.378384</td>\n",
       "      <td>1.94591</td>\n",
       "    </tr>\n",
       "    <tr>\n",
       "      <th>2</th>\n",
       "      <td>1</td>\n",
       "      <td>1</td>\n",
       "      <td>1</td>\n",
       "      <td>1</td>\n",
       "      <td>3.988984</td>\n",
       "      <td>12.206078</td>\n",
       "      <td>12.623996</td>\n",
       "      <td>12.257488</td>\n",
       "      <td>12.610621</td>\n",
       "      <td>12.657464</td>\n",
       "      <td>12.339112</td>\n",
       "      <td>13.100394</td>\n",
       "      <td>8.748464</td>\n",
       "      <td>8.612685</td>\n",
       "      <td>8.612685</td>\n",
       "      <td>8.612685</td>\n",
       "      <td>8.517393</td>\n",
       "      <td>8.517393</td>\n",
       "      <td>1.94591</td>\n",
       "    </tr>\n",
       "    <tr>\n",
       "      <th>3</th>\n",
       "      <td>0</td>\n",
       "      <td>2</td>\n",
       "      <td>2</td>\n",
       "      <td>2</td>\n",
       "      <td>3.295837</td>\n",
       "      <td>11.002117</td>\n",
       "      <td>12.311630</td>\n",
       "      <td>11.735957</td>\n",
       "      <td>12.285069</td>\n",
       "      <td>12.346786</td>\n",
       "      <td>11.826144</td>\n",
       "      <td>12.886411</td>\n",
       "      <td>0.000000</td>\n",
       "      <td>8.517393</td>\n",
       "      <td>7.828835</td>\n",
       "      <td>1.945910</td>\n",
       "      <td>8.006701</td>\n",
       "      <td>8.006701</td>\n",
       "      <td>1.94591</td>\n",
       "    </tr>\n",
       "    <tr>\n",
       "      <th>4</th>\n",
       "      <td>0</td>\n",
       "      <td>1</td>\n",
       "      <td>2</td>\n",
       "      <td>1</td>\n",
       "      <td>3.737670</td>\n",
       "      <td>12.542548</td>\n",
       "      <td>12.615709</td>\n",
       "      <td>12.246783</td>\n",
       "      <td>12.584776</td>\n",
       "      <td>12.658428</td>\n",
       "      <td>12.360976</td>\n",
       "      <td>13.100157</td>\n",
       "      <td>8.779711</td>\n",
       "      <td>0.000000</td>\n",
       "      <td>9.564863</td>\n",
       "      <td>9.605822</td>\n",
       "      <td>0.000000</td>\n",
       "      <td>8.517393</td>\n",
       "      <td>1.94591</td>\n",
       "    </tr>\n",
       "  </tbody>\n",
       "</table>\n",
       "</div>"
      ],
      "text/plain": [
       "   default  SEX  EDUCATION  MARRIAGE       AGE  LIMIT_BAL  BILL_AMT1  \\\n",
       "0        1    1          1         2  3.401197  10.819798  12.157764   \n",
       "1        1    1          2         2  3.401197  12.676079  12.318723   \n",
       "2        1    1          1         1  3.988984  12.206078  12.623996   \n",
       "3        0    2          2         2  3.295837  11.002117  12.311630   \n",
       "4        0    1          2         1  3.737670  12.542548  12.615709   \n",
       "\n",
       "   BILL_AMT2  BILL_AMT3  BILL_AMT4  BILL_AMT5  BILL_AMT6  PAY_AMT1  PAY_AMT2  \\\n",
       "0  11.451880  12.121908  12.185186  11.599122  12.815479  0.000000  7.901377   \n",
       "1  11.767754  12.289720  12.339830  11.875079  12.907014  7.824446  7.824446   \n",
       "2  12.257488  12.610621  12.657464  12.339112  13.100394  8.748464  8.612685   \n",
       "3  11.735957  12.285069  12.346786  11.826144  12.886411  0.000000  8.517393   \n",
       "4  12.246783  12.584776  12.658428  12.360976  13.100157  8.779711  0.000000   \n",
       "\n",
       "   PAY_AMT3  PAY_AMT4  PAY_AMT5  PAY_AMT6  MONTHS_LATE  \n",
       "0  0.000000  7.707962  7.090910  0.000000      1.94591  \n",
       "1  0.000000  8.476580  7.783641  7.378384      1.94591  \n",
       "2  8.612685  8.612685  8.517393  8.517393      1.94591  \n",
       "3  7.828835  1.945910  8.006701  8.006701      1.94591  \n",
       "4  9.564863  9.605822  0.000000  8.517393      1.94591  "
      ]
     },
     "execution_count": 3,
     "metadata": {},
     "output_type": "execute_result"
    }
   ],
   "source": [
    "df1.head()"
   ]
  },
  {
   "cell_type": "code",
   "execution_count": 4,
   "metadata": {},
   "outputs": [
    {
     "data": {
      "text/plain": [
       "(30000, 19)"
      ]
     },
     "execution_count": 4,
     "metadata": {},
     "output_type": "execute_result"
    }
   ],
   "source": [
    "df1.shape"
   ]
  },
  {
   "cell_type": "code",
   "execution_count": 5,
   "metadata": {},
   "outputs": [
    {
     "data": {
      "text/plain": [
       "Index(['default', 'SEX', 'EDUCATION', 'MARRIAGE', 'AGE', 'LIMIT_BAL',\n",
       "       'BILL_AMT1', 'BILL_AMT2', 'BILL_AMT3', 'BILL_AMT4', 'BILL_AMT5',\n",
       "       'BILL_AMT6', 'PAY_AMT1', 'PAY_AMT2', 'PAY_AMT3', 'PAY_AMT4', 'PAY_AMT5',\n",
       "       'PAY_AMT6', 'MONTHS_LATE'],\n",
       "      dtype='object')"
      ]
     },
     "execution_count": 5,
     "metadata": {},
     "output_type": "execute_result"
    }
   ],
   "source": [
    "df1.columns"
   ]
  },
  {
   "cell_type": "code",
   "execution_count": 6,
   "metadata": {},
   "outputs": [],
   "source": [
    "colNames1 = ['AGE', 'LIMIT_BAL',\n",
    "       'BILL_AMT1', 'BILL_AMT2', 'BILL_AMT3', 'BILL_AMT4', 'BILL_AMT5',\n",
    "       'BILL_AMT6', 'PAY_AMT1', 'PAY_AMT2', 'PAY_AMT3', 'PAY_AMT4', 'PAY_AMT5',\n",
    "       'PAY_AMT6', 'MONTHS_LATE', 'SEX', 'EDUCATION', 'MARRIAGE']"
   ]
  },
  {
   "cell_type": "code",
   "execution_count": 7,
   "metadata": {},
   "outputs": [],
   "source": [
    "#df1 subset\n",
    "\n",
    "# separate into input and output columns (X variable for features and y for target variables)\n",
    "\n",
    "X1s = df1.loc[:, ['MONTHS_LATE', 'LIMIT_BAL', 'AGE']] \n",
    "y1s = df1['default']"
   ]
  },
  {
   "cell_type": "code",
   "execution_count": 8,
   "metadata": {},
   "outputs": [
    {
     "data": {
      "text/plain": [
       "Index(['MONTHS_LATE', 'LIMIT_BAL', 'AGE'], dtype='object')"
      ]
     },
     "execution_count": 8,
     "metadata": {},
     "output_type": "execute_result"
    }
   ],
   "source": [
    "X1s.columns"
   ]
  },
  {
   "cell_type": "code",
   "execution_count": 9,
   "metadata": {},
   "outputs": [],
   "source": [
    "colNames1s = ['MONTHS_LATE', 'LIMIT_BAL', 'AGE']"
   ]
  },
  {
   "cell_type": "code",
   "execution_count": 10,
   "metadata": {},
   "outputs": [
    {
     "data": {
      "text/html": [
       "<div>\n",
       "<style scoped>\n",
       "    .dataframe tbody tr th:only-of-type {\n",
       "        vertical-align: middle;\n",
       "    }\n",
       "\n",
       "    .dataframe tbody tr th {\n",
       "        vertical-align: top;\n",
       "    }\n",
       "\n",
       "    .dataframe thead th {\n",
       "        text-align: right;\n",
       "    }\n",
       "</style>\n",
       "<table border=\"1\" class=\"dataframe\">\n",
       "  <thead>\n",
       "    <tr style=\"text-align: right;\">\n",
       "      <th></th>\n",
       "      <th>default</th>\n",
       "      <th>SEX</th>\n",
       "      <th>EDUCATION</th>\n",
       "      <th>MARRIAGE</th>\n",
       "      <th>AGE</th>\n",
       "      <th>LIMIT_BAL</th>\n",
       "      <th>MONTHS_LATE</th>\n",
       "      <th>PAYMENT_RATIO</th>\n",
       "    </tr>\n",
       "  </thead>\n",
       "  <tbody>\n",
       "    <tr>\n",
       "      <th>0</th>\n",
       "      <td>1</td>\n",
       "      <td>1</td>\n",
       "      <td>1</td>\n",
       "      <td>2</td>\n",
       "      <td>3.401197</td>\n",
       "      <td>10.819798</td>\n",
       "      <td>1.94591</td>\n",
       "      <td>0.038110</td>\n",
       "    </tr>\n",
       "    <tr>\n",
       "      <th>1</th>\n",
       "      <td>1</td>\n",
       "      <td>1</td>\n",
       "      <td>2</td>\n",
       "      <td>2</td>\n",
       "      <td>3.401197</td>\n",
       "      <td>12.676079</td>\n",
       "      <td>1.94591</td>\n",
       "      <td>0.037397</td>\n",
       "    </tr>\n",
       "    <tr>\n",
       "      <th>2</th>\n",
       "      <td>1</td>\n",
       "      <td>1</td>\n",
       "      <td>1</td>\n",
       "      <td>1</td>\n",
       "      <td>3.988984</td>\n",
       "      <td>12.206078</td>\n",
       "      <td>1.94591</td>\n",
       "      <td>0.037338</td>\n",
       "    </tr>\n",
       "    <tr>\n",
       "      <th>3</th>\n",
       "      <td>0</td>\n",
       "      <td>2</td>\n",
       "      <td>2</td>\n",
       "      <td>2</td>\n",
       "      <td>3.295837</td>\n",
       "      <td>11.002117</td>\n",
       "      <td>1.94591</td>\n",
       "      <td>0.038758</td>\n",
       "    </tr>\n",
       "    <tr>\n",
       "      <th>4</th>\n",
       "      <td>0</td>\n",
       "      <td>1</td>\n",
       "      <td>2</td>\n",
       "      <td>1</td>\n",
       "      <td>3.737670</td>\n",
       "      <td>12.542548</td>\n",
       "      <td>1.94591</td>\n",
       "      <td>0.046396</td>\n",
       "    </tr>\n",
       "  </tbody>\n",
       "</table>\n",
       "</div>"
      ],
      "text/plain": [
       "   default  SEX  EDUCATION  MARRIAGE       AGE  LIMIT_BAL  MONTHS_LATE  \\\n",
       "0        1    1          1         2  3.401197  10.819798      1.94591   \n",
       "1        1    1          2         2  3.401197  12.676079      1.94591   \n",
       "2        1    1          1         1  3.988984  12.206078      1.94591   \n",
       "3        0    2          2         2  3.295837  11.002117      1.94591   \n",
       "4        0    1          2         1  3.737670  12.542548      1.94591   \n",
       "\n",
       "   PAYMENT_RATIO  \n",
       "0       0.038110  \n",
       "1       0.037397  \n",
       "2       0.037338  \n",
       "3       0.038758  \n",
       "4       0.046396  "
      ]
     },
     "execution_count": 10,
     "metadata": {},
     "output_type": "execute_result"
    }
   ],
   "source": [
    "df2.head()"
   ]
  },
  {
   "cell_type": "code",
   "execution_count": 11,
   "metadata": {},
   "outputs": [
    {
     "data": {
      "text/plain": [
       "(29130, 8)"
      ]
     },
     "execution_count": 11,
     "metadata": {},
     "output_type": "execute_result"
    }
   ],
   "source": [
    "df2.shape"
   ]
  },
  {
   "cell_type": "code",
   "execution_count": 12,
   "metadata": {},
   "outputs": [
    {
     "data": {
      "text/plain": [
       "Index(['default', 'SEX', 'EDUCATION', 'MARRIAGE', 'AGE', 'LIMIT_BAL',\n",
       "       'MONTHS_LATE', 'PAYMENT_RATIO'],\n",
       "      dtype='object')"
      ]
     },
     "execution_count": 12,
     "metadata": {},
     "output_type": "execute_result"
    }
   ],
   "source": [
    "df2.columns"
   ]
  },
  {
   "cell_type": "code",
   "execution_count": 13,
   "metadata": {},
   "outputs": [],
   "source": [
    "colNames2 = ['SEX', 'EDUCATION', 'MARRIAGE', 'AGE', 'LIMIT_BAL',\n",
    "       'MONTHS_LATE', 'PAYMENT_RATIO']"
   ]
  },
  {
   "cell_type": "code",
   "execution_count": 14,
   "metadata": {},
   "outputs": [],
   "source": [
    "#df2 subset\n",
    "\n",
    "# separate into input and output columns (X variable for features and y for target variables)\n",
    "\n",
    "X2s = df2.loc[:, ['MONTHS_LATE', 'PAYMENT_RATIO',]] \n",
    "y2s = df2['default']"
   ]
  },
  {
   "cell_type": "code",
   "execution_count": 15,
   "metadata": {},
   "outputs": [
    {
     "data": {
      "text/plain": [
       "Index(['MONTHS_LATE', 'PAYMENT_RATIO'], dtype='object')"
      ]
     },
     "execution_count": 15,
     "metadata": {},
     "output_type": "execute_result"
    }
   ],
   "source": [
    "X2s.columns"
   ]
  },
  {
   "cell_type": "code",
   "execution_count": 16,
   "metadata": {},
   "outputs": [],
   "source": [
    "colNames2s = ['MONTHS_LATE', 'PAYMENT_RATIO']"
   ]
  },
  {
   "cell_type": "code",
   "execution_count": null,
   "metadata": {},
   "outputs": [],
   "source": []
  },
  {
   "cell_type": "markdown",
   "metadata": {},
   "source": [
    "**Create feature dataframes for modeling.**"
   ]
  },
  {
   "cell_type": "code",
   "execution_count": 17,
   "metadata": {},
   "outputs": [],
   "source": [
    "#df1\n",
    "\n",
    "# use get_dummies method for encoding categorical variables only to create subsets\n",
    "\n",
    "# convert categorical data to numbers \n",
    "#get the categorical data\n",
    "cat_features = ['SEX', 'EDUCATION', 'MARRIAGE']\n",
    "df_cat1 = df1[cat_features]\n",
    "\n",
    "# create dummy variable dataframe for categorical values \n",
    "dfDumm1 = pd.get_dummies(df_cat1)\n",
    "\n",
    "# create a whole features dataset that can be used for train and validation data splitting\n",
    "# combine the numerical features and the dummie features together\n",
    "dfNum1 = df1.drop(['SEX', 'EDUCATION', 'MARRIAGE', 'default'], axis = 1)\n",
    "X1 = pd.concat([dfNum1, dfDumm1], axis=1, ignore_index=True)\n",
    "# create a whole target dataset that can be used for train and validation data splitting\n",
    "y1 =  df1['default']"
   ]
  },
  {
   "cell_type": "code",
   "execution_count": 18,
   "metadata": {},
   "outputs": [],
   "source": [
    "X1.columns = colNames1"
   ]
  },
  {
   "cell_type": "code",
   "execution_count": 19,
   "metadata": {},
   "outputs": [
    {
     "data": {
      "text/plain": [
       "(30000, 18)"
      ]
     },
     "execution_count": 19,
     "metadata": {},
     "output_type": "execute_result"
    }
   ],
   "source": [
    "X1.shape"
   ]
  },
  {
   "cell_type": "code",
   "execution_count": 20,
   "metadata": {},
   "outputs": [
    {
     "data": {
      "text/html": [
       "<div>\n",
       "<style scoped>\n",
       "    .dataframe tbody tr th:only-of-type {\n",
       "        vertical-align: middle;\n",
       "    }\n",
       "\n",
       "    .dataframe tbody tr th {\n",
       "        vertical-align: top;\n",
       "    }\n",
       "\n",
       "    .dataframe thead th {\n",
       "        text-align: right;\n",
       "    }\n",
       "</style>\n",
       "<table border=\"1\" class=\"dataframe\">\n",
       "  <thead>\n",
       "    <tr style=\"text-align: right;\">\n",
       "      <th></th>\n",
       "      <th>AGE</th>\n",
       "      <th>LIMIT_BAL</th>\n",
       "      <th>BILL_AMT1</th>\n",
       "      <th>BILL_AMT2</th>\n",
       "      <th>BILL_AMT3</th>\n",
       "      <th>BILL_AMT4</th>\n",
       "      <th>BILL_AMT5</th>\n",
       "      <th>BILL_AMT6</th>\n",
       "      <th>PAY_AMT1</th>\n",
       "      <th>PAY_AMT2</th>\n",
       "      <th>PAY_AMT3</th>\n",
       "      <th>PAY_AMT4</th>\n",
       "      <th>PAY_AMT5</th>\n",
       "      <th>PAY_AMT6</th>\n",
       "      <th>MONTHS_LATE</th>\n",
       "      <th>SEX</th>\n",
       "      <th>EDUCATION</th>\n",
       "      <th>MARRIAGE</th>\n",
       "    </tr>\n",
       "  </thead>\n",
       "  <tbody>\n",
       "    <tr>\n",
       "      <th>0</th>\n",
       "      <td>3.401197</td>\n",
       "      <td>10.819798</td>\n",
       "      <td>12.157764</td>\n",
       "      <td>11.451880</td>\n",
       "      <td>12.121908</td>\n",
       "      <td>12.185186</td>\n",
       "      <td>11.599122</td>\n",
       "      <td>12.815479</td>\n",
       "      <td>0.000000</td>\n",
       "      <td>7.901377</td>\n",
       "      <td>0.000000</td>\n",
       "      <td>7.707962</td>\n",
       "      <td>7.090910</td>\n",
       "      <td>0.000000</td>\n",
       "      <td>1.94591</td>\n",
       "      <td>1</td>\n",
       "      <td>1</td>\n",
       "      <td>2</td>\n",
       "    </tr>\n",
       "    <tr>\n",
       "      <th>1</th>\n",
       "      <td>3.401197</td>\n",
       "      <td>12.676079</td>\n",
       "      <td>12.318723</td>\n",
       "      <td>11.767754</td>\n",
       "      <td>12.289720</td>\n",
       "      <td>12.339830</td>\n",
       "      <td>11.875079</td>\n",
       "      <td>12.907014</td>\n",
       "      <td>7.824446</td>\n",
       "      <td>7.824446</td>\n",
       "      <td>0.000000</td>\n",
       "      <td>8.476580</td>\n",
       "      <td>7.783641</td>\n",
       "      <td>7.378384</td>\n",
       "      <td>1.94591</td>\n",
       "      <td>1</td>\n",
       "      <td>2</td>\n",
       "      <td>2</td>\n",
       "    </tr>\n",
       "    <tr>\n",
       "      <th>2</th>\n",
       "      <td>3.988984</td>\n",
       "      <td>12.206078</td>\n",
       "      <td>12.623996</td>\n",
       "      <td>12.257488</td>\n",
       "      <td>12.610621</td>\n",
       "      <td>12.657464</td>\n",
       "      <td>12.339112</td>\n",
       "      <td>13.100394</td>\n",
       "      <td>8.748464</td>\n",
       "      <td>8.612685</td>\n",
       "      <td>8.612685</td>\n",
       "      <td>8.612685</td>\n",
       "      <td>8.517393</td>\n",
       "      <td>8.517393</td>\n",
       "      <td>1.94591</td>\n",
       "      <td>1</td>\n",
       "      <td>1</td>\n",
       "      <td>1</td>\n",
       "    </tr>\n",
       "    <tr>\n",
       "      <th>3</th>\n",
       "      <td>3.295837</td>\n",
       "      <td>11.002117</td>\n",
       "      <td>12.311630</td>\n",
       "      <td>11.735957</td>\n",
       "      <td>12.285069</td>\n",
       "      <td>12.346786</td>\n",
       "      <td>11.826144</td>\n",
       "      <td>12.886411</td>\n",
       "      <td>0.000000</td>\n",
       "      <td>8.517393</td>\n",
       "      <td>7.828835</td>\n",
       "      <td>1.945910</td>\n",
       "      <td>8.006701</td>\n",
       "      <td>8.006701</td>\n",
       "      <td>1.94591</td>\n",
       "      <td>2</td>\n",
       "      <td>2</td>\n",
       "      <td>2</td>\n",
       "    </tr>\n",
       "    <tr>\n",
       "      <th>4</th>\n",
       "      <td>3.737670</td>\n",
       "      <td>12.542548</td>\n",
       "      <td>12.615709</td>\n",
       "      <td>12.246783</td>\n",
       "      <td>12.584776</td>\n",
       "      <td>12.658428</td>\n",
       "      <td>12.360976</td>\n",
       "      <td>13.100157</td>\n",
       "      <td>8.779711</td>\n",
       "      <td>0.000000</td>\n",
       "      <td>9.564863</td>\n",
       "      <td>9.605822</td>\n",
       "      <td>0.000000</td>\n",
       "      <td>8.517393</td>\n",
       "      <td>1.94591</td>\n",
       "      <td>1</td>\n",
       "      <td>2</td>\n",
       "      <td>1</td>\n",
       "    </tr>\n",
       "  </tbody>\n",
       "</table>\n",
       "</div>"
      ],
      "text/plain": [
       "        AGE  LIMIT_BAL  BILL_AMT1  BILL_AMT2  BILL_AMT3  BILL_AMT4  BILL_AMT5  \\\n",
       "0  3.401197  10.819798  12.157764  11.451880  12.121908  12.185186  11.599122   \n",
       "1  3.401197  12.676079  12.318723  11.767754  12.289720  12.339830  11.875079   \n",
       "2  3.988984  12.206078  12.623996  12.257488  12.610621  12.657464  12.339112   \n",
       "3  3.295837  11.002117  12.311630  11.735957  12.285069  12.346786  11.826144   \n",
       "4  3.737670  12.542548  12.615709  12.246783  12.584776  12.658428  12.360976   \n",
       "\n",
       "   BILL_AMT6  PAY_AMT1  PAY_AMT2  PAY_AMT3  PAY_AMT4  PAY_AMT5  PAY_AMT6  \\\n",
       "0  12.815479  0.000000  7.901377  0.000000  7.707962  7.090910  0.000000   \n",
       "1  12.907014  7.824446  7.824446  0.000000  8.476580  7.783641  7.378384   \n",
       "2  13.100394  8.748464  8.612685  8.612685  8.612685  8.517393  8.517393   \n",
       "3  12.886411  0.000000  8.517393  7.828835  1.945910  8.006701  8.006701   \n",
       "4  13.100157  8.779711  0.000000  9.564863  9.605822  0.000000  8.517393   \n",
       "\n",
       "   MONTHS_LATE  SEX  EDUCATION  MARRIAGE  \n",
       "0      1.94591    1          1         2  \n",
       "1      1.94591    1          2         2  \n",
       "2      1.94591    1          1         1  \n",
       "3      1.94591    2          2         2  \n",
       "4      1.94591    1          2         1  "
      ]
     },
     "execution_count": 20,
     "metadata": {},
     "output_type": "execute_result"
    }
   ],
   "source": [
    "X1.head()"
   ]
  },
  {
   "cell_type": "code",
   "execution_count": 34,
   "metadata": {},
   "outputs": [
    {
     "data": {
      "text/plain": [
       "0    23364\n",
       "1     6636\n",
       "Name: default, dtype: int64"
      ]
     },
     "execution_count": 34,
     "metadata": {},
     "output_type": "execute_result"
    }
   ],
   "source": [
    "y1.value_counts()"
   ]
  },
  {
   "cell_type": "code",
   "execution_count": null,
   "metadata": {},
   "outputs": [],
   "source": []
  },
  {
   "cell_type": "code",
   "execution_count": 21,
   "metadata": {},
   "outputs": [],
   "source": [
    "#df2\n",
    "\n",
    "# use get_dummies method for encoding categorical variables only to create subsets\n",
    "\n",
    "# convert categorical data to numbers \n",
    "#get the categorical data\n",
    "cat_features = ['SEX', 'EDUCATION', 'MARRIAGE']\n",
    "df_cat2 = df2[cat_features]\n",
    "\n",
    "# create dummy variable dataframe for categorical values \n",
    "dfDumm2 = pd.get_dummies(df_cat2)\n",
    "\n",
    "# create a whole features dataset that can be used for train and validation data splitting\n",
    "# combine the numerical features and the dummie features together\n",
    "dfNum2 = df2.drop(['SEX', 'EDUCATION', 'MARRIAGE', 'default'], axis = 1)\n",
    "X2 = pd.concat([dfNum2, dfDumm2], axis=1, ignore_index=True)\n",
    "# create a whole target dataset that can be used for train and validation data splitting\n",
    "y2 =  df2['default']"
   ]
  },
  {
   "cell_type": "code",
   "execution_count": 22,
   "metadata": {},
   "outputs": [
    {
     "data": {
      "text/plain": [
       "(29130, 7)"
      ]
     },
     "execution_count": 22,
     "metadata": {},
     "output_type": "execute_result"
    }
   ],
   "source": [
    "X2.shape"
   ]
  },
  {
   "cell_type": "code",
   "execution_count": 33,
   "metadata": {},
   "outputs": [
    {
     "data": {
      "text/plain": [
       "0    22811\n",
       "1     6319\n",
       "Name: default, dtype: int64"
      ]
     },
     "execution_count": 33,
     "metadata": {},
     "output_type": "execute_result"
    }
   ],
   "source": [
    "y2.value_counts()"
   ]
  },
  {
   "cell_type": "code",
   "execution_count": 23,
   "metadata": {},
   "outputs": [],
   "source": [
    "X2.columns = colNames2"
   ]
  },
  {
   "cell_type": "code",
   "execution_count": 24,
   "metadata": {},
   "outputs": [
    {
     "data": {
      "text/html": [
       "<div>\n",
       "<style scoped>\n",
       "    .dataframe tbody tr th:only-of-type {\n",
       "        vertical-align: middle;\n",
       "    }\n",
       "\n",
       "    .dataframe tbody tr th {\n",
       "        vertical-align: top;\n",
       "    }\n",
       "\n",
       "    .dataframe thead th {\n",
       "        text-align: right;\n",
       "    }\n",
       "</style>\n",
       "<table border=\"1\" class=\"dataframe\">\n",
       "  <thead>\n",
       "    <tr style=\"text-align: right;\">\n",
       "      <th></th>\n",
       "      <th>SEX</th>\n",
       "      <th>EDUCATION</th>\n",
       "      <th>MARRIAGE</th>\n",
       "      <th>AGE</th>\n",
       "      <th>LIMIT_BAL</th>\n",
       "      <th>MONTHS_LATE</th>\n",
       "      <th>PAYMENT_RATIO</th>\n",
       "    </tr>\n",
       "  </thead>\n",
       "  <tbody>\n",
       "    <tr>\n",
       "      <th>0</th>\n",
       "      <td>3.401197</td>\n",
       "      <td>10.819798</td>\n",
       "      <td>1.94591</td>\n",
       "      <td>0.038110</td>\n",
       "      <td>1</td>\n",
       "      <td>1</td>\n",
       "      <td>2</td>\n",
       "    </tr>\n",
       "    <tr>\n",
       "      <th>1</th>\n",
       "      <td>3.401197</td>\n",
       "      <td>12.676079</td>\n",
       "      <td>1.94591</td>\n",
       "      <td>0.037397</td>\n",
       "      <td>1</td>\n",
       "      <td>2</td>\n",
       "      <td>2</td>\n",
       "    </tr>\n",
       "    <tr>\n",
       "      <th>2</th>\n",
       "      <td>3.988984</td>\n",
       "      <td>12.206078</td>\n",
       "      <td>1.94591</td>\n",
       "      <td>0.037338</td>\n",
       "      <td>1</td>\n",
       "      <td>1</td>\n",
       "      <td>1</td>\n",
       "    </tr>\n",
       "    <tr>\n",
       "      <th>3</th>\n",
       "      <td>3.295837</td>\n",
       "      <td>11.002117</td>\n",
       "      <td>1.94591</td>\n",
       "      <td>0.038758</td>\n",
       "      <td>2</td>\n",
       "      <td>2</td>\n",
       "      <td>2</td>\n",
       "    </tr>\n",
       "    <tr>\n",
       "      <th>4</th>\n",
       "      <td>3.737670</td>\n",
       "      <td>12.542548</td>\n",
       "      <td>1.94591</td>\n",
       "      <td>0.046396</td>\n",
       "      <td>1</td>\n",
       "      <td>2</td>\n",
       "      <td>1</td>\n",
       "    </tr>\n",
       "  </tbody>\n",
       "</table>\n",
       "</div>"
      ],
      "text/plain": [
       "        SEX  EDUCATION  MARRIAGE       AGE  LIMIT_BAL  MONTHS_LATE  \\\n",
       "0  3.401197  10.819798   1.94591  0.038110          1            1   \n",
       "1  3.401197  12.676079   1.94591  0.037397          1            2   \n",
       "2  3.988984  12.206078   1.94591  0.037338          1            1   \n",
       "3  3.295837  11.002117   1.94591  0.038758          2            2   \n",
       "4  3.737670  12.542548   1.94591  0.046396          1            2   \n",
       "\n",
       "   PAYMENT_RATIO  \n",
       "0              2  \n",
       "1              2  \n",
       "2              1  \n",
       "3              2  \n",
       "4              1  "
      ]
     },
     "execution_count": 24,
     "metadata": {},
     "output_type": "execute_result"
    }
   ],
   "source": [
    "X2.head()"
   ]
  },
  {
   "cell_type": "code",
   "execution_count": null,
   "metadata": {},
   "outputs": [],
   "source": []
  },
  {
   "cell_type": "markdown",
   "metadata": {},
   "source": [
    "**Split and scale data**"
   ]
  },
  {
   "cell_type": "code",
   "execution_count": 25,
   "metadata": {},
   "outputs": [],
   "source": [
    "# separate data into training and test data\n",
    "X1Train, X1Test, y1Train, y1Test = train_test_split(X1, y1, test_size =0.2, random_state=1)\n"
   ]
  },
  {
   "cell_type": "code",
   "execution_count": 26,
   "metadata": {},
   "outputs": [],
   "source": [
    "# define the scaler\n",
    "scaler = StandardScaler()\n",
    "# fit and transform on the training dataset\n",
    "scaler.fit_transform(X1Train)\n",
    "# transform the test dataset\n",
    "X1Test = scaler.transform(X1Test)"
   ]
  },
  {
   "cell_type": "code",
   "execution_count": 62,
   "metadata": {},
   "outputs": [],
   "source": [
    "# separate data into training and test data\n",
    "X2Train, X2Test, y2Train, y2Test = train_test_split(X2, y2, test_size =0.2, random_state=1)\n"
   ]
  },
  {
   "cell_type": "code",
   "execution_count": 63,
   "metadata": {},
   "outputs": [],
   "source": [
    "# define the scaler\n",
    "scaler = StandardScaler()\n",
    "# fit and transform on the training dataset\n",
    "scaler.fit_transform(X2Train)\n",
    "# transform the test dataset\n",
    "X2Test = scaler.transform(X2Test)"
   ]
  },
  {
   "cell_type": "code",
   "execution_count": 99,
   "metadata": {},
   "outputs": [],
   "source": [
    "# separate data into training and test data\n",
    "X1sTrain, X1sTest, y1sTrain, y1sTest = train_test_split(X1s, y1s, test_size =0.2, random_state=1)\n"
   ]
  },
  {
   "cell_type": "code",
   "execution_count": 100,
   "metadata": {},
   "outputs": [],
   "source": [
    "# define the scaler\n",
    "scaler = StandardScaler()\n",
    "# fit and transform on the training dataset\n",
    "scaler.fit_transform(X1sTrain)\n",
    "# transform the test dataset\n",
    "X1sTest = scaler.transform(X1sTest)"
   ]
  },
  {
   "cell_type": "code",
   "execution_count": 87,
   "metadata": {},
   "outputs": [],
   "source": [
    "# separate data into training and test data\n",
    "X2sTrain, X2sTest, y2sTrain, y2sTest = train_test_split(X2s, y2s, test_size =0.2, random_state=1)\n"
   ]
  },
  {
   "cell_type": "code",
   "execution_count": 88,
   "metadata": {},
   "outputs": [],
   "source": [
    "# define the scaler\n",
    "scaler = StandardScaler()\n",
    "# fit and transform on the training dataset\n",
    "scaler.fit_transform(X2sTrain)\n",
    "# transform the test dataset\n",
    "X2sTest = scaler.transform(X2sTest)"
   ]
  },
  {
   "cell_type": "code",
   "execution_count": null,
   "metadata": {},
   "outputs": [],
   "source": []
  },
  {
   "cell_type": "code",
   "execution_count": null,
   "metadata": {},
   "outputs": [],
   "source": []
  },
  {
   "cell_type": "markdown",
   "metadata": {},
   "source": [
    "**Oversample Training Data Only**"
   ]
  },
  {
   "cell_type": "markdown",
   "metadata": {},
   "source": [
    "Need a unique label for each record before resampling data for GroupKFold below."
   ]
  },
  {
   "cell_type": "code",
   "execution_count": 28,
   "metadata": {},
   "outputs": [],
   "source": [
    "# add a column to be used as an identifer for each row before oversampling - to be used for grouping row in cv\n",
    "X1Train[\"cv_label\"] = X1Train.index"
   ]
  },
  {
   "cell_type": "code",
   "execution_count": 64,
   "metadata": {},
   "outputs": [],
   "source": [
    "# add a column to be used as an identifer for each row before oversampling - to be used for grouping row in cv\n",
    "X2Train[\"cv_label\"] = X2Train.index"
   ]
  },
  {
   "cell_type": "code",
   "execution_count": 101,
   "metadata": {},
   "outputs": [],
   "source": [
    "# add a column to be used as an identifer for each row before oversampling - to be used for grouping row in cv\n",
    "X1sTrain[\"cv_label\"] = X1sTrain.index"
   ]
  },
  {
   "cell_type": "code",
   "execution_count": 89,
   "metadata": {},
   "outputs": [],
   "source": [
    "# add a column to be used as an identifer for each row before oversampling - to be used for grouping row in cv\n",
    "X2sTrain[\"cv_label\"] = X2sTrain.index"
   ]
  },
  {
   "cell_type": "code",
   "execution_count": null,
   "metadata": {},
   "outputs": [],
   "source": []
  },
  {
   "cell_type": "markdown",
   "metadata": {},
   "source": [
    "**Oversample training data for each of 4 subsets of data**"
   ]
  },
  {
   "cell_type": "code",
   "execution_count": 30,
   "metadata": {},
   "outputs": [],
   "source": [
    "# over sample the minority class\n",
    "#from imblearn.over_sampling import SMOTE\n",
    "\n",
    "#smote = SMOTE()\n",
    "#X1TrainBal, y1TrainBal = smote.fit_resample(X1Train, y1Train)\n",
    "\n",
    "from imblearn.over_sampling import RandomOverSampler\n",
    "# define oversampling strategy\n",
    "oversample = RandomOverSampler(sampling_strategy='minority')\n",
    "# fit and apply the transform\n",
    "X1TrainBal, y1TrainBal = oversample.fit_resample(X1Train, y1Train)"
   ]
  },
  {
   "cell_type": "code",
   "execution_count": 65,
   "metadata": {},
   "outputs": [],
   "source": [
    "# over sample the minority class\n",
    "#from imblearn.over_sampling import SMOTE\n",
    "\n",
    "\n",
    "from imblearn.over_sampling import RandomOverSampler\n",
    "# define oversampling strategy\n",
    "oversample = RandomOverSampler(sampling_strategy='minority')\n",
    "# fit and apply the transform\n",
    "X2TrainBal, y2TrainBal = oversample.fit_resample(X2Train, y2Train)"
   ]
  },
  {
   "cell_type": "code",
   "execution_count": 102,
   "metadata": {},
   "outputs": [],
   "source": [
    "# over sample the minority class\n",
    "#from imblearn.over_sampling import SMOTE\n",
    "\n",
    "from imblearn.over_sampling import RandomOverSampler\n",
    "# define oversampling strategy\n",
    "oversample = RandomOverSampler(sampling_strategy='minority')\n",
    "# fit and apply the transform\n",
    "X1sTrainBal, y1sTrainBal = oversample.fit_resample(X1sTrain, y1sTrain)"
   ]
  },
  {
   "cell_type": "code",
   "execution_count": 90,
   "metadata": {},
   "outputs": [],
   "source": [
    "# over sample the minority class\n",
    "#from imblearn.over_sampling import SMOTE\n",
    "\n",
    "\n",
    "from imblearn.over_sampling import RandomOverSampler\n",
    "# define oversampling strategy\n",
    "oversample = RandomOverSampler(sampling_strategy='minority')\n",
    "# fit and apply the transform\n",
    "X2sTrainBal, y2sTrainBal = oversample.fit_resample(X2sTrain, y2sTrain)"
   ]
  },
  {
   "cell_type": "code",
   "execution_count": null,
   "metadata": {},
   "outputs": [],
   "source": []
  },
  {
   "cell_type": "markdown",
   "metadata": {},
   "source": [
    "Put oversampled data back into dataframes."
   ]
  },
  {
   "cell_type": "code",
   "execution_count": 36,
   "metadata": {},
   "outputs": [],
   "source": [
    "colNames3 = ['AGE', 'LIMIT_BAL',\n",
    "       'BILL_AMT1', 'BILL_AMT2', 'BILL_AMT3', 'BILL_AMT4', 'BILL_AMT5',\n",
    "       'BILL_AMT6', 'PAY_AMT1', 'PAY_AMT2', 'PAY_AMT3', 'PAY_AMT4', 'PAY_AMT5',\n",
    "       'PAY_AMT6', 'MONTHS_LATE', 'SEX', 'EDUCATION', 'MARRIAGE', 'cv_label']"
   ]
  },
  {
   "cell_type": "code",
   "execution_count": 66,
   "metadata": {},
   "outputs": [],
   "source": [
    "colNames4 = ['SEX', 'EDUCATION', 'MARRIAGE', 'AGE', 'LIMIT_BAL',\n",
    "       'MONTHS_LATE', 'PAYMENT_RATIO', 'cv_label']"
   ]
  },
  {
   "cell_type": "code",
   "execution_count": 80,
   "metadata": {},
   "outputs": [],
   "source": [
    "colNames5 = ['MONTHS_LATE', 'LIMIT_BAL', 'AGE', 'cv_label']"
   ]
  },
  {
   "cell_type": "code",
   "execution_count": 81,
   "metadata": {},
   "outputs": [],
   "source": [
    "colNames6 = ['MONTHS_LATE', 'PAYMENT_RATIO', 'cv_label']"
   ]
  },
  {
   "cell_type": "code",
   "execution_count": 37,
   "metadata": {},
   "outputs": [],
   "source": [
    "X1TrainBal = pd.DataFrame(data=X1TrainBal, columns = colNames3)"
   ]
  },
  {
   "cell_type": "code",
   "execution_count": 67,
   "metadata": {},
   "outputs": [],
   "source": [
    "X2TrainBal = pd.DataFrame(data=X2TrainBal, columns = colNames4)"
   ]
  },
  {
   "cell_type": "code",
   "execution_count": 103,
   "metadata": {},
   "outputs": [],
   "source": [
    "X1sTrainBal = pd.DataFrame(data=X1sTrainBal, columns = colNames5)"
   ]
  },
  {
   "cell_type": "code",
   "execution_count": 91,
   "metadata": {},
   "outputs": [],
   "source": [
    "X2sTrainBal = pd.DataFrame(data=X2sTrainBal, columns = colNames6)"
   ]
  },
  {
   "cell_type": "code",
   "execution_count": null,
   "metadata": {},
   "outputs": [],
   "source": []
  },
  {
   "cell_type": "markdown",
   "metadata": {},
   "source": [
    "Need the id for each row for the grouping in the cross-validation below"
   ]
  },
  {
   "cell_type": "code",
   "execution_count": 47,
   "metadata": {},
   "outputs": [],
   "source": [
    "# need the id for each row for the grouping in the cross-validation below\n",
    "cv_labels = X1TrainBal['cv_label']"
   ]
  },
  {
   "cell_type": "code",
   "execution_count": 68,
   "metadata": {},
   "outputs": [],
   "source": [
    "# need the id for each row for the grouping in the cross-validation below\n",
    "cv_labels2 = X2TrainBal['cv_label']"
   ]
  },
  {
   "cell_type": "code",
   "execution_count": 104,
   "metadata": {},
   "outputs": [],
   "source": [
    "# need the id for each row for the grouping in the cross-validation below\n",
    "cv_labels3 = X1sTrainBal['cv_label']"
   ]
  },
  {
   "cell_type": "code",
   "execution_count": 92,
   "metadata": {},
   "outputs": [],
   "source": [
    "# need the id for each row for the grouping in the cross-validation below\n",
    "cv_labels4 = X2sTrainBal['cv_label']"
   ]
  },
  {
   "cell_type": "code",
   "execution_count": null,
   "metadata": {},
   "outputs": [],
   "source": []
  },
  {
   "cell_type": "markdown",
   "metadata": {},
   "source": [
    "Drop the unique label column added for oversampling before modeling."
   ]
  },
  {
   "cell_type": "code",
   "execution_count": 51,
   "metadata": {},
   "outputs": [],
   "source": [
    "# need to take out the column added to get an id for each row for grouping before cross-validation and training the model\n",
    "X1TrainBal = X1TrainBal.drop(['cv_label'], axis=1)"
   ]
  },
  {
   "cell_type": "code",
   "execution_count": 69,
   "metadata": {},
   "outputs": [],
   "source": [
    "# need to take out the column added to get an id for each row for grouping before cross-validation and training the model\n",
    "X2TrainBal = X2TrainBal.drop(['cv_label'], axis=1)"
   ]
  },
  {
   "cell_type": "code",
   "execution_count": 105,
   "metadata": {},
   "outputs": [],
   "source": [
    "# need to take out the column added to get an id for each row for grouping before cross-validation and training the model\n",
    "X1sTrainBal = X1sTrainBal.drop(['cv_label'], axis=1)"
   ]
  },
  {
   "cell_type": "code",
   "execution_count": 93,
   "metadata": {},
   "outputs": [],
   "source": [
    "# need to take out the column added to get an id for each row for grouping before cross-validation and training the model\n",
    "X2sTrainBal = X2sTrainBal.drop(['cv_label'], axis=1)"
   ]
  },
  {
   "cell_type": "code",
   "execution_count": null,
   "metadata": {},
   "outputs": [],
   "source": []
  },
  {
   "cell_type": "markdown",
   "metadata": {},
   "source": [
    "**Tune Logistic Regression models and use GroupKFold for cross-validation.  GroupKFold keeps overbalanced data in training folds only.**"
   ]
  },
  {
   "cell_type": "code",
   "execution_count": 57,
   "metadata": {},
   "outputs": [],
   "source": [
    "lrGroup= LogisticRegression()\n",
    "params = {'C': [1.00000000e+00, 2.78255940e+00, 7.74263683e+00, 2.15443469e+01,\n",
    "       5.99484250e+01, 1.66810054e+02, 4.64158883e+02, 1.29154967e+03,\n",
    "       3.59381366e+03, 1.00000000e+04],\n",
    "            'penalty': ['l1', 'l2']}\n",
    "\n",
    "group = cv_labels \n",
    "gkf = GroupKFold().split(X1TrainBal, y1TrainBal, group)\n",
    "lr_grid=GridSearchCV(lrGroup, params, verbose=2,\n",
    "          cv=gkf, scoring={'avr': make_scorer(recall_score, needs_proba=False),\n",
    "                                'll': make_scorer(log_loss, greater_is_better=False, needs_proba=True)}, \n",
    "                    refit='avr', n_jobs = -1)\n"
   ]
  },
  {
   "cell_type": "code",
   "execution_count": 70,
   "metadata": {},
   "outputs": [],
   "source": [
    "lrGroup= LogisticRegression()\n",
    "params = {'C': [1.00000000e+00, 2.78255940e+00, 7.74263683e+00, 2.15443469e+01,\n",
    "       5.99484250e+01, 1.66810054e+02, 4.64158883e+02, 1.29154967e+03,\n",
    "       3.59381366e+03, 1.00000000e+04],\n",
    "            'penalty': ['l1', 'l2']}\n",
    "\n",
    "group2 = cv_labels2\n",
    "gkf2 = GroupKFold().split(X2TrainBal, y2TrainBal, group2)\n",
    "lr_grid2=GridSearchCV(lrGroup, params, verbose=2,\n",
    "          cv=gkf2, scoring={'avr': make_scorer(recall_score, needs_proba=False),\n",
    "                                'll': make_scorer(log_loss, greater_is_better=False, needs_proba=True)}, \n",
    "                    refit='avr', n_jobs = -1)"
   ]
  },
  {
   "cell_type": "code",
   "execution_count": 106,
   "metadata": {},
   "outputs": [],
   "source": [
    "lrGroup= LogisticRegression()\n",
    "params = {'C': [1.00000000e+00, 2.78255940e+00, 7.74263683e+00, 2.15443469e+01,\n",
    "       5.99484250e+01, 1.66810054e+02, 4.64158883e+02, 1.29154967e+03,\n",
    "       3.59381366e+03, 1.00000000e+04],\n",
    "            'penalty': ['l1', 'l2']}\n",
    "\n",
    "group3 = cv_labels3 \n",
    "gkf3 = GroupKFold().split(X1sTrainBal, y1sTrainBal, group3)\n",
    "lr_grid1s=GridSearchCV(lrGroup, params, verbose=2,\n",
    "          cv=gkf3, scoring={'avr': make_scorer(recall_score, needs_proba=False),\n",
    "                                'll': make_scorer(log_loss, greater_is_better=False, needs_proba=True)}, \n",
    "                    refit='avr', n_jobs = -1)\n"
   ]
  },
  {
   "cell_type": "code",
   "execution_count": 94,
   "metadata": {},
   "outputs": [],
   "source": [
    "lrGroup= LogisticRegression()\n",
    "params = {'C': [1.00000000e+00, 2.78255940e+00, 7.74263683e+00, 2.15443469e+01,\n",
    "       5.99484250e+01, 1.66810054e+02, 4.64158883e+02, 1.29154967e+03,\n",
    "       3.59381366e+03, 1.00000000e+04],\n",
    "            'penalty': ['l1', 'l2']}\n",
    "\n",
    "group4 = cv_labels4\n",
    "gkf4 = GroupKFold().split(X2sTrainBal, y2sTrainBal, group4)\n",
    "lr_grid2s=GridSearchCV(lrGroup, params, verbose=2,\n",
    "          cv=gkf4, scoring={'avr': make_scorer(recall_score, needs_proba=False),\n",
    "                                'll': make_scorer(log_loss, greater_is_better=False, needs_proba=True)}, \n",
    "                    refit='avr', n_jobs = -1)"
   ]
  },
  {
   "cell_type": "code",
   "execution_count": null,
   "metadata": {},
   "outputs": [],
   "source": []
  },
  {
   "cell_type": "markdown",
   "metadata": {},
   "source": [
    "**Fit model for 4 different subsets of data**"
   ]
  },
  {
   "cell_type": "code",
   "execution_count": 58,
   "metadata": {},
   "outputs": [
    {
     "name": "stdout",
     "output_type": "stream",
     "text": [
      "Fitting 3 folds for each of 20 candidates, totalling 60 fits\n"
     ]
    },
    {
     "name": "stderr",
     "output_type": "stream",
     "text": [
      "[Parallel(n_jobs=-1)]: Using backend LokyBackend with 4 concurrent workers.\n",
      "[Parallel(n_jobs=-1)]: Done  33 tasks      | elapsed: 11.4min\n",
      "[Parallel(n_jobs=-1)]: Done  60 out of  60 | elapsed: 22.9min finished\n"
     ]
    },
    {
     "data": {
      "text/plain": [
       "GridSearchCV(cv=<generator object _BaseKFold.split at 0x000001F70FE26DC8>,\n",
       "       error_score='raise-deprecating',\n",
       "       estimator=LogisticRegression(C=1.0, class_weight=None, dual=False, fit_intercept=True,\n",
       "          intercept_scaling=1, max_iter=100, multi_class='warn',\n",
       "          n_jobs=None, penalty='l2', random_state=None, solver='warn',\n",
       "          tol=0.0001, verbose=0, warm_start=False),\n",
       "       fit_params=None, iid='warn', n_jobs=-1,\n",
       "       param_grid={'C': [1.0, 2.7825594, 7.74263683, 21.5443469, 59.948425, 166.810054, 464.158883, 1291.54967, 3593.81366, 10000.0], 'penalty': ['l1', 'l2']},\n",
       "       pre_dispatch='2*n_jobs', refit='avr', return_train_score='warn',\n",
       "       scoring={'avr': make_scorer(recall_score), 'll': make_scorer(log_loss, greater_is_better=False, needs_proba=True)},\n",
       "       verbose=2)"
      ]
     },
     "execution_count": 58,
     "metadata": {},
     "output_type": "execute_result"
    }
   ],
   "source": [
    "# X1 df\n",
    "lr_grid.fit(X1TrainBal, y1TrainBal)"
   ]
  },
  {
   "cell_type": "code",
   "execution_count": 71,
   "metadata": {},
   "outputs": [
    {
     "name": "stdout",
     "output_type": "stream",
     "text": [
      "Fitting 3 folds for each of 20 candidates, totalling 60 fits\n"
     ]
    },
    {
     "name": "stderr",
     "output_type": "stream",
     "text": [
      "[Parallel(n_jobs=-1)]: Using backend LokyBackend with 4 concurrent workers.\n",
      "[Parallel(n_jobs=-1)]: Done  33 tasks      | elapsed:   33.9s\n",
      "[Parallel(n_jobs=-1)]: Done  60 out of  60 | elapsed:   50.4s finished\n"
     ]
    },
    {
     "data": {
      "text/plain": [
       "GridSearchCV(cv=<generator object _BaseKFold.split at 0x000001F7122A31C8>,\n",
       "       error_score='raise-deprecating',\n",
       "       estimator=LogisticRegression(C=1.0, class_weight=None, dual=False, fit_intercept=True,\n",
       "          intercept_scaling=1, max_iter=100, multi_class='warn',\n",
       "          n_jobs=None, penalty='l2', random_state=None, solver='warn',\n",
       "          tol=0.0001, verbose=0, warm_start=False),\n",
       "       fit_params=None, iid='warn', n_jobs=-1,\n",
       "       param_grid={'C': [1.0, 2.7825594, 7.74263683, 21.5443469, 59.948425, 166.810054, 464.158883, 1291.54967, 3593.81366, 10000.0], 'penalty': ['l1', 'l2']},\n",
       "       pre_dispatch='2*n_jobs', refit='avr', return_train_score='warn',\n",
       "       scoring={'avr': make_scorer(recall_score), 'll': make_scorer(log_loss, greater_is_better=False, needs_proba=True)},\n",
       "       verbose=2)"
      ]
     },
     "execution_count": 71,
     "metadata": {},
     "output_type": "execute_result"
    }
   ],
   "source": [
    "# X2 df\n",
    "lr_grid2.fit(X2TrainBal, y2TrainBal)"
   ]
  },
  {
   "cell_type": "code",
   "execution_count": 107,
   "metadata": {},
   "outputs": [
    {
     "name": "stdout",
     "output_type": "stream",
     "text": [
      "Fitting 3 folds for each of 20 candidates, totalling 60 fits\n"
     ]
    },
    {
     "name": "stderr",
     "output_type": "stream",
     "text": [
      "[Parallel(n_jobs=-1)]: Using backend LokyBackend with 4 concurrent workers.\n",
      "[Parallel(n_jobs=-1)]: Done  33 tasks      | elapsed:    7.4s\n",
      "[Parallel(n_jobs=-1)]: Done  60 out of  60 | elapsed:   10.9s finished\n"
     ]
    },
    {
     "data": {
      "text/plain": [
       "GridSearchCV(cv=<generator object _BaseKFold.split at 0x000001F716013648>,\n",
       "       error_score='raise-deprecating',\n",
       "       estimator=LogisticRegression(C=1.0, class_weight=None, dual=False, fit_intercept=True,\n",
       "          intercept_scaling=1, max_iter=100, multi_class='warn',\n",
       "          n_jobs=None, penalty='l2', random_state=None, solver='warn',\n",
       "          tol=0.0001, verbose=0, warm_start=False),\n",
       "       fit_params=None, iid='warn', n_jobs=-1,\n",
       "       param_grid={'C': [1.0, 2.7825594, 7.74263683, 21.5443469, 59.948425, 166.810054, 464.158883, 1291.54967, 3593.81366, 10000.0], 'penalty': ['l1', 'l2']},\n",
       "       pre_dispatch='2*n_jobs', refit='avr', return_train_score='warn',\n",
       "       scoring={'avr': make_scorer(recall_score), 'll': make_scorer(log_loss, greater_is_better=False, needs_proba=True)},\n",
       "       verbose=2)"
      ]
     },
     "execution_count": 107,
     "metadata": {},
     "output_type": "execute_result"
    }
   ],
   "source": [
    "# X1s df subset\n",
    "lr_grid1s.fit(X1sTrainBal, y1sTrainBal)"
   ]
  },
  {
   "cell_type": "code",
   "execution_count": 95,
   "metadata": {},
   "outputs": [
    {
     "name": "stdout",
     "output_type": "stream",
     "text": [
      "Fitting 3 folds for each of 20 candidates, totalling 60 fits\n"
     ]
    },
    {
     "name": "stderr",
     "output_type": "stream",
     "text": [
      "[Parallel(n_jobs=-1)]: Using backend LokyBackend with 4 concurrent workers.\n",
      "[Parallel(n_jobs=-1)]: Done  33 tasks      | elapsed:    4.2s\n",
      "[Parallel(n_jobs=-1)]: Done  60 out of  60 | elapsed:    5.5s finished\n"
     ]
    },
    {
     "data": {
      "text/plain": [
       "GridSearchCV(cv=<generator object _BaseKFold.split at 0x000001F715F82548>,\n",
       "       error_score='raise-deprecating',\n",
       "       estimator=LogisticRegression(C=1.0, class_weight=None, dual=False, fit_intercept=True,\n",
       "          intercept_scaling=1, max_iter=100, multi_class='warn',\n",
       "          n_jobs=None, penalty='l2', random_state=None, solver='warn',\n",
       "          tol=0.0001, verbose=0, warm_start=False),\n",
       "       fit_params=None, iid='warn', n_jobs=-1,\n",
       "       param_grid={'C': [1.0, 2.7825594, 7.74263683, 21.5443469, 59.948425, 166.810054, 464.158883, 1291.54967, 3593.81366, 10000.0], 'penalty': ['l1', 'l2']},\n",
       "       pre_dispatch='2*n_jobs', refit='avr', return_train_score='warn',\n",
       "       scoring={'avr': make_scorer(recall_score), 'll': make_scorer(log_loss, greater_is_better=False, needs_proba=True)},\n",
       "       verbose=2)"
      ]
     },
     "execution_count": 95,
     "metadata": {},
     "output_type": "execute_result"
    }
   ],
   "source": [
    "# X2s df df\n",
    "lr_grid2s.fit(X2sTrainBal, y2sTrainBal)"
   ]
  },
  {
   "cell_type": "code",
   "execution_count": null,
   "metadata": {},
   "outputs": [],
   "source": []
  },
  {
   "cell_type": "code",
   "execution_count": null,
   "metadata": {},
   "outputs": [],
   "source": []
  },
  {
   "cell_type": "markdown",
   "metadata": {},
   "source": [
    "**Evaluate Predictions**"
   ]
  },
  {
   "cell_type": "code",
   "execution_count": 60,
   "metadata": {},
   "outputs": [
    {
     "data": {
      "text/plain": [
       "<AxesSubplot:>"
      ]
     },
     "execution_count": 60,
     "metadata": {},
     "output_type": "execute_result"
    },
    {
     "data": {
      "image/png": "[encoded data removed]",
      "text/plain": [
       "<Figure size 432x288 with 2 Axes>"
      ]
     },
     "metadata": {
      "needs_background": "light"
     },
     "output_type": "display_data"
    }
   ],
   "source": [
    "# predictions df1\n",
    "y1Pred = lr_grid.predict(X1Test)\n",
    "\n",
    "lrCR = classification_report(y1Test, y1Pred, output_dict=True, target_names= ['No Default', 'Default'])\n",
    "\n",
    "# Create a dataframe from the dictionary and plot a heatmap of it.\n",
    "# .iloc[:-1, :] to exclude support\n",
    "sns.heatmap(pd.DataFrame(lrCR).iloc[:-1, :].T, annot=True, cmap=\"Blues\")"
   ]
  },
  {
   "cell_type": "code",
   "execution_count": 61,
   "metadata": {},
   "outputs": [
    {
     "data": {
      "text/plain": [
       "{'No Default': {'precision': 0.7765,\n",
       "  'recall': 1.0,\n",
       "  'f1-score': 0.8741908246552209,\n",
       "  'support': 4659},\n",
       " 'Default': {'precision': 0.0,\n",
       "  'recall': 0.0,\n",
       "  'f1-score': 0.0,\n",
       "  'support': 1341},\n",
       " 'micro avg': {'precision': 0.7765,\n",
       "  'recall': 0.7765,\n",
       "  'f1-score': 0.7765,\n",
       "  'support': 6000},\n",
       " 'macro avg': {'precision': 0.38825,\n",
       "  'recall': 0.5,\n",
       "  'f1-score': 0.43709541232761046,\n",
       "  'support': 6000},\n",
       " 'weighted avg': {'precision': 0.60295225,\n",
       "  'recall': 0.7765,\n",
       "  'f1-score': 0.678809175344779,\n",
       "  'support': 6000}}"
      ]
     },
     "execution_count": 61,
     "metadata": {},
     "output_type": "execute_result"
    }
   ],
   "source": [
    "lrCR"
   ]
  },
  {
   "cell_type": "code",
   "execution_count": 73,
   "metadata": {},
   "outputs": [
    {
     "data": {
      "text/plain": [
       "<AxesSubplot:>"
      ]
     },
     "execution_count": 73,
     "metadata": {},
     "output_type": "execute_result"
    },
    {
     "data": {
      "image/png": "[encoded data removed]",
      "text/plain": [
       "<Figure size 432x288 with 2 Axes>"
      ]
     },
     "metadata": {
      "needs_background": "light"
     },
     "output_type": "display_data"
    }
   ],
   "source": [
    "# predictions df2\n",
    "y2Pred = lr_grid2.predict(X2Test)\n",
    "\n",
    "lrCR2 = classification_report(y2Test, y2Pred, output_dict=True, target_names= ['No Default', 'Default'])\n",
    "\n",
    "# Create a dataframe from the dictionary and plot a heatmap of it.\n",
    "# .iloc[:-1, :] to exclude support\n",
    "sns.heatmap(pd.DataFrame(lrCR2).iloc[:-1, :].T, annot=True, cmap=\"Blues\")"
   ]
  },
  {
   "cell_type": "code",
   "execution_count": 74,
   "metadata": {},
   "outputs": [
    {
     "data": {
      "text/plain": [
       "{'No Default': {'precision': 0.0,\n",
       "  'recall': 0.0,\n",
       "  'f1-score': 0.0,\n",
       "  'support': 4580},\n",
       " 'Default': {'precision': 0.2138688637143838,\n",
       "  'recall': 1.0,\n",
       "  'f1-score': 0.35237556561085975,\n",
       "  'support': 1246},\n",
       " 'micro avg': {'precision': 0.2138688637143838,\n",
       "  'recall': 0.2138688637143838,\n",
       "  'f1-score': 0.2138688637143838,\n",
       "  'support': 5826},\n",
       " 'macro avg': {'precision': 0.1069344318571919,\n",
       "  'recall': 0.5,\n",
       "  'f1-score': 0.17618778280542988,\n",
       "  'support': 5826},\n",
       " 'weighted avg': {'precision': 0.04573989086648166,\n",
       "  'recall': 0.2138688637143838,\n",
       "  'f1-score': 0.07536216181790788,\n",
       "  'support': 5826}}"
      ]
     },
     "execution_count": 74,
     "metadata": {},
     "output_type": "execute_result"
    }
   ],
   "source": [
    "lrCR2"
   ]
  },
  {
   "cell_type": "code",
   "execution_count": 109,
   "metadata": {},
   "outputs": [
    {
     "data": {
      "text/plain": [
       "<AxesSubplot:>"
      ]
     },
     "execution_count": 109,
     "metadata": {},
     "output_type": "execute_result"
    },
    {
     "data": {
      "image/png": "[encoded data removed]",
      "text/plain": [
       "<Figure size 432x288 with 2 Axes>"
      ]
     },
     "metadata": {
      "needs_background": "light"
     },
     "output_type": "display_data"
    }
   ],
   "source": [
    "# predictions df1 subset \n",
    "y1sPred = lr_grid1s.predict(X1sTest)\n",
    "\n",
    "lrCR1s = classification_report(y1sTest, y1sPred, output_dict=True, target_names= ['No Default', 'Default'])\n",
    "\n",
    "# Create a dataframe from the dictionary and plot a heatmap of it.\n",
    "# .iloc[:-1, :] to exclude support\n",
    "sns.heatmap(pd.DataFrame(lrCR1s).iloc[:-1, :].T, annot=True, cmap=\"Blues\")"
   ]
  },
  {
   "cell_type": "code",
   "execution_count": 110,
   "metadata": {},
   "outputs": [
    {
     "data": {
      "text/plain": [
       "{'No Default': {'precision': 0.8870354111793971,\n",
       "  'recall': 0.6505687915861773,\n",
       "  'f1-score': 0.7506191183754334,\n",
       "  'support': 4659},\n",
       " 'Default': {'precision': 0.3697251258226868,\n",
       "  'recall': 0.7121551081282624,\n",
       "  'f1-score': 0.4867482161060143,\n",
       "  'support': 1341},\n",
       " 'micro avg': {'precision': 0.6643333333333333,\n",
       "  'recall': 0.6643333333333333,\n",
       "  'f1-score': 0.6643333333333333,\n",
       "  'support': 6000},\n",
       " 'macro avg': {'precision': 0.628380268501042,\n",
       "  'recall': 0.6813619498572199,\n",
       "  'f1-score': 0.6186836672407239,\n",
       "  'support': 6000},\n",
       " 'weighted avg': {'precision': 0.7714165624021724,\n",
       "  'recall': 0.6643333333333333,\n",
       "  'f1-score': 0.6916439717182182,\n",
       "  'support': 6000}}"
      ]
     },
     "execution_count": 110,
     "metadata": {},
     "output_type": "execute_result"
    }
   ],
   "source": [
    "lrCR1s"
   ]
  },
  {
   "cell_type": "code",
   "execution_count": 97,
   "metadata": {},
   "outputs": [
    {
     "data": {
      "text/plain": [
       "<AxesSubplot:>"
      ]
     },
     "execution_count": 97,
     "metadata": {},
     "output_type": "execute_result"
    },
    {
     "data": {
      "image/png": "[encoded data removed]",
      "text/plain": [
       "<Figure size 432x288 with 2 Axes>"
      ]
     },
     "metadata": {
      "needs_background": "light"
     },
     "output_type": "display_data"
    }
   ],
   "source": [
    "# predictions\n",
    "y2sPred = lr_grid2s.predict(X2sTest)\n",
    "\n",
    "lrCR2s = classification_report(y2sTest, y2sPred, output_dict=True, target_names= ['No Default', 'Default'])\n",
    "\n",
    "# Create a dataframe from the dictionary and plot a heatmap of it.\n",
    "# .iloc[:-1, :] to exclude support\n",
    "sns.heatmap(pd.DataFrame(lrCR2s).iloc[:-1, :].T, annot=True, cmap=\"Blues\")"
   ]
  },
  {
   "cell_type": "code",
   "execution_count": 98,
   "metadata": {},
   "outputs": [
    {
     "data": {
      "text/plain": [
       "{'No Default': {'precision': 0.8880901030433741,\n",
       "  'recall': 0.8091703056768559,\n",
       "  'f1-score': 0.8467953844396205,\n",
       "  'support': 4580},\n",
       " 'Default': {'precision': 0.47126436781609193,\n",
       "  'recall': 0.6252006420545746,\n",
       "  'f1-score': 0.5374266988616764,\n",
       "  'support': 1246},\n",
       " 'micro avg': {'precision': 0.7698249227600412,\n",
       "  'recall': 0.7698249227600412,\n",
       "  'f1-score': 0.7698249227600412,\n",
       "  'support': 5826},\n",
       " 'macro avg': {'precision': 0.679677235429733,\n",
       "  'recall': 0.7171854738657153,\n",
       "  'f1-score': 0.6921110416506484,\n",
       "  'support': 5826},\n",
       " 'weighted avg': {'precision': 0.7989440566834027,\n",
       "  'recall': 0.7698249227600412,\n",
       "  'f1-score': 0.7806310551862531,\n",
       "  'support': 5826}}"
      ]
     },
     "execution_count": 98,
     "metadata": {},
     "output_type": "execute_result"
    }
   ],
   "source": [
    "lrCR2s"
   ]
  },
  {
   "cell_type": "code",
   "execution_count": null,
   "metadata": {},
   "outputs": [],
   "source": []
  }
 ],
 "metadata": {
  "kernelspec": {
   "display_name": "Python 3",
   "language": "python",
   "name": "python3"
  },
  "language_info": {
   "codemirror_mode": {
    "name": "ipython",
    "version": 3
   },
   "file_extension": ".py",
   "mimetype": "text/x-python",
   "name": "python",
   "nbconvert_exporter": "python",
   "pygments_lexer": "ipython3",
   "version": "3.7.6"
  }
 },
 "nbformat": 4,
 "nbformat_minor": 4
}
