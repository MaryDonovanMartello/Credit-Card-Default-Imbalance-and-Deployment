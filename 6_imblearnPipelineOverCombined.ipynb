{
 "cells": [
  {
   "cell_type": "markdown",
   "metadata": {},
   "source": [
    "# Phase 2: Classification Prediction with Imbalanced Target"
   ]
  },
  {
   "cell_type": "markdown",
   "metadata": {},
   "source": [
    "# Mary Donovan Martello"
   ]
  },
  {
   "cell_type": "markdown",
   "metadata": {},
   "source": [
    "**Phase 1 of the credit card default project involved testing five binary classification models for predicting credit card defaults.  Phase 1 can be found:** [here](https://github.com/MaryDonovanMartello/Credit-Card-Default-Prediction)\n",
    "\n",
    "**Phase 2 of the credit card default project includes (1) employing methodologies other than Principal Component Analysis to address multicollinearity and feature selection in an effort to be able to analyze individual factors that are significant for defaults, (2) testing multiple approaches to addressing an imbalanced target variable in a binary classification model, and (3) implementing deployment models to make actual predictions and convert the logistic regression coefficients to a risk score that can be used in making lending decisions.**"
   ]
  },
  {
   "cell_type": "code",
   "execution_count": null,
   "metadata": {},
   "outputs": [],
   "source": []
  },
  {
   "cell_type": "markdown",
   "metadata": {},
   "source": [
    "## Part 6:  Approach to Imbalanced Target:  Oversample Training Data in imblearn Pipeline"
   ]
  },
  {
   "cell_type": "markdown",
   "metadata": {},
   "source": [
    "**This Part 6 tests four different oversampling functions in a Pipeline.**"
   ]
  },
  {
   "cell_type": "code",
   "execution_count": null,
   "metadata": {},
   "outputs": [],
   "source": []
  },
  {
   "cell_type": "code",
   "execution_count": 5,
   "metadata": {},
   "outputs": [],
   "source": [
    "# import libraries\n",
    "\n",
    "import pandas as pd\n",
    "from pandas import read_csv\n",
    "import numpy as np\n",
    "from numpy import mean\n",
    "from numpy import std\n",
    "from numpy import argmax\n",
    "from numpy import where\n",
    "\n",
    "import seaborn as sns\n",
    "import matplotlib.pyplot as plt\n",
    "\n",
    "from sklearn.preprocessing import LabelEncoder\n",
    "from sklearn.preprocessing import OneHotEncoder\n",
    "from sklearn.compose import ColumnTransformer\n",
    "from sklearn.preprocessing import RobustScaler\n",
    "from sklearn.preprocessing import StandardScaler\n",
    "\n",
    "from sklearn.feature_selection import SelectKBest\n",
    "\n",
    "from sklearn.model_selection import StratifiedKFold\n",
    "from sklearn.model_selection import RepeatedStratifiedKFold\n",
    "from sklearn.model_selection import train_test_split\n",
    "from sklearn.model_selection import GridSearchCV\n",
    "from sklearn.model_selection import cross_validate\n",
    "from sklearn.model_selection import cross_val_score\n",
    "from sklearn import model_selection, metrics\n",
    "from sklearn.metrics import accuracy_score\n",
    "from sklearn.metrics import recall_score\n",
    "from sklearn.metrics import classification_report\n",
    "from sklearn.metrics import log_loss\n",
    "from sklearn.metrics import brier_score_loss\n",
    "from sklearn.metrics import roc_auc_score\n",
    "from sklearn.metrics import confusion_matrix\n",
    "from sklearn.metrics import make_scorer, f1_score, recall_score, average_precision_score, auc, precision_recall_curve, log_loss\n",
    "\n",
    "from sklearn.ensemble import GradientBoostingClassifier\n",
    "from sklearn.linear_model import LogisticRegression\n",
    "from sklearn.ensemble import RandomForestClassifier\n",
    "\n",
    "from imblearn.over_sampling import SMOTE\n",
    "from imblearn.under_sampling import RandomUnderSampler\n",
    "from imblearn.over_sampling import BorderlineSMOTE\n",
    "from imblearn.over_sampling import SVMSMOTE\n",
    "from imblearn.over_sampling import ADASYN\n",
    "from imblearn.pipeline import Pipeline\n",
    "\n",
    "\n",
    "#stop unnecessary warnings from printing to the screen\n",
    "import warnings\n",
    "warnings.simplefilter('ignore')\n",
    "\n",
    "\n"
   ]
  },
  {
   "cell_type": "code",
   "execution_count": null,
   "metadata": {},
   "outputs": [],
   "source": []
  },
  {
   "cell_type": "markdown",
   "metadata": {},
   "source": [
    "### This notebook uses two datasets that were cleaned and prepared in the 1_EDA_Prep notebook.  One of the datasets replaces some of the original variables with the Months_Late engineered features and the second dataset replaces some of the original variables with both the Months_Late and Payment_Ratio engineered features."
   ]
  },
  {
   "cell_type": "code",
   "execution_count": 2,
   "metadata": {},
   "outputs": [],
   "source": [
    "# Load data into a dataframe\n",
    "\n",
    "df1 = pd.read_csv('logDefaultRev1.csv')\n",
    "df2 = pd.read_csv('logDefaultRev2.csv')"
   ]
  },
  {
   "cell_type": "code",
   "execution_count": 3,
   "metadata": {},
   "outputs": [
    {
     "data": {
      "text/html": [
       "<div>\n",
       "<style scoped>\n",
       "    .dataframe tbody tr th:only-of-type {\n",
       "        vertical-align: middle;\n",
       "    }\n",
       "\n",
       "    .dataframe tbody tr th {\n",
       "        vertical-align: top;\n",
       "    }\n",
       "\n",
       "    .dataframe thead th {\n",
       "        text-align: right;\n",
       "    }\n",
       "</style>\n",
       "<table border=\"1\" class=\"dataframe\">\n",
       "  <thead>\n",
       "    <tr style=\"text-align: right;\">\n",
       "      <th></th>\n",
       "      <th>default</th>\n",
       "      <th>SEX</th>\n",
       "      <th>EDUCATION</th>\n",
       "      <th>MARRIAGE</th>\n",
       "      <th>AGE</th>\n",
       "      <th>LIMIT_BAL</th>\n",
       "      <th>BILL_AMT1</th>\n",
       "      <th>BILL_AMT2</th>\n",
       "      <th>BILL_AMT3</th>\n",
       "      <th>BILL_AMT4</th>\n",
       "      <th>BILL_AMT5</th>\n",
       "      <th>BILL_AMT6</th>\n",
       "      <th>PAY_AMT1</th>\n",
       "      <th>PAY_AMT2</th>\n",
       "      <th>PAY_AMT3</th>\n",
       "      <th>PAY_AMT4</th>\n",
       "      <th>PAY_AMT5</th>\n",
       "      <th>PAY_AMT6</th>\n",
       "      <th>MONTHS_LATE</th>\n",
       "    </tr>\n",
       "  </thead>\n",
       "  <tbody>\n",
       "    <tr>\n",
       "      <th>0</th>\n",
       "      <td>1</td>\n",
       "      <td>1</td>\n",
       "      <td>1</td>\n",
       "      <td>2</td>\n",
       "      <td>3.401197</td>\n",
       "      <td>10.819798</td>\n",
       "      <td>12.157764</td>\n",
       "      <td>11.451880</td>\n",
       "      <td>12.121908</td>\n",
       "      <td>12.185186</td>\n",
       "      <td>11.599122</td>\n",
       "      <td>12.815479</td>\n",
       "      <td>0.000000</td>\n",
       "      <td>7.901377</td>\n",
       "      <td>0.000000</td>\n",
       "      <td>7.707962</td>\n",
       "      <td>7.090910</td>\n",
       "      <td>0.000000</td>\n",
       "      <td>1.94591</td>\n",
       "    </tr>\n",
       "    <tr>\n",
       "      <th>1</th>\n",
       "      <td>1</td>\n",
       "      <td>1</td>\n",
       "      <td>2</td>\n",
       "      <td>2</td>\n",
       "      <td>3.401197</td>\n",
       "      <td>12.676079</td>\n",
       "      <td>12.318723</td>\n",
       "      <td>11.767754</td>\n",
       "      <td>12.289720</td>\n",
       "      <td>12.339830</td>\n",
       "      <td>11.875079</td>\n",
       "      <td>12.907014</td>\n",
       "      <td>7.824446</td>\n",
       "      <td>7.824446</td>\n",
       "      <td>0.000000</td>\n",
       "      <td>8.476580</td>\n",
       "      <td>7.783641</td>\n",
       "      <td>7.378384</td>\n",
       "      <td>1.94591</td>\n",
       "    </tr>\n",
       "    <tr>\n",
       "      <th>2</th>\n",
       "      <td>1</td>\n",
       "      <td>1</td>\n",
       "      <td>1</td>\n",
       "      <td>1</td>\n",
       "      <td>3.988984</td>\n",
       "      <td>12.206078</td>\n",
       "      <td>12.623996</td>\n",
       "      <td>12.257488</td>\n",
       "      <td>12.610621</td>\n",
       "      <td>12.657464</td>\n",
       "      <td>12.339112</td>\n",
       "      <td>13.100394</td>\n",
       "      <td>8.748464</td>\n",
       "      <td>8.612685</td>\n",
       "      <td>8.612685</td>\n",
       "      <td>8.612685</td>\n",
       "      <td>8.517393</td>\n",
       "      <td>8.517393</td>\n",
       "      <td>1.94591</td>\n",
       "    </tr>\n",
       "    <tr>\n",
       "      <th>3</th>\n",
       "      <td>0</td>\n",
       "      <td>2</td>\n",
       "      <td>2</td>\n",
       "      <td>2</td>\n",
       "      <td>3.295837</td>\n",
       "      <td>11.002117</td>\n",
       "      <td>12.311630</td>\n",
       "      <td>11.735957</td>\n",
       "      <td>12.285069</td>\n",
       "      <td>12.346786</td>\n",
       "      <td>11.826144</td>\n",
       "      <td>12.886411</td>\n",
       "      <td>0.000000</td>\n",
       "      <td>8.517393</td>\n",
       "      <td>7.828835</td>\n",
       "      <td>1.945910</td>\n",
       "      <td>8.006701</td>\n",
       "      <td>8.006701</td>\n",
       "      <td>1.94591</td>\n",
       "    </tr>\n",
       "    <tr>\n",
       "      <th>4</th>\n",
       "      <td>0</td>\n",
       "      <td>1</td>\n",
       "      <td>2</td>\n",
       "      <td>1</td>\n",
       "      <td>3.737670</td>\n",
       "      <td>12.542548</td>\n",
       "      <td>12.615709</td>\n",
       "      <td>12.246783</td>\n",
       "      <td>12.584776</td>\n",
       "      <td>12.658428</td>\n",
       "      <td>12.360976</td>\n",
       "      <td>13.100157</td>\n",
       "      <td>8.779711</td>\n",
       "      <td>0.000000</td>\n",
       "      <td>9.564863</td>\n",
       "      <td>9.605822</td>\n",
       "      <td>0.000000</td>\n",
       "      <td>8.517393</td>\n",
       "      <td>1.94591</td>\n",
       "    </tr>\n",
       "  </tbody>\n",
       "</table>\n",
       "</div>"
      ],
      "text/plain": [
       "   default  SEX  EDUCATION  MARRIAGE       AGE  LIMIT_BAL  BILL_AMT1  \\\n",
       "0        1    1          1         2  3.401197  10.819798  12.157764   \n",
       "1        1    1          2         2  3.401197  12.676079  12.318723   \n",
       "2        1    1          1         1  3.988984  12.206078  12.623996   \n",
       "3        0    2          2         2  3.295837  11.002117  12.311630   \n",
       "4        0    1          2         1  3.737670  12.542548  12.615709   \n",
       "\n",
       "   BILL_AMT2  BILL_AMT3  BILL_AMT4  BILL_AMT5  BILL_AMT6  PAY_AMT1  PAY_AMT2  \\\n",
       "0  11.451880  12.121908  12.185186  11.599122  12.815479  0.000000  7.901377   \n",
       "1  11.767754  12.289720  12.339830  11.875079  12.907014  7.824446  7.824446   \n",
       "2  12.257488  12.610621  12.657464  12.339112  13.100394  8.748464  8.612685   \n",
       "3  11.735957  12.285069  12.346786  11.826144  12.886411  0.000000  8.517393   \n",
       "4  12.246783  12.584776  12.658428  12.360976  13.100157  8.779711  0.000000   \n",
       "\n",
       "   PAY_AMT3  PAY_AMT4  PAY_AMT5  PAY_AMT6  MONTHS_LATE  \n",
       "0  0.000000  7.707962  7.090910  0.000000      1.94591  \n",
       "1  0.000000  8.476580  7.783641  7.378384      1.94591  \n",
       "2  8.612685  8.612685  8.517393  8.517393      1.94591  \n",
       "3  7.828835  1.945910  8.006701  8.006701      1.94591  \n",
       "4  9.564863  9.605822  0.000000  8.517393      1.94591  "
      ]
     },
     "execution_count": 3,
     "metadata": {},
     "output_type": "execute_result"
    }
   ],
   "source": [
    "df1.head()"
   ]
  },
  {
   "cell_type": "code",
   "execution_count": 4,
   "metadata": {},
   "outputs": [
    {
     "data": {
      "text/plain": [
       "(30000, 19)"
      ]
     },
     "execution_count": 4,
     "metadata": {},
     "output_type": "execute_result"
    }
   ],
   "source": [
    "df1.shape"
   ]
  },
  {
   "cell_type": "code",
   "execution_count": 6,
   "metadata": {},
   "outputs": [
    {
     "data": {
      "text/html": [
       "<div>\n",
       "<style scoped>\n",
       "    .dataframe tbody tr th:only-of-type {\n",
       "        vertical-align: middle;\n",
       "    }\n",
       "\n",
       "    .dataframe tbody tr th {\n",
       "        vertical-align: top;\n",
       "    }\n",
       "\n",
       "    .dataframe thead th {\n",
       "        text-align: right;\n",
       "    }\n",
       "</style>\n",
       "<table border=\"1\" class=\"dataframe\">\n",
       "  <thead>\n",
       "    <tr style=\"text-align: right;\">\n",
       "      <th></th>\n",
       "      <th>default</th>\n",
       "      <th>SEX</th>\n",
       "      <th>EDUCATION</th>\n",
       "      <th>MARRIAGE</th>\n",
       "      <th>AGE</th>\n",
       "      <th>LIMIT_BAL</th>\n",
       "      <th>MONTHS_LATE</th>\n",
       "      <th>PAYMENT_RATIO</th>\n",
       "    </tr>\n",
       "  </thead>\n",
       "  <tbody>\n",
       "    <tr>\n",
       "      <th>0</th>\n",
       "      <td>1</td>\n",
       "      <td>1</td>\n",
       "      <td>1</td>\n",
       "      <td>2</td>\n",
       "      <td>3.401197</td>\n",
       "      <td>10.819798</td>\n",
       "      <td>1.94591</td>\n",
       "      <td>0.038110</td>\n",
       "    </tr>\n",
       "    <tr>\n",
       "      <th>1</th>\n",
       "      <td>1</td>\n",
       "      <td>1</td>\n",
       "      <td>2</td>\n",
       "      <td>2</td>\n",
       "      <td>3.401197</td>\n",
       "      <td>12.676079</td>\n",
       "      <td>1.94591</td>\n",
       "      <td>0.037397</td>\n",
       "    </tr>\n",
       "    <tr>\n",
       "      <th>2</th>\n",
       "      <td>1</td>\n",
       "      <td>1</td>\n",
       "      <td>1</td>\n",
       "      <td>1</td>\n",
       "      <td>3.988984</td>\n",
       "      <td>12.206078</td>\n",
       "      <td>1.94591</td>\n",
       "      <td>0.037338</td>\n",
       "    </tr>\n",
       "    <tr>\n",
       "      <th>3</th>\n",
       "      <td>0</td>\n",
       "      <td>2</td>\n",
       "      <td>2</td>\n",
       "      <td>2</td>\n",
       "      <td>3.295837</td>\n",
       "      <td>11.002117</td>\n",
       "      <td>1.94591</td>\n",
       "      <td>0.038758</td>\n",
       "    </tr>\n",
       "    <tr>\n",
       "      <th>4</th>\n",
       "      <td>0</td>\n",
       "      <td>1</td>\n",
       "      <td>2</td>\n",
       "      <td>1</td>\n",
       "      <td>3.737670</td>\n",
       "      <td>12.542548</td>\n",
       "      <td>1.94591</td>\n",
       "      <td>0.046396</td>\n",
       "    </tr>\n",
       "  </tbody>\n",
       "</table>\n",
       "</div>"
      ],
      "text/plain": [
       "   default  SEX  EDUCATION  MARRIAGE       AGE  LIMIT_BAL  MONTHS_LATE  \\\n",
       "0        1    1          1         2  3.401197  10.819798      1.94591   \n",
       "1        1    1          2         2  3.401197  12.676079      1.94591   \n",
       "2        1    1          1         1  3.988984  12.206078      1.94591   \n",
       "3        0    2          2         2  3.295837  11.002117      1.94591   \n",
       "4        0    1          2         1  3.737670  12.542548      1.94591   \n",
       "\n",
       "   PAYMENT_RATIO  \n",
       "0       0.038110  \n",
       "1       0.037397  \n",
       "2       0.037338  \n",
       "3       0.038758  \n",
       "4       0.046396  "
      ]
     },
     "execution_count": 6,
     "metadata": {},
     "output_type": "execute_result"
    }
   ],
   "source": [
    "df2.head()"
   ]
  },
  {
   "cell_type": "code",
   "execution_count": 7,
   "metadata": {},
   "outputs": [
    {
     "data": {
      "text/plain": [
       "(29130, 8)"
      ]
     },
     "execution_count": 7,
     "metadata": {},
     "output_type": "execute_result"
    }
   ],
   "source": [
    "df2.shape"
   ]
  },
  {
   "cell_type": "code",
   "execution_count": null,
   "metadata": {},
   "outputs": [],
   "source": []
  },
  {
   "cell_type": "markdown",
   "metadata": {},
   "source": [
    "**Create feature dataframes for modeling.**"
   ]
  },
  {
   "cell_type": "code",
   "execution_count": 8,
   "metadata": {},
   "outputs": [],
   "source": [
    "#df1\n",
    "\n",
    "# separate into input and output columns (X variable for features and y for target variables)\n",
    "\n",
    "X1 = df1.drop('default', axis = 1)\n",
    "y1 = df1['default']"
   ]
  },
  {
   "cell_type": "code",
   "execution_count": 9,
   "metadata": {},
   "outputs": [
    {
     "data": {
      "text/plain": [
       "0    23364\n",
       "1     6636\n",
       "Name: default, dtype: int64"
      ]
     },
     "execution_count": 9,
     "metadata": {},
     "output_type": "execute_result"
    }
   ],
   "source": [
    "y1.value_counts()"
   ]
  },
  {
   "cell_type": "code",
   "execution_count": 40,
   "metadata": {},
   "outputs": [],
   "source": [
    "#df1 subset\n",
    "\n",
    "# separate into input and output columns (X variable for features and y for target variables)\n",
    "\n",
    "X1s = df1.loc[:, ['MONTHS_LATE', 'LIMIT_BAL', 'AGE']] \n",
    "y1s = df1['default']"
   ]
  },
  {
   "cell_type": "code",
   "execution_count": 10,
   "metadata": {},
   "outputs": [],
   "source": [
    "#df1\n",
    "\n",
    "# one-hot encode input categorical variables\n",
    "transformer = ColumnTransformer(transformers=[('cat', OneHotEncoder(), [0, 1, 2])], remainder='passthrough')\n",
    "X1 = transformer.fit_transform(X1)\n"
   ]
  },
  {
   "cell_type": "code",
   "execution_count": 11,
   "metadata": {},
   "outputs": [],
   "source": [
    "#df2\n",
    "\n",
    "# separate into input and output columns (X variable for features and y for target variables)\n",
    "\n",
    "X2 = df2.drop('default', axis = 1) \n",
    "y2 = df2['default']"
   ]
  },
  {
   "cell_type": "code",
   "execution_count": 12,
   "metadata": {},
   "outputs": [
    {
     "data": {
      "text/plain": [
       "0    22811\n",
       "1     6319\n",
       "Name: default, dtype: int64"
      ]
     },
     "execution_count": 12,
     "metadata": {},
     "output_type": "execute_result"
    }
   ],
   "source": [
    "y2.value_counts()"
   ]
  },
  {
   "cell_type": "code",
   "execution_count": 13,
   "metadata": {},
   "outputs": [],
   "source": [
    "#df2\n",
    "\n",
    "# one-hot encode input categorical variables\n",
    "transformer = ColumnTransformer(transformers=[('cat', OneHotEncoder(), [0, 1, 2])], remainder='passthrough')\n",
    "X2 = transformer.fit_transform(X2)\n"
   ]
  },
  {
   "cell_type": "code",
   "execution_count": 41,
   "metadata": {},
   "outputs": [],
   "source": [
    "#df2 subset\n",
    "\n",
    "# separate into input and output columns (X variable for features and y for target variables)\n",
    "\n",
    "X2s = df2.loc[:, ['MONTHS_LATE', 'PAYMENT_RATIO',]] \n",
    "y2s = df2['default']"
   ]
  },
  {
   "cell_type": "code",
   "execution_count": null,
   "metadata": {},
   "outputs": [],
   "source": []
  },
  {
   "cell_type": "markdown",
   "metadata": {},
   "source": [
    "**Split data.**"
   ]
  },
  {
   "cell_type": "code",
   "execution_count": 14,
   "metadata": {},
   "outputs": [],
   "source": [
    "# separate data into training and test data\n",
    "X1Train, X1Test, y1Train, y1Test = train_test_split(X1, y1, test_size =0.2, random_state=1)\n"
   ]
  },
  {
   "cell_type": "code",
   "execution_count": 42,
   "metadata": {},
   "outputs": [],
   "source": [
    "# separate data into training and test data\n",
    "X2Train, X2Test, y2Train, y2Test = train_test_split(X2, y2, test_size =0.2, random_state=1)"
   ]
  },
  {
   "cell_type": "code",
   "execution_count": 43,
   "metadata": {},
   "outputs": [],
   "source": [
    "# separate data into training and test data\n",
    "X1sTrain, X1sTest, y1sTrain, y1sTest = train_test_split(X1s, y1s, test_size =0.2, random_state=1)\n"
   ]
  },
  {
   "cell_type": "code",
   "execution_count": 44,
   "metadata": {},
   "outputs": [],
   "source": [
    "# separate data into training and test data\n",
    "X2sTrain, X2sTest, y2sTrain, y2sTest = train_test_split(X2s, y2s, test_size =0.2, random_state=1)"
   ]
  },
  {
   "cell_type": "code",
   "execution_count": null,
   "metadata": {},
   "outputs": [],
   "source": []
  },
  {
   "cell_type": "markdown",
   "metadata": {},
   "source": [
    "**Look at target imbalance**"
   ]
  },
  {
   "cell_type": "code",
   "execution_count": 15,
   "metadata": {},
   "outputs": [
    {
     "data": {
      "text/plain": [
       "0    18705\n",
       "1     5295\n",
       "Name: default, dtype: int64"
      ]
     },
     "execution_count": 15,
     "metadata": {},
     "output_type": "execute_result"
    }
   ],
   "source": [
    "y1Train.value_counts()"
   ]
  },
  {
   "cell_type": "code",
   "execution_count": null,
   "metadata": {},
   "outputs": [],
   "source": []
  },
  {
   "cell_type": "markdown",
   "metadata": {},
   "source": [
    "**Modeling/Oversample Training**"
   ]
  },
  {
   "cell_type": "markdown",
   "metadata": {},
   "source": [
    "**1. SMOTE**"
   ]
  },
  {
   "cell_type": "markdown",
   "metadata": {},
   "source": [
    "**Pipeline to scale and oversample data and tune a Logistic Regression model.**"
   ]
  },
  {
   "cell_type": "code",
   "execution_count": 17,
   "metadata": {},
   "outputs": [],
   "source": [
    "# define pipeline\n",
    "trans = StandardScaler()\n",
    "#over = SMOTE()\n",
    "model = LogisticRegression()\n",
    "pipeline = Pipeline(steps=[('t', trans), ('over', SMOTE()), ('m', model)])\n",
    "\n",
    "params = {'m__C': [1.00000000e+00, 2.78255940e+00, 7.74263683e+00, 2.15443469e+01,\n",
    "       5.99484250e+01, 1.66810054e+02, 4.64158883e+02, 1.29154967e+03,\n",
    "       3.59381366e+03, 1.00000000e+04],\n",
    "            'm__penalty': ['l1', 'l2']}\n",
    "\n",
    "skf = StratifiedKFold(n_splits=5, shuffle=True, random_state=1)\n",
    "\n",
    "lr_gridSMOTE=GridSearchCV(pipeline, params, verbose=2,\n",
    "          cv=skf, scoring={'avr': make_scorer(recall_score, needs_proba=False),\n",
    "                                'll': make_scorer(log_loss, greater_is_better=False, needs_proba=True)}, \n",
    "                    refit='avr',  n_jobs=-1)"
   ]
  },
  {
   "cell_type": "code",
   "execution_count": null,
   "metadata": {},
   "outputs": [],
   "source": []
  },
  {
   "cell_type": "markdown",
   "metadata": {},
   "source": [
    "**Fit model for 4 different subsets of data**"
   ]
  },
  {
   "cell_type": "code",
   "execution_count": 18,
   "metadata": {},
   "outputs": [
    {
     "name": "stdout",
     "output_type": "stream",
     "text": [
      "Fitting 5 folds for each of 20 candidates, totalling 100 fits\n"
     ]
    },
    {
     "name": "stderr",
     "output_type": "stream",
     "text": [
      "[Parallel(n_jobs=-1)]: Using backend LokyBackend with 4 concurrent workers.\n",
      "[Parallel(n_jobs=-1)]: Done  33 tasks      | elapsed:   26.1s\n",
      "[Parallel(n_jobs=-1)]: Done 100 out of 100 | elapsed:  1.1min finished\n"
     ]
    },
    {
     "data": {
      "text/plain": [
       "GridSearchCV(cv=StratifiedKFold(n_splits=5, random_state=1, shuffle=True),\n",
       "       error_score='raise-deprecating',\n",
       "       estimator=Pipeline(memory=None,\n",
       "     steps=[('t', StandardScaler(copy=True, with_mean=True, with_std=True)), ('over', SMOTE(k_neighbors=5, kind='deprecated', m_neighbors='deprecated', n_jobs=1,\n",
       "   out_step='deprecated', random_state=None, ratio=None,\n",
       "   sampling_strategy='auto', svm_estimator='deprecated')), ('m', LogisticRegression(C=...penalty='l2', random_state=None, solver='warn',\n",
       "          tol=0.0001, verbose=0, warm_start=False))]),\n",
       "       fit_params=None, iid='warn', n_jobs=-1,\n",
       "       param_grid={'m__C': [1.0, 2.7825594, 7.74263683, 21.5443469, 59.948425, 166.810054, 464.158883, 1291.54967, 3593.81366, 10000.0], 'm__penalty': ['l1', 'l2']},\n",
       "       pre_dispatch='2*n_jobs', refit='avr', return_train_score='warn',\n",
       "       scoring={'avr': make_scorer(recall_score), 'll': make_scorer(log_loss, greater_is_better=False, needs_proba=True)},\n",
       "       verbose=2)"
      ]
     },
     "execution_count": 18,
     "metadata": {},
     "output_type": "execute_result"
    }
   ],
   "source": [
    "#X1 df\n",
    "lr_gridSMOTE.fit(X1Train, y1Train)"
   ]
  },
  {
   "cell_type": "code",
   "execution_count": 45,
   "metadata": {},
   "outputs": [
    {
     "name": "stdout",
     "output_type": "stream",
     "text": [
      "Fitting 5 folds for each of 20 candidates, totalling 100 fits\n"
     ]
    },
    {
     "name": "stderr",
     "output_type": "stream",
     "text": [
      "[Parallel(n_jobs=-1)]: Using backend LokyBackend with 4 concurrent workers.\n",
      "[Parallel(n_jobs=-1)]: Done  33 tasks      | elapsed:   16.6s\n",
      "[Parallel(n_jobs=-1)]: Done 100 out of 100 | elapsed:   38.0s finished\n"
     ]
    },
    {
     "data": {
      "text/plain": [
       "GridSearchCV(cv=StratifiedKFold(n_splits=5, random_state=1, shuffle=True),\n",
       "       error_score='raise-deprecating',\n",
       "       estimator=Pipeline(memory=None,\n",
       "     steps=[('t', StandardScaler(copy=True, with_mean=True, with_std=True)), ('over', SMOTE(k_neighbors=5, kind='deprecated', m_neighbors='deprecated', n_jobs=1,\n",
       "   out_step='deprecated', random_state=None, ratio=None,\n",
       "   sampling_strategy='auto', svm_estimator='deprecated')), ('m', LogisticRegression(C=...penalty='l2', random_state=None, solver='warn',\n",
       "          tol=0.0001, verbose=0, warm_start=False))]),\n",
       "       fit_params=None, iid='warn', n_jobs=-1,\n",
       "       param_grid={'m__C': [1.0, 2.7825594, 7.74263683, 21.5443469, 59.948425, 166.810054, 464.158883, 1291.54967, 3593.81366, 10000.0], 'm__penalty': ['l1', 'l2']},\n",
       "       pre_dispatch='2*n_jobs', refit='avr', return_train_score='warn',\n",
       "       scoring={'avr': make_scorer(recall_score), 'll': make_scorer(log_loss, greater_is_better=False, needs_proba=True)},\n",
       "       verbose=2)"
      ]
     },
     "execution_count": 45,
     "metadata": {},
     "output_type": "execute_result"
    }
   ],
   "source": [
    "#X2 df\n",
    "lr_gridSMOTE.fit(X2Train, y2Train)"
   ]
  },
  {
   "cell_type": "code",
   "execution_count": 49,
   "metadata": {},
   "outputs": [
    {
     "name": "stdout",
     "output_type": "stream",
     "text": [
      "Fitting 5 folds for each of 20 candidates, totalling 100 fits\n"
     ]
    },
    {
     "name": "stderr",
     "output_type": "stream",
     "text": [
      "[Parallel(n_jobs=-1)]: Using backend LokyBackend with 4 concurrent workers.\n",
      "[Parallel(n_jobs=-1)]: Done  33 tasks      | elapsed:    5.2s\n",
      "[Parallel(n_jobs=-1)]: Done 100 out of 100 | elapsed:    9.3s finished\n"
     ]
    },
    {
     "data": {
      "text/plain": [
       "GridSearchCV(cv=StratifiedKFold(n_splits=5, random_state=1, shuffle=True),\n",
       "       error_score='raise-deprecating',\n",
       "       estimator=Pipeline(memory=None,\n",
       "     steps=[('t', StandardScaler(copy=True, with_mean=True, with_std=True)), ('over', SMOTE(k_neighbors=5, kind='deprecated', m_neighbors='deprecated', n_jobs=1,\n",
       "   out_step='deprecated', random_state=None, ratio=None,\n",
       "   sampling_strategy='auto', svm_estimator='deprecated')), ('m', LogisticRegression(C=...penalty='l2', random_state=None, solver='warn',\n",
       "          tol=0.0001, verbose=0, warm_start=False))]),\n",
       "       fit_params=None, iid='warn', n_jobs=-1,\n",
       "       param_grid={'m__C': [1.0, 2.7825594, 7.74263683, 21.5443469, 59.948425, 166.810054, 464.158883, 1291.54967, 3593.81366, 10000.0], 'm__penalty': ['l1', 'l2']},\n",
       "       pre_dispatch='2*n_jobs', refit='avr', return_train_score='warn',\n",
       "       scoring={'avr': make_scorer(recall_score), 'll': make_scorer(log_loss, greater_is_better=False, needs_proba=True)},\n",
       "       verbose=2)"
      ]
     },
     "execution_count": 49,
     "metadata": {},
     "output_type": "execute_result"
    }
   ],
   "source": [
    "#X1 df subset\n",
    "lr_gridSMOTE.fit(X1sTrain, y1sTrain)"
   ]
  },
  {
   "cell_type": "code",
   "execution_count": 53,
   "metadata": {},
   "outputs": [
    {
     "name": "stdout",
     "output_type": "stream",
     "text": [
      "Fitting 5 folds for each of 20 candidates, totalling 100 fits\n"
     ]
    },
    {
     "name": "stderr",
     "output_type": "stream",
     "text": [
      "[Parallel(n_jobs=-1)]: Using backend LokyBackend with 4 concurrent workers.\n",
      "[Parallel(n_jobs=-1)]: Done  33 tasks      | elapsed:    1.9s\n",
      "[Parallel(n_jobs=-1)]: Done 100 out of 100 | elapsed:    5.8s finished\n"
     ]
    },
    {
     "data": {
      "text/plain": [
       "GridSearchCV(cv=StratifiedKFold(n_splits=5, random_state=1, shuffle=True),\n",
       "       error_score='raise-deprecating',\n",
       "       estimator=Pipeline(memory=None,\n",
       "     steps=[('t', StandardScaler(copy=True, with_mean=True, with_std=True)), ('over', SMOTE(k_neighbors=5, kind='deprecated', m_neighbors='deprecated', n_jobs=1,\n",
       "   out_step='deprecated', random_state=None, ratio=None,\n",
       "   sampling_strategy='auto', svm_estimator='deprecated')), ('m', LogisticRegression(C=...penalty='l2', random_state=None, solver='warn',\n",
       "          tol=0.0001, verbose=0, warm_start=False))]),\n",
       "       fit_params=None, iid='warn', n_jobs=-1,\n",
       "       param_grid={'m__C': [1.0, 2.7825594, 7.74263683, 21.5443469, 59.948425, 166.810054, 464.158883, 1291.54967, 3593.81366, 10000.0], 'm__penalty': ['l1', 'l2']},\n",
       "       pre_dispatch='2*n_jobs', refit='avr', return_train_score='warn',\n",
       "       scoring={'avr': make_scorer(recall_score), 'll': make_scorer(log_loss, greater_is_better=False, needs_proba=True)},\n",
       "       verbose=2)"
      ]
     },
     "execution_count": 53,
     "metadata": {},
     "output_type": "execute_result"
    }
   ],
   "source": [
    "#X2 df subset\n",
    "lr_gridSMOTE.fit(X2sTrain, y2sTrain)"
   ]
  },
  {
   "cell_type": "code",
   "execution_count": null,
   "metadata": {},
   "outputs": [],
   "source": []
  },
  {
   "cell_type": "markdown",
   "metadata": {},
   "source": [
    "**Evaluate Predictions**"
   ]
  },
  {
   "cell_type": "code",
   "execution_count": 21,
   "metadata": {},
   "outputs": [
    {
     "data": {
      "text/plain": [
       "<AxesSubplot:>"
      ]
     },
     "execution_count": 21,
     "metadata": {},
     "output_type": "execute_result"
    },
    {
     "data": {
      "image/png": "[encoded data removed]",
      "text/plain": [
       "<Figure size 432x288 with 2 Axes>"
      ]
     },
     "metadata": {
      "needs_background": "light"
     },
     "output_type": "display_data"
    }
   ],
   "source": [
    "# predictions X1 df\n",
    "y1Pred = lr_gridSMOTE.predict(X1Test)\n",
    "\n",
    "SMOTE_CR = classification_report(y1Test, y1Pred, output_dict=True, target_names= ['No Default', 'Default'])\n",
    "\n",
    "# Create a dataframe from the dictionary and plot a heatmap of it.\n",
    "# .iloc[:-1, :] to exclude support\n",
    "sns.heatmap(pd.DataFrame(SMOTE_CR).iloc[:-1, :].T, annot=True, cmap=\"Blues\")"
   ]
  },
  {
   "cell_type": "code",
   "execution_count": 22,
   "metadata": {},
   "outputs": [
    {
     "name": "stdout",
     "output_type": "stream",
     "text": [
      "{'No Default': {'precision': 0.8803803803803804, 'recall': 0.755097660442155, 'f1-score': 0.8129404968226459, 'support': 4659}, 'Default': {'precision': 0.4306387225548902, 'recall': 0.6435495898583147, 'f1-score': 0.5159940209267563, 'support': 1341}, 'micro avg': {'precision': 0.7301666666666666, 'recall': 0.7301666666666666, 'f1-score': 0.7301666666666666, 'support': 6000}, 'macro avg': {'precision': 0.6555095514676352, 'recall': 0.6993236251502348, 'f1-score': 0.6644672588747011, 'support': 6000}, 'weighted avg': {'precision': 0.7798631198563833, 'recall': 0.7301666666666666, 'f1-score': 0.7465729594599145, 'support': 6000}}\n"
     ]
    }
   ],
   "source": [
    "print(SMOTE_CR)"
   ]
  },
  {
   "cell_type": "code",
   "execution_count": 47,
   "metadata": {},
   "outputs": [
    {
     "data": {
      "text/plain": [
       "<AxesSubplot:>"
      ]
     },
     "execution_count": 47,
     "metadata": {},
     "output_type": "execute_result"
    },
    {
     "data": {
      "image/png": "[encoded data removed]",
      "text/plain": [
       "<Figure size 432x288 with 2 Axes>"
      ]
     },
     "metadata": {
      "needs_background": "light"
     },
     "output_type": "display_data"
    }
   ],
   "source": [
    "# predictions X2 df\n",
    "y2Pred = lr_gridSMOTE.predict(X2Test)\n",
    "\n",
    "SMOTE_CR2 = classification_report(y2Test, y2Pred, output_dict=True, target_names= ['No Default', 'Default'])\n",
    "\n",
    "# Create a dataframe from the dictionary and plot a heatmap of it.\n",
    "# .iloc[:-1, :] to exclude support\n",
    "sns.heatmap(pd.DataFrame(SMOTE_CR2).iloc[:-1, :].T, annot=True, cmap=\"Blues\")"
   ]
  },
  {
   "cell_type": "code",
   "execution_count": 48,
   "metadata": {},
   "outputs": [
    {
     "data": {
      "text/plain": [
       "{'No Default': {'precision': 0.8920881321982974,\n",
       "  'recall': 0.7779475982532751,\n",
       "  'f1-score': 0.8311173314672264,\n",
       "  'support': 4580},\n",
       " 'Default': {'precision': 0.44486899563318777,\n",
       "  'recall': 0.6540930979133226,\n",
       "  'f1-score': 0.5295646523716699,\n",
       "  'support': 1246},\n",
       " 'micro avg': {'precision': 0.7514589769996567,\n",
       "  'recall': 0.7514589769996567,\n",
       "  'f1-score': 0.7514589769996567,\n",
       "  'support': 5826},\n",
       " 'macro avg': {'precision': 0.6684785639157426,\n",
       "  'recall': 0.7160203480832988,\n",
       "  'f1-score': 0.6803409919194482,\n",
       "  'support': 5826},\n",
       " 'weighted avg': {'precision': 0.7964418836297895,\n",
       "  'recall': 0.7514589769996567,\n",
       "  'f1-score': 0.7666246026390314,\n",
       "  'support': 5826}}"
      ]
     },
     "execution_count": 48,
     "metadata": {},
     "output_type": "execute_result"
    }
   ],
   "source": [
    "SMOTE_CR2"
   ]
  },
  {
   "cell_type": "code",
   "execution_count": 51,
   "metadata": {},
   "outputs": [
    {
     "data": {
      "text/plain": [
       "<AxesSubplot:>"
      ]
     },
     "execution_count": 51,
     "metadata": {},
     "output_type": "execute_result"
    },
    {
     "data": {
      "image/png": "[encoded data removed]",
      "text/plain": [
       "<Figure size 432x288 with 2 Axes>"
      ]
     },
     "metadata": {
      "needs_background": "light"
     },
     "output_type": "display_data"
    }
   ],
   "source": [
    "# predictions X1 df subset\n",
    "y1sPred = lr_gridSMOTE.predict(X1sTest)\n",
    "\n",
    "SMOTE_CR1s = classification_report(y1sTest, y1sPred, output_dict=True, target_names= ['No Default', 'Default'])\n",
    "\n",
    "# Create a dataframe from the dictionary and plot a heatmap of it.\n",
    "# .iloc[:-1, :] to exclude support\n",
    "sns.heatmap(pd.DataFrame(SMOTE_CR1s).iloc[:-1, :].T, annot=True, cmap=\"Blues\")"
   ]
  },
  {
   "cell_type": "code",
   "execution_count": 52,
   "metadata": {},
   "outputs": [
    {
     "data": {
      "text/plain": [
       "{'No Default': {'precision': 0.8784313725490196,\n",
       "  'recall': 0.7692637905129857,\n",
       "  'f1-score': 0.820231147728573,\n",
       "  'support': 4659},\n",
       " 'Default': {'precision': 0.4401041666666667,\n",
       "  'recall': 0.6301267710663684,\n",
       "  'f1-score': 0.5182459368291935,\n",
       "  'support': 1341},\n",
       " 'micro avg': {'precision': 0.7381666666666666,\n",
       "  'recall': 0.7381666666666666,\n",
       "  'f1-score': 0.7381666666666666,\n",
       "  'support': 6000},\n",
       " 'macro avg': {'precision': 0.6592677696078432,\n",
       "  'recall': 0.699695280789677,\n",
       "  'f1-score': 0.6692385422788832,\n",
       "  'support': 6000},\n",
       " 'weighted avg': {'precision': 0.7804652420343137,\n",
       "  'recall': 0.7381666666666666,\n",
       "  'f1-score': 0.7527374530925617,\n",
       "  'support': 6000}}"
      ]
     },
     "execution_count": 52,
     "metadata": {},
     "output_type": "execute_result"
    }
   ],
   "source": [
    "SMOTE_CR1s"
   ]
  },
  {
   "cell_type": "code",
   "execution_count": 55,
   "metadata": {},
   "outputs": [
    {
     "data": {
      "text/plain": [
       "<AxesSubplot:>"
      ]
     },
     "execution_count": 55,
     "metadata": {},
     "output_type": "execute_result"
    },
    {
     "data": {
      "image/png": "[encoded data removed]",
      "text/plain": [
       "<Figure size 432x288 with 2 Axes>"
      ]
     },
     "metadata": {
      "needs_background": "light"
     },
     "output_type": "display_data"
    }
   ],
   "source": [
    "# predictions X2 df subset\n",
    "y2sPred = lr_gridSMOTE.predict(X2sTest)\n",
    "\n",
    "SMOTE_CR2s = classification_report(y2sTest, y2sPred, output_dict=True, target_names= ['No Default', 'Default'])\n",
    "\n",
    "# Create a dataframe from the dictionary and plot a heatmap of it.\n",
    "# .iloc[:-1, :] to exclude support\n",
    "sns.heatmap(pd.DataFrame(SMOTE_CR2s).iloc[:-1, :].T, annot=True, cmap=\"Blues\")"
   ]
  },
  {
   "cell_type": "code",
   "execution_count": 56,
   "metadata": {},
   "outputs": [
    {
     "data": {
      "text/plain": [
       "{'No Default': {'precision': 0.8924675324675325,\n",
       "  'recall': 0.7502183406113537,\n",
       "  'f1-score': 0.8151838671411625,\n",
       "  'support': 4580},\n",
       " 'Default': {'precision': 0.42105263157894735,\n",
       "  'recall': 0.6677367576243981,\n",
       "  'f1-score': 0.516449410304159,\n",
       "  'support': 1246},\n",
       " 'micro avg': {'precision': 0.7325780981805698,\n",
       "  'recall': 0.7325780981805698,\n",
       "  'f1-score': 0.7325780981805697,\n",
       "  'support': 5826},\n",
       " 'macro avg': {'precision': 0.65676008202324,\n",
       "  'recall': 0.7089775491178759,\n",
       "  'f1-score': 0.6658166387226607,\n",
       "  'support': 5826},\n",
       " 'weighted avg': {'precision': 0.7916465632764619,\n",
       "  'recall': 0.7325780981805698,\n",
       "  'f1-score': 0.7512938683050989,\n",
       "  'support': 5826}}"
      ]
     },
     "execution_count": 56,
     "metadata": {},
     "output_type": "execute_result"
    }
   ],
   "source": [
    "SMOTE_CR2s"
   ]
  },
  {
   "cell_type": "code",
   "execution_count": null,
   "metadata": {},
   "outputs": [],
   "source": []
  },
  {
   "cell_type": "markdown",
   "metadata": {},
   "source": [
    "**2. BorderlineSMOTE**"
   ]
  },
  {
   "cell_type": "markdown",
   "metadata": {},
   "source": [
    "**Pipeline to scale and oversample data and tune a Logistic Regression model.**"
   ]
  },
  {
   "cell_type": "code",
   "execution_count": 24,
   "metadata": {},
   "outputs": [],
   "source": [
    "# define pipeline\n",
    "from imblearn.over_sampling import BorderlineSMOTE\n",
    "trans = StandardScaler()\n",
    "# define resampling\n",
    "resample = BorderlineSMOTE()\n",
    "model = LogisticRegression()\n",
    "pipeline = Pipeline(steps=[('t', trans), ('r', resample), ('m', model)])\n",
    "\n",
    "# set paramaters to be tested in the grid search\n",
    "params = {'m__C': [1.00000000e+00, 2.78255940e+00, 7.74263683e+00, 2.15443469e+01,\n",
    "       5.99484250e+01, 1.66810054e+02, 4.64158883e+02, 1.29154967e+03,\n",
    "       3.59381366e+03, 1.00000000e+04],\n",
    "            'm__penalty': ['l1', 'l2']}\n",
    "\n",
    "\n",
    "# set cross-validation technique\n",
    "skf = StratifiedKFold(n_splits=5, shuffle=True, random_state=1)\n",
    "\n",
    "# tune the model\n",
    "lrBorderline_grid=GridSearchCV(pipeline, params, verbose=2,\n",
    "          cv=skf, scoring={'avr': make_scorer(recall_score, needs_proba=False),\n",
    "                                'll': make_scorer(log_loss, greater_is_better=False, needs_proba=True)}, \n",
    "                    refit='avr', n_jobs = -1)\n",
    "\n"
   ]
  },
  {
   "cell_type": "code",
   "execution_count": null,
   "metadata": {},
   "outputs": [],
   "source": []
  },
  {
   "cell_type": "markdown",
   "metadata": {},
   "source": [
    "**Fit model for 4 different subsets of data**"
   ]
  },
  {
   "cell_type": "code",
   "execution_count": 25,
   "metadata": {},
   "outputs": [
    {
     "name": "stdout",
     "output_type": "stream",
     "text": [
      "Fitting 5 folds for each of 20 candidates, totalling 100 fits\n"
     ]
    },
    {
     "name": "stderr",
     "output_type": "stream",
     "text": [
      "[Parallel(n_jobs=-1)]: Using backend LokyBackend with 4 concurrent workers.\n",
      "[Parallel(n_jobs=-1)]: Done  33 tasks      | elapsed:  2.0min\n",
      "[Parallel(n_jobs=-1)]: Done 100 out of 100 | elapsed:  5.6min finished\n"
     ]
    },
    {
     "data": {
      "text/plain": [
       "GridSearchCV(cv=StratifiedKFold(n_splits=5, random_state=1, shuffle=True),\n",
       "       error_score='raise-deprecating',\n",
       "       estimator=Pipeline(memory=None,\n",
       "     steps=[('t', StandardScaler(copy=True, with_mean=True, with_std=True)), ('r', BorderlineSMOTE(k_neighbors=5, kind='borderline-1', m_neighbors=10, n_jobs=1,\n",
       "        random_state=None, sampling_strategy='auto')), ('m', LogisticRegression(C=1.0, class_weight=None, d...enalty='l2', random_state=None, solver='warn',\n",
       "          tol=0.0001, verbose=0, warm_start=False))]),\n",
       "       fit_params=None, iid='warn', n_jobs=-1,\n",
       "       param_grid={'m__C': [1.0, 2.7825594, 7.74263683, 21.5443469, 59.948425, 166.810054, 464.158883, 1291.54967, 3593.81366, 10000.0], 'm__penalty': ['l1', 'l2']},\n",
       "       pre_dispatch='2*n_jobs', refit='avr', return_train_score='warn',\n",
       "       scoring={'avr': make_scorer(recall_score), 'll': make_scorer(log_loss, greater_is_better=False, needs_proba=True)},\n",
       "       verbose=2)"
      ]
     },
     "execution_count": 25,
     "metadata": {},
     "output_type": "execute_result"
    }
   ],
   "source": [
    "# X1 df\n",
    "lrBorderline_grid.fit(X1Train, y1Train)"
   ]
  },
  {
   "cell_type": "code",
   "execution_count": 57,
   "metadata": {},
   "outputs": [
    {
     "name": "stdout",
     "output_type": "stream",
     "text": [
      "Fitting 5 folds for each of 20 candidates, totalling 100 fits\n"
     ]
    },
    {
     "name": "stderr",
     "output_type": "stream",
     "text": [
      "[Parallel(n_jobs=-1)]: Using backend LokyBackend with 4 concurrent workers.\n",
      "[Parallel(n_jobs=-1)]: Done  33 tasks      | elapsed:   59.3s\n",
      "[Parallel(n_jobs=-1)]: Done 100 out of 100 | elapsed:  2.8min finished\n"
     ]
    },
    {
     "data": {
      "text/plain": [
       "GridSearchCV(cv=StratifiedKFold(n_splits=5, random_state=1, shuffle=True),\n",
       "       error_score='raise-deprecating',\n",
       "       estimator=Pipeline(memory=None,\n",
       "     steps=[('t', StandardScaler(copy=True, with_mean=True, with_std=True)), ('r', BorderlineSMOTE(k_neighbors=5, kind='borderline-1', m_neighbors=10, n_jobs=1,\n",
       "        random_state=None, sampling_strategy='auto')), ('m', LogisticRegression(C=1.0, class_weight=None, d...enalty='l2', random_state=None, solver='warn',\n",
       "          tol=0.0001, verbose=0, warm_start=False))]),\n",
       "       fit_params=None, iid='warn', n_jobs=-1,\n",
       "       param_grid={'m__C': [1.0, 2.7825594, 7.74263683, 21.5443469, 59.948425, 166.810054, 464.158883, 1291.54967, 3593.81366, 10000.0], 'm__penalty': ['l1', 'l2']},\n",
       "       pre_dispatch='2*n_jobs', refit='avr', return_train_score='warn',\n",
       "       scoring={'avr': make_scorer(recall_score), 'll': make_scorer(log_loss, greater_is_better=False, needs_proba=True)},\n",
       "       verbose=2)"
      ]
     },
     "execution_count": 57,
     "metadata": {},
     "output_type": "execute_result"
    }
   ],
   "source": [
    "# X2 df\n",
    "lrBorderline_grid.fit(X2Train, y2Train)"
   ]
  },
  {
   "cell_type": "code",
   "execution_count": 61,
   "metadata": {},
   "outputs": [
    {
     "name": "stdout",
     "output_type": "stream",
     "text": [
      "Fitting 5 folds for each of 20 candidates, totalling 100 fits\n"
     ]
    },
    {
     "name": "stderr",
     "output_type": "stream",
     "text": [
      "[Parallel(n_jobs=-1)]: Using backend LokyBackend with 4 concurrent workers.\n",
      "[Parallel(n_jobs=-1)]: Done  33 tasks      | elapsed:    6.3s\n",
      "[Parallel(n_jobs=-1)]: Done 100 out of 100 | elapsed:   13.1s finished\n"
     ]
    },
    {
     "data": {
      "text/plain": [
       "GridSearchCV(cv=StratifiedKFold(n_splits=5, random_state=1, shuffle=True),\n",
       "       error_score='raise-deprecating',\n",
       "       estimator=Pipeline(memory=None,\n",
       "     steps=[('t', StandardScaler(copy=True, with_mean=True, with_std=True)), ('r', BorderlineSMOTE(k_neighbors=5, kind='borderline-1', m_neighbors=10, n_jobs=1,\n",
       "        random_state=None, sampling_strategy='auto')), ('m', LogisticRegression(C=1.0, class_weight=None, d...enalty='l2', random_state=None, solver='warn',\n",
       "          tol=0.0001, verbose=0, warm_start=False))]),\n",
       "       fit_params=None, iid='warn', n_jobs=-1,\n",
       "       param_grid={'m__C': [1.0, 2.7825594, 7.74263683, 21.5443469, 59.948425, 166.810054, 464.158883, 1291.54967, 3593.81366, 10000.0], 'm__penalty': ['l1', 'l2']},\n",
       "       pre_dispatch='2*n_jobs', refit='avr', return_train_score='warn',\n",
       "       scoring={'avr': make_scorer(recall_score), 'll': make_scorer(log_loss, greater_is_better=False, needs_proba=True)},\n",
       "       verbose=2)"
      ]
     },
     "execution_count": 61,
     "metadata": {},
     "output_type": "execute_result"
    }
   ],
   "source": [
    "# X1 df subset\n",
    "lrBorderline_grid.fit(X1sTrain, y1sTrain)"
   ]
  },
  {
   "cell_type": "code",
   "execution_count": 66,
   "metadata": {},
   "outputs": [
    {
     "name": "stdout",
     "output_type": "stream",
     "text": [
      "Fitting 5 folds for each of 20 candidates, totalling 100 fits\n"
     ]
    },
    {
     "name": "stderr",
     "output_type": "stream",
     "text": [
      "[Parallel(n_jobs=-1)]: Using backend LokyBackend with 4 concurrent workers.\n",
      "[Parallel(n_jobs=-1)]: Done  33 tasks      | elapsed:    2.9s\n",
      "[Parallel(n_jobs=-1)]: Done 100 out of 100 | elapsed:    8.7s finished\n"
     ]
    },
    {
     "data": {
      "text/plain": [
       "GridSearchCV(cv=StratifiedKFold(n_splits=5, random_state=1, shuffle=True),\n",
       "       error_score='raise-deprecating',\n",
       "       estimator=Pipeline(memory=None,\n",
       "     steps=[('t', StandardScaler(copy=True, with_mean=True, with_std=True)), ('r', BorderlineSMOTE(k_neighbors=5, kind='borderline-1', m_neighbors=10, n_jobs=1,\n",
       "        random_state=None, sampling_strategy='auto')), ('m', LogisticRegression(C=1.0, class_weight=None, d...enalty='l2', random_state=None, solver='warn',\n",
       "          tol=0.0001, verbose=0, warm_start=False))]),\n",
       "       fit_params=None, iid='warn', n_jobs=-1,\n",
       "       param_grid={'m__C': [1.0, 2.7825594, 7.74263683, 21.5443469, 59.948425, 166.810054, 464.158883, 1291.54967, 3593.81366, 10000.0], 'm__penalty': ['l1', 'l2']},\n",
       "       pre_dispatch='2*n_jobs', refit='avr', return_train_score='warn',\n",
       "       scoring={'avr': make_scorer(recall_score), 'll': make_scorer(log_loss, greater_is_better=False, needs_proba=True)},\n",
       "       verbose=2)"
      ]
     },
     "execution_count": 66,
     "metadata": {},
     "output_type": "execute_result"
    }
   ],
   "source": [
    "# X2 df subset\n",
    "lrBorderline_grid.fit(X2sTrain, y2sTrain)"
   ]
  },
  {
   "cell_type": "code",
   "execution_count": null,
   "metadata": {},
   "outputs": [],
   "source": []
  },
  {
   "cell_type": "code",
   "execution_count": null,
   "metadata": {},
   "outputs": [],
   "source": []
  },
  {
   "cell_type": "code",
   "execution_count": 23,
   "metadata": {},
   "outputs": [],
   "source": [
    "# save the model to a file\n",
    "#import joblib\n",
    "# filename = 'TrainTest1model.sav'  \n",
    "# joblib.dump(lr_grid, filename)"
   ]
  },
  {
   "cell_type": "markdown",
   "metadata": {},
   "source": [
    "**Evaluate Predictions**"
   ]
  },
  {
   "cell_type": "code",
   "execution_count": 27,
   "metadata": {},
   "outputs": [
    {
     "data": {
      "text/plain": [
       "<AxesSubplot:>"
      ]
     },
     "execution_count": 27,
     "metadata": {},
     "output_type": "execute_result"
    },
    {
     "data": {
      "image/png": "[encoded data removed]",
      "text/plain": [
       "<Figure size 432x288 with 2 Axes>"
      ]
     },
     "metadata": {
      "needs_background": "light"
     },
     "output_type": "display_data"
    }
   ],
   "source": [
    "# predictions df1\n",
    "y1Pred = lrBorderline_grid.predict(X1Test)\n",
    "\n",
    "BorderlineCR = classification_report(y1Test, y1Pred, output_dict=True, target_names= ['No Default', 'Default'])\n",
    "\n",
    "# Create a dataframe from the dictionary and plot a heatmap of it.\n",
    "# .iloc[:-1, :] to exclude support\n",
    "sns.heatmap(pd.DataFrame(BorderlineCR).iloc[:-1, :].T, annot=True, cmap=\"Blues\")"
   ]
  },
  {
   "cell_type": "code",
   "execution_count": 28,
   "metadata": {},
   "outputs": [
    {
     "data": {
      "text/plain": [
       "{'No Default': {'precision': 0.8822477650063857,\n",
       "  'recall': 0.7413608070401374,\n",
       "  'f1-score': 0.8056916258455797,\n",
       "  'support': 4659},\n",
       " 'Default': {'precision': 0.42206235011990406,\n",
       "  'recall': 0.6562266964951529,\n",
       "  'f1-score': 0.5137186223000583,\n",
       "  'support': 1341},\n",
       " 'micro avg': {'precision': 0.7223333333333334,\n",
       "  'recall': 0.7223333333333334,\n",
       "  'f1-score': 0.7223333333333334,\n",
       "  'support': 6000},\n",
       " 'macro avg': {'precision': 0.6521550575631448,\n",
       "  'recall': 0.6987937517676451,\n",
       "  'f1-score': 0.659705124072819,\n",
       "  'support': 6000},\n",
       " 'weighted avg': {'precision': 0.779396324779257,\n",
       "  'recall': 0.7223333333333334,\n",
       "  'f1-score': 0.7404356595531556,\n",
       "  'support': 6000}}"
      ]
     },
     "execution_count": 28,
     "metadata": {},
     "output_type": "execute_result"
    }
   ],
   "source": [
    "BorderlineCR"
   ]
  },
  {
   "cell_type": "code",
   "execution_count": 59,
   "metadata": {},
   "outputs": [
    {
     "data": {
      "text/plain": [
       "<AxesSubplot:>"
      ]
     },
     "execution_count": 59,
     "metadata": {},
     "output_type": "execute_result"
    },
    {
     "data": {
      "image/png": "[encoded data removed]",
      "text/plain": [
       "<Figure size 432x288 with 2 Axes>"
      ]
     },
     "metadata": {
      "needs_background": "light"
     },
     "output_type": "display_data"
    }
   ],
   "source": [
    "# predictions df2\n",
    "y2Pred = lrBorderline_grid.predict(X2Test)\n",
    "\n",
    "BorderlineCR2 = classification_report(y2Test, y2Pred, output_dict=True, target_names= ['No Default', 'Default'])\n",
    "\n",
    "# Create a dataframe from the dictionary and plot a heatmap of it.\n",
    "# .iloc[:-1, :] to exclude support\n",
    "sns.heatmap(pd.DataFrame(BorderlineCR2).iloc[:-1, :].T, annot=True, cmap=\"Blues\")"
   ]
  },
  {
   "cell_type": "code",
   "execution_count": 60,
   "metadata": {},
   "outputs": [
    {
     "data": {
      "text/plain": [
       "{'No Default': {'precision': 0.8938890309383789,\n",
       "  'recall': 0.7633187772925765,\n",
       "  'f1-score': 0.8234601342598045,\n",
       "  'support': 4580},\n",
       " 'Default': {'precision': 0.4339425587467363,\n",
       "  'recall': 0.6669341894060995,\n",
       "  'f1-score': 0.5257829800695982,\n",
       "  'support': 1246},\n",
       " 'micro avg': {'precision': 0.7427051150017164,\n",
       "  'recall': 0.7427051150017164,\n",
       "  'f1-score': 0.7427051150017164,\n",
       "  'support': 5826},\n",
       " 'macro avg': {'precision': 0.6639157948425576,\n",
       "  'recall': 0.715126483349338,\n",
       "  'f1-score': 0.6746215571647014,\n",
       "  'support': 5826},\n",
       " 'weighted avg': {'precision': 0.7955208015613129,\n",
       "  'recall': 0.7427051150017164,\n",
       "  'f1-score': 0.7597962595394138,\n",
       "  'support': 5826}}"
      ]
     },
     "execution_count": 60,
     "metadata": {},
     "output_type": "execute_result"
    }
   ],
   "source": [
    "BorderlineCR2"
   ]
  },
  {
   "cell_type": "code",
   "execution_count": 63,
   "metadata": {},
   "outputs": [
    {
     "data": {
      "text/plain": [
       "<AxesSubplot:>"
      ]
     },
     "execution_count": 63,
     "metadata": {},
     "output_type": "execute_result"
    },
    {
     "data": {
      "image/png": "[encoded data removed]",
      "text/plain": [
       "<Figure size 432x288 with 2 Axes>"
      ]
     },
     "metadata": {
      "needs_background": "light"
     },
     "output_type": "display_data"
    }
   ],
   "source": [
    "# predictions df1 subset\n",
    "y1sPred = lrBorderline_grid.predict(X1sTest)\n",
    "\n",
    "BorderlineCR1s = classification_report(y1sTest, y1sPred, output_dict=True, target_names= ['No Default', 'Default'])\n",
    "\n",
    "# Create a dataframe from the dictionary and plot a heatmap of it.\n",
    "# .iloc[:-1, :] to exclude support\n",
    "sns.heatmap(pd.DataFrame(BorderlineCR1s).iloc[:-1, :].T, annot=True, cmap=\"Blues\")"
   ]
  },
  {
   "cell_type": "code",
   "execution_count": 64,
   "metadata": {},
   "outputs": [
    {
     "data": {
      "text/plain": [
       "{'No Default': {'precision': 0.8798994974874372,\n",
       "  'recall': 0.7516634470916506,\n",
       "  'f1-score': 0.810741984025929,\n",
       "  'support': 4659},\n",
       " 'Default': {'precision': 0.4272277227722772,\n",
       "  'recall': 0.6435495898583147,\n",
       "  'f1-score': 0.5135376376078548,\n",
       "  'support': 1341},\n",
       " 'micro avg': {'precision': 0.7275,\n",
       "  'recall': 0.7275,\n",
       "  'f1-score': 0.7275000000000001,\n",
       "  'support': 6000},\n",
       " 'macro avg': {'precision': 0.6535636101298572,\n",
       "  'recall': 0.6976065184749827,\n",
       "  'f1-score': 0.6621398108168919,\n",
       "  'support': 6000},\n",
       " 'weighted avg': {'precision': 0.778727355838599,\n",
       "  'recall': 0.7275,\n",
       "  'f1-score': 0.7443168126014893,\n",
       "  'support': 6000}}"
      ]
     },
     "execution_count": 64,
     "metadata": {},
     "output_type": "execute_result"
    }
   ],
   "source": [
    "BorderlineCR1s"
   ]
  },
  {
   "cell_type": "code",
   "execution_count": 68,
   "metadata": {},
   "outputs": [
    {
     "data": {
      "text/plain": [
       "<AxesSubplot:>"
      ]
     },
     "execution_count": 68,
     "metadata": {},
     "output_type": "execute_result"
    },
    {
     "data": {
      "image/png": "[encoded data removed]",
      "text/plain": [
       "<Figure size 432x288 with 2 Axes>"
      ]
     },
     "metadata": {
      "needs_background": "light"
     },
     "output_type": "display_data"
    }
   ],
   "source": [
    "# predictions df2 subset\n",
    "y2sPred = lrBorderline_grid.predict(X2sTest)\n",
    "\n",
    "BorderlineCR2s = classification_report(y2sTest, y2sPred, output_dict=True, target_names= ['No Default', 'Default'])\n",
    "\n",
    "# Create a dataframe from the dictionary and plot a heatmap of it.\n",
    "# .iloc[:-1, :] to exclude support\n",
    "sns.heatmap(pd.DataFrame(BorderlineCR2s).iloc[:-1, :].T, annot=True, cmap=\"Blues\")"
   ]
  },
  {
   "cell_type": "code",
   "execution_count": 69,
   "metadata": {},
   "outputs": [
    {
     "data": {
      "text/plain": [
       "{'No Default': {'precision': 0.8926436184039511,\n",
       "  'recall': 0.7497816593886463,\n",
       "  'f1-score': 0.8149994066690399,\n",
       "  'support': 4580},\n",
       " 'Default': {'precision': 0.42091965639211726,\n",
       "  'recall': 0.6685393258426966,\n",
       "  'f1-score': 0.5165891472868216,\n",
       "  'support': 1246},\n",
       " 'micro avg': {'precision': 0.7324064538276691,\n",
       "  'recall': 0.7324064538276691,\n",
       "  'f1-score': 0.7324064538276691,\n",
       "  'support': 5826},\n",
       " 'macro avg': {'precision': 0.6567816373980342,\n",
       "  'recall': 0.7091604926156714,\n",
       "  'f1-score': 0.6657942769779308,\n",
       "  'support': 5826},\n",
       " 'weighted avg': {'precision': 0.7917565506616331,\n",
       "  'recall': 0.7324064538276691,\n",
       "  'f1-score': 0.7511787435742503,\n",
       "  'support': 5826}}"
      ]
     },
     "execution_count": 69,
     "metadata": {},
     "output_type": "execute_result"
    }
   ],
   "source": [
    "BorderlineCR2s"
   ]
  },
  {
   "cell_type": "code",
   "execution_count": null,
   "metadata": {},
   "outputs": [],
   "source": []
  },
  {
   "cell_type": "code",
   "execution_count": 27,
   "metadata": {},
   "outputs": [
    {
     "data": {
      "text/plain": [
       "['borderlineModel.sav']"
      ]
     },
     "execution_count": 27,
     "metadata": {},
     "output_type": "execute_result"
    }
   ],
   "source": [
    "# save the model to a file\n",
    "import joblib\n",
    "filename = 'borderlineModel.sav'\n",
    "joblib.dump(lrBorderline_grid, filename)"
   ]
  },
  {
   "cell_type": "code",
   "execution_count": null,
   "metadata": {},
   "outputs": [],
   "source": []
  },
  {
   "cell_type": "markdown",
   "metadata": {},
   "source": [
    "**3.  SVMSMOTE**"
   ]
  },
  {
   "cell_type": "markdown",
   "metadata": {},
   "source": [
    "**Pipeline to scale and oversample data and tune a Logistic Regression model.**"
   ]
  },
  {
   "cell_type": "code",
   "execution_count": 29,
   "metadata": {},
   "outputs": [],
   "source": [
    "# define pipeline\n",
    "trans = StandardScaler()\n",
    "# define resampling\n",
    "resample = SVMSMOTE()\n",
    "model = LogisticRegression()\n",
    "pipeline = Pipeline(steps=[('t', trans), ('r', resample), ('m', model)])\n",
    "\n",
    "# set paramaters to be tested in the grid search\n",
    "params = {'m__C': [1.00000000e+00, 2.78255940e+00, 7.74263683e+00, 2.15443469e+01,\n",
    "       5.99484250e+01, 1.66810054e+02, 4.64158883e+02, 1.29154967e+03,\n",
    "       3.59381366e+03, 1.00000000e+04],\n",
    "            'm__penalty': ['l1', 'l2']}\n",
    "\n",
    "\n",
    "# set cross-validation technique\n",
    "skf = StratifiedKFold(n_splits=5, shuffle=True, random_state=1)\n",
    "\n",
    "# tune the model\n",
    "lrSVMOTE_grid=GridSearchCV(pipeline, params, verbose=2,\n",
    "          cv=skf, scoring={'avr': make_scorer(recall_score, needs_proba=False),\n",
    "                                'll': make_scorer(log_loss, greater_is_better=False, needs_proba=True)}, \n",
    "                    refit='avr', n_jobs = -1)\n"
   ]
  },
  {
   "cell_type": "code",
   "execution_count": null,
   "metadata": {},
   "outputs": [],
   "source": []
  },
  {
   "cell_type": "markdown",
   "metadata": {},
   "source": [
    "**Fit model for 4 different subsets of data**"
   ]
  },
  {
   "cell_type": "code",
   "execution_count": 30,
   "metadata": {},
   "outputs": [
    {
     "name": "stdout",
     "output_type": "stream",
     "text": [
      "Fitting 5 folds for each of 20 candidates, totalling 100 fits\n"
     ]
    },
    {
     "name": "stderr",
     "output_type": "stream",
     "text": [
      "[Parallel(n_jobs=-1)]: Using backend LokyBackend with 4 concurrent workers.\n",
      "[Parallel(n_jobs=-1)]: Done  33 tasks      | elapsed:  8.2min\n",
      "[Parallel(n_jobs=-1)]: Done 100 out of 100 | elapsed: 23.2min finished\n"
     ]
    },
    {
     "data": {
      "text/plain": [
       "GridSearchCV(cv=StratifiedKFold(n_splits=5, random_state=1, shuffle=True),\n",
       "       error_score='raise-deprecating',\n",
       "       estimator=Pipeline(memory=None,\n",
       "     steps=[('t', StandardScaler(copy=True, with_mean=True, with_std=True)), ('r', SVMSMOTE(k_neighbors=5, m_neighbors=10, n_jobs=1, out_step=0.5,\n",
       "     random_state=None, sampling_strategy='auto', svm_estimator=None)), ('m', LogisticRegression(C=1.0, class_weight=None...enalty='l2', random_state=None, solver='warn',\n",
       "          tol=0.0001, verbose=0, warm_start=False))]),\n",
       "       fit_params=None, iid='warn', n_jobs=-1,\n",
       "       param_grid={'m__C': [1.0, 2.7825594, 7.74263683, 21.5443469, 59.948425, 166.810054, 464.158883, 1291.54967, 3593.81366, 10000.0], 'm__penalty': ['l1', 'l2']},\n",
       "       pre_dispatch='2*n_jobs', refit='avr', return_train_score='warn',\n",
       "       scoring={'avr': make_scorer(recall_score), 'll': make_scorer(log_loss, greater_is_better=False, needs_proba=True)},\n",
       "       verbose=2)"
      ]
     },
     "execution_count": 30,
     "metadata": {},
     "output_type": "execute_result"
    }
   ],
   "source": [
    "# X1 df\n",
    "lrSVMOTE_grid.fit(X1Train, y1Train)"
   ]
  },
  {
   "cell_type": "code",
   "execution_count": 84,
   "metadata": {},
   "outputs": [
    {
     "name": "stdout",
     "output_type": "stream",
     "text": [
      "Fitting 5 folds for each of 20 candidates, totalling 100 fits\n"
     ]
    },
    {
     "name": "stderr",
     "output_type": "stream",
     "text": [
      "[Parallel(n_jobs=-1)]: Using backend LokyBackend with 4 concurrent workers.\n",
      "[Parallel(n_jobs=-1)]: Done  33 tasks      | elapsed:  5.5min\n",
      "[Parallel(n_jobs=-1)]: Done 100 out of 100 | elapsed: 16.1min finished\n"
     ]
    },
    {
     "data": {
      "text/plain": [
       "GridSearchCV(cv=StratifiedKFold(n_splits=5, random_state=1, shuffle=True),\n",
       "       error_score='raise-deprecating',\n",
       "       estimator=Pipeline(memory=None,\n",
       "     steps=[('t', StandardScaler(copy=True, with_mean=True, with_std=True)), ('r', SVMSMOTE(k_neighbors=5, m_neighbors=10, n_jobs=1, out_step=0.5,\n",
       "     random_state=None, sampling_strategy='auto', svm_estimator=None)), ('m', LogisticRegression(C=1.0, class_weight=None...enalty='l2', random_state=None, solver='warn',\n",
       "          tol=0.0001, verbose=0, warm_start=False))]),\n",
       "       fit_params=None, iid='warn', n_jobs=-1,\n",
       "       param_grid={'m__C': [1.0, 2.7825594, 7.74263683, 21.5443469, 59.948425, 166.810054, 464.158883, 1291.54967, 3593.81366, 10000.0], 'm__penalty': ['l1', 'l2']},\n",
       "       pre_dispatch='2*n_jobs', refit='avr', return_train_score='warn',\n",
       "       scoring={'avr': make_scorer(recall_score), 'll': make_scorer(log_loss, greater_is_better=False, needs_proba=True)},\n",
       "       verbose=2)"
      ]
     },
     "execution_count": 84,
     "metadata": {},
     "output_type": "execute_result"
    }
   ],
   "source": [
    "# X2 df\n",
    "lrSVMOTE_grid.fit(X2Train, y2Train)"
   ]
  },
  {
   "cell_type": "code",
   "execution_count": 89,
   "metadata": {},
   "outputs": [
    {
     "name": "stdout",
     "output_type": "stream",
     "text": [
      "Fitting 5 folds for each of 20 candidates, totalling 100 fits\n"
     ]
    },
    {
     "name": "stderr",
     "output_type": "stream",
     "text": [
      "[Parallel(n_jobs=-1)]: Using backend LokyBackend with 4 concurrent workers.\n",
      "[Parallel(n_jobs=-1)]: Done  33 tasks      | elapsed:  2.8min\n",
      "[Parallel(n_jobs=-1)]: Done 100 out of 100 | elapsed:  7.9min finished\n"
     ]
    },
    {
     "data": {
      "text/plain": [
       "GridSearchCV(cv=StratifiedKFold(n_splits=5, random_state=1, shuffle=True),\n",
       "       error_score='raise-deprecating',\n",
       "       estimator=Pipeline(memory=None,\n",
       "     steps=[('t', StandardScaler(copy=True, with_mean=True, with_std=True)), ('r', SVMSMOTE(k_neighbors=5, m_neighbors=10, n_jobs=1, out_step=0.5,\n",
       "     random_state=None, sampling_strategy='auto', svm_estimator=None)), ('m', LogisticRegression(C=1.0, class_weight=None...enalty='l2', random_state=None, solver='warn',\n",
       "          tol=0.0001, verbose=0, warm_start=False))]),\n",
       "       fit_params=None, iid='warn', n_jobs=-1,\n",
       "       param_grid={'m__C': [1.0, 2.7825594, 7.74263683, 21.5443469, 59.948425, 166.810054, 464.158883, 1291.54967, 3593.81366, 10000.0], 'm__penalty': ['l1', 'l2']},\n",
       "       pre_dispatch='2*n_jobs', refit='avr', return_train_score='warn',\n",
       "       scoring={'avr': make_scorer(recall_score), 'll': make_scorer(log_loss, greater_is_better=False, needs_proba=True)},\n",
       "       verbose=2)"
      ]
     },
     "execution_count": 89,
     "metadata": {},
     "output_type": "execute_result"
    }
   ],
   "source": [
    "# X1s df subset\n",
    "lrSVMOTE_grid.fit(X1sTrain, y1sTrain)"
   ]
  },
  {
   "cell_type": "code",
   "execution_count": 93,
   "metadata": {},
   "outputs": [
    {
     "name": "stdout",
     "output_type": "stream",
     "text": [
      "Fitting 5 folds for each of 20 candidates, totalling 100 fits\n"
     ]
    },
    {
     "name": "stderr",
     "output_type": "stream",
     "text": [
      "[Parallel(n_jobs=-1)]: Using backend LokyBackend with 4 concurrent workers.\n",
      "[Parallel(n_jobs=-1)]: Done  33 tasks      | elapsed:  1.3min\n",
      "[Parallel(n_jobs=-1)]: Done 100 out of 100 | elapsed:  3.9min finished\n"
     ]
    },
    {
     "data": {
      "text/plain": [
       "GridSearchCV(cv=StratifiedKFold(n_splits=5, random_state=1, shuffle=True),\n",
       "       error_score='raise-deprecating',\n",
       "       estimator=Pipeline(memory=None,\n",
       "     steps=[('t', StandardScaler(copy=True, with_mean=True, with_std=True)), ('r', SVMSMOTE(k_neighbors=5, m_neighbors=10, n_jobs=1, out_step=0.5,\n",
       "     random_state=None, sampling_strategy='auto', svm_estimator=None)), ('m', LogisticRegression(C=1.0, class_weight=None...enalty='l2', random_state=None, solver='warn',\n",
       "          tol=0.0001, verbose=0, warm_start=False))]),\n",
       "       fit_params=None, iid='warn', n_jobs=-1,\n",
       "       param_grid={'m__C': [1.0, 2.7825594, 7.74263683, 21.5443469, 59.948425, 166.810054, 464.158883, 1291.54967, 3593.81366, 10000.0], 'm__penalty': ['l1', 'l2']},\n",
       "       pre_dispatch='2*n_jobs', refit='avr', return_train_score='warn',\n",
       "       scoring={'avr': make_scorer(recall_score), 'll': make_scorer(log_loss, greater_is_better=False, needs_proba=True)},\n",
       "       verbose=2)"
      ]
     },
     "execution_count": 93,
     "metadata": {},
     "output_type": "execute_result"
    }
   ],
   "source": [
    "# X2s df subset\n",
    "lrSVMOTE_grid.fit(X2sTrain, y2sTrain)"
   ]
  },
  {
   "cell_type": "code",
   "execution_count": null,
   "metadata": {},
   "outputs": [],
   "source": []
  },
  {
   "cell_type": "markdown",
   "metadata": {},
   "source": [
    "**Evaluate Predictions**"
   ]
  },
  {
   "cell_type": "code",
   "execution_count": 33,
   "metadata": {},
   "outputs": [
    {
     "data": {
      "text/plain": [
       "<AxesSubplot:>"
      ]
     },
     "execution_count": 33,
     "metadata": {},
     "output_type": "execute_result"
    },
    {
     "data": {
      "image/png": "[encoded data removed]",
      "text/plain": [
       "<Figure size 432x288 with 2 Axes>"
      ]
     },
     "metadata": {
      "needs_background": "light"
     },
     "output_type": "display_data"
    }
   ],
   "source": [
    "# predictions X1\n",
    "y1Pred = lrSVMSMOTE_grid.predict(X1Test)\n",
    "\n",
    "SVM_CR = classification_report(y1Test, y1Pred, output_dict=True, target_names= ['No Default', 'Default'])\n",
    "\n",
    "# Create a dataframe from the dictionary and plot a heatmap of it.\n",
    "# .iloc[:-1, :] to exclude support\n",
    "sns.heatmap(pd.DataFrame(SVM_CR).iloc[:-1, :].T, annot=True, cmap=\"Blues\")"
   ]
  },
  {
   "cell_type": "code",
   "execution_count": 34,
   "metadata": {},
   "outputs": [
    {
     "data": {
      "text/plain": [
       "{'No Default': {'precision': 0.8794204322200393,\n",
       "  'recall': 0.7686198755097661,\n",
       "  'f1-score': 0.8202954987973886,\n",
       "  'support': 4659},\n",
       " 'Default': {'precision': 0.4408713692946058,\n",
       "  'recall': 0.633855331841909,\n",
       "  'f1-score': 0.5200367084735393,\n",
       "  'support': 1341},\n",
       " 'micro avg': {'precision': 0.7385,\n",
       "  'recall': 0.7385,\n",
       "  'f1-score': 0.7385,\n",
       "  'support': 6000},\n",
       " 'macro avg': {'precision': 0.6601459007573225,\n",
       "  'recall': 0.7012376036758375,\n",
       "  'f1-score': 0.670166103635464,\n",
       "  'support': 6000},\n",
       " 'weighted avg': {'precision': 0.781404716656205,\n",
       "  'recall': 0.7385,\n",
       "  'f1-score': 0.7531876591600083,\n",
       "  'support': 6000}}"
      ]
     },
     "execution_count": 34,
     "metadata": {},
     "output_type": "execute_result"
    }
   ],
   "source": [
    "SVM_CR"
   ]
  },
  {
   "cell_type": "code",
   "execution_count": 87,
   "metadata": {},
   "outputs": [
    {
     "data": {
      "text/plain": [
       "<AxesSubplot:>"
      ]
     },
     "execution_count": 87,
     "metadata": {},
     "output_type": "execute_result"
    },
    {
     "data": {
      "image/png": "[encoded data removed]",
      "text/plain": [
       "<Figure size 432x288 with 2 Axes>"
      ]
     },
     "metadata": {
      "needs_background": "light"
     },
     "output_type": "display_data"
    }
   ],
   "source": [
    "# predictions X2\n",
    "y2Pred = lrSVMOTE_grid.predict(X2Test)\n",
    "\n",
    "SVM_CR2 = classification_report(y2Test, y2Pred, output_dict=True, target_names= ['No Default', 'Default'])\n",
    "\n",
    "# Create a dataframe from the dictionary and plot a heatmap of it.\n",
    "# .iloc[:-1, :] to exclude support\n",
    "sns.heatmap(pd.DataFrame(SVM_CR2).iloc[:-1, :].T, annot=True, cmap=\"Blues\")"
   ]
  },
  {
   "cell_type": "code",
   "execution_count": 88,
   "metadata": {},
   "outputs": [
    {
     "data": {
      "text/plain": [
       "{'No Default': {'precision': 0.8898970083374204,\n",
       "  'recall': 0.7923580786026201,\n",
       "  'f1-score': 0.8382998382998383,\n",
       "  'support': 4580},\n",
       " 'Default': {'precision': 0.4559496567505721,\n",
       "  'recall': 0.6396468699839486,\n",
       "  'f1-score': 0.5323981295925184,\n",
       "  'support': 1246},\n",
       " 'micro avg': {'precision': 0.7596979059388946,\n",
       "  'recall': 0.7596979059388946,\n",
       "  'f1-score': 0.7596979059388946,\n",
       "  'support': 5826},\n",
       " 'macro avg': {'precision': 0.6729233325439963,\n",
       "  'recall': 0.7160024742932843,\n",
       "  'f1-score': 0.6853489839461784,\n",
       "  'support': 5826},\n",
       " 'weighted avg': {'precision': 0.7970891813416748,\n",
       "  'recall': 0.7596979059388946,\n",
       "  'f1-score': 0.7728769874503154,\n",
       "  'support': 5826}}"
      ]
     },
     "execution_count": 88,
     "metadata": {},
     "output_type": "execute_result"
    }
   ],
   "source": [
    "SVM_CR2"
   ]
  },
  {
   "cell_type": "code",
   "execution_count": 91,
   "metadata": {},
   "outputs": [
    {
     "data": {
      "text/plain": [
       "<AxesSubplot:>"
      ]
     },
     "execution_count": 91,
     "metadata": {},
     "output_type": "execute_result"
    },
    {
     "data": {
      "image/png": "[encoded data removed]",
      "text/plain": [
       "<Figure size 432x288 with 2 Axes>"
      ]
     },
     "metadata": {
      "needs_background": "light"
     },
     "output_type": "display_data"
    }
   ],
   "source": [
    "# predictions X1 subset\n",
    "y1sPred = lrSVMOTE_grid.predict(X1sTest)\n",
    "\n",
    "SVM_CR1s = classification_report(y1sTest, y1sPred, output_dict=True, target_names= ['No Default', 'Default'])\n",
    "\n",
    "# Create a dataframe from the dictionary and plot a heatmap of it.\n",
    "# .iloc[:-1, :] to exclude support\n",
    "sns.heatmap(pd.DataFrame(SVM_CR1s).iloc[:-1, :].T, annot=True, cmap=\"Blues\")"
   ]
  },
  {
   "cell_type": "code",
   "execution_count": 92,
   "metadata": {},
   "outputs": [
    {
     "data": {
      "text/plain": [
       "{'No Default': {'precision': 0.8726459510357816,\n",
       "  'recall': 0.7956643056449882,\n",
       "  'f1-score': 0.8323790277309981,\n",
       "  'support': 4659},\n",
       " 'Default': {'precision': 0.45662100456621,\n",
       "  'recall': 0.5965697240865027,\n",
       "  'f1-score': 0.5172971225347559,\n",
       "  'support': 1341},\n",
       " 'micro avg': {'precision': 0.7511666666666666,\n",
       "  'recall': 0.7511666666666666,\n",
       "  'f1-score': 0.7511666666666666,\n",
       "  'support': 6000},\n",
       " 'macro avg': {'precision': 0.6646334778009958,\n",
       "  'recall': 0.6961170148657454,\n",
       "  'f1-score': 0.6748380751328771,\n",
       "  'support': 6000},\n",
       " 'weighted avg': {'precision': 0.7796643754998324,\n",
       "  'recall': 0.7511666666666669,\n",
       "  'f1-score': 0.761958221919638,\n",
       "  'support': 6000}}"
      ]
     },
     "execution_count": 92,
     "metadata": {},
     "output_type": "execute_result"
    }
   ],
   "source": [
    "SVM_CR1s"
   ]
  },
  {
   "cell_type": "code",
   "execution_count": 95,
   "metadata": {},
   "outputs": [
    {
     "data": {
      "text/plain": [
       "<AxesSubplot:>"
      ]
     },
     "execution_count": 95,
     "metadata": {},
     "output_type": "execute_result"
    },
    {
     "data": {
      "image/png": "[encoded data removed]",
      "text/plain": [
       "<Figure size 432x288 with 2 Axes>"
      ]
     },
     "metadata": {
      "needs_background": "light"
     },
     "output_type": "display_data"
    }
   ],
   "source": [
    "# predictions X2 subset\n",
    "y2sPred = lrSVMOTE_grid.predict(X2sTest)\n",
    "\n",
    "SVM_CR2s = classification_report(y2sTest, y2sPred, output_dict=True, target_names= ['No Default', 'Default'])\n",
    "\n",
    "# Create a dataframe from the dictionary and plot a heatmap of it.\n",
    "# .iloc[:-1, :] to exclude support\n",
    "sns.heatmap(pd.DataFrame(SVM_CR2s).iloc[:-1, :].T, annot=True, cmap=\"Blues\")"
   ]
  },
  {
   "cell_type": "code",
   "execution_count": 96,
   "metadata": {},
   "outputs": [
    {
     "data": {
      "text/plain": [
       "{'No Default': {'precision': 0.891476836447402,\n",
       "  'recall': 0.7604803493449782,\n",
       "  'f1-score': 0.8207847295864263,\n",
       "  'support': 4580},\n",
       " 'Default': {'precision': 0.4283480979676915,\n",
       "  'recall': 0.6597110754414125,\n",
       "  'f1-score': 0.5194312796208531,\n",
       "  'support': 1246},\n",
       " 'micro avg': {'precision': 0.738928939237899,\n",
       "  'recall': 0.738928939237899,\n",
       "  'f1-score': 0.738928939237899,\n",
       "  'support': 5826},\n",
       " 'macro avg': {'precision': 0.6599124672075468,\n",
       "  'recall': 0.7100957123931954,\n",
       "  'f1-score': 0.6701080046036397,\n",
       "  'support': 5826},\n",
       " 'weighted avg': {'precision': 0.7924280193952703,\n",
       "  'recall': 0.738928939237899,\n",
       "  'f1-score': 0.7563346096658797,\n",
       "  'support': 5826}}"
      ]
     },
     "execution_count": 96,
     "metadata": {},
     "output_type": "execute_result"
    }
   ],
   "source": [
    "SVM_CR2s"
   ]
  },
  {
   "cell_type": "code",
   "execution_count": null,
   "metadata": {},
   "outputs": [],
   "source": []
  },
  {
   "cell_type": "code",
   "execution_count": 25,
   "metadata": {},
   "outputs": [
    {
     "data": {
      "text/plain": [
       "['SVMOTEmodel.sav']"
      ]
     },
     "execution_count": 25,
     "metadata": {},
     "output_type": "execute_result"
    }
   ],
   "source": [
    "# save the model to a file\n",
    "import joblib\n",
    "filename = 'SVMOTEmodel.sav'\n",
    "joblib.dump(lrSVMOTE_grid, filename)"
   ]
  },
  {
   "cell_type": "code",
   "execution_count": null,
   "metadata": {},
   "outputs": [],
   "source": []
  },
  {
   "cell_type": "markdown",
   "metadata": {},
   "source": [
    "**4. ADASYN**"
   ]
  },
  {
   "cell_type": "markdown",
   "metadata": {},
   "source": [
    "**Pipeline to scale and oversample data and tune a Logistic Regression model.**"
   ]
  },
  {
   "cell_type": "code",
   "execution_count": 35,
   "metadata": {},
   "outputs": [],
   "source": [
    "# define pipeline\n",
    "trans = StandardScaler()\n",
    "# define resampling\n",
    "resample = ADASYN()\n",
    "model = LogisticRegression()\n",
    "pipeline = Pipeline(steps=[('t', trans), ('r', resample), ('m', model)])\n",
    "\n",
    "# set paramaters to be tested in the grid search\n",
    "params = {'m__C': [1.00000000e+00, 2.78255940e+00, 7.74263683e+00, 2.15443469e+01,\n",
    "       5.99484250e+01, 1.66810054e+02, 4.64158883e+02, 1.29154967e+03,\n",
    "       3.59381366e+03, 1.00000000e+04],\n",
    "            'm__penalty': ['l1', 'l2']}\n",
    "\n",
    "\n",
    "# set cross-validation technique\n",
    "skf = StratifiedKFold(n_splits=5, shuffle=True, random_state=1)\n",
    "\n",
    "# tune the model\n",
    "lrADASYN_grid=GridSearchCV(pipeline, params, verbose=2,\n",
    "          cv=skf, scoring={'avr': make_scorer(recall_score, needs_proba=False),\n",
    "                                'll': make_scorer(log_loss, greater_is_better=False, needs_proba=True)}, \n",
    "                    refit='avr', n_jobs = -1)\n"
   ]
  },
  {
   "cell_type": "code",
   "execution_count": null,
   "metadata": {},
   "outputs": [],
   "source": []
  },
  {
   "cell_type": "markdown",
   "metadata": {},
   "source": [
    "**Fit model for 4 different subsets of data**"
   ]
  },
  {
   "cell_type": "code",
   "execution_count": 36,
   "metadata": {},
   "outputs": [
    {
     "name": "stdout",
     "output_type": "stream",
     "text": [
      "Fitting 5 folds for each of 20 candidates, totalling 100 fits\n"
     ]
    },
    {
     "name": "stderr",
     "output_type": "stream",
     "text": [
      "[Parallel(n_jobs=-1)]: Using backend LokyBackend with 4 concurrent workers.\n",
      "[Parallel(n_jobs=-1)]: Done  33 tasks      | elapsed:  2.1min\n",
      "[Parallel(n_jobs=-1)]: Done 100 out of 100 | elapsed:  6.0min finished\n"
     ]
    },
    {
     "data": {
      "text/plain": [
       "GridSearchCV(cv=StratifiedKFold(n_splits=5, random_state=1, shuffle=True),\n",
       "       error_score='raise-deprecating',\n",
       "       estimator=Pipeline(memory=None,\n",
       "     steps=[('t', StandardScaler(copy=True, with_mean=True, with_std=True)), ('r', ADASYN(n_jobs=1, n_neighbors=5, random_state=None, ratio=None,\n",
       "    sampling_strategy='auto')), ('m', LogisticRegression(C=1.0, class_weight=None, dual=False, fit_intercept=True,\n",
       "          intercept_scaling=1, max_iter=100, multi_class='warn',\n",
       "          n_jobs=None, penalty='l2', random_state=None, solver='warn',\n",
       "          tol=0.0001, verbose=0, warm_start=False))]),\n",
       "       fit_params=None, iid='warn', n_jobs=-1,\n",
       "       param_grid={'m__C': [1.0, 2.7825594, 7.74263683, 21.5443469, 59.948425, 166.810054, 464.158883, 1291.54967, 3593.81366, 10000.0], 'm__penalty': ['l1', 'l2']},\n",
       "       pre_dispatch='2*n_jobs', refit='avr', return_train_score='warn',\n",
       "       scoring={'avr': make_scorer(recall_score), 'll': make_scorer(log_loss, greater_is_better=False, needs_proba=True)},\n",
       "       verbose=2)"
      ]
     },
     "execution_count": 36,
     "metadata": {},
     "output_type": "execute_result"
    }
   ],
   "source": [
    "# X1 df\n",
    "lrADASYN_grid.fit(X1Train, y1Train)"
   ]
  },
  {
   "cell_type": "code",
   "execution_count": 70,
   "metadata": {},
   "outputs": [
    {
     "name": "stdout",
     "output_type": "stream",
     "text": [
      "Fitting 5 folds for each of 20 candidates, totalling 100 fits\n"
     ]
    },
    {
     "name": "stderr",
     "output_type": "stream",
     "text": [
      "[Parallel(n_jobs=-1)]: Using backend LokyBackend with 4 concurrent workers.\n",
      "[Parallel(n_jobs=-1)]: Done  33 tasks      | elapsed:  1.2min\n",
      "[Parallel(n_jobs=-1)]: Done 100 out of 100 | elapsed:  3.2min finished\n"
     ]
    },
    {
     "data": {
      "text/plain": [
       "GridSearchCV(cv=StratifiedKFold(n_splits=5, random_state=1, shuffle=True),\n",
       "       error_score='raise-deprecating',\n",
       "       estimator=Pipeline(memory=None,\n",
       "     steps=[('t', StandardScaler(copy=True, with_mean=True, with_std=True)), ('r', ADASYN(n_jobs=1, n_neighbors=5, random_state=None, ratio=None,\n",
       "    sampling_strategy='auto')), ('m', LogisticRegression(C=1.0, class_weight=None, dual=False, fit_intercept=True,\n",
       "          intercept_scaling=1, max_iter=100, multi_class='warn',\n",
       "          n_jobs=None, penalty='l2', random_state=None, solver='warn',\n",
       "          tol=0.0001, verbose=0, warm_start=False))]),\n",
       "       fit_params=None, iid='warn', n_jobs=-1,\n",
       "       param_grid={'m__C': [1.0, 2.7825594, 7.74263683, 21.5443469, 59.948425, 166.810054, 464.158883, 1291.54967, 3593.81366, 10000.0], 'm__penalty': ['l1', 'l2']},\n",
       "       pre_dispatch='2*n_jobs', refit='avr', return_train_score='warn',\n",
       "       scoring={'avr': make_scorer(recall_score), 'll': make_scorer(log_loss, greater_is_better=False, needs_proba=True)},\n",
       "       verbose=2)"
      ]
     },
     "execution_count": 70,
     "metadata": {},
     "output_type": "execute_result"
    }
   ],
   "source": [
    "# X2 df\n",
    "lrADASYN_grid.fit(X2Train, y2Train)"
   ]
  },
  {
   "cell_type": "code",
   "execution_count": 74,
   "metadata": {},
   "outputs": [
    {
     "name": "stdout",
     "output_type": "stream",
     "text": [
      "Fitting 5 folds for each of 20 candidates, totalling 100 fits\n"
     ]
    },
    {
     "name": "stderr",
     "output_type": "stream",
     "text": [
      "[Parallel(n_jobs=-1)]: Using backend LokyBackend with 4 concurrent workers.\n",
      "[Parallel(n_jobs=-1)]: Done  33 tasks      | elapsed:    5.3s\n",
      "[Parallel(n_jobs=-1)]: Done 100 out of 100 | elapsed:   16.9s finished\n"
     ]
    },
    {
     "data": {
      "text/plain": [
       "GridSearchCV(cv=StratifiedKFold(n_splits=5, random_state=1, shuffle=True),\n",
       "       error_score='raise-deprecating',\n",
       "       estimator=Pipeline(memory=None,\n",
       "     steps=[('t', StandardScaler(copy=True, with_mean=True, with_std=True)), ('r', ADASYN(n_jobs=1, n_neighbors=5, random_state=None, ratio=None,\n",
       "    sampling_strategy='auto')), ('m', LogisticRegression(C=1.0, class_weight=None, dual=False, fit_intercept=True,\n",
       "          intercept_scaling=1, max_iter=100, multi_class='warn',\n",
       "          n_jobs=None, penalty='l2', random_state=None, solver='warn',\n",
       "          tol=0.0001, verbose=0, warm_start=False))]),\n",
       "       fit_params=None, iid='warn', n_jobs=-1,\n",
       "       param_grid={'m__C': [1.0, 2.7825594, 7.74263683, 21.5443469, 59.948425, 166.810054, 464.158883, 1291.54967, 3593.81366, 10000.0], 'm__penalty': ['l1', 'l2']},\n",
       "       pre_dispatch='2*n_jobs', refit='avr', return_train_score='warn',\n",
       "       scoring={'avr': make_scorer(recall_score), 'll': make_scorer(log_loss, greater_is_better=False, needs_proba=True)},\n",
       "       verbose=2)"
      ]
     },
     "execution_count": 74,
     "metadata": {},
     "output_type": "execute_result"
    }
   ],
   "source": [
    "# X1s df subset\n",
    "lrADASYN_grid.fit(X1sTrain, y1sTrain)"
   ]
  },
  {
   "cell_type": "code",
   "execution_count": 78,
   "metadata": {},
   "outputs": [
    {
     "name": "stdout",
     "output_type": "stream",
     "text": [
      "Fitting 5 folds for each of 20 candidates, totalling 100 fits\n"
     ]
    },
    {
     "name": "stderr",
     "output_type": "stream",
     "text": [
      "[Parallel(n_jobs=-1)]: Using backend LokyBackend with 4 concurrent workers.\n",
      "[Parallel(n_jobs=-1)]: Done  33 tasks      | elapsed:    4.6s\n",
      "[Parallel(n_jobs=-1)]: Done 100 out of 100 | elapsed:   12.9s finished\n"
     ]
    },
    {
     "data": {
      "text/plain": [
       "GridSearchCV(cv=StratifiedKFold(n_splits=5, random_state=1, shuffle=True),\n",
       "       error_score='raise-deprecating',\n",
       "       estimator=Pipeline(memory=None,\n",
       "     steps=[('t', StandardScaler(copy=True, with_mean=True, with_std=True)), ('r', ADASYN(n_jobs=1, n_neighbors=5, random_state=None, ratio=None,\n",
       "    sampling_strategy='auto')), ('m', LogisticRegression(C=1.0, class_weight=None, dual=False, fit_intercept=True,\n",
       "          intercept_scaling=1, max_iter=100, multi_class='warn',\n",
       "          n_jobs=None, penalty='l2', random_state=None, solver='warn',\n",
       "          tol=0.0001, verbose=0, warm_start=False))]),\n",
       "       fit_params=None, iid='warn', n_jobs=-1,\n",
       "       param_grid={'m__C': [1.0, 2.7825594, 7.74263683, 21.5443469, 59.948425, 166.810054, 464.158883, 1291.54967, 3593.81366, 10000.0], 'm__penalty': ['l1', 'l2']},\n",
       "       pre_dispatch='2*n_jobs', refit='avr', return_train_score='warn',\n",
       "       scoring={'avr': make_scorer(recall_score), 'll': make_scorer(log_loss, greater_is_better=False, needs_proba=True)},\n",
       "       verbose=2)"
      ]
     },
     "execution_count": 78,
     "metadata": {},
     "output_type": "execute_result"
    }
   ],
   "source": [
    "# X2s df subset\n",
    "lrADASYN_grid.fit(X2sTrain, y2sTrain)"
   ]
  },
  {
   "cell_type": "code",
   "execution_count": null,
   "metadata": {},
   "outputs": [],
   "source": []
  },
  {
   "cell_type": "markdown",
   "metadata": {},
   "source": [
    "**Evaluate Predictions**"
   ]
  },
  {
   "cell_type": "code",
   "execution_count": 38,
   "metadata": {},
   "outputs": [
    {
     "data": {
      "text/plain": [
       "<AxesSubplot:>"
      ]
     },
     "execution_count": 38,
     "metadata": {},
     "output_type": "execute_result"
    },
    {
     "data": {
      "image/png": "[encoded data removed]",
      "text/plain": [
       "<Figure size 432x288 with 2 Axes>"
      ]
     },
     "metadata": {
      "needs_background": "light"
     },
     "output_type": "display_data"
    }
   ],
   "source": [
    "# predictions X1 df\n",
    "y1Pred = lrADASYN_grid.predict(X1Test)\n",
    "\n",
    "ADASYN_CR = classification_report(y1Test, y1Pred, output_dict=True, target_names= ['No Default', 'Default'])\n",
    "\n",
    "# Create a dataframe from the dictionary and plot a heatmap of it.\n",
    "# .iloc[:-1, :] to exclude support\n",
    "sns.heatmap(pd.DataFrame(ADASYN_CR).iloc[:-1, :].T, annot=True, cmap=\"Blues\")"
   ]
  },
  {
   "cell_type": "code",
   "execution_count": 39,
   "metadata": {},
   "outputs": [
    {
     "data": {
      "text/plain": [
       "{'No Default': {'precision': 0.8813472824700178,\n",
       "  'recall': 0.7413608070401374,\n",
       "  'f1-score': 0.8053159244579157,\n",
       "  'support': 4659},\n",
       " 'Default': {'precision': 0.4209514656415185,\n",
       "  'recall': 0.6532438478747203,\n",
       "  'f1-score': 0.5119812974868498,\n",
       "  'support': 1341},\n",
       " 'micro avg': {'precision': 0.7216666666666667,\n",
       "  'recall': 0.7216666666666667,\n",
       "  'f1-score': 0.7216666666666668,\n",
       "  'support': 6000},\n",
       " 'macro avg': {'precision': 0.6511493740557681,\n",
       "  'recall': 0.6973023274574288,\n",
       "  'f1-score': 0.6586486109723828,\n",
       "  'support': 6000},\n",
       " 'weighted avg': {'precision': 0.7784488174088483,\n",
       "  'recall': 0.7216666666666667,\n",
       "  'f1-score': 0.7397556353298825,\n",
       "  'support': 6000}}"
      ]
     },
     "execution_count": 39,
     "metadata": {},
     "output_type": "execute_result"
    }
   ],
   "source": [
    "ADASYN_CR"
   ]
  },
  {
   "cell_type": "code",
   "execution_count": 72,
   "metadata": {},
   "outputs": [
    {
     "data": {
      "text/plain": [
       "<AxesSubplot:>"
      ]
     },
     "execution_count": 72,
     "metadata": {},
     "output_type": "execute_result"
    },
    {
     "data": {
      "image/png": "[encoded data removed]",
      "text/plain": [
       "<Figure size 432x288 with 2 Axes>"
      ]
     },
     "metadata": {
      "needs_background": "light"
     },
     "output_type": "display_data"
    }
   ],
   "source": [
    "# predictions X2 df\n",
    "y2Pred = lrADASYN_grid.predict(X2Test)\n",
    "\n",
    "ADASYN_CR2 = classification_report(y2Test, y2Pred, output_dict=True, target_names= ['No Default', 'Default'])\n",
    "\n",
    "# Create a dataframe from the dictionary and plot a heatmap of it.\n",
    "# .iloc[:-1, :] to exclude support\n",
    "sns.heatmap(pd.DataFrame(ADASYN_CR2).iloc[:-1, :].T, annot=True, cmap=\"Blues\")"
   ]
  },
  {
   "cell_type": "code",
   "execution_count": 73,
   "metadata": {},
   "outputs": [
    {
     "data": {
      "text/plain": [
       "{'No Default': {'precision': 0.8944672131147541,\n",
       "  'recall': 0.7624454148471616,\n",
       "  'f1-score': 0.8231966053748233,\n",
       "  'support': 4580},\n",
       " 'Default': {'precision': 0.4339229968782518,\n",
       "  'recall': 0.6693418940609952,\n",
       "  'f1-score': 0.5265151515151515,\n",
       "  'support': 1246},\n",
       " 'micro avg': {'precision': 0.7425334706488157,\n",
       "  'recall': 0.7425334706488157,\n",
       "  'f1-score': 0.7425334706488157,\n",
       "  'support': 5826},\n",
       " 'macro avg': {'precision': 0.6641951049965029,\n",
       "  'recall': 0.7158936544540784,\n",
       "  'f1-score': 0.6748558784449874,\n",
       "  'support': 5826},\n",
       " 'weighted avg': {'precision': 0.7959711448980218,\n",
       "  'recall': 0.7425334706488157,\n",
       "  'f1-score': 0.7597456799527238,\n",
       "  'support': 5826}}"
      ]
     },
     "execution_count": 73,
     "metadata": {},
     "output_type": "execute_result"
    }
   ],
   "source": [
    "ADASYN_CR2"
   ]
  },
  {
   "cell_type": "code",
   "execution_count": 76,
   "metadata": {},
   "outputs": [
    {
     "data": {
      "text/plain": [
       "<AxesSubplot:>"
      ]
     },
     "execution_count": 76,
     "metadata": {},
     "output_type": "execute_result"
    },
    {
     "data": {
      "image/png": "[encoded data removed]",
      "text/plain": [
       "<Figure size 432x288 with 2 Axes>"
      ]
     },
     "metadata": {
      "needs_background": "light"
     },
     "output_type": "display_data"
    }
   ],
   "source": [
    "# predictions X1s subset\n",
    "y1sPred = lrADASYN_grid.predict(X1sTest)\n",
    "\n",
    "ADASYN_CR1s = classification_report(y1sTest, y1sPred, output_dict=True, target_names= ['No Default', 'Default'])\n",
    "\n",
    "# Create a dataframe from the dictionary and plot a heatmap of it.\n",
    "# .iloc[:-1, :] to exclude support\n",
    "sns.heatmap(pd.DataFrame(ADASYN_CR1s).iloc[:-1, :].T, annot=True, cmap=\"Blues\")"
   ]
  },
  {
   "cell_type": "code",
   "execution_count": 77,
   "metadata": {},
   "outputs": [
    {
     "data": {
      "text/plain": [
       "{'No Default': {'precision': 0.8798498122653317,\n",
       "  'recall': 0.7544537454389354,\n",
       "  'f1-score': 0.8123411139357524,\n",
       "  'support': 4659},\n",
       " 'Default': {'precision': 0.42942643391521196,\n",
       "  'recall': 0.6420581655480985,\n",
       "  'f1-score': 0.5146443514644352,\n",
       "  'support': 1341},\n",
       " 'micro avg': {'precision': 0.7293333333333333,\n",
       "  'recall': 0.7293333333333333,\n",
       "  'f1-score': 0.7293333333333333,\n",
       "  'support': 6000},\n",
       " 'macro avg': {'precision': 0.6546381230902718,\n",
       "  'recall': 0.6982559554935169,\n",
       "  'f1-score': 0.6634927327000938,\n",
       "  'support': 6000},\n",
       " 'weighted avg': {'precision': 0.7791801872040798,\n",
       "  'recall': 0.7293333333333333,\n",
       "  'f1-score': 0.7458058875234129,\n",
       "  'support': 6000}}"
      ]
     },
     "execution_count": 77,
     "metadata": {},
     "output_type": "execute_result"
    }
   ],
   "source": [
    "ADASYN_CR1s"
   ]
  },
  {
   "cell_type": "code",
   "execution_count": 80,
   "metadata": {},
   "outputs": [
    {
     "data": {
      "text/plain": [
       "<AxesSubplot:>"
      ]
     },
     "execution_count": 80,
     "metadata": {},
     "output_type": "execute_result"
    },
    {
     "data": {
      "image/png": "[encoded data removed]",
      "text/plain": [
       "<Figure size 432x288 with 2 Axes>"
      ]
     },
     "metadata": {
      "needs_background": "light"
     },
     "output_type": "display_data"
    }
   ],
   "source": [
    "# predictions X2s df subset\n",
    "y2sPred = lrADASYN_grid.predict(X2sTest)\n",
    "\n",
    "ADASYN_CR2s = classification_report(y2sTest, y2sPred, output_dict=True, target_names= ['No Default', 'Default'])\n",
    "\n",
    "# Create a dataframe from the dictionary and plot a heatmap of it.\n",
    "# .iloc[:-1, :] to exclude support\n",
    "sns.heatmap(pd.DataFrame(ADASYN_CR2).iloc[:-1, :].T, annot=True, cmap=\"Blues\")"
   ]
  },
  {
   "cell_type": "code",
   "execution_count": 81,
   "metadata": {},
   "outputs": [
    {
     "data": {
      "text/plain": [
       "{'No Default': {'precision': 0.8926436184039511,\n",
       "  'recall': 0.7497816593886463,\n",
       "  'f1-score': 0.8149994066690399,\n",
       "  'support': 4580},\n",
       " 'Default': {'precision': 0.42091965639211726,\n",
       "  'recall': 0.6685393258426966,\n",
       "  'f1-score': 0.5165891472868216,\n",
       "  'support': 1246},\n",
       " 'micro avg': {'precision': 0.7324064538276691,\n",
       "  'recall': 0.7324064538276691,\n",
       "  'f1-score': 0.7324064538276691,\n",
       "  'support': 5826},\n",
       " 'macro avg': {'precision': 0.6567816373980342,\n",
       "  'recall': 0.7091604926156714,\n",
       "  'f1-score': 0.6657942769779308,\n",
       "  'support': 5826},\n",
       " 'weighted avg': {'precision': 0.7917565506616331,\n",
       "  'recall': 0.7324064538276691,\n",
       "  'f1-score': 0.7511787435742503,\n",
       "  'support': 5826}}"
      ]
     },
     "execution_count": 81,
     "metadata": {},
     "output_type": "execute_result"
    }
   ],
   "source": [
    "ADASYN_CR2s"
   ]
  },
  {
   "cell_type": "code",
   "execution_count": null,
   "metadata": {},
   "outputs": [],
   "source": []
  },
  {
   "cell_type": "code",
   "execution_count": 24,
   "metadata": {},
   "outputs": [
    {
     "data": {
      "text/plain": [
       "['ADASYNmodel.sav']"
      ]
     },
     "execution_count": 24,
     "metadata": {},
     "output_type": "execute_result"
    }
   ],
   "source": [
    "# save the model to a file\n",
    "import joblib\n",
    "filename = 'ADASYNmodel.sav'\n",
    "joblib.dump(lrADASYN_grid, filename)"
   ]
  },
  {
   "cell_type": "code",
   "execution_count": null,
   "metadata": {},
   "outputs": [],
   "source": []
  },
  {
   "cell_type": "code",
   "execution_count": null,
   "metadata": {},
   "outputs": [],
   "source": []
  }
 ],
 "metadata": {
  "kernelspec": {
   "display_name": "Python 3",
   "language": "python",
   "name": "python3"
  },
  "language_info": {
   "codemirror_mode": {
    "name": "ipython",
    "version": 3
   },
   "file_extension": ".py",
   "mimetype": "text/x-python",
   "name": "python",
   "nbconvert_exporter": "python",
   "pygments_lexer": "ipython3",
   "version": "3.7.6"
  }
 },
 "nbformat": 4,
 "nbformat_minor": 4
}
